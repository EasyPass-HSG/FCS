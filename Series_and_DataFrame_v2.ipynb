{
  "nbformat": 4,
  "nbformat_minor": 0,
  "metadata": {
    "kernelspec": {
      "display_name": "Python 3 (system-wide)",
      "language": "python",
      "metadata": {
        "cocalc": {
          "description": "Python 3 programming language",
          "priority": 100,
          "url": "https://www.python.org/"
        }
      },
      "name": "python3"
    },
    "language_info": {
      "codemirror_mode": {
        "name": "ipython",
        "version": 3
      },
      "file_extension": ".py",
      "mimetype": "text/x-python",
      "name": "python",
      "nbconvert_exporter": "python",
      "pygments_lexer": "ipython3",
      "version": "3.6.9"
    },
    "colab": {
      "name": "Series and DataFrame_v2.ipynb",
      "provenance": []
    }
  },
  "cells": [
    {
      "cell_type": "markdown",
      "metadata": {
        "collapsed": false,
        "id": "hQ1mPA-PKSaY",
        "colab_type": "text"
      },
      "source": [
        "# The Series Data Structure"
      ]
    },
    {
      "cell_type": "markdown",
      "metadata": {
        "collapsed": false,
        "id": "j1-YCY-6KSaZ",
        "colab_type": "text"
      },
      "source": [
        "To open this file as a Google Colab, please refer to the direct link in the ReadMe section (2nd point of the Miscellaneous Chapter). The series is one of the core data structures in pandas. You think of it a cross between a list and a dictionary. The items are all stored in an order and there's labels with which you can retrieve them. "
      ]
    },
    {
      "cell_type": "code",
      "metadata": {
        "hidePrompt": true,
        "id": "x-W7Cs61KSaa",
        "colab_type": "code",
        "colab": {}
      },
      "source": [
        "import pandas as pd\n"
      ],
      "execution_count": null,
      "outputs": []
    },
    {
      "cell_type": "markdown",
      "metadata": {
        "collapsed": false,
        "hidePrompt": true,
        "id": "aLAnoxlaKSad",
        "colab_type": "text"
      },
      "source": [
        "Jupyter Notebook provides an extended help and show the documentation, using the question mark operator `?`"
      ]
    },
    {
      "cell_type": "code",
      "metadata": {
        "id": "-oPLLsSUKSae",
        "colab_type": "code",
        "colab": {}
      },
      "source": [
        "pd.Series?"
      ],
      "execution_count": null,
      "outputs": []
    },
    {
      "cell_type": "code",
      "metadata": {
        "id": "N_VKONUFKSai",
        "colab_type": "code",
        "colab": {},
        "outputId": "aa56e6b9-2e9f-4c62-d82e-12f432f9891c"
      },
      "source": [
        "animals = ['Tiger', 'Bear', 'Moose']\n",
        "pd.Series(animals)"
      ],
      "execution_count": null,
      "outputs": [
        {
          "output_type": "execute_result",
          "data": {
            "text/plain": [
              "0    Tiger\n",
              "1     Bear\n",
              "2    Moose\n",
              "dtype: object"
            ]
          },
          "metadata": {
            "tags": []
          },
          "execution_count": 2
        }
      ]
    },
    {
      "cell_type": "code",
      "metadata": {
        "id": "hpfu7z6IKSao",
        "colab_type": "code",
        "colab": {},
        "outputId": "a10305b9-76b7-461e-ada8-6757bbf274f8"
      },
      "source": [
        "numbers = [1, 2, 3]\n",
        "pd.Series(numbers)"
      ],
      "execution_count": null,
      "outputs": [
        {
          "output_type": "execute_result",
          "data": {
            "text/plain": [
              "0    1\n",
              "1    2\n",
              "2    3\n",
              "dtype: int64"
            ]
          },
          "metadata": {
            "tags": []
          },
          "execution_count": 3
        }
      ]
    },
    {
      "cell_type": "markdown",
      "metadata": {
        "collapsed": false,
        "id": "7JQupvUMKSat",
        "colab_type": "text"
      },
      "source": [
        "Underneath panda stores series values in a typed array using the Numpy library. This offers significant speed-up when processing data versus traditional python lists.\n",
        "\n",
        "There's some other typing details that exist for performance that are important to know. The most important is how Numpy and thus pandas handle missing data. In Python, we have the `None` type to indicate a lack of data. But what do we do if we want to have a typed list like we do in the series object?"
      ]
    },
    {
      "cell_type": "code",
      "metadata": {
        "id": "hGtfMRZ6KSau",
        "colab_type": "code",
        "colab": {},
        "outputId": "549b4c64-a48a-4f82-c8a7-76898d2f91c5"
      },
      "source": [
        "animals = ['Tiger', 'Bear', None]\n",
        "pd.Series(animals)"
      ],
      "execution_count": null,
      "outputs": [
        {
          "output_type": "execute_result",
          "data": {
            "text/plain": [
              "0    Tiger\n",
              "1     Bear\n",
              "2     None\n",
              "dtype: object"
            ]
          },
          "metadata": {
            "tags": []
          },
          "execution_count": 4
        }
      ]
    },
    {
      "cell_type": "markdown",
      "metadata": {
        "collapsed": false,
        "id": "1f4qNdVNKSaz",
        "colab_type": "text"
      },
      "source": [
        " If we create a list of numbers, integers or floats, and put in the None type, Pandas automatically converts this to a special floating point value designated as NAN, which stands for not a number."
      ]
    },
    {
      "cell_type": "code",
      "metadata": {
        "id": "mDLw9wPFKSaz",
        "colab_type": "code",
        "colab": {},
        "outputId": "281473cd-c7b8-4206-eb2d-3c25a2d0826e"
      },
      "source": [
        "numbers = [1, 2, None]\n",
        "pd.Series(numbers)"
      ],
      "execution_count": null,
      "outputs": [
        {
          "output_type": "execute_result",
          "data": {
            "text/plain": [
              "0    1.0\n",
              "1    2.0\n",
              "2    NaN\n",
              "dtype: float64"
            ]
          },
          "metadata": {
            "tags": []
          },
          "execution_count": 5
        }
      ]
    },
    {
      "cell_type": "markdown",
      "metadata": {
        "collapsed": false,
        "id": "RUeMpAcqKSa5",
        "colab_type": "text"
      },
      "source": [
        "NAN is not none and when we try the equality test, it's false."
      ]
    },
    {
      "cell_type": "code",
      "metadata": {
        "id": "ogA3q46pKSa6",
        "colab_type": "code",
        "colab": {},
        "outputId": "1d7f8d36-3a2d-489a-b5af-a8c67a733346"
      },
      "source": [
        "import numpy as np\n",
        "np.nan == None"
      ],
      "execution_count": null,
      "outputs": [
        {
          "output_type": "execute_result",
          "data": {
            "text/plain": [
              "False"
            ]
          },
          "metadata": {
            "tags": []
          },
          "execution_count": 6
        }
      ]
    },
    {
      "cell_type": "markdown",
      "metadata": {
        "collapsed": false,
        "id": "_g7FiHjWKSa-",
        "colab_type": "text"
      },
      "source": [
        "It turns out that you actually can't do an equality test of NAN to itself. When you do, the answer is always false."
      ]
    },
    {
      "cell_type": "code",
      "metadata": {
        "id": "rWkNblXsKSa-",
        "colab_type": "code",
        "colab": {},
        "outputId": "08beff5c-c919-44c0-c4aa-d029f2bdd361"
      },
      "source": [
        "np.nan == np.nan\n"
      ],
      "execution_count": null,
      "outputs": [
        {
          "output_type": "execute_result",
          "data": {
            "text/plain": [
              "False"
            ]
          },
          "metadata": {
            "tags": []
          },
          "execution_count": 7
        }
      ]
    },
    {
      "cell_type": "markdown",
      "metadata": {
        "collapsed": false,
        "id": "bMGjSb7RKSbC",
        "colab_type": "text"
      },
      "source": [
        " You need to use special functions to test for the presence of not a number, such as the Numpy library `isnan()`."
      ]
    },
    {
      "cell_type": "code",
      "metadata": {
        "id": "olX4shESKSbD",
        "colab_type": "code",
        "colab": {},
        "outputId": "3bc56d39-7282-4efb-8e02-8293ddef45a7"
      },
      "source": [
        "np.isnan(np.nan)"
      ],
      "execution_count": null,
      "outputs": [
        {
          "output_type": "execute_result",
          "data": {
            "text/plain": [
              "True"
            ]
          },
          "metadata": {
            "tags": []
          },
          "execution_count": 8
        }
      ]
    },
    {
      "cell_type": "markdown",
      "metadata": {
        "collapsed": false,
        "id": "Xr5nVXmTKSbH",
        "colab_type": "text"
      },
      "source": [
        "A series can be created from dictionary data. "
      ]
    },
    {
      "cell_type": "code",
      "metadata": {
        "id": "kFeX3FX9KSbH",
        "colab_type": "code",
        "colab": {},
        "outputId": "fafaf021-2ea6-4e65-d34d-8b81b4dcfea6"
      },
      "source": [
        "sports = {'Football': 'Germany',\n",
        "          'Golf': 'Scotland',\n",
        "          'Sumo': 'Japan',\n",
        "          'Taekwondo': 'South Korea'}\n",
        "s = pd.Series(sports)\n",
        "s"
      ],
      "execution_count": null,
      "outputs": [
        {
          "output_type": "execute_result",
          "data": {
            "text/plain": [
              "Football         Germany\n",
              "Golf            Scotland\n",
              "Sumo               Japan\n",
              "Taekwondo    South Korea\n",
              "dtype: object"
            ]
          },
          "metadata": {
            "tags": []
          },
          "execution_count": 9
        }
      ]
    },
    {
      "cell_type": "code",
      "metadata": {
        "id": "GfQhvkh8KSbK",
        "colab_type": "code",
        "colab": {},
        "outputId": "2dd1cf74-cd0b-4b04-da44-427a3ecc344e"
      },
      "source": [
        "s.index"
      ],
      "execution_count": null,
      "outputs": [
        {
          "output_type": "execute_result",
          "data": {
            "text/plain": [
              "Index(['Football', 'Golf', 'Sumo', 'Taekwondo'], dtype='object')"
            ]
          },
          "metadata": {
            "tags": []
          },
          "execution_count": 10
        }
      ]
    },
    {
      "cell_type": "markdown",
      "metadata": {
        "collapsed": false,
        "id": "2IVTAopxKSbN",
        "colab_type": "text"
      },
      "source": [
        "You could also separate your index creation from the data by passing in the index as a list explicitly to the series."
      ]
    },
    {
      "cell_type": "code",
      "metadata": {
        "id": "LFUDwV0wKSbO",
        "colab_type": "code",
        "colab": {},
        "outputId": "34e85117-7a76-451e-895d-ef650c157fbb"
      },
      "source": [
        "s = pd.Series(['Tiger', 'Bear', 'Moose'], index=['India', 'America', 'Canada'])\n",
        "s"
      ],
      "execution_count": null,
      "outputs": [
        {
          "output_type": "execute_result",
          "data": {
            "text/plain": [
              "India      Tiger\n",
              "America     Bear\n",
              "Canada     Moose\n",
              "dtype: object"
            ]
          },
          "metadata": {
            "tags": []
          },
          "execution_count": 11
        }
      ]
    },
    {
      "cell_type": "markdown",
      "metadata": {
        "collapsed": false,
        "id": "roDLLfRPKSbQ",
        "colab_type": "text"
      },
      "source": [
        "In the following example, we pass in a dictionary of four items but only two are preserved in the series object because of the index list. We see that \"Hockey\" has been added but since it's also in the index list. But it has no value associated with it."
      ]
    },
    {
      "cell_type": "code",
      "metadata": {
        "id": "vjGsgjOVKSbQ",
        "colab_type": "code",
        "colab": {},
        "outputId": "a02509bd-c905-49c8-a14e-af777af30a9c"
      },
      "source": [
        "sports = {'Football': 'Germany',\n",
        "          'Golf': 'Scotland',\n",
        "          'Sumo': 'Japan',\n",
        "          'Taekwondo': 'South Korea'}\n",
        "s = pd.Series(sports, index=['Golf', 'Sumo', 'Hockey'])\n",
        "s"
      ],
      "execution_count": null,
      "outputs": [
        {
          "output_type": "execute_result",
          "data": {
            "text/plain": [
              "Golf      Scotland\n",
              "Sumo         Japan\n",
              "Hockey         NaN\n",
              "dtype: object"
            ]
          },
          "metadata": {
            "tags": []
          },
          "execution_count": 12
        }
      ]
    },
    {
      "cell_type": "markdown",
      "metadata": {
        "collapsed": false,
        "id": "g-Ogbf9dKSbS",
        "colab_type": "text"
      },
      "source": [
        "# Querying a Series"
      ]
    },
    {
      "cell_type": "markdown",
      "metadata": {
        "collapsed": false,
        "id": "6JEn_vR8KSbS",
        "colab_type": "text"
      },
      "source": [
        "A Pandas Series can be queried, either by the index position or the index label. As we saw, if you don't give an index to the series, the position and the label are effectively the same values. To query by numeric location, starting at zero, use the `iloc` attribute. To query by the index label, you can use the `loc` attribute. "
      ]
    },
    {
      "cell_type": "code",
      "metadata": {
        "id": "B1W3xX6LKSbT",
        "colab_type": "code",
        "colab": {}
      },
      "source": [
        "import pandas as pd"
      ],
      "execution_count": null,
      "outputs": []
    },
    {
      "cell_type": "code",
      "metadata": {
        "id": "mjbgSKPjKSbV",
        "colab_type": "code",
        "colab": {},
        "outputId": "f5ddf7ab-74b3-4610-9941-f2e3b04159e3"
      },
      "source": [
        "sports = {'Football': 'Germany',\n",
        "          'Golf': 'Scotland',\n",
        "          'Sumo': 'Japan',\n",
        "          'Taekwondo': 'South Korea'}\n",
        "s = pd.Series(sports)\n",
        "s"
      ],
      "execution_count": null,
      "outputs": [
        {
          "output_type": "execute_result",
          "data": {
            "text/plain": [
              "Football         Germany\n",
              "Golf            Scotland\n",
              "Sumo               Japan\n",
              "Taekwondo    South Korea\n",
              "dtype: object"
            ]
          },
          "metadata": {
            "tags": []
          },
          "execution_count": 14
        }
      ]
    },
    {
      "cell_type": "markdown",
      "metadata": {
        "collapsed": false,
        "id": "T-60ekDVKSbZ",
        "colab_type": "text"
      },
      "source": [
        "Access a row by integer index"
      ]
    },
    {
      "cell_type": "code",
      "metadata": {
        "id": "ZtUYD3NFKSbZ",
        "colab_type": "code",
        "colab": {},
        "outputId": "d83762a7-ca35-4eb0-cbd5-4bc98aa51e59"
      },
      "source": [
        "s.iloc[3]"
      ],
      "execution_count": null,
      "outputs": [
        {
          "output_type": "execute_result",
          "data": {
            "text/plain": [
              "'South Korea'"
            ]
          },
          "metadata": {
            "tags": []
          },
          "execution_count": 15
        }
      ]
    },
    {
      "cell_type": "markdown",
      "metadata": {
        "collapsed": false,
        "id": "n7T7d3vCKSbc",
        "colab_type": "text"
      },
      "source": [
        "Access a row by label"
      ]
    },
    {
      "cell_type": "code",
      "metadata": {
        "id": "fkk3rK6vKSbc",
        "colab_type": "code",
        "colab": {},
        "outputId": "0d865bfb-84c7-43ca-b46f-5262dd2007cb"
      },
      "source": [
        "s.loc['Golf']"
      ],
      "execution_count": null,
      "outputs": [
        {
          "output_type": "execute_result",
          "data": {
            "text/plain": [
              "'Scotland'"
            ]
          },
          "metadata": {
            "tags": []
          },
          "execution_count": 16
        }
      ]
    },
    {
      "cell_type": "markdown",
      "metadata": {
        "collapsed": false,
        "id": "0DqwcjToKSbe",
        "colab_type": "text"
      },
      "source": [
        "Keep in mind that `iloc` and `loc` are not methods, they are attributes. So you don't use parentheses to query them, but square brackets instead, which we'll call the indexing operator. Though in Python, this calls get and set an item methods depending on the context of its use."
      ]
    },
    {
      "cell_type": "markdown",
      "metadata": {
        "collapsed": false,
        "id": "_ie3ErmpKSbe",
        "colab_type": "text"
      },
      "source": [
        "if you pass in an integer parameter, the operator will behave as if you want it to query via the `iloc` attribute."
      ]
    },
    {
      "cell_type": "code",
      "metadata": {
        "id": "052QzwgAKSbe",
        "colab_type": "code",
        "colab": {},
        "outputId": "e17383ef-4e0b-4ac0-962f-5b37f403c4de"
      },
      "source": [
        "s[3]"
      ],
      "execution_count": null,
      "outputs": [
        {
          "output_type": "execute_result",
          "data": {
            "text/plain": [
              "'South Korea'"
            ]
          },
          "metadata": {
            "tags": []
          },
          "execution_count": 17
        }
      ]
    },
    {
      "cell_type": "markdown",
      "metadata": {
        "collapsed": false,
        "id": "FBmNZW8MKSbg",
        "colab_type": "text"
      },
      "source": [
        "If you pass in an object, it will query as if you wanted to use the label based `loc` attribute."
      ]
    },
    {
      "cell_type": "code",
      "metadata": {
        "id": "eQS1YhGjKSbh",
        "colab_type": "code",
        "colab": {},
        "outputId": "1f31b89d-4af0-4414-99c7-8b4a5c413615"
      },
      "source": [
        "s['Golf']"
      ],
      "execution_count": null,
      "outputs": [
        {
          "output_type": "execute_result",
          "data": {
            "text/plain": [
              "'Scotland'"
            ]
          },
          "metadata": {
            "tags": []
          },
          "execution_count": 18
        }
      ]
    },
    {
      "cell_type": "markdown",
      "metadata": {
        "collapsed": false,
        "id": "0LiMmsRPKSbj",
        "colab_type": "text"
      },
      "source": [
        "Here's an example using some new sports data, where countries are indexed by integer."
      ]
    },
    {
      "cell_type": "code",
      "metadata": {
        "id": "5yJoHlPGKSbj",
        "colab_type": "code",
        "colab": {},
        "outputId": "d0b5344d-a1a8-4d00-c55f-5a1322b60909"
      },
      "source": [
        "sports = {99: 'Germany',\n",
        "          100: 'Scotland',\n",
        "          101: 'Japan',\n",
        "          102: 'South Korea'}\n",
        "s = pd.Series(sports)\n",
        "s"
      ],
      "execution_count": null,
      "outputs": [
        {
          "output_type": "execute_result",
          "data": {
            "text/plain": [
              "99         Germany\n",
              "100       Scotland\n",
              "101          Japan\n",
              "102    South Korea\n",
              "dtype: object"
            ]
          },
          "metadata": {
            "tags": []
          },
          "execution_count": 19
        }
      ]
    },
    {
      "cell_type": "markdown",
      "metadata": {
        "collapsed": false,
        "id": "AxaQ0b2eKSbl",
        "colab_type": "text"
      },
      "source": [
        "If we try and call `s[0]`, we get a key error"
      ]
    },
    {
      "cell_type": "code",
      "metadata": {
        "scrolled": true,
        "id": "OKArFb6tKSbl",
        "colab_type": "code",
        "colab": {},
        "outputId": "bdc8e256-dd32-4481-fe9e-d7b647fafd00"
      },
      "source": [
        "s[0] # we get a key error, because there's no item in the sports list with an index of zero. "
      ],
      "execution_count": null,
      "outputs": [
        {
          "output_type": "error",
          "ename": "KeyError",
          "evalue": "0",
          "traceback": [
            "\u001b[0;31m---------------------------------------------------------------------------\u001b[0m",
            "\u001b[0;31mKeyError\u001b[0m                                  Traceback (most recent call last)",
            "\u001b[0;32m<ipython-input-20-0e675616e21a>\u001b[0m in \u001b[0;36m<module>\u001b[0;34m\u001b[0m\n\u001b[0;32m----> 1\u001b[0;31m \u001b[0ms\u001b[0m\u001b[0;34m[\u001b[0m\u001b[0;36m0\u001b[0m\u001b[0;34m]\u001b[0m \u001b[0;31m# we get a key error, because there's no item in the sports list with an index of zero.\u001b[0m\u001b[0;34m\u001b[0m\u001b[0;34m\u001b[0m\u001b[0m\n\u001b[0m",
            "\u001b[0;32m/usr/local/lib/python3.6/dist-packages/pandas/core/series.py\u001b[0m in \u001b[0;36m__getitem__\u001b[0;34m(self, key)\u001b[0m\n\u001b[1;32m    869\u001b[0m         \u001b[0mkey\u001b[0m \u001b[0;34m=\u001b[0m \u001b[0mcom\u001b[0m\u001b[0;34m.\u001b[0m\u001b[0mapply_if_callable\u001b[0m\u001b[0;34m(\u001b[0m\u001b[0mkey\u001b[0m\u001b[0;34m,\u001b[0m \u001b[0mself\u001b[0m\u001b[0;34m)\u001b[0m\u001b[0;34m\u001b[0m\u001b[0;34m\u001b[0m\u001b[0m\n\u001b[1;32m    870\u001b[0m         \u001b[0;32mtry\u001b[0m\u001b[0;34m:\u001b[0m\u001b[0;34m\u001b[0m\u001b[0;34m\u001b[0m\u001b[0m\n\u001b[0;32m--> 871\u001b[0;31m             \u001b[0mresult\u001b[0m \u001b[0;34m=\u001b[0m \u001b[0mself\u001b[0m\u001b[0;34m.\u001b[0m\u001b[0mindex\u001b[0m\u001b[0;34m.\u001b[0m\u001b[0mget_value\u001b[0m\u001b[0;34m(\u001b[0m\u001b[0mself\u001b[0m\u001b[0;34m,\u001b[0m \u001b[0mkey\u001b[0m\u001b[0;34m)\u001b[0m\u001b[0;34m\u001b[0m\u001b[0;34m\u001b[0m\u001b[0m\n\u001b[0m\u001b[1;32m    872\u001b[0m \u001b[0;34m\u001b[0m\u001b[0m\n\u001b[1;32m    873\u001b[0m             \u001b[0;32mif\u001b[0m \u001b[0;32mnot\u001b[0m \u001b[0mis_scalar\u001b[0m\u001b[0;34m(\u001b[0m\u001b[0mresult\u001b[0m\u001b[0;34m)\u001b[0m\u001b[0;34m:\u001b[0m\u001b[0;34m\u001b[0m\u001b[0;34m\u001b[0m\u001b[0m\n",
            "\u001b[0;32m/usr/local/lib/python3.6/dist-packages/pandas/core/indexes/base.py\u001b[0m in \u001b[0;36mget_value\u001b[0;34m(self, series, key)\u001b[0m\n\u001b[1;32m   4402\u001b[0m         \u001b[0mk\u001b[0m \u001b[0;34m=\u001b[0m \u001b[0mself\u001b[0m\u001b[0;34m.\u001b[0m\u001b[0m_convert_scalar_indexer\u001b[0m\u001b[0;34m(\u001b[0m\u001b[0mk\u001b[0m\u001b[0;34m,\u001b[0m \u001b[0mkind\u001b[0m\u001b[0;34m=\u001b[0m\u001b[0;34m\"getitem\"\u001b[0m\u001b[0;34m)\u001b[0m\u001b[0;34m\u001b[0m\u001b[0;34m\u001b[0m\u001b[0m\n\u001b[1;32m   4403\u001b[0m         \u001b[0;32mtry\u001b[0m\u001b[0;34m:\u001b[0m\u001b[0;34m\u001b[0m\u001b[0;34m\u001b[0m\u001b[0m\n\u001b[0;32m-> 4404\u001b[0;31m             \u001b[0;32mreturn\u001b[0m \u001b[0mself\u001b[0m\u001b[0;34m.\u001b[0m\u001b[0m_engine\u001b[0m\u001b[0;34m.\u001b[0m\u001b[0mget_value\u001b[0m\u001b[0;34m(\u001b[0m\u001b[0ms\u001b[0m\u001b[0;34m,\u001b[0m \u001b[0mk\u001b[0m\u001b[0;34m,\u001b[0m \u001b[0mtz\u001b[0m\u001b[0;34m=\u001b[0m\u001b[0mgetattr\u001b[0m\u001b[0;34m(\u001b[0m\u001b[0mseries\u001b[0m\u001b[0;34m.\u001b[0m\u001b[0mdtype\u001b[0m\u001b[0;34m,\u001b[0m \u001b[0;34m\"tz\"\u001b[0m\u001b[0;34m,\u001b[0m \u001b[0;32mNone\u001b[0m\u001b[0;34m)\u001b[0m\u001b[0;34m)\u001b[0m\u001b[0;34m\u001b[0m\u001b[0;34m\u001b[0m\u001b[0m\n\u001b[0m\u001b[1;32m   4405\u001b[0m         \u001b[0;32mexcept\u001b[0m \u001b[0mKeyError\u001b[0m \u001b[0;32mas\u001b[0m \u001b[0me1\u001b[0m\u001b[0;34m:\u001b[0m\u001b[0;34m\u001b[0m\u001b[0;34m\u001b[0m\u001b[0m\n\u001b[1;32m   4406\u001b[0m             \u001b[0;32mif\u001b[0m \u001b[0mlen\u001b[0m\u001b[0;34m(\u001b[0m\u001b[0mself\u001b[0m\u001b[0;34m)\u001b[0m \u001b[0;34m>\u001b[0m \u001b[0;36m0\u001b[0m \u001b[0;32mand\u001b[0m \u001b[0;34m(\u001b[0m\u001b[0mself\u001b[0m\u001b[0;34m.\u001b[0m\u001b[0mholds_integer\u001b[0m\u001b[0;34m(\u001b[0m\u001b[0;34m)\u001b[0m \u001b[0;32mor\u001b[0m \u001b[0mself\u001b[0m\u001b[0;34m.\u001b[0m\u001b[0mis_boolean\u001b[0m\u001b[0;34m(\u001b[0m\u001b[0;34m)\u001b[0m\u001b[0;34m)\u001b[0m\u001b[0;34m:\u001b[0m\u001b[0;34m\u001b[0m\u001b[0;34m\u001b[0m\u001b[0m\n",
            "\u001b[0;32mpandas/_libs/index.pyx\u001b[0m in \u001b[0;36mpandas._libs.index.IndexEngine.get_value\u001b[0;34m()\u001b[0m\n",
            "\u001b[0;32mpandas/_libs/index.pyx\u001b[0m in \u001b[0;36mpandas._libs.index.IndexEngine.get_value\u001b[0;34m()\u001b[0m\n",
            "\u001b[0;32mpandas/_libs/index.pyx\u001b[0m in \u001b[0;36mpandas._libs.index.IndexEngine.get_loc\u001b[0;34m()\u001b[0m\n",
            "\u001b[0;32mpandas/_libs/hashtable_class_helper.pxi\u001b[0m in \u001b[0;36mpandas._libs.hashtable.Int64HashTable.get_item\u001b[0;34m()\u001b[0m\n",
            "\u001b[0;32mpandas/_libs/hashtable_class_helper.pxi\u001b[0m in \u001b[0;36mpandas._libs.hashtable.Int64HashTable.get_item\u001b[0;34m()\u001b[0m\n",
            "\u001b[0;31mKeyError\u001b[0m: 0"
          ]
        }
      ]
    },
    {
      "cell_type": "code",
      "metadata": {
        "id": "W8hK8XRjKSbo",
        "colab_type": "code",
        "colab": {},
        "outputId": "ecc555e8-6a87-4e7e-8a1f-bc1eec060a83"
      },
      "source": [
        "s.iloc[0] # Instead we have to call iloc explicitly if we want the first item."
      ],
      "execution_count": null,
      "outputs": [
        {
          "output_type": "execute_result",
          "data": {
            "text/plain": [
              "'Germany'"
            ]
          },
          "metadata": {
            "tags": []
          },
          "execution_count": 21
        }
      ]
    },
    {
      "cell_type": "code",
      "metadata": {
        "id": "qLd9pIZaKSbq",
        "colab_type": "code",
        "colab": {},
        "outputId": "6df164c1-0f22-439b-bc69-334cd67a729d"
      },
      "source": [
        "s[99] # the first entry has the index of 99"
      ],
      "execution_count": null,
      "outputs": [
        {
          "output_type": "execute_result",
          "data": {
            "text/plain": [
              "'Germany'"
            ]
          },
          "metadata": {
            "tags": []
          },
          "execution_count": 22
        }
      ]
    },
    {
      "cell_type": "markdown",
      "metadata": {
        "collapsed": false,
        "id": "vko4N4x3KSbu",
        "colab_type": "text"
      },
      "source": [
        "Let's talk about working with the data."
      ]
    },
    {
      "cell_type": "markdown",
      "metadata": {
        "collapsed": false,
        "id": "F880VNjZKSbu",
        "colab_type": "text"
      },
      "source": [
        "A data Series of floating point values."
      ]
    },
    {
      "cell_type": "code",
      "metadata": {
        "id": "7Ev6QTxfKSbv",
        "colab_type": "code",
        "colab": {},
        "outputId": "cc1fae43-5f23-49db-e892-7e0c27373bf0"
      },
      "source": [
        "s = pd.Series([100.00, 120.00, 101.00, 3.00])\n",
        "s"
      ],
      "execution_count": null,
      "outputs": [
        {
          "output_type": "execute_result",
          "data": {
            "text/plain": [
              "0    100.0\n",
              "1    120.0\n",
              "2    101.0\n",
              "3      3.0\n",
              "dtype: float64"
            ]
          },
          "metadata": {
            "tags": []
          },
          "execution_count": 23
        }
      ]
    },
    {
      "cell_type": "markdown",
      "metadata": {
        "collapsed": false,
        "id": "6HYYoH7vKSbx",
        "colab_type": "text"
      },
      "source": [
        "An iteration over all of the items in the series and adds them together to get a total."
      ]
    },
    {
      "cell_type": "code",
      "metadata": {
        "id": "Bt7cA3ATKSbx",
        "colab_type": "code",
        "colab": {},
        "outputId": "f9fd2adc-2ee3-45f0-a230-89c2afd51e9b"
      },
      "source": [
        "total = 0\n",
        "for item in s:\n",
        "    total+=item\n",
        "print(total)"
      ],
      "execution_count": null,
      "outputs": [
        {
          "output_type": "stream",
          "text": [
            "324.0\n"
          ],
          "name": "stdout"
        }
      ]
    },
    {
      "cell_type": "markdown",
      "metadata": {
        "collapsed": false,
        "id": "7Ri_YezRKSb0",
        "colab_type": "text"
      },
      "source": [
        "This works, but it's slow. "
      ]
    },
    {
      "cell_type": "markdown",
      "metadata": {
        "collapsed": false,
        "id": "ZW5CVzKcKSb0",
        "colab_type": "text"
      },
      "source": [
        "Faster approach using the NumPy sum method."
      ]
    },
    {
      "cell_type": "code",
      "metadata": {
        "id": "dMzmrTfpKSb1",
        "colab_type": "code",
        "colab": {},
        "outputId": "d6893383-ecbc-4e6f-e3b4-ec3ea8dafff0"
      },
      "source": [
        "import numpy as np\n",
        "\n",
        "total = np.sum(s)\n",
        "print(total)"
      ],
      "execution_count": null,
      "outputs": [
        {
          "output_type": "stream",
          "text": [
            "324.0\n"
          ],
          "name": "stdout"
        }
      ]
    },
    {
      "cell_type": "code",
      "metadata": {
        "id": "BfOND5cjKSb3",
        "colab_type": "code",
        "colab": {},
        "outputId": "60e2718d-685f-4a35-fcf5-6c144a1c76dd"
      },
      "source": [
        "#this creates a big series of random numbers\n",
        "s = pd.Series(np.random.randint(0,1000,10000)) #low=0, high=1000, size=10000\n",
        "s.head()"
      ],
      "execution_count": null,
      "outputs": [
        {
          "output_type": "execute_result",
          "data": {
            "text/plain": [
              "0    972\n",
              "1    404\n",
              "2    964\n",
              "3    809\n",
              "4    350\n",
              "dtype: int64"
            ]
          },
          "metadata": {
            "tags": []
          },
          "execution_count": 26
        }
      ]
    },
    {
      "cell_type": "code",
      "metadata": {
        "id": "_o09VFNGKSb5",
        "colab_type": "code",
        "colab": {},
        "outputId": "f5a3a04c-8af4-4934-ab01-d7481ead2592"
      },
      "source": [
        "len(s)"
      ],
      "execution_count": null,
      "outputs": [
        {
          "output_type": "execute_result",
          "data": {
            "text/plain": [
              "10000"
            ]
          },
          "metadata": {
            "tags": []
          },
          "execution_count": 27
        }
      ]
    },
    {
      "cell_type": "markdown",
      "metadata": {
        "collapsed": false,
        "id": "kzuJWu4YKSb7",
        "colab_type": "text"
      },
      "source": [
        "A Jupyter Notebook magic function begin with a percentage sign. If we type this sign and then hit the Tab key, we can see a list of the available magic functions. "
      ]
    },
    {
      "cell_type": "code",
      "metadata": {
        "id": "MUp3WeTmKSb8",
        "colab_type": "code",
        "colab": {}
      },
      "source": [
        ""
      ],
      "execution_count": null,
      "outputs": []
    },
    {
      "cell_type": "code",
      "metadata": {
        "id": "mk3Z7Kx-KSb-",
        "colab_type": "code",
        "colab": {},
        "outputId": "2df872ea-edc4-46ec-962f-ac8b46b36c85"
      },
      "source": [
        "%"
      ],
      "execution_count": null,
      "outputs": [
        {
          "output_type": "stream",
          "text": [
            "UsageError: Line magic function `%` not found.\n"
          ],
          "name": "stderr"
        }
      ]
    },
    {
      "cell_type": "markdown",
      "metadata": {
        "collapsed": false,
        "id": "pa4rK2X0KScB",
        "colab_type": "text"
      },
      "source": [
        "The function we're going to use is called `timeit`; this function will run our code a few times to determine, on average, how long it takes."
      ]
    },
    {
      "cell_type": "code",
      "metadata": {
        "id": "muPsgzvzKScB",
        "colab_type": "code",
        "colab": {},
        "outputId": "ec1b2934-7672-47a9-bb24-b9807244749f"
      },
      "source": [
        "%%timeit -n 100\n",
        "summary = 0\n",
        "for item in s:\n",
        "    summary+=item"
      ],
      "execution_count": null,
      "outputs": [
        {
          "output_type": "stream",
          "text": [
            "1.62 ms ± 278 µs per loop (mean ± std. dev. of 7 runs, 100 loops each)\n"
          ],
          "name": "stdout"
        }
      ]
    },
    {
      "cell_type": "markdown",
      "metadata": {
        "collapsed": false,
        "id": "LeFXigawKScD",
        "colab_type": "text"
      },
      "source": [
        "Now let's try with `sum()` function (with vectorization)"
      ]
    },
    {
      "cell_type": "code",
      "metadata": {
        "id": "oRuuSRjDKScE",
        "colab_type": "code",
        "colab": {},
        "outputId": "f6024f84-188d-4ae8-c782-dd19dbd93e65"
      },
      "source": [
        "%%timeit -n 100\n",
        "summary = np.sum(s)"
      ],
      "execution_count": null,
      "outputs": [
        {
          "output_type": "stream",
          "text": [
            "139 µs ± 20.8 µs per loop (mean ± std. dev. of 7 runs, 100 loops each)\n"
          ],
          "name": "stdout"
        }
      ]
    },
    {
      "cell_type": "markdown",
      "metadata": {
        "collapsed": false,
        "id": "Pm8UACnEKScF",
        "colab_type": "text"
      },
      "source": [
        "this is much faster!"
      ]
    },
    {
      "cell_type": "markdown",
      "metadata": {
        "collapsed": false,
        "id": "-w86-IE7KScG",
        "colab_type": "text"
      },
      "source": [
        "A related feature in Pandas and NumPy is called **broadcasting**. With broadcasting, you can apply an operation to every value in the series, changing the series."
      ]
    },
    {
      "cell_type": "code",
      "metadata": {
        "id": "q-Af2ah0KScG",
        "colab_type": "code",
        "colab": {},
        "outputId": "8f4e4040-a195-43c1-e94f-400e37227c12"
      },
      "source": [
        "print(s.head())\n",
        "s+=2 #adds two to each item in s using broadcasting\n",
        "print(s.head())"
      ],
      "execution_count": null,
      "outputs": [
        {
          "output_type": "stream",
          "text": [
            "0    972\n",
            "1    404\n",
            "2    964\n",
            "3    809\n",
            "4    350\n",
            "dtype: int64\n",
            "0    974\n",
            "1    406\n",
            "2    966\n",
            "3    811\n",
            "4    352\n",
            "dtype: int64\n"
          ],
          "name": "stdout"
        }
      ]
    },
    {
      "cell_type": "code",
      "metadata": {
        "id": "RFC8D5GaKScI",
        "colab_type": "code",
        "colab": {},
        "outputId": "e538080e-605c-497a-b472-d317220a89f1"
      },
      "source": [
        "for label, value in s.iteritems():\n",
        "    # s.set_value(label, value+2) # set_value is deprecated\n",
        "    s.at[label]=value+2\n",
        "s.head()"
      ],
      "execution_count": null,
      "outputs": [
        {
          "output_type": "execute_result",
          "data": {
            "text/plain": [
              "0    976\n",
              "1    408\n",
              "2    968\n",
              "3    813\n",
              "4    354\n",
              "dtype: int64"
            ]
          },
          "metadata": {
            "tags": []
          },
          "execution_count": 32
        }
      ]
    },
    {
      "cell_type": "markdown",
      "metadata": {
        "collapsed": false,
        "id": "EC6r--YWKScK",
        "colab_type": "text"
      },
      "source": [
        "Let's try and time the two approaches for increasing the value"
      ]
    },
    {
      "cell_type": "code",
      "metadata": {
        "id": "1tiaJKqzKScK",
        "colab_type": "code",
        "colab": {},
        "outputId": "71b21d65-4a6a-4981-bc97-5e5a18b5a49e"
      },
      "source": [
        "%%timeit -n 10\n",
        "s = pd.Series(np.random.randint(0,1000,10000))\n",
        "for label, value in s.iteritems():\n",
        "    s.loc[label]= value+2"
      ],
      "execution_count": null,
      "outputs": [
        {
          "output_type": "stream",
          "text": [
            "832 ms ± 118 ms per loop (mean ± std. dev. of 7 runs, 10 loops each)\n"
          ],
          "name": "stdout"
        }
      ]
    },
    {
      "cell_type": "code",
      "metadata": {
        "id": "e43asePiKScM",
        "colab_type": "code",
        "colab": {},
        "outputId": "03052f26-6ead-4c14-b454-4d94f35eedf8"
      },
      "source": [
        "%%timeit -n 10\n",
        "s = pd.Series(np.random.randint(0,1000,10000))\n",
        "s+=2\n"
      ],
      "execution_count": null,
      "outputs": [
        {
          "output_type": "stream",
          "text": [
            "564 µs ± 160 µs per loop (mean ± std. dev. of 7 runs, 10 loops each)\n"
          ],
          "name": "stdout"
        }
      ]
    },
    {
      "cell_type": "markdown",
      "metadata": {
        "collapsed": false,
        "id": "AvMQY8yTKScO",
        "colab_type": "text"
      },
      "source": [
        "Amazing. Not only is it significantly faster, but it's more concise and maybe even easier to read too."
      ]
    },
    {
      "cell_type": "markdown",
      "metadata": {
        "collapsed": false,
        "id": "g1pgGQzxKScP",
        "colab_type": "text"
      },
      "source": [
        "One last note on using the indexing operators to access series data. The `.loc` attribute lets you not only modify data in place, but also add new data as well."
      ]
    },
    {
      "cell_type": "markdown",
      "metadata": {
        "collapsed": false,
        "id": "chD40NZ8KScQ",
        "colab_type": "text"
      },
      "source": [
        "Pandas will automatically change the underlying NumPy types as appropriate."
      ]
    },
    {
      "cell_type": "code",
      "metadata": {
        "id": "oiOwwsu9KScR",
        "colab_type": "code",
        "colab": {},
        "outputId": "30620f1e-0064-4453-a80c-74127513efdb"
      },
      "source": [
        "s = pd.Series([1, 2, 3])\n",
        "print(s)\n",
        "s.loc['Animal'] = 'Dog'\n",
        "print(s)"
      ],
      "execution_count": null,
      "outputs": [
        {
          "output_type": "stream",
          "text": [
            "0    1\n",
            "1    2\n",
            "2    3\n",
            "dtype: int64\n",
            "0           1\n",
            "1           2\n",
            "2           3\n",
            "Animal    Dog\n",
            "dtype: object\n"
          ],
          "name": "stdout"
        }
      ]
    },
    {
      "cell_type": "markdown",
      "metadata": {
        "collapsed": false,
        "id": "NGMPwj_iKScT",
        "colab_type": "text"
      },
      "source": [
        "We end this chapter by showing example where index values are not unique, and this makes a data Series different conceptually, that a relational database might be"
      ]
    },
    {
      "cell_type": "markdown",
      "metadata": {
        "collapsed": false,
        "id": "UwCkS7yBKScT",
        "colab_type": "text"
      },
      "source": [
        "Revisiting the issue of countries and their national sports, it turns out that many countries seem to like this game cricket. We go back to our original series on sports. It's possible to create a new series object with multiple entries for cricket, and then use append to bring these together. There are a couple of important considerations when using append. First, Pandas is going to take your series and try to infer the best data types to use. In this example, everything is a string, so there's no problems here."
      ]
    },
    {
      "cell_type": "markdown",
      "metadata": {
        "collapsed": false,
        "id": "ciDz0QCSKScT",
        "colab_type": "text"
      },
      "source": [
        "Second, the append method doesn't actually change the underlying series. It instead returns a new series which is made up of the two appended together. "
      ]
    },
    {
      "cell_type": "code",
      "metadata": {
        "id": "dEHymO5fKScU",
        "colab_type": "code",
        "colab": {}
      },
      "source": [
        "original_sports = pd.Series({'Football': 'Germany',\n",
        "                             'Golf': 'Scotland',\n",
        "                             'Sumo': 'Japan',\n",
        "                             'Taekwondo': 'South Korea'})\n",
        "\n",
        "cricket_loving_countries = pd.Series(['Australia',\n",
        "                                      'Barbados',\n",
        "                                      'Pakistan',\n",
        "                                      'England'], \n",
        "                                   index=['Cricket',\n",
        "                                          'Cricket',\n",
        "                                          'Cricket',\n",
        "                                          'Cricket'])\n",
        "\n",
        "all_countries = original_sports.append(cricket_loving_countries)"
      ],
      "execution_count": null,
      "outputs": []
    },
    {
      "cell_type": "markdown",
      "metadata": {
        "collapsed": false,
        "id": "C8u9sVgNKScV",
        "colab_type": "text"
      },
      "source": [
        "Printing the original series of values and seeing that they haven't changed."
      ]
    },
    {
      "cell_type": "code",
      "metadata": {
        "id": "jN1LmVCjKScW",
        "colab_type": "code",
        "colab": {},
        "outputId": "1bf08ba0-4000-4030-8c9f-d706efe45eb0"
      },
      "source": [
        "original_sports"
      ],
      "execution_count": null,
      "outputs": [
        {
          "output_type": "execute_result",
          "data": {
            "text/plain": [
              "Football         Germany\n",
              "Golf            Scotland\n",
              "Sumo               Japan\n",
              "Taekwondo    South Korea\n",
              "dtype: object"
            ]
          },
          "metadata": {
            "tags": []
          },
          "execution_count": 37
        }
      ]
    },
    {
      "cell_type": "markdown",
      "metadata": {
        "collapsed": false,
        "id": "kM84XpZ8KScY",
        "colab_type": "text"
      },
      "source": [
        "This is actually a significant issue for new Pandas users who are used to objects being changed in place. So watch out for it, not just with append but with other Pandas functions as well."
      ]
    },
    {
      "cell_type": "code",
      "metadata": {
        "id": "bb1Gr8TXKScZ",
        "colab_type": "code",
        "colab": {},
        "outputId": "2bb895cf-7889-43fa-b425-19f49704ea1d"
      },
      "source": [
        "cricket_loving_countries"
      ],
      "execution_count": null,
      "outputs": [
        {
          "output_type": "execute_result",
          "data": {
            "text/plain": [
              "Cricket    Australia\n",
              "Cricket     Barbados\n",
              "Cricket     Pakistan\n",
              "Cricket      England\n",
              "dtype: object"
            ]
          },
          "metadata": {
            "tags": []
          },
          "execution_count": 38
        }
      ]
    },
    {
      "cell_type": "code",
      "metadata": {
        "id": "uhHIFszGKSca",
        "colab_type": "code",
        "colab": {},
        "outputId": "9da08d43-6cea-4f34-ab4f-1bde329c46cf"
      },
      "source": [
        "all_countries"
      ],
      "execution_count": null,
      "outputs": [
        {
          "output_type": "execute_result",
          "data": {
            "text/plain": [
              "Football         Germany\n",
              "Golf            Scotland\n",
              "Sumo               Japan\n",
              "Taekwondo    South Korea\n",
              "Cricket        Australia\n",
              "Cricket         Barbados\n",
              "Cricket         Pakistan\n",
              "Cricket          England\n",
              "dtype: object"
            ]
          },
          "metadata": {
            "tags": []
          },
          "execution_count": 39
        }
      ]
    },
    {
      "cell_type": "markdown",
      "metadata": {
        "collapsed": false,
        "id": "mCT0i4idKScc",
        "colab_type": "text"
      },
      "source": [
        "Finally, we see that when we query the appended series for those who have cricket as their national sport, we don't get a single value, but a series itself."
      ]
    },
    {
      "cell_type": "code",
      "metadata": {
        "id": "M9PXNmrHKScc",
        "colab_type": "code",
        "colab": {},
        "outputId": "1ce02ea5-f65e-42b5-d024-f7c0909497e0"
      },
      "source": [
        "all_countries.loc['Cricket']"
      ],
      "execution_count": null,
      "outputs": [
        {
          "output_type": "execute_result",
          "data": {
            "text/plain": [
              "Cricket    Australia\n",
              "Cricket     Barbados\n",
              "Cricket     Pakistan\n",
              "Cricket      England\n",
              "dtype: object"
            ]
          },
          "metadata": {
            "tags": []
          },
          "execution_count": 40
        }
      ]
    },
    {
      "cell_type": "markdown",
      "metadata": {
        "collapsed": true,
        "id": "boR5gzCHKSce",
        "colab_type": "text"
      },
      "source": [
        "# The DataFrame Data Structure"
      ]
    },
    {
      "cell_type": "markdown",
      "metadata": {
        "collapsed": false,
        "id": "z9NcqrZ7KSce",
        "colab_type": "text"
      },
      "source": [
        "The DataFrame data structure is the heart of the Panda's library. It's a primary object that you'll be working with in data analysis and cleaning tasks."
      ]
    },
    {
      "cell_type": "markdown",
      "metadata": {
        "collapsed": false,
        "id": "dnr0al4rKSce",
        "colab_type": "text"
      },
      "source": [
        "The DataFrame is conceptually a two-dimensional series object, where there's an index and multiple columns of content, with each column having a label. In fact, the distinction between a column and a row is really only a conceptual distinction. And you can think of the DataFrame itself as simply a two-axes labeled array."
      ]
    },
    {
      "cell_type": "markdown",
      "metadata": {
        "collapsed": false,
        "id": "B9ybBlF5KScf",
        "colab_type": "text"
      },
      "source": [
        "## Data Frame creation\n",
        "You can create a DataFrame in many different ways, some of which you might expect. For instance, you can use a group of series, where each series represents a row of data. Or you could use a group of dictionaries, where each dictionary represents a row of data."
      ]
    },
    {
      "cell_type": "markdown",
      "metadata": {
        "collapsed": false,
        "id": "RzCjwthNKScf",
        "colab_type": "text"
      },
      "source": [
        "We are going to create three purchase order records as series objects for a sort of fictional store."
      ]
    },
    {
      "cell_type": "code",
      "metadata": {
        "id": "6iMPDV3sKScf",
        "colab_type": "code",
        "colab": {},
        "outputId": "b732efa1-e903-4a5a-f07b-f2a54b90dfe8"
      },
      "source": [
        "import pandas as pd\n",
        "purchase_1 = pd.Series({'Name': 'Matthias',\n",
        "                        'Item Purchased': 'Dog Food',\n",
        "                        'Cost': 22.50})\n",
        "purchase_2 = pd.Series({'Name': 'Thomas',\n",
        "                        'Item Purchased': 'Kitty Litter',\n",
        "                        'Cost': 2.50})\n",
        "purchase_3 = pd.Series({'Name': 'Christina',\n",
        "                        'Item Purchased': 'Bird Seed',\n",
        "                        'Cost': 5.00})\n",
        "\n",
        "df = pd.DataFrame([purchase_1, purchase_2, purchase_3], index=['Store 1', 'Store 1', 'Store 2'])\n",
        "df"
      ],
      "execution_count": null,
      "outputs": [
        {
          "output_type": "execute_result",
          "data": {
            "text/html": [
              "<div>\n",
              "<style scoped>\n",
              "    .dataframe tbody tr th:only-of-type {\n",
              "        vertical-align: middle;\n",
              "    }\n",
              "\n",
              "    .dataframe tbody tr th {\n",
              "        vertical-align: top;\n",
              "    }\n",
              "\n",
              "    .dataframe thead th {\n",
              "        text-align: right;\n",
              "    }\n",
              "</style>\n",
              "<table border=\"1\" class=\"dataframe\">\n",
              "  <thead>\n",
              "    <tr style=\"text-align: right;\">\n",
              "      <th></th>\n",
              "      <th>Name</th>\n",
              "      <th>Item Purchased</th>\n",
              "      <th>Cost</th>\n",
              "    </tr>\n",
              "  </thead>\n",
              "  <tbody>\n",
              "    <tr>\n",
              "      <th>Store 1</th>\n",
              "      <td>Matthias</td>\n",
              "      <td>Dog Food</td>\n",
              "      <td>22.5</td>\n",
              "    </tr>\n",
              "    <tr>\n",
              "      <th>Store 1</th>\n",
              "      <td>Thomas</td>\n",
              "      <td>Kitty Litter</td>\n",
              "      <td>2.5</td>\n",
              "    </tr>\n",
              "    <tr>\n",
              "      <th>Store 2</th>\n",
              "      <td>Christina</td>\n",
              "      <td>Bird Seed</td>\n",
              "      <td>5.0</td>\n",
              "    </tr>\n",
              "  </tbody>\n",
              "</table>\n",
              "</div>"
            ],
            "text/plain": [
              "              Name Item Purchased  Cost\n",
              "Store 1   Matthias       Dog Food  22.5\n",
              "Store 1     Thomas   Kitty Litter   2.5\n",
              "Store 2  Christina      Bird Seed   5.0"
            ]
          },
          "metadata": {
            "tags": []
          },
          "execution_count": 41
        }
      ]
    },
    {
      "cell_type": "markdown",
      "metadata": {
        "collapsed": false,
        "id": "VR-9e-fNKSch",
        "colab_type": "text"
      },
      "source": [
        "In this example, we wanted to select data associated with Store 2, so we query the loc attribute with one parameter."
      ]
    },
    {
      "cell_type": "markdown",
      "metadata": {
        "collapsed": false,
        "id": "ovGbOKCTKSci",
        "colab_type": "text"
      },
      "source": [
        "## Data Access\n",
        "Similar to the series, we can extract data using the `iloc` and `loc` attributes.\n",
        "\n"
      ]
    },
    {
      "cell_type": "code",
      "metadata": {
        "id": "S6hIVyEXKScj",
        "colab_type": "code",
        "colab": {},
        "outputId": "64838743-a96a-4352-d25f-eec4ef01b1de"
      },
      "source": [
        "df.iloc[0]"
      ],
      "execution_count": null,
      "outputs": [
        {
          "output_type": "execute_result",
          "data": {
            "text/plain": [
              "Name              Matthias\n",
              "Item Purchased    Dog Food\n",
              "Cost                  22.5\n",
              "Name: Store 1, dtype: object"
            ]
          },
          "metadata": {
            "tags": []
          },
          "execution_count": 42
        }
      ]
    },
    {
      "cell_type": "markdown",
      "metadata": {
        "collapsed": false,
        "id": "BTFYbxJ-KScl",
        "colab_type": "text"
      },
      "source": [
        "Because the DataFrame is two-dimensional, passing a single value to the `loc` indexing operator will return a series if there's only one row to return."
      ]
    },
    {
      "cell_type": "markdown",
      "metadata": {
        "collapsed": false,
        "id": "PNruBRNRKScl",
        "colab_type": "text"
      },
      "source": [
        "In the following example, we want to select data associated with Store 2, so we query the `loc` attribute with one parameter."
      ]
    },
    {
      "cell_type": "code",
      "metadata": {
        "id": "swDDRwmAKScl",
        "colab_type": "code",
        "colab": {},
        "outputId": "26b1d26b-fc7b-474d-968f-fa80dc081b66"
      },
      "source": [
        "df.loc['Store 2']"
      ],
      "execution_count": null,
      "outputs": [
        {
          "output_type": "execute_result",
          "data": {
            "text/plain": [
              "Name              Christina\n",
              "Item Purchased    Bird Seed\n",
              "Cost                      5\n",
              "Name: Store 2, dtype: object"
            ]
          },
          "metadata": {
            "tags": []
          },
          "execution_count": 43
        }
      ]
    },
    {
      "cell_type": "markdown",
      "metadata": {
        "collapsed": false,
        "id": "zWFaLcIZKScp",
        "colab_type": "text"
      },
      "source": [
        " We can check the data type of the return using the python type function."
      ]
    },
    {
      "cell_type": "code",
      "metadata": {
        "id": "4xyAP1LIKScp",
        "colab_type": "code",
        "colab": {},
        "outputId": "eb2faac4-da92-45da-972c-9e72fbc56d85"
      },
      "source": [
        "type(df.loc['Store 2'])"
      ],
      "execution_count": null,
      "outputs": [
        {
          "output_type": "execute_result",
          "data": {
            "text/plain": [
              "pandas.core.series.Series"
            ]
          },
          "metadata": {
            "tags": []
          },
          "execution_count": 44
        }
      ]
    },
    {
      "cell_type": "markdown",
      "metadata": {
        "collapsed": false,
        "id": "YptAkep4KScs",
        "colab_type": "text"
      },
      "source": [
        "It's important to remember that the indices and column names along either axes, horizontal or vertical, could be non-unique."
      ]
    },
    {
      "cell_type": "markdown",
      "metadata": {
        "collapsed": false,
        "id": "zuBMhj2nKScs",
        "colab_type": "text"
      },
      "source": [
        "For instance, in this example, we see two purchase records for Store 1 as different rows."
      ]
    },
    {
      "cell_type": "code",
      "metadata": {
        "id": "Zcgi3iHmKScs",
        "colab_type": "code",
        "colab": {},
        "outputId": "11770069-9aad-44da-9ca5-ab82df9f7487"
      },
      "source": [
        "df.loc['Store 1']"
      ],
      "execution_count": null,
      "outputs": [
        {
          "output_type": "execute_result",
          "data": {
            "text/html": [
              "<div>\n",
              "<style scoped>\n",
              "    .dataframe tbody tr th:only-of-type {\n",
              "        vertical-align: middle;\n",
              "    }\n",
              "\n",
              "    .dataframe tbody tr th {\n",
              "        vertical-align: top;\n",
              "    }\n",
              "\n",
              "    .dataframe thead th {\n",
              "        text-align: right;\n",
              "    }\n",
              "</style>\n",
              "<table border=\"1\" class=\"dataframe\">\n",
              "  <thead>\n",
              "    <tr style=\"text-align: right;\">\n",
              "      <th></th>\n",
              "      <th>Name</th>\n",
              "      <th>Item Purchased</th>\n",
              "      <th>Cost</th>\n",
              "    </tr>\n",
              "  </thead>\n",
              "  <tbody>\n",
              "    <tr>\n",
              "      <th>Store 1</th>\n",
              "      <td>Matthias</td>\n",
              "      <td>Dog Food</td>\n",
              "      <td>22.5</td>\n",
              "    </tr>\n",
              "    <tr>\n",
              "      <th>Store 1</th>\n",
              "      <td>Thomas</td>\n",
              "      <td>Kitty Litter</td>\n",
              "      <td>2.5</td>\n",
              "    </tr>\n",
              "  </tbody>\n",
              "</table>\n",
              "</div>"
            ],
            "text/plain": [
              "             Name Item Purchased  Cost\n",
              "Store 1  Matthias       Dog Food  22.5\n",
              "Store 1    Thomas   Kitty Litter   2.5"
            ]
          },
          "metadata": {
            "tags": []
          },
          "execution_count": 45
        }
      ]
    },
    {
      "cell_type": "markdown",
      "metadata": {
        "collapsed": false,
        "id": "iTT7zxZMKScu",
        "colab_type": "text"
      },
      "source": [
        "We see that Matthias and Thomas both shop at the same pets supply store."
      ]
    },
    {
      "cell_type": "markdown",
      "metadata": {
        "collapsed": false,
        "id": "Rm9esTK6KScu",
        "colab_type": "text"
      },
      "source": [
        "In this case, the return value is a Data Frame"
      ]
    },
    {
      "cell_type": "code",
      "metadata": {
        "id": "wI9HSTAeKScu",
        "colab_type": "code",
        "colab": {},
        "outputId": "f02d1433-1ec4-426d-a89e-9e278d027745"
      },
      "source": [
        "type(df.loc['Store 1'])"
      ],
      "execution_count": null,
      "outputs": [
        {
          "output_type": "execute_result",
          "data": {
            "text/plain": [
              "pandas.core.frame.DataFrame"
            ]
          },
          "metadata": {
            "tags": []
          },
          "execution_count": 46
        }
      ]
    },
    {
      "cell_type": "markdown",
      "metadata": {
        "collapsed": false,
        "id": "tEQtbDtsKScw",
        "colab_type": "text"
      },
      "source": [
        "One of the powers of the Panda's DataFrame is that you can quickly select data based on multiple axes."
      ]
    },
    {
      "cell_type": "markdown",
      "metadata": {
        "collapsed": false,
        "id": "Ce_bryN4KScw",
        "colab_type": "text"
      },
      "source": [
        "For instance, if you wanted to just list the costs for Store 1, you would supply two parameters to `.loc`, one being the row **index** and the other being the **column** name."
      ]
    },
    {
      "cell_type": "code",
      "metadata": {
        "id": "N_98qbjbKScx",
        "colab_type": "code",
        "colab": {},
        "outputId": "067d978b-536d-45fb-9c08-a1841cae8f8c"
      },
      "source": [
        "df.loc['Store 1', 'Cost']"
      ],
      "execution_count": null,
      "outputs": [
        {
          "output_type": "execute_result",
          "data": {
            "text/plain": [
              "Store 1    22.5\n",
              "Store 1     2.5\n",
              "Name: Cost, dtype: float64"
            ]
          },
          "metadata": {
            "tags": []
          },
          "execution_count": 47
        }
      ]
    },
    {
      "cell_type": "code",
      "metadata": {
        "id": "kQLW4ry1KScz",
        "colab_type": "code",
        "colab": {}
      },
      "source": [
        ""
      ],
      "execution_count": null,
      "outputs": []
    },
    {
      "cell_type": "markdown",
      "metadata": {
        "collapsed": false,
        "id": "xowmxJQrKSc1",
        "colab_type": "text"
      },
      "source": [
        "## Column Selection\n",
        "\n",
        "What if we just wanted to do column selection and just get a list of all of the costs? Well, there's a couple of options."
      ]
    },
    {
      "cell_type": "markdown",
      "metadata": {
        "collapsed": false,
        "id": "fx5L4YR1KSc1",
        "colab_type": "text"
      },
      "source": [
        "### 1. Transpose Data Frame\n",
        "You can get a transpose of the DataFrame, using the capital T attribute, which swaps all of the columns and rows."
      ]
    },
    {
      "cell_type": "code",
      "metadata": {
        "id": "pDVTSDGqKSc2",
        "colab_type": "code",
        "colab": {},
        "outputId": "6157c879-aa0f-4a2d-fcb3-9bca39b87887"
      },
      "source": [
        "df.T"
      ],
      "execution_count": null,
      "outputs": [
        {
          "output_type": "execute_result",
          "data": {
            "text/html": [
              "<div>\n",
              "<style scoped>\n",
              "    .dataframe tbody tr th:only-of-type {\n",
              "        vertical-align: middle;\n",
              "    }\n",
              "\n",
              "    .dataframe tbody tr th {\n",
              "        vertical-align: top;\n",
              "    }\n",
              "\n",
              "    .dataframe thead th {\n",
              "        text-align: right;\n",
              "    }\n",
              "</style>\n",
              "<table border=\"1\" class=\"dataframe\">\n",
              "  <thead>\n",
              "    <tr style=\"text-align: right;\">\n",
              "      <th></th>\n",
              "      <th>Store 1</th>\n",
              "      <th>Store 1</th>\n",
              "      <th>Store 2</th>\n",
              "    </tr>\n",
              "  </thead>\n",
              "  <tbody>\n",
              "    <tr>\n",
              "      <th>Name</th>\n",
              "      <td>Matthias</td>\n",
              "      <td>Thomas</td>\n",
              "      <td>Christina</td>\n",
              "    </tr>\n",
              "    <tr>\n",
              "      <th>Item Purchased</th>\n",
              "      <td>Dog Food</td>\n",
              "      <td>Kitty Litter</td>\n",
              "      <td>Bird Seed</td>\n",
              "    </tr>\n",
              "    <tr>\n",
              "      <th>Cost</th>\n",
              "      <td>22.5</td>\n",
              "      <td>2.5</td>\n",
              "      <td>5</td>\n",
              "    </tr>\n",
              "  </tbody>\n",
              "</table>\n",
              "</div>"
            ],
            "text/plain": [
              "                 Store 1       Store 1    Store 2\n",
              "Name            Matthias        Thomas  Christina\n",
              "Item Purchased  Dog Food  Kitty Litter  Bird Seed\n",
              "Cost                22.5           2.5          5"
            ]
          },
          "metadata": {
            "tags": []
          },
          "execution_count": 48
        }
      ]
    },
    {
      "cell_type": "markdown",
      "metadata": {
        "collapsed": false,
        "id": "YSixkxa5KSc3",
        "colab_type": "text"
      },
      "source": [
        "And we can then use the .loc method"
      ]
    },
    {
      "cell_type": "code",
      "metadata": {
        "id": "rqNwUPioKSc4",
        "colab_type": "code",
        "colab": {},
        "outputId": "32c21fdf-ef96-4ded-a554-cbbd3765e05d"
      },
      "source": [
        "df.T.loc['Cost']"
      ],
      "execution_count": null,
      "outputs": [
        {
          "output_type": "execute_result",
          "data": {
            "text/plain": [
              "Store 1    22.5\n",
              "Store 1     2.5\n",
              "Store 2       5\n",
              "Name: Cost, dtype: object"
            ]
          },
          "metadata": {
            "tags": []
          },
          "execution_count": 49
        }
      ]
    },
    {
      "cell_type": "markdown",
      "metadata": {
        "collapsed": false,
        "id": "IcJDRQd3KSc5",
        "colab_type": "text"
      },
      "source": [
        "This works, but it's **pretty ugly**."
      ]
    },
    {
      "cell_type": "markdown",
      "metadata": {
        "collapsed": false,
        "id": "pAtbqYelKSc5",
        "colab_type": "text"
      },
      "source": [
        "### 2. Indexing Operator\n",
        "\n",
        "In a Pandas DataFrame, columns always have a name;  so this selection is always label based. \n",
        "\n",
        "(For those familiar with relational databases, this operator is analogous to column projection.)"
      ]
    },
    {
      "cell_type": "code",
      "metadata": {
        "id": "vR3C1hVSKSc6",
        "colab_type": "code",
        "colab": {},
        "outputId": "6721506e-288d-4b37-e5bd-2146c3f6a69d"
      },
      "source": [
        "df['Cost']"
      ],
      "execution_count": null,
      "outputs": [
        {
          "output_type": "execute_result",
          "data": {
            "text/plain": [
              "Store 1    22.5\n",
              "Store 1     2.5\n",
              "Store 2     5.0\n",
              "Name: Cost, dtype: float64"
            ]
          },
          "metadata": {
            "tags": []
          },
          "execution_count": 50
        }
      ]
    },
    {
      "cell_type": "code",
      "metadata": {
        "id": "wkEYpCW0KSc7",
        "colab_type": "code",
        "colab": {}
      },
      "source": [
        ""
      ],
      "execution_count": null,
      "outputs": []
    },
    {
      "cell_type": "markdown",
      "metadata": {
        "collapsed": false,
        "id": "7g-f8pQ_KSc8",
        "colab_type": "text"
      },
      "source": [
        "### 3. Operation Chaining\n",
        "Finally, since the result of using the indexing operators, the DataFrame or series, you can chain operations together."
      ]
    },
    {
      "cell_type": "code",
      "metadata": {
        "id": "CIz-yrn4KSc8",
        "colab_type": "code",
        "colab": {},
        "outputId": "cb372436-a9a6-47b8-eef0-10f9412a0b7a"
      },
      "source": [
        "# loc operation then indexing operation\n",
        "s1 = df.loc['Store 1']\n",
        "s1['Cost']"
      ],
      "execution_count": null,
      "outputs": [
        {
          "output_type": "execute_result",
          "data": {
            "text/plain": [
              "Store 1    22.5\n",
              "Store 1     2.5\n",
              "Name: Cost, dtype: float64"
            ]
          },
          "metadata": {
            "tags": []
          },
          "execution_count": 51
        }
      ]
    },
    {
      "cell_type": "code",
      "metadata": {
        "id": "n_YHi-cgKSc9",
        "colab_type": "code",
        "colab": {},
        "outputId": "7602c04c-130e-4084-e2b1-3317de77c59e"
      },
      "source": [
        "# chaining of loc and indexing\n",
        "df.loc['Store 1']['Cost']"
      ],
      "execution_count": null,
      "outputs": [
        {
          "output_type": "execute_result",
          "data": {
            "text/plain": [
              "Store 1    22.5\n",
              "Store 1     2.5\n",
              "Name: Cost, dtype: float64"
            ]
          },
          "metadata": {
            "tags": []
          },
          "execution_count": 52
        }
      ]
    },
    {
      "cell_type": "markdown",
      "metadata": {
        "collapsed": false,
        "id": "e0pomuv6KSc_",
        "colab_type": "text"
      },
      "source": [
        "<div class=\"alert alert-block alert-warning\">\n",
        "But chaining can come with some costs and is best avoided if you can use another approach. In particular, chaining tends to cause Pandas to return a copy of the DataFrame instead of a view on the DataFrame. For selecting a data, this is not a big deal, though it might be slower than necessary. If you are changing data though, this is an important distinction and can be a source of error.\n",
        "</div>"
      ]
    },
    {
      "cell_type": "markdown",
      "metadata": {
        "collapsed": false,
        "id": "WfQosTOUKSc_",
        "colab_type": "text"
      },
      "source": [
        "### 4. Full slice with Loc"
      ]
    },
    {
      "cell_type": "markdown",
      "metadata": {
        "collapsed": false,
        "id": "e-VHhP6aKSc_",
        "colab_type": "text"
      },
      "source": [
        "As we saw, .loc does row selection, and it can take two parameters, the row index and the list of column names. italso supports slicing. If we wanted to select all rows, we can use a column to indicate a full slice from beginning to end. And then add the column name as the second parameter as a string. In fact, if we wanted to include multiply columns, we could do so in a list. And Pandas will bring back only the columns we have asked for."
      ]
    },
    {
      "cell_type": "code",
      "metadata": {
        "id": "Cl68yH7lKSc_",
        "colab_type": "code",
        "colab": {},
        "outputId": "d968c1a1-b21b-45ad-9f6e-316e2a6201c4"
      },
      "source": [
        "df.loc[:,['Name', 'Cost']]\n"
      ],
      "execution_count": null,
      "outputs": [
        {
          "output_type": "execute_result",
          "data": {
            "text/html": [
              "<div>\n",
              "<style scoped>\n",
              "    .dataframe tbody tr th:only-of-type {\n",
              "        vertical-align: middle;\n",
              "    }\n",
              "\n",
              "    .dataframe tbody tr th {\n",
              "        vertical-align: top;\n",
              "    }\n",
              "\n",
              "    .dataframe thead th {\n",
              "        text-align: right;\n",
              "    }\n",
              "</style>\n",
              "<table border=\"1\" class=\"dataframe\">\n",
              "  <thead>\n",
              "    <tr style=\"text-align: right;\">\n",
              "      <th></th>\n",
              "      <th>Name</th>\n",
              "      <th>Cost</th>\n",
              "    </tr>\n",
              "  </thead>\n",
              "  <tbody>\n",
              "    <tr>\n",
              "      <th>Store 1</th>\n",
              "      <td>Matthias</td>\n",
              "      <td>22.5</td>\n",
              "    </tr>\n",
              "    <tr>\n",
              "      <th>Store 1</th>\n",
              "      <td>Thomas</td>\n",
              "      <td>2.5</td>\n",
              "    </tr>\n",
              "    <tr>\n",
              "      <th>Store 2</th>\n",
              "      <td>Christina</td>\n",
              "      <td>5.0</td>\n",
              "    </tr>\n",
              "  </tbody>\n",
              "</table>\n",
              "</div>"
            ],
            "text/plain": [
              "              Name  Cost\n",
              "Store 1   Matthias  22.5\n",
              "Store 1     Thomas   2.5\n",
              "Store 2  Christina   5.0"
            ]
          },
          "metadata": {
            "tags": []
          },
          "execution_count": 53
        }
      ]
    },
    {
      "cell_type": "markdown",
      "metadata": {
        "collapsed": false,
        "id": "E_YIJt-WKSdB",
        "colab_type": "text"
      },
      "source": [
        "The key concepts to remember are that the rows and columns are really just for our benefit. Underneath this is a two axes labeled array. "
      ]
    },
    {
      "cell_type": "markdown",
      "metadata": {
        "collapsed": false,
        "id": "uVscnIADKSdB",
        "colab_type": "text"
      },
      "source": [
        "## Dropping Data"
      ]
    },
    {
      "cell_type": "markdown",
      "metadata": {
        "collapsed": false,
        "id": "g5pYGx1iKSdB",
        "colab_type": "text"
      },
      "source": [
        "It's easy to delete data in series and DataFrames, and we can use the drop function to do so. This function takes a single parameter, which is the index or roll label, to drop."
      ]
    },
    {
      "cell_type": "code",
      "metadata": {
        "id": "UEZu7G1LKSdB",
        "colab_type": "code",
        "colab": {},
        "outputId": "49044182-f742-4b90-f875-63d080d034e3"
      },
      "source": [
        "df.drop('Store 1')"
      ],
      "execution_count": null,
      "outputs": [
        {
          "output_type": "execute_result",
          "data": {
            "text/html": [
              "<div>\n",
              "<style scoped>\n",
              "    .dataframe tbody tr th:only-of-type {\n",
              "        vertical-align: middle;\n",
              "    }\n",
              "\n",
              "    .dataframe tbody tr th {\n",
              "        vertical-align: top;\n",
              "    }\n",
              "\n",
              "    .dataframe thead th {\n",
              "        text-align: right;\n",
              "    }\n",
              "</style>\n",
              "<table border=\"1\" class=\"dataframe\">\n",
              "  <thead>\n",
              "    <tr style=\"text-align: right;\">\n",
              "      <th></th>\n",
              "      <th>Name</th>\n",
              "      <th>Item Purchased</th>\n",
              "      <th>Cost</th>\n",
              "    </tr>\n",
              "  </thead>\n",
              "  <tbody>\n",
              "    <tr>\n",
              "      <th>Store 2</th>\n",
              "      <td>Christina</td>\n",
              "      <td>Bird Seed</td>\n",
              "      <td>5.0</td>\n",
              "    </tr>\n",
              "  </tbody>\n",
              "</table>\n",
              "</div>"
            ],
            "text/plain": [
              "              Name Item Purchased  Cost\n",
              "Store 2  Christina      Bird Seed   5.0"
            ]
          },
          "metadata": {
            "tags": []
          },
          "execution_count": 54
        }
      ]
    },
    {
      "cell_type": "markdown",
      "metadata": {
        "collapsed": false,
        "id": "ffzeD8vRKSdC",
        "colab_type": "text"
      },
      "source": [
        "The drop function doesn't change the DataFrame by default. And instead, returns to you a copy of the DataFrame with the given rows removed. \n",
        "\n",
        "We can see that our original DataFrame is still intact."
      ]
    },
    {
      "cell_type": "code",
      "metadata": {
        "id": "w6nrkalHKSdE",
        "colab_type": "code",
        "colab": {},
        "outputId": "e4c2ca36-f48a-4076-b21d-a6a7c171b8f3"
      },
      "source": [
        "df"
      ],
      "execution_count": null,
      "outputs": [
        {
          "output_type": "execute_result",
          "data": {
            "text/html": [
              "<div>\n",
              "<style scoped>\n",
              "    .dataframe tbody tr th:only-of-type {\n",
              "        vertical-align: middle;\n",
              "    }\n",
              "\n",
              "    .dataframe tbody tr th {\n",
              "        vertical-align: top;\n",
              "    }\n",
              "\n",
              "    .dataframe thead th {\n",
              "        text-align: right;\n",
              "    }\n",
              "</style>\n",
              "<table border=\"1\" class=\"dataframe\">\n",
              "  <thead>\n",
              "    <tr style=\"text-align: right;\">\n",
              "      <th></th>\n",
              "      <th>Name</th>\n",
              "      <th>Item Purchased</th>\n",
              "      <th>Cost</th>\n",
              "    </tr>\n",
              "  </thead>\n",
              "  <tbody>\n",
              "    <tr>\n",
              "      <th>Store 1</th>\n",
              "      <td>Matthias</td>\n",
              "      <td>Dog Food</td>\n",
              "      <td>22.5</td>\n",
              "    </tr>\n",
              "    <tr>\n",
              "      <th>Store 1</th>\n",
              "      <td>Thomas</td>\n",
              "      <td>Kitty Litter</td>\n",
              "      <td>2.5</td>\n",
              "    </tr>\n",
              "    <tr>\n",
              "      <th>Store 2</th>\n",
              "      <td>Christina</td>\n",
              "      <td>Bird Seed</td>\n",
              "      <td>5.0</td>\n",
              "    </tr>\n",
              "  </tbody>\n",
              "</table>\n",
              "</div>"
            ],
            "text/plain": [
              "              Name Item Purchased  Cost\n",
              "Store 1   Matthias       Dog Food  22.5\n",
              "Store 1     Thomas   Kitty Litter   2.5\n",
              "Store 2  Christina      Bird Seed   5.0"
            ]
          },
          "metadata": {
            "tags": []
          },
          "execution_count": 55
        }
      ]
    },
    {
      "cell_type": "markdown",
      "metadata": {
        "collapsed": false,
        "id": "8WFF-yL9KSdG",
        "colab_type": "text"
      },
      "source": [
        "Let's make a copy with the copy method and do a drop on it instead."
      ]
    },
    {
      "cell_type": "code",
      "metadata": {
        "id": "6ODuD8geKSdG",
        "colab_type": "code",
        "colab": {},
        "outputId": "f48a4beb-7f4e-4b58-d9d3-139cbc26495b"
      },
      "source": [
        "copy_df = df.copy()\n",
        "copy_df = copy_df.drop('Store 1')\n",
        "copy_df"
      ],
      "execution_count": null,
      "outputs": [
        {
          "output_type": "execute_result",
          "data": {
            "text/html": [
              "<div>\n",
              "<style scoped>\n",
              "    .dataframe tbody tr th:only-of-type {\n",
              "        vertical-align: middle;\n",
              "    }\n",
              "\n",
              "    .dataframe tbody tr th {\n",
              "        vertical-align: top;\n",
              "    }\n",
              "\n",
              "    .dataframe thead th {\n",
              "        text-align: right;\n",
              "    }\n",
              "</style>\n",
              "<table border=\"1\" class=\"dataframe\">\n",
              "  <thead>\n",
              "    <tr style=\"text-align: right;\">\n",
              "      <th></th>\n",
              "      <th>Name</th>\n",
              "      <th>Item Purchased</th>\n",
              "      <th>Cost</th>\n",
              "    </tr>\n",
              "  </thead>\n",
              "  <tbody>\n",
              "    <tr>\n",
              "      <th>Store 2</th>\n",
              "      <td>Christina</td>\n",
              "      <td>Bird Seed</td>\n",
              "      <td>5.0</td>\n",
              "    </tr>\n",
              "  </tbody>\n",
              "</table>\n",
              "</div>"
            ],
            "text/plain": [
              "              Name Item Purchased  Cost\n",
              "Store 2  Christina      Bird Seed   5.0"
            ]
          },
          "metadata": {
            "tags": []
          },
          "execution_count": 56
        }
      ]
    },
    {
      "cell_type": "markdown",
      "metadata": {
        "collapsed": false,
        "id": "FC7OuMY5KSdH",
        "colab_type": "text"
      },
      "source": [
        "This is a very typical pattern in Pandas, where in place changes to a DataFrame are only done if need be, usually on changes involving indices.\n",
        "\n",
        "**So it's important to be aware of.**"
      ]
    },
    {
      "cell_type": "code",
      "metadata": {
        "id": "ADgaFJYaKSdI",
        "colab_type": "code",
        "colab": {}
      },
      "source": [
        "copy_df.drop?"
      ],
      "execution_count": null,
      "outputs": []
    },
    {
      "cell_type": "markdown",
      "metadata": {
        "collapsed": false,
        "id": "141zsE_RKSdJ",
        "colab_type": "text"
      },
      "source": [
        " Drop has two interesting optional parameters.\n",
        "\n",
        "- The first is called in place, and if it's set to true, the DataFrame will be updated in place, instead of a copy being returned.\n",
        "\n",
        "- The second parameter is the axes, which should be dropped.\n",
        "\n",
        "    - By default, this value is 0, indicating the row axes.\n",
        "\n",
        "    - But you could change it to 1 if you want to drop a column.\n"
      ]
    },
    {
      "cell_type": "markdown",
      "metadata": {
        "collapsed": false,
        "id": "IIxKfZbzKSdK",
        "colab_type": "text"
      },
      "source": [
        "There is a second way to drop a column, however. This is directly through the use of the indexing operator, using the `del` keyword.\n"
      ]
    },
    {
      "cell_type": "code",
      "metadata": {
        "id": "5atFQ2rdKSdK",
        "colab_type": "code",
        "colab": {},
        "outputId": "1366d7fc-fddf-4191-c863-c98cd5b57255"
      },
      "source": [
        "del copy_df['Name']\n",
        "copy_df"
      ],
      "execution_count": null,
      "outputs": [
        {
          "output_type": "execute_result",
          "data": {
            "text/html": [
              "<div>\n",
              "<style scoped>\n",
              "    .dataframe tbody tr th:only-of-type {\n",
              "        vertical-align: middle;\n",
              "    }\n",
              "\n",
              "    .dataframe tbody tr th {\n",
              "        vertical-align: top;\n",
              "    }\n",
              "\n",
              "    .dataframe thead th {\n",
              "        text-align: right;\n",
              "    }\n",
              "</style>\n",
              "<table border=\"1\" class=\"dataframe\">\n",
              "  <thead>\n",
              "    <tr style=\"text-align: right;\">\n",
              "      <th></th>\n",
              "      <th>Item Purchased</th>\n",
              "      <th>Cost</th>\n",
              "    </tr>\n",
              "  </thead>\n",
              "  <tbody>\n",
              "    <tr>\n",
              "      <th>Store 2</th>\n",
              "      <td>Bird Seed</td>\n",
              "      <td>5.0</td>\n",
              "    </tr>\n",
              "  </tbody>\n",
              "</table>\n",
              "</div>"
            ],
            "text/plain": [
              "        Item Purchased  Cost\n",
              "Store 2      Bird Seed   5.0"
            ]
          },
          "metadata": {
            "tags": []
          },
          "execution_count": 57
        }
      ]
    },
    {
      "cell_type": "markdown",
      "metadata": {
        "collapsed": false,
        "id": "QKgh-gkyKSdM",
        "colab_type": "text"
      },
      "source": [
        "This way of dropping data, however, takes immediate effect on the DataFrame and does not return a view."
      ]
    },
    {
      "cell_type": "markdown",
      "metadata": {
        "collapsed": false,
        "id": "JaKKas69KSdM",
        "colab_type": "text"
      },
      "source": [
        "## Adding a new column"
      ]
    },
    {
      "cell_type": "markdown",
      "metadata": {
        "collapsed": false,
        "id": "OWRRjqlSKSdM",
        "colab_type": "text"
      },
      "source": [
        "Finally, adding a new column to the DataFrame is as easy as assigning it to some value."
      ]
    },
    {
      "cell_type": "markdown",
      "metadata": {
        "collapsed": false,
        "id": "1iqW7yu1KSdN",
        "colab_type": "text"
      },
      "source": [
        "For instance, if we wanted to add a new location as a column with default value of none, we could do so by using the assignment operator after the square brackets."
      ]
    },
    {
      "cell_type": "code",
      "metadata": {
        "id": "DXdbVdWbKSdN",
        "colab_type": "code",
        "colab": {},
        "outputId": "78ba27d6-3aee-48f3-c0fa-7f283e422f7b"
      },
      "source": [
        "df['Location'] = None\n",
        "df"
      ],
      "execution_count": null,
      "outputs": [
        {
          "output_type": "execute_result",
          "data": {
            "text/html": [
              "<div>\n",
              "<style scoped>\n",
              "    .dataframe tbody tr th:only-of-type {\n",
              "        vertical-align: middle;\n",
              "    }\n",
              "\n",
              "    .dataframe tbody tr th {\n",
              "        vertical-align: top;\n",
              "    }\n",
              "\n",
              "    .dataframe thead th {\n",
              "        text-align: right;\n",
              "    }\n",
              "</style>\n",
              "<table border=\"1\" class=\"dataframe\">\n",
              "  <thead>\n",
              "    <tr style=\"text-align: right;\">\n",
              "      <th></th>\n",
              "      <th>Name</th>\n",
              "      <th>Item Purchased</th>\n",
              "      <th>Cost</th>\n",
              "      <th>Location</th>\n",
              "    </tr>\n",
              "  </thead>\n",
              "  <tbody>\n",
              "    <tr>\n",
              "      <th>Store 1</th>\n",
              "      <td>Matthias</td>\n",
              "      <td>Dog Food</td>\n",
              "      <td>22.5</td>\n",
              "      <td>None</td>\n",
              "    </tr>\n",
              "    <tr>\n",
              "      <th>Store 1</th>\n",
              "      <td>Thomas</td>\n",
              "      <td>Kitty Litter</td>\n",
              "      <td>2.5</td>\n",
              "      <td>None</td>\n",
              "    </tr>\n",
              "    <tr>\n",
              "      <th>Store 2</th>\n",
              "      <td>Christina</td>\n",
              "      <td>Bird Seed</td>\n",
              "      <td>5.0</td>\n",
              "      <td>None</td>\n",
              "    </tr>\n",
              "  </tbody>\n",
              "</table>\n",
              "</div>"
            ],
            "text/plain": [
              "              Name Item Purchased  Cost Location\n",
              "Store 1   Matthias       Dog Food  22.5     None\n",
              "Store 1     Thomas   Kitty Litter   2.5     None\n",
              "Store 2  Christina      Bird Seed   5.0     None"
            ]
          },
          "metadata": {
            "tags": []
          },
          "execution_count": 58
        }
      ]
    },
    {
      "cell_type": "markdown",
      "metadata": {
        "collapsed": false,
        "id": "MtYlGn9MKSdO",
        "colab_type": "text"
      },
      "source": [
        "This broadcasts the default value to the new column immediately.\n"
      ]
    },
    {
      "cell_type": "markdown",
      "metadata": {
        "collapsed": false,
        "id": "vj34vl-uKSdO",
        "colab_type": "text"
      },
      "source": [
        "**In conclusion**, we presented in this chapter: DataFrame creation, data access, column selection, dropping of data and adding a new column. "
      ]
    },
    {
      "cell_type": "markdown",
      "metadata": {
        "collapsed": true,
        "id": "D0oYKRaDKSdP",
        "colab_type": "text"
      },
      "source": [
        "# Dataframe Indexing and Loading"
      ]
    },
    {
      "cell_type": "markdown",
      "metadata": {
        "collapsed": false,
        "id": "0OT7P8bKKSdP",
        "colab_type": "text"
      },
      "source": [
        "The common work flow is to read your data into a DataFrame then reduce this DataFrame to the particular columns or rows that you're interested in working with. As you've seen, the Pandas toolkit tries to give you views on a DataFrame. This is much faster than copying data and much more memory efficient too."
      ]
    },
    {
      "cell_type": "markdown",
      "metadata": {
        "collapsed": false,
        "id": "fI0F42A4KSdP",
        "colab_type": "text"
      },
      "source": [
        "But it does mean that if you're manipulating the data you have to be aware that any changes to the DataFrame you're working on may have an impact on the base data frame you used originally."
      ]
    },
    {
      "cell_type": "markdown",
      "metadata": {
        "collapsed": false,
        "id": "xUBghBLNKSdP",
        "colab_type": "text"
      },
      "source": [
        "Here's an example using our same purchasing DataFrame from earlier. We can create a series based on just the cost category using the square brackets."
      ]
    },
    {
      "cell_type": "markdown",
      "metadata": {
        "collapsed": false,
        "id": "uOz0T8QvKSdQ",
        "colab_type": "text"
      },
      "source": [
        "## Data Index"
      ]
    },
    {
      "cell_type": "code",
      "metadata": {
        "id": "fnmJrwz2KSdQ",
        "colab_type": "code",
        "colab": {}
      },
      "source": [
        ""
      ],
      "execution_count": null,
      "outputs": []
    },
    {
      "cell_type": "code",
      "metadata": {
        "id": "AdHf3u4nKSdS",
        "colab_type": "code",
        "colab": {},
        "outputId": "1a5b8ad9-6122-4ed5-fd90-c78908e61323"
      },
      "source": [
        "import pandas as pd\n",
        "purchase_1 = pd.Series({'Name': 'Matthias',\n",
        "                        'Item Purchased': 'Dog Food',\n",
        "                        'Cost': 22.50})\n",
        "purchase_2 = pd.Series({'Name': 'Thomas',\n",
        "                        'Item Purchased': 'Kitty Litter',\n",
        "                        'Cost': 2.50})\n",
        "purchase_3 = pd.Series({'Name': 'Christina',\n",
        "                        'Item Purchased': 'Bird Seed',\n",
        "                        'Cost': 5.00})\n",
        "\n",
        "df = pd.DataFrame([purchase_1, purchase_2, purchase_3], index=['Store 1', 'Store 1', 'Store 2'])\n",
        "df"
      ],
      "execution_count": null,
      "outputs": [
        {
          "output_type": "execute_result",
          "data": {
            "text/html": [
              "<div>\n",
              "<style scoped>\n",
              "    .dataframe tbody tr th:only-of-type {\n",
              "        vertical-align: middle;\n",
              "    }\n",
              "\n",
              "    .dataframe tbody tr th {\n",
              "        vertical-align: top;\n",
              "    }\n",
              "\n",
              "    .dataframe thead th {\n",
              "        text-align: right;\n",
              "    }\n",
              "</style>\n",
              "<table border=\"1\" class=\"dataframe\">\n",
              "  <thead>\n",
              "    <tr style=\"text-align: right;\">\n",
              "      <th></th>\n",
              "      <th>Name</th>\n",
              "      <th>Item Purchased</th>\n",
              "      <th>Cost</th>\n",
              "    </tr>\n",
              "  </thead>\n",
              "  <tbody>\n",
              "    <tr>\n",
              "      <th>Store 1</th>\n",
              "      <td>Matthias</td>\n",
              "      <td>Dog Food</td>\n",
              "      <td>22.5</td>\n",
              "    </tr>\n",
              "    <tr>\n",
              "      <th>Store 1</th>\n",
              "      <td>Thomas</td>\n",
              "      <td>Kitty Litter</td>\n",
              "      <td>2.5</td>\n",
              "    </tr>\n",
              "    <tr>\n",
              "      <th>Store 2</th>\n",
              "      <td>Christina</td>\n",
              "      <td>Bird Seed</td>\n",
              "      <td>5.0</td>\n",
              "    </tr>\n",
              "  </tbody>\n",
              "</table>\n",
              "</div>"
            ],
            "text/plain": [
              "              Name Item Purchased  Cost\n",
              "Store 1   Matthias       Dog Food  22.5\n",
              "Store 1     Thomas   Kitty Litter   2.5\n",
              "Store 2  Christina      Bird Seed   5.0"
            ]
          },
          "metadata": {
            "tags": []
          },
          "execution_count": 59
        }
      ]
    },
    {
      "cell_type": "markdown",
      "metadata": {
        "collapsed": false,
        "id": "sEIPZG20KSdU",
        "colab_type": "text"
      },
      "source": [
        "Indexing Operator:"
      ]
    },
    {
      "cell_type": "code",
      "metadata": {
        "id": "aIT83q3YKSdV",
        "colab_type": "code",
        "colab": {},
        "outputId": "8fe994aa-5bc8-43b6-ddd8-5f15aad60ead"
      },
      "source": [
        "costs = df['Cost']\n",
        "costs"
      ],
      "execution_count": null,
      "outputs": [
        {
          "output_type": "execute_result",
          "data": {
            "text/plain": [
              "Store 1    22.5\n",
              "Store 1     2.5\n",
              "Store 2     5.0\n",
              "Name: Cost, dtype: float64"
            ]
          },
          "metadata": {
            "tags": []
          },
          "execution_count": 60
        }
      ]
    },
    {
      "cell_type": "markdown",
      "metadata": {
        "collapsed": false,
        "id": "J8DXuYpvKSda",
        "colab_type": "text"
      },
      "source": [
        "Then we can increase the cost in this series using broadcasting. "
      ]
    },
    {
      "cell_type": "code",
      "metadata": {
        "id": "H_xA_mcXKSda",
        "colab_type": "code",
        "colab": {},
        "outputId": "7fc94986-7a1a-43fd-8328-fa06c55f7d9e"
      },
      "source": [
        "costs+=2\n",
        "costs"
      ],
      "execution_count": null,
      "outputs": [
        {
          "output_type": "execute_result",
          "data": {
            "text/plain": [
              "Store 1    24.5\n",
              "Store 1     4.5\n",
              "Store 2     7.0\n",
              "Name: Cost, dtype: float64"
            ]
          },
          "metadata": {
            "tags": []
          },
          "execution_count": 61
        }
      ]
    },
    {
      "cell_type": "markdown",
      "metadata": {
        "collapsed": false,
        "id": "QZofridJKSdc",
        "colab_type": "text"
      },
      "source": [
        "Now if we look at our original DataFrame, we see those costs have risen as well. This is an important consideration to watch out for. If you want to explicitly use a copy, then you should consider calling the copy method on the DataFrame for it first."
      ]
    },
    {
      "cell_type": "code",
      "metadata": {
        "id": "VmlEqQX9KSdd",
        "colab_type": "code",
        "colab": {},
        "outputId": "08f521df-0252-4868-b632-2cc85fef4bb6"
      },
      "source": [
        "df"
      ],
      "execution_count": null,
      "outputs": [
        {
          "output_type": "execute_result",
          "data": {
            "text/html": [
              "<div>\n",
              "<style scoped>\n",
              "    .dataframe tbody tr th:only-of-type {\n",
              "        vertical-align: middle;\n",
              "    }\n",
              "\n",
              "    .dataframe tbody tr th {\n",
              "        vertical-align: top;\n",
              "    }\n",
              "\n",
              "    .dataframe thead th {\n",
              "        text-align: right;\n",
              "    }\n",
              "</style>\n",
              "<table border=\"1\" class=\"dataframe\">\n",
              "  <thead>\n",
              "    <tr style=\"text-align: right;\">\n",
              "      <th></th>\n",
              "      <th>Name</th>\n",
              "      <th>Item Purchased</th>\n",
              "      <th>Cost</th>\n",
              "    </tr>\n",
              "  </thead>\n",
              "  <tbody>\n",
              "    <tr>\n",
              "      <th>Store 1</th>\n",
              "      <td>Matthias</td>\n",
              "      <td>Dog Food</td>\n",
              "      <td>24.5</td>\n",
              "    </tr>\n",
              "    <tr>\n",
              "      <th>Store 1</th>\n",
              "      <td>Thomas</td>\n",
              "      <td>Kitty Litter</td>\n",
              "      <td>4.5</td>\n",
              "    </tr>\n",
              "    <tr>\n",
              "      <th>Store 2</th>\n",
              "      <td>Christina</td>\n",
              "      <td>Bird Seed</td>\n",
              "      <td>7.0</td>\n",
              "    </tr>\n",
              "  </tbody>\n",
              "</table>\n",
              "</div>"
            ],
            "text/plain": [
              "              Name Item Purchased  Cost\n",
              "Store 1   Matthias       Dog Food  24.5\n",
              "Store 1     Thomas   Kitty Litter   4.5\n",
              "Store 2  Christina      Bird Seed   7.0"
            ]
          },
          "metadata": {
            "tags": []
          },
          "execution_count": 62
        }
      ]
    },
    {
      "cell_type": "code",
      "metadata": {
        "id": "RZqo0izcKSdf",
        "colab_type": "code",
        "colab": {}
      },
      "source": [
        ""
      ],
      "execution_count": null,
      "outputs": []
    },
    {
      "cell_type": "code",
      "metadata": {
        "id": "vg8I7BhcKSdg",
        "colab_type": "code",
        "colab": {}
      },
      "source": [
        ""
      ],
      "execution_count": null,
      "outputs": []
    },
    {
      "cell_type": "markdown",
      "metadata": {
        "collapsed": false,
        "id": "9NfrwYZ5KSdh",
        "colab_type": "text"
      },
      "source": [
        "## Loading of Data"
      ]
    },
    {
      "cell_type": "markdown",
      "metadata": {
        "collapsed": false,
        "id": "s8ncgS4HKSdh",
        "colab_type": "text"
      },
      "source": [
        "In the following, we'll be largely using smaller, moderate-sized datasets. As mentioned, a common workflow is to read the dataset in, usually from some external file."
      ]
    },
    {
      "cell_type": "markdown",
      "metadata": {
        "collapsed": false,
        "id": "0yX5fsP7KSdh",
        "colab_type": "text"
      },
      "source": [
        "Thankfully, Pandas has built-in support for delimited files such as CSV files as well as a variety of other data formats including relational databases, Excel, and HTML tables."
      ]
    },
    {
      "cell_type": "markdown",
      "metadata": {
        "collapsed": false,
        "id": "7yTru3gHKSdh",
        "colab_type": "text"
      },
      "source": [
        "For this exercise, we'll be using a CSV file called olympics.csv, which has data from Wikipedia that contains a summary list of the medal various countries have won at the Olympics. You are able to find this file under the \"Resources\" folder in our GitHub. **In order for the following lines of code to work, please follow these steps:**\n",
        "\n",
        "1. Download the file \"olympics.csv\" to your computer.\n",
        "2. Go to Colab and click the \"Files\" tab on the left panel.\n",
        "3. Click on \"upload\" and choose the olympics.csv file to be uploaded\n"
      ]
    },
    {
      "cell_type": "markdown",
      "metadata": {
        "collapsed": false,
        "id": "iZRGKDSTKSdl",
        "colab_type": "text"
      },
      "source": [
        "### Reading a CSV"
      ]
    },
    {
      "cell_type": "code",
      "metadata": {
        "id": "RVeXwlssKSdm",
        "colab_type": "code",
        "colab": {}
      },
      "source": [
        "import pandas as pd # Import pandas, if we have not already done so"
      ],
      "execution_count": null,
      "outputs": []
    },
    {
      "cell_type": "markdown",
      "metadata": {
        "collapsed": false,
        "id": "GuBCZtfJKSdn",
        "colab_type": "text"
      },
      "source": [
        "Let's have a look at the content of the uploaded csv file. We can read the CSV into a DataFrame by calling the `read_csv` function of the module. When we look at the DataFrame we see that the first cell has an **NaN** in it since it's an empty value, and the rows have been automatically indexed for us."
      ]
    },
    {
      "cell_type": "code",
      "metadata": {
        "id": "l0gLvXyBKSdn",
        "colab_type": "code",
        "colab": {
          "base_uri": "https://localhost:8080/",
          "height": 197
        },
        "outputId": "00310712-7c5c-4b6c-9ba8-387bda7e440a"
      },
      "source": [
        "df = pd.read_csv('/content/olympics.csv')\n",
        "df.head()"
      ],
      "execution_count": null,
      "outputs": [
        {
          "output_type": "execute_result",
          "data": {
            "text/html": [
              "<div>\n",
              "<style scoped>\n",
              "    .dataframe tbody tr th:only-of-type {\n",
              "        vertical-align: middle;\n",
              "    }\n",
              "\n",
              "    .dataframe tbody tr th {\n",
              "        vertical-align: top;\n",
              "    }\n",
              "\n",
              "    .dataframe thead th {\n",
              "        text-align: right;\n",
              "    }\n",
              "</style>\n",
              "<table border=\"1\" class=\"dataframe\">\n",
              "  <thead>\n",
              "    <tr style=\"text-align: right;\">\n",
              "      <th></th>\n",
              "      <th>0</th>\n",
              "      <th>1</th>\n",
              "      <th>2</th>\n",
              "      <th>3</th>\n",
              "      <th>4</th>\n",
              "      <th>5</th>\n",
              "      <th>6</th>\n",
              "      <th>7</th>\n",
              "      <th>8</th>\n",
              "      <th>9</th>\n",
              "      <th>10</th>\n",
              "      <th>11</th>\n",
              "      <th>12</th>\n",
              "      <th>13</th>\n",
              "      <th>14</th>\n",
              "      <th>15</th>\n",
              "    </tr>\n",
              "  </thead>\n",
              "  <tbody>\n",
              "    <tr>\n",
              "      <th>0</th>\n",
              "      <td>NaN</td>\n",
              "      <td>№ Summer</td>\n",
              "      <td>01 !</td>\n",
              "      <td>02 !</td>\n",
              "      <td>03 !</td>\n",
              "      <td>Total</td>\n",
              "      <td>№ Winter</td>\n",
              "      <td>01 !</td>\n",
              "      <td>02 !</td>\n",
              "      <td>03 !</td>\n",
              "      <td>Total</td>\n",
              "      <td>№ Games</td>\n",
              "      <td>01 !</td>\n",
              "      <td>02 !</td>\n",
              "      <td>03 !</td>\n",
              "      <td>Combined total</td>\n",
              "    </tr>\n",
              "    <tr>\n",
              "      <th>1</th>\n",
              "      <td>Afghanistan (AFG)</td>\n",
              "      <td>13</td>\n",
              "      <td>0</td>\n",
              "      <td>0</td>\n",
              "      <td>2</td>\n",
              "      <td>2</td>\n",
              "      <td>0</td>\n",
              "      <td>0</td>\n",
              "      <td>0</td>\n",
              "      <td>0</td>\n",
              "      <td>0</td>\n",
              "      <td>13</td>\n",
              "      <td>0</td>\n",
              "      <td>0</td>\n",
              "      <td>2</td>\n",
              "      <td>2</td>\n",
              "    </tr>\n",
              "    <tr>\n",
              "      <th>2</th>\n",
              "      <td>Algeria (ALG)</td>\n",
              "      <td>12</td>\n",
              "      <td>5</td>\n",
              "      <td>2</td>\n",
              "      <td>8</td>\n",
              "      <td>15</td>\n",
              "      <td>3</td>\n",
              "      <td>0</td>\n",
              "      <td>0</td>\n",
              "      <td>0</td>\n",
              "      <td>0</td>\n",
              "      <td>15</td>\n",
              "      <td>5</td>\n",
              "      <td>2</td>\n",
              "      <td>8</td>\n",
              "      <td>15</td>\n",
              "    </tr>\n",
              "    <tr>\n",
              "      <th>3</th>\n",
              "      <td>Argentina (ARG)</td>\n",
              "      <td>23</td>\n",
              "      <td>18</td>\n",
              "      <td>24</td>\n",
              "      <td>28</td>\n",
              "      <td>70</td>\n",
              "      <td>18</td>\n",
              "      <td>0</td>\n",
              "      <td>0</td>\n",
              "      <td>0</td>\n",
              "      <td>0</td>\n",
              "      <td>41</td>\n",
              "      <td>18</td>\n",
              "      <td>24</td>\n",
              "      <td>28</td>\n",
              "      <td>70</td>\n",
              "    </tr>\n",
              "    <tr>\n",
              "      <th>4</th>\n",
              "      <td>Armenia (ARM)</td>\n",
              "      <td>5</td>\n",
              "      <td>1</td>\n",
              "      <td>2</td>\n",
              "      <td>9</td>\n",
              "      <td>12</td>\n",
              "      <td>6</td>\n",
              "      <td>0</td>\n",
              "      <td>0</td>\n",
              "      <td>0</td>\n",
              "      <td>0</td>\n",
              "      <td>11</td>\n",
              "      <td>1</td>\n",
              "      <td>2</td>\n",
              "      <td>9</td>\n",
              "      <td>12</td>\n",
              "    </tr>\n",
              "  </tbody>\n",
              "</table>\n",
              "</div>"
            ],
            "text/plain": [
              "                   0         1     2     3  ...    12    13    14              15\n",
              "0                NaN  № Summer  01 !  02 !  ...  01 !  02 !  03 !  Combined total\n",
              "1  Afghanistan (AFG)        13     0     0  ...     0     0     2               2\n",
              "2      Algeria (ALG)        12     5     2  ...     5     2     8              15\n",
              "3    Argentina (ARG)        23    18    24  ...    18    24    28              70\n",
              "4      Armenia (ARM)         5     1     2  ...     1     2     9              12\n",
              "\n",
              "[5 rows x 16 columns]"
            ]
          },
          "metadata": {
            "tags": []
          },
          "execution_count": 8
        }
      ]
    },
    {
      "cell_type": "markdown",
      "metadata": {
        "collapsed": false,
        "id": "wkGtHxhOKSdo",
        "colab_type": "text"
      },
      "source": [
        "It seems pretty clear that the first row of data in the DataFrame is what we really want to see as the column names. It also seems like the first column in the data is the country name, which we would like to make an index.\n"
      ]
    },
    {
      "cell_type": "markdown",
      "metadata": {
        "collapsed": false,
        "id": "IQI-i3qqKSdp",
        "colab_type": "text"
      },
      "source": [
        "`read_csv` has a number of parameters that we can use to indicate to Pandas how rows and columns should be labeled."
      ]
    },
    {
      "cell_type": "markdown",
      "metadata": {
        "collapsed": false,
        "id": "HsmFNeEbKSdp",
        "colab_type": "text"
      },
      "source": [
        "For instance, we can use the `index_col` to indicate which column should be the index and we can also use the header parameter to indicate which row from the data file should be used as the header. "
      ]
    },
    {
      "cell_type": "markdown",
      "metadata": {
        "collapsed": false,
        "id": "TuMPX71RKSdp",
        "colab_type": "text"
      },
      "source": [
        "Let's re-import that data and set the index value to be `0` which is the first column and let set a column headers to be read from the second row of data. We can do this by using the `skiprows` parameters, to tell Pandas to ignore the first row, which was made up of numeric column names."
      ]
    },
    {
      "cell_type": "code",
      "metadata": {
        "id": "vHm5m2KTKSdp",
        "colab_type": "code",
        "colab": {
          "base_uri": "https://localhost:8080/",
          "height": 197
        },
        "outputId": "6cdb1892-9729-4bbb-f406-1817e99eadfd"
      },
      "source": [
        "df = pd.read_csv('/content/olympics.csv', index_col = 0, skiprows=1)\n",
        "df.head()"
      ],
      "execution_count": null,
      "outputs": [
        {
          "output_type": "execute_result",
          "data": {
            "text/html": [
              "<div>\n",
              "<style scoped>\n",
              "    .dataframe tbody tr th:only-of-type {\n",
              "        vertical-align: middle;\n",
              "    }\n",
              "\n",
              "    .dataframe tbody tr th {\n",
              "        vertical-align: top;\n",
              "    }\n",
              "\n",
              "    .dataframe thead th {\n",
              "        text-align: right;\n",
              "    }\n",
              "</style>\n",
              "<table border=\"1\" class=\"dataframe\">\n",
              "  <thead>\n",
              "    <tr style=\"text-align: right;\">\n",
              "      <th></th>\n",
              "      <th>№ Summer</th>\n",
              "      <th>01 !</th>\n",
              "      <th>02 !</th>\n",
              "      <th>03 !</th>\n",
              "      <th>Total</th>\n",
              "      <th>№ Winter</th>\n",
              "      <th>01 !.1</th>\n",
              "      <th>02 !.1</th>\n",
              "      <th>03 !.1</th>\n",
              "      <th>Total.1</th>\n",
              "      <th>№ Games</th>\n",
              "      <th>01 !.2</th>\n",
              "      <th>02 !.2</th>\n",
              "      <th>03 !.2</th>\n",
              "      <th>Combined total</th>\n",
              "    </tr>\n",
              "  </thead>\n",
              "  <tbody>\n",
              "    <tr>\n",
              "      <th>Afghanistan (AFG)</th>\n",
              "      <td>13</td>\n",
              "      <td>0</td>\n",
              "      <td>0</td>\n",
              "      <td>2</td>\n",
              "      <td>2</td>\n",
              "      <td>0</td>\n",
              "      <td>0</td>\n",
              "      <td>0</td>\n",
              "      <td>0</td>\n",
              "      <td>0</td>\n",
              "      <td>13</td>\n",
              "      <td>0</td>\n",
              "      <td>0</td>\n",
              "      <td>2</td>\n",
              "      <td>2</td>\n",
              "    </tr>\n",
              "    <tr>\n",
              "      <th>Algeria (ALG)</th>\n",
              "      <td>12</td>\n",
              "      <td>5</td>\n",
              "      <td>2</td>\n",
              "      <td>8</td>\n",
              "      <td>15</td>\n",
              "      <td>3</td>\n",
              "      <td>0</td>\n",
              "      <td>0</td>\n",
              "      <td>0</td>\n",
              "      <td>0</td>\n",
              "      <td>15</td>\n",
              "      <td>5</td>\n",
              "      <td>2</td>\n",
              "      <td>8</td>\n",
              "      <td>15</td>\n",
              "    </tr>\n",
              "    <tr>\n",
              "      <th>Argentina (ARG)</th>\n",
              "      <td>23</td>\n",
              "      <td>18</td>\n",
              "      <td>24</td>\n",
              "      <td>28</td>\n",
              "      <td>70</td>\n",
              "      <td>18</td>\n",
              "      <td>0</td>\n",
              "      <td>0</td>\n",
              "      <td>0</td>\n",
              "      <td>0</td>\n",
              "      <td>41</td>\n",
              "      <td>18</td>\n",
              "      <td>24</td>\n",
              "      <td>28</td>\n",
              "      <td>70</td>\n",
              "    </tr>\n",
              "    <tr>\n",
              "      <th>Armenia (ARM)</th>\n",
              "      <td>5</td>\n",
              "      <td>1</td>\n",
              "      <td>2</td>\n",
              "      <td>9</td>\n",
              "      <td>12</td>\n",
              "      <td>6</td>\n",
              "      <td>0</td>\n",
              "      <td>0</td>\n",
              "      <td>0</td>\n",
              "      <td>0</td>\n",
              "      <td>11</td>\n",
              "      <td>1</td>\n",
              "      <td>2</td>\n",
              "      <td>9</td>\n",
              "      <td>12</td>\n",
              "    </tr>\n",
              "    <tr>\n",
              "      <th>Australasia (ANZ) [ANZ]</th>\n",
              "      <td>2</td>\n",
              "      <td>3</td>\n",
              "      <td>4</td>\n",
              "      <td>5</td>\n",
              "      <td>12</td>\n",
              "      <td>0</td>\n",
              "      <td>0</td>\n",
              "      <td>0</td>\n",
              "      <td>0</td>\n",
              "      <td>0</td>\n",
              "      <td>2</td>\n",
              "      <td>3</td>\n",
              "      <td>4</td>\n",
              "      <td>5</td>\n",
              "      <td>12</td>\n",
              "    </tr>\n",
              "  </tbody>\n",
              "</table>\n",
              "</div>"
            ],
            "text/plain": [
              "                         № Summer  01 !  02 !  ...  02 !.2  03 !.2  Combined total\n",
              "Afghanistan (AFG)              13     0     0  ...       0       2               2\n",
              "Algeria (ALG)                  12     5     2  ...       2       8              15\n",
              "Argentina (ARG)                23    18    24  ...      24      28              70\n",
              "Armenia (ARM)                   5     1     2  ...       2       9              12\n",
              "Australasia (ANZ) [ANZ]         2     3     4  ...       4       5              12\n",
              "\n",
              "[5 rows x 15 columns]"
            ]
          },
          "metadata": {
            "tags": []
          },
          "execution_count": 10
        }
      ]
    },
    {
      "cell_type": "markdown",
      "metadata": {
        "collapsed": false,
        "id": "3wDRA7DXKSdq",
        "colab_type": "text"
      },
      "source": [
        "Now this data came from the all time [Olympic games medal table](https://en.wikipedia.org/wiki/All-time_Olympic_Games_medal_table) on Wikipedia."
      ]
    },
    {
      "cell_type": "markdown",
      "metadata": {
        "collapsed": false,
        "id": "5L94XF8DKSds",
        "colab_type": "text"
      },
      "source": [
        "If we head to the page we could see that instead of running gold, silver and bronze in the pages, these nice little icons with a one, a two, and a three in them."
      ]
    },
    {
      "cell_type": "markdown",
      "metadata": {
        "collapsed": false,
        "id": "XE6-CsFrKSdt",
        "colab_type": "text"
      },
      "source": [
        "In our [raw data file](#rawdata) these were represented with the strings `01 !`, `02 !`, and so on. We see that the column values are repeated which really isn't good practice. Pandas recognize this in `01 !.1` and `01 !.2` to make things more unique.\n",
        "\n",
        "But this labeling isn't really as clear as it could be, so we should clean up the data file. We can of course do this just by going and editing the CSV file directly, but we can also set the column names using the Pandas name property."
      ]
    },
    {
      "cell_type": "markdown",
      "metadata": {
        "collapsed": false,
        "id": "m66DVA8kKSdt",
        "colab_type": "text"
      },
      "source": [
        "## Rename Columns"
      ]
    },
    {
      "cell_type": "markdown",
      "metadata": {
        "collapsed": false,
        "id": "AQO_xiicKSdt",
        "colab_type": "text"
      },
      "source": [
        "Panda stores a list of all of the columns in the `.columns` attribute. We can change the values of the column names by iterating over this list and calling the rename method of the data frame. "
      ]
    },
    {
      "cell_type": "code",
      "metadata": {
        "id": "fcNX2eTTKSdt",
        "colab_type": "code",
        "colab": {},
        "outputId": "c7a5af8f-e8f3-4d90-e7d6-f040e8944680"
      },
      "source": [
        "df.columns"
      ],
      "execution_count": null,
      "outputs": [
        {
          "output_type": "execute_result",
          "data": {
            "text/plain": [
              "Index(['№ Summer', '01 !', '02 !', '03 !', 'Total', '№ Winter', '01 !.1',\n",
              "       '02 !.1', '03 !.1', 'Total.1', '№ Games', '01 !.2', '02 !.2', '03 !.2',\n",
              "       'Combined total'],\n",
              "      dtype='object')"
            ]
          },
          "metadata": {
            "tags": []
          },
          "execution_count": 127
        }
      ]
    },
    {
      "cell_type": "markdown",
      "metadata": {
        "collapsed": false,
        "id": "ZxQSdAxFKSdu",
        "colab_type": "text"
      },
      "source": [
        "Here we just iterate through all of the columns looking to see if they start with a `01`, `02`, `03` or numeric character. If they do, we can call rename and set the column parameters to a dictionary with the keys being the *column* we want to replace and the *value* being the new value we want.\n",
        "\n",
        "Here we slice slice some of the old values in two, since we don't want to lose the unique appended values. We'll also set the ever-important `inplace` parameter to `True` so Pandas knows to update this data frame directly."
      ]
    },
    {
      "cell_type": "code",
      "metadata": {
        "id": "NYWm28XMKSdv",
        "colab_type": "code",
        "colab": {},
        "outputId": "1b704924-aa77-4746-98c5-32e1aee2b8f9"
      },
      "source": [
        "for col in df.columns:\n",
        "    if col[:2]=='01':\n",
        "        df.rename(columns={col:'Gold' + col[4:]}, inplace=True)\n",
        "    if col[:2]=='02':\n",
        "        df.rename(columns={col:'Silver' + col[4:]}, inplace=True)\n",
        "    if col[:2]=='03':\n",
        "        df.rename(columns={col:'Bronze' + col[4:]}, inplace=True)\n",
        "    if col[:1]=='№':\n",
        "        df.rename(columns={col:'#' + col[1:]}, inplace=True) \n",
        "\n",
        "df.head()"
      ],
      "execution_count": null,
      "outputs": [
        {
          "output_type": "execute_result",
          "data": {
            "text/html": [
              "<div>\n",
              "<style scoped>\n",
              "    .dataframe tbody tr th:only-of-type {\n",
              "        vertical-align: middle;\n",
              "    }\n",
              "\n",
              "    .dataframe tbody tr th {\n",
              "        vertical-align: top;\n",
              "    }\n",
              "\n",
              "    .dataframe thead th {\n",
              "        text-align: right;\n",
              "    }\n",
              "</style>\n",
              "<table border=\"1\" class=\"dataframe\">\n",
              "  <thead>\n",
              "    <tr style=\"text-align: right;\">\n",
              "      <th></th>\n",
              "      <th># Summer</th>\n",
              "      <th>Gold</th>\n",
              "      <th>Silver</th>\n",
              "      <th>Bronze</th>\n",
              "      <th>Total</th>\n",
              "      <th># Winter</th>\n",
              "      <th>Gold.1</th>\n",
              "      <th>Silver.1</th>\n",
              "      <th>Bronze.1</th>\n",
              "      <th>Total.1</th>\n",
              "      <th># Games</th>\n",
              "      <th>Gold.2</th>\n",
              "      <th>Silver.2</th>\n",
              "      <th>Bronze.2</th>\n",
              "      <th>Combined total</th>\n",
              "    </tr>\n",
              "  </thead>\n",
              "  <tbody>\n",
              "    <tr>\n",
              "      <th>Afghanistan (AFG)</th>\n",
              "      <td>13</td>\n",
              "      <td>0</td>\n",
              "      <td>0</td>\n",
              "      <td>2</td>\n",
              "      <td>2</td>\n",
              "      <td>0</td>\n",
              "      <td>0</td>\n",
              "      <td>0</td>\n",
              "      <td>0</td>\n",
              "      <td>0</td>\n",
              "      <td>13</td>\n",
              "      <td>0</td>\n",
              "      <td>0</td>\n",
              "      <td>2</td>\n",
              "      <td>2</td>\n",
              "    </tr>\n",
              "    <tr>\n",
              "      <th>Algeria (ALG)</th>\n",
              "      <td>12</td>\n",
              "      <td>5</td>\n",
              "      <td>2</td>\n",
              "      <td>8</td>\n",
              "      <td>15</td>\n",
              "      <td>3</td>\n",
              "      <td>0</td>\n",
              "      <td>0</td>\n",
              "      <td>0</td>\n",
              "      <td>0</td>\n",
              "      <td>15</td>\n",
              "      <td>5</td>\n",
              "      <td>2</td>\n",
              "      <td>8</td>\n",
              "      <td>15</td>\n",
              "    </tr>\n",
              "    <tr>\n",
              "      <th>Argentina (ARG)</th>\n",
              "      <td>23</td>\n",
              "      <td>18</td>\n",
              "      <td>24</td>\n",
              "      <td>28</td>\n",
              "      <td>70</td>\n",
              "      <td>18</td>\n",
              "      <td>0</td>\n",
              "      <td>0</td>\n",
              "      <td>0</td>\n",
              "      <td>0</td>\n",
              "      <td>41</td>\n",
              "      <td>18</td>\n",
              "      <td>24</td>\n",
              "      <td>28</td>\n",
              "      <td>70</td>\n",
              "    </tr>\n",
              "    <tr>\n",
              "      <th>Armenia (ARM)</th>\n",
              "      <td>5</td>\n",
              "      <td>1</td>\n",
              "      <td>2</td>\n",
              "      <td>9</td>\n",
              "      <td>12</td>\n",
              "      <td>6</td>\n",
              "      <td>0</td>\n",
              "      <td>0</td>\n",
              "      <td>0</td>\n",
              "      <td>0</td>\n",
              "      <td>11</td>\n",
              "      <td>1</td>\n",
              "      <td>2</td>\n",
              "      <td>9</td>\n",
              "      <td>12</td>\n",
              "    </tr>\n",
              "    <tr>\n",
              "      <th>Australasia (ANZ) [ANZ]</th>\n",
              "      <td>2</td>\n",
              "      <td>3</td>\n",
              "      <td>4</td>\n",
              "      <td>5</td>\n",
              "      <td>12</td>\n",
              "      <td>0</td>\n",
              "      <td>0</td>\n",
              "      <td>0</td>\n",
              "      <td>0</td>\n",
              "      <td>0</td>\n",
              "      <td>2</td>\n",
              "      <td>3</td>\n",
              "      <td>4</td>\n",
              "      <td>5</td>\n",
              "      <td>12</td>\n",
              "    </tr>\n",
              "  </tbody>\n",
              "</table>\n",
              "</div>"
            ],
            "text/plain": [
              "                         # Summer  Gold  Silver  Bronze  Total  # Winter  \\\n",
              "Afghanistan (AFG)              13     0       0       2      2         0   \n",
              "Algeria (ALG)                  12     5       2       8     15         3   \n",
              "Argentina (ARG)                23    18      24      28     70        18   \n",
              "Armenia (ARM)                   5     1       2       9     12         6   \n",
              "Australasia (ANZ) [ANZ]         2     3       4       5     12         0   \n",
              "\n",
              "                         Gold.1  Silver.1  Bronze.1  Total.1  # Games  Gold.2  \\\n",
              "Afghanistan (AFG)             0         0         0        0       13       0   \n",
              "Algeria (ALG)                 0         0         0        0       15       5   \n",
              "Argentina (ARG)               0         0         0        0       41      18   \n",
              "Armenia (ARM)                 0         0         0        0       11       1   \n",
              "Australasia (ANZ) [ANZ]       0         0         0        0        2       3   \n",
              "\n",
              "                         Silver.2  Bronze.2  Combined total  \n",
              "Afghanistan (AFG)               0         2               2  \n",
              "Algeria (ALG)                   2         8              15  \n",
              "Argentina (ARG)                24        28              70  \n",
              "Armenia (ARM)                   2         9              12  \n",
              "Australasia (ANZ) [ANZ]         4         5              12  "
            ]
          },
          "metadata": {
            "tags": []
          },
          "execution_count": 128
        }
      ]
    },
    {
      "cell_type": "markdown",
      "metadata": {
        "collapsed": false,
        "id": "0Ekq6VZaKSdw",
        "colab_type": "text"
      },
      "source": [
        "## Conclusion\n",
        "In this section we have discussed a simple workflow to bring the data to a state where we can query it. For this we discussed the topics of *data Index*, *loading of data* and *renaming of columns*."
      ]
    },
    {
      "cell_type": "markdown",
      "metadata": {
        "collapsed": false,
        "id": "ooEan1FtKSdw",
        "colab_type": "text"
      },
      "source": [
        "# Querying a DataFrame"
      ]
    },
    {
      "cell_type": "markdown",
      "metadata": {
        "collapsed": false,
        "id": "mC-pKxWbKSdw",
        "colab_type": "text"
      },
      "source": [
        "## Boolean masking"
      ]
    },
    {
      "cell_type": "markdown",
      "metadata": {
        "collapsed": false,
        "id": "5ER4T1KQKSdw",
        "colab_type": "text"
      },
      "source": [
        "Before we talk about how to query DataFrames, we need to talk about Boolean masking. Boolean masking is the heart of fast and efficient querying in NumPy. \n",
        "\n",
        "A Boolean mask is an array which can be of one dimension like a series, or two dimensions like a data frame, where each of the values in the array are either `True` or `False`. This array is essentially overlaid on top of the data structure that we're querying. And any cell aligned with the `True` value will be admitted into our final result, and any cell aligned with a `False` value will not.\n",
        "\n",
        "Boolean masks are created by applying operators directly to the pandas Series or DataFrame objects. "
      ]
    },
    {
      "cell_type": "markdown",
      "metadata": {
        "collapsed": false,
        "id": "JInofUPGKSdw",
        "colab_type": "text"
      },
      "source": [
        "For instance, in our Olympics data set, you might be interested in seeing only those countries who have achieved a gold medal at the summer Olympics. To build a Boolean mask for this query, we project the gold column using the indexing operator and apply the **greater than operator** with a comparison value of zero. This is essentially broadcasting a comparison operator, greater than, with the results being returned as a Boolean series. "
      ]
    },
    {
      "cell_type": "code",
      "metadata": {
        "id": "FlNbAFuEKSdx",
        "colab_type": "code",
        "colab": {},
        "outputId": "c58264c4-909a-4bcc-8816-2ec642e559a4"
      },
      "source": [
        "df['Gold'] > 0"
      ],
      "execution_count": null,
      "outputs": [
        {
          "output_type": "execute_result",
          "data": {
            "text/plain": [
              "Afghanistan (AFG)                               False\n",
              "Algeria (ALG)                                    True\n",
              "Argentina (ARG)                                  True\n",
              "Armenia (ARM)                                    True\n",
              "Australasia (ANZ) [ANZ]                          True\n",
              "                                                ...  \n",
              "Independent Olympic Participants (IOP) [IOP]    False\n",
              "Zambia (ZAM) [ZAM]                              False\n",
              "Zimbabwe (ZIM) [ZIM]                             True\n",
              "Mixed team (ZZX) [ZZX]                           True\n",
              "Totals                                           True\n",
              "Name: Gold, Length: 147, dtype: bool"
            ]
          },
          "metadata": {
            "tags": []
          },
          "execution_count": 129
        }
      ]
    },
    {
      "cell_type": "markdown",
      "metadata": {
        "collapsed": false,
        "id": "ZzMEBt7rKSdy",
        "colab_type": "text"
      },
      "source": [
        "The resultant series is indexed where the value of each cell is either true or false depending on whether a country has won at least one gold medal, and the index is the country name.\n",
        "\n",
        "So this builds us the Boolean mask, which is half the battle. What we want to do next is overlay that mask on the data frame."
      ]
    },
    {
      "cell_type": "markdown",
      "metadata": {
        "collapsed": false,
        "id": "ZB4kVSq7KSdy",
        "colab_type": "text"
      },
      "source": [
        "## Where function"
      ]
    },
    {
      "cell_type": "markdown",
      "metadata": {
        "collapsed": false,
        "id": "LwXMLDKkKSdy",
        "colab_type": "text"
      },
      "source": [
        "We can do this using the **where** function. The **where** function takes a Boolean mask as a condition, applies it to the data frame or series, and returns a new data frame or series of the same shape. Let's apply this Boolean mask to our Olympics data and create a data frame of only those countries who have won a gold at a summer games."
      ]
    },
    {
      "cell_type": "code",
      "metadata": {
        "id": "9eVYvzzuKSdy",
        "colab_type": "code",
        "colab": {},
        "outputId": "34868000-3b0c-41a2-9be2-3c6a00c19fa4"
      },
      "source": [
        "only_gold = df.where(df['Gold'] > 0)\n",
        "only_gold.head()"
      ],
      "execution_count": null,
      "outputs": [
        {
          "output_type": "execute_result",
          "data": {
            "text/html": [
              "<div>\n",
              "<style scoped>\n",
              "    .dataframe tbody tr th:only-of-type {\n",
              "        vertical-align: middle;\n",
              "    }\n",
              "\n",
              "    .dataframe tbody tr th {\n",
              "        vertical-align: top;\n",
              "    }\n",
              "\n",
              "    .dataframe thead th {\n",
              "        text-align: right;\n",
              "    }\n",
              "</style>\n",
              "<table border=\"1\" class=\"dataframe\">\n",
              "  <thead>\n",
              "    <tr style=\"text-align: right;\">\n",
              "      <th></th>\n",
              "      <th># Summer</th>\n",
              "      <th>Gold</th>\n",
              "      <th>Silver</th>\n",
              "      <th>Bronze</th>\n",
              "      <th>Total</th>\n",
              "      <th># Winter</th>\n",
              "      <th>Gold.1</th>\n",
              "      <th>Silver.1</th>\n",
              "      <th>Bronze.1</th>\n",
              "      <th>Total.1</th>\n",
              "      <th># Games</th>\n",
              "      <th>Gold.2</th>\n",
              "      <th>Silver.2</th>\n",
              "      <th>Bronze.2</th>\n",
              "      <th>Combined total</th>\n",
              "    </tr>\n",
              "  </thead>\n",
              "  <tbody>\n",
              "    <tr>\n",
              "      <th>Afghanistan (AFG)</th>\n",
              "      <td>NaN</td>\n",
              "      <td>NaN</td>\n",
              "      <td>NaN</td>\n",
              "      <td>NaN</td>\n",
              "      <td>NaN</td>\n",
              "      <td>NaN</td>\n",
              "      <td>NaN</td>\n",
              "      <td>NaN</td>\n",
              "      <td>NaN</td>\n",
              "      <td>NaN</td>\n",
              "      <td>NaN</td>\n",
              "      <td>NaN</td>\n",
              "      <td>NaN</td>\n",
              "      <td>NaN</td>\n",
              "      <td>NaN</td>\n",
              "    </tr>\n",
              "    <tr>\n",
              "      <th>Algeria (ALG)</th>\n",
              "      <td>12.0</td>\n",
              "      <td>5.0</td>\n",
              "      <td>2.0</td>\n",
              "      <td>8.0</td>\n",
              "      <td>15.0</td>\n",
              "      <td>3.0</td>\n",
              "      <td>0.0</td>\n",
              "      <td>0.0</td>\n",
              "      <td>0.0</td>\n",
              "      <td>0.0</td>\n",
              "      <td>15.0</td>\n",
              "      <td>5.0</td>\n",
              "      <td>2.0</td>\n",
              "      <td>8.0</td>\n",
              "      <td>15.0</td>\n",
              "    </tr>\n",
              "    <tr>\n",
              "      <th>Argentina (ARG)</th>\n",
              "      <td>23.0</td>\n",
              "      <td>18.0</td>\n",
              "      <td>24.0</td>\n",
              "      <td>28.0</td>\n",
              "      <td>70.0</td>\n",
              "      <td>18.0</td>\n",
              "      <td>0.0</td>\n",
              "      <td>0.0</td>\n",
              "      <td>0.0</td>\n",
              "      <td>0.0</td>\n",
              "      <td>41.0</td>\n",
              "      <td>18.0</td>\n",
              "      <td>24.0</td>\n",
              "      <td>28.0</td>\n",
              "      <td>70.0</td>\n",
              "    </tr>\n",
              "    <tr>\n",
              "      <th>Armenia (ARM)</th>\n",
              "      <td>5.0</td>\n",
              "      <td>1.0</td>\n",
              "      <td>2.0</td>\n",
              "      <td>9.0</td>\n",
              "      <td>12.0</td>\n",
              "      <td>6.0</td>\n",
              "      <td>0.0</td>\n",
              "      <td>0.0</td>\n",
              "      <td>0.0</td>\n",
              "      <td>0.0</td>\n",
              "      <td>11.0</td>\n",
              "      <td>1.0</td>\n",
              "      <td>2.0</td>\n",
              "      <td>9.0</td>\n",
              "      <td>12.0</td>\n",
              "    </tr>\n",
              "    <tr>\n",
              "      <th>Australasia (ANZ) [ANZ]</th>\n",
              "      <td>2.0</td>\n",
              "      <td>3.0</td>\n",
              "      <td>4.0</td>\n",
              "      <td>5.0</td>\n",
              "      <td>12.0</td>\n",
              "      <td>0.0</td>\n",
              "      <td>0.0</td>\n",
              "      <td>0.0</td>\n",
              "      <td>0.0</td>\n",
              "      <td>0.0</td>\n",
              "      <td>2.0</td>\n",
              "      <td>3.0</td>\n",
              "      <td>4.0</td>\n",
              "      <td>5.0</td>\n",
              "      <td>12.0</td>\n",
              "    </tr>\n",
              "  </tbody>\n",
              "</table>\n",
              "</div>"
            ],
            "text/plain": [
              "                         # Summer  Gold  Silver  Bronze  Total  # Winter  \\\n",
              "Afghanistan (AFG)             NaN   NaN     NaN     NaN    NaN       NaN   \n",
              "Algeria (ALG)                12.0   5.0     2.0     8.0   15.0       3.0   \n",
              "Argentina (ARG)              23.0  18.0    24.0    28.0   70.0      18.0   \n",
              "Armenia (ARM)                 5.0   1.0     2.0     9.0   12.0       6.0   \n",
              "Australasia (ANZ) [ANZ]       2.0   3.0     4.0     5.0   12.0       0.0   \n",
              "\n",
              "                         Gold.1  Silver.1  Bronze.1  Total.1  # Games  Gold.2  \\\n",
              "Afghanistan (AFG)           NaN       NaN       NaN      NaN      NaN     NaN   \n",
              "Algeria (ALG)               0.0       0.0       0.0      0.0     15.0     5.0   \n",
              "Argentina (ARG)             0.0       0.0       0.0      0.0     41.0    18.0   \n",
              "Armenia (ARM)               0.0       0.0       0.0      0.0     11.0     1.0   \n",
              "Australasia (ANZ) [ANZ]     0.0       0.0       0.0      0.0      2.0     3.0   \n",
              "\n",
              "                         Silver.2  Bronze.2  Combined total  \n",
              "Afghanistan (AFG)             NaN       NaN             NaN  \n",
              "Algeria (ALG)                 2.0       8.0            15.0  \n",
              "Argentina (ARG)              24.0      28.0            70.0  \n",
              "Armenia (ARM)                 2.0       9.0            12.0  \n",
              "Australasia (ANZ) [ANZ]       4.0       5.0            12.0  "
            ]
          },
          "metadata": {
            "tags": []
          },
          "execution_count": 130
        }
      ]
    },
    {
      "cell_type": "markdown",
      "metadata": {
        "collapsed": false,
        "id": "XcnnKOF_KSdz",
        "colab_type": "text"
      },
      "source": [
        "We see that the resulting data frame keeps the original indexed values, and only data from countries that met the condition are retained. All of the countries which did not meet the condition have NaN data instead. This is okay. Most statistical functions built into the data frame object ignore values of NaN."
      ]
    },
    {
      "cell_type": "markdown",
      "metadata": {
        "collapsed": false,
        "id": "m1_MQDWpKSd0",
        "colab_type": "text"
      },
      "source": [
        "## Count function"
      ]
    },
    {
      "cell_type": "markdown",
      "metadata": {
        "collapsed": false,
        "id": "tZ9y5m8rKSd0",
        "colab_type": "text"
      },
      "source": [
        "For instance, if we call the df.count() on the only gold data frame:"
      ]
    },
    {
      "cell_type": "code",
      "metadata": {
        "id": "cWm5NGaXKSd0",
        "colab_type": "code",
        "colab": {},
        "outputId": "7148a4ae-94dd-49dd-b5d8-691476d9d245"
      },
      "source": [
        "only_gold['Gold'].count()"
      ],
      "execution_count": null,
      "outputs": [
        {
          "output_type": "execute_result",
          "data": {
            "text/plain": [
              "100"
            ]
          },
          "metadata": {
            "tags": []
          },
          "execution_count": 131
        }
      ]
    },
    {
      "cell_type": "markdown",
      "metadata": {
        "collapsed": false,
        "id": "wDB3NBPsKSd1",
        "colab_type": "text"
      },
      "source": [
        "we see that there are 100 countries which have had gold medals awarded at the summer games,"
      ]
    },
    {
      "cell_type": "markdown",
      "metadata": {
        "collapsed": false,
        "id": "Jerhzjy8KSd1",
        "colab_type": "text"
      },
      "source": [
        "while if we call count on the original data frame, we see that there are 147 countries total."
      ]
    },
    {
      "cell_type": "code",
      "metadata": {
        "id": "1GeLUJGuKSd1",
        "colab_type": "code",
        "colab": {},
        "outputId": "8a869f42-d83b-4a76-f475-3f040df24fc3"
      },
      "source": [
        "df['Gold'].count()"
      ],
      "execution_count": null,
      "outputs": [
        {
          "output_type": "execute_result",
          "data": {
            "text/plain": [
              "147"
            ]
          },
          "metadata": {
            "tags": []
          },
          "execution_count": 132
        }
      ]
    },
    {
      "cell_type": "markdown",
      "metadata": {
        "collapsed": false,
        "id": "CLtVNdBFKSd2",
        "colab_type": "text"
      },
      "source": [
        "## Drop rows without data"
      ]
    },
    {
      "cell_type": "markdown",
      "metadata": {
        "collapsed": false,
        "id": "GFURiyavKSd3",
        "colab_type": "text"
      },
      "source": [
        "Often we want to drop those rows which have no data. To do this, we can use the `dropna()` function. "
      ]
    },
    {
      "cell_type": "markdown",
      "metadata": {
        "collapsed": false,
        "id": "r4SwJbNnKSd3",
        "colab_type": "text"
      },
      "source": [
        "You can optionally provide dropna() the axes it should be considering. Remember that the axes is just an indicator for the columns or rows and that the default is zero, which means rows."
      ]
    },
    {
      "cell_type": "code",
      "metadata": {
        "id": "EwV6G9M0KSd3",
        "colab_type": "code",
        "colab": {},
        "outputId": "1807e4b3-add3-4484-ccdb-7bde427db618"
      },
      "source": [
        "only_gold = only_gold.dropna()\n",
        "only_gold.head()\n",
        "only_gold.dropna()?"
      ],
      "execution_count": null,
      "outputs": [
        {
          "output_type": "execute_result",
          "data": {
            "text/html": [
              "<div>\n",
              "<style scoped>\n",
              "    .dataframe tbody tr th:only-of-type {\n",
              "        vertical-align: middle;\n",
              "    }\n",
              "\n",
              "    .dataframe tbody tr th {\n",
              "        vertical-align: top;\n",
              "    }\n",
              "\n",
              "    .dataframe thead th {\n",
              "        text-align: right;\n",
              "    }\n",
              "</style>\n",
              "<table border=\"1\" class=\"dataframe\">\n",
              "  <thead>\n",
              "    <tr style=\"text-align: right;\">\n",
              "      <th></th>\n",
              "      <th># Summer</th>\n",
              "      <th>Gold</th>\n",
              "      <th>Silver</th>\n",
              "      <th>Bronze</th>\n",
              "      <th>Total</th>\n",
              "      <th># Winter</th>\n",
              "      <th>Gold.1</th>\n",
              "      <th>Silver.1</th>\n",
              "      <th>Bronze.1</th>\n",
              "      <th>Total.1</th>\n",
              "      <th># Games</th>\n",
              "      <th>Gold.2</th>\n",
              "      <th>Silver.2</th>\n",
              "      <th>Bronze.2</th>\n",
              "      <th>Combined total</th>\n",
              "    </tr>\n",
              "  </thead>\n",
              "  <tbody>\n",
              "    <tr>\n",
              "      <th>Algeria (ALG)</th>\n",
              "      <td>12.0</td>\n",
              "      <td>5.0</td>\n",
              "      <td>2.0</td>\n",
              "      <td>8.0</td>\n",
              "      <td>15.0</td>\n",
              "      <td>3.0</td>\n",
              "      <td>0.0</td>\n",
              "      <td>0.0</td>\n",
              "      <td>0.0</td>\n",
              "      <td>0.0</td>\n",
              "      <td>15.0</td>\n",
              "      <td>5.0</td>\n",
              "      <td>2.0</td>\n",
              "      <td>8.0</td>\n",
              "      <td>15.0</td>\n",
              "    </tr>\n",
              "    <tr>\n",
              "      <th>Argentina (ARG)</th>\n",
              "      <td>23.0</td>\n",
              "      <td>18.0</td>\n",
              "      <td>24.0</td>\n",
              "      <td>28.0</td>\n",
              "      <td>70.0</td>\n",
              "      <td>18.0</td>\n",
              "      <td>0.0</td>\n",
              "      <td>0.0</td>\n",
              "      <td>0.0</td>\n",
              "      <td>0.0</td>\n",
              "      <td>41.0</td>\n",
              "      <td>18.0</td>\n",
              "      <td>24.0</td>\n",
              "      <td>28.0</td>\n",
              "      <td>70.0</td>\n",
              "    </tr>\n",
              "    <tr>\n",
              "      <th>Armenia (ARM)</th>\n",
              "      <td>5.0</td>\n",
              "      <td>1.0</td>\n",
              "      <td>2.0</td>\n",
              "      <td>9.0</td>\n",
              "      <td>12.0</td>\n",
              "      <td>6.0</td>\n",
              "      <td>0.0</td>\n",
              "      <td>0.0</td>\n",
              "      <td>0.0</td>\n",
              "      <td>0.0</td>\n",
              "      <td>11.0</td>\n",
              "      <td>1.0</td>\n",
              "      <td>2.0</td>\n",
              "      <td>9.0</td>\n",
              "      <td>12.0</td>\n",
              "    </tr>\n",
              "    <tr>\n",
              "      <th>Australasia (ANZ) [ANZ]</th>\n",
              "      <td>2.0</td>\n",
              "      <td>3.0</td>\n",
              "      <td>4.0</td>\n",
              "      <td>5.0</td>\n",
              "      <td>12.0</td>\n",
              "      <td>0.0</td>\n",
              "      <td>0.0</td>\n",
              "      <td>0.0</td>\n",
              "      <td>0.0</td>\n",
              "      <td>0.0</td>\n",
              "      <td>2.0</td>\n",
              "      <td>3.0</td>\n",
              "      <td>4.0</td>\n",
              "      <td>5.0</td>\n",
              "      <td>12.0</td>\n",
              "    </tr>\n",
              "    <tr>\n",
              "      <th>Australia (AUS) [AUS] [Z]</th>\n",
              "      <td>25.0</td>\n",
              "      <td>139.0</td>\n",
              "      <td>152.0</td>\n",
              "      <td>177.0</td>\n",
              "      <td>468.0</td>\n",
              "      <td>18.0</td>\n",
              "      <td>5.0</td>\n",
              "      <td>3.0</td>\n",
              "      <td>4.0</td>\n",
              "      <td>12.0</td>\n",
              "      <td>43.0</td>\n",
              "      <td>144.0</td>\n",
              "      <td>155.0</td>\n",
              "      <td>181.0</td>\n",
              "      <td>480.0</td>\n",
              "    </tr>\n",
              "  </tbody>\n",
              "</table>\n",
              "</div>"
            ],
            "text/plain": [
              "                           # Summer   Gold  Silver  Bronze  Total  # Winter  \\\n",
              "Algeria (ALG)                  12.0    5.0     2.0     8.0   15.0       3.0   \n",
              "Argentina (ARG)                23.0   18.0    24.0    28.0   70.0      18.0   \n",
              "Armenia (ARM)                   5.0    1.0     2.0     9.0   12.0       6.0   \n",
              "Australasia (ANZ) [ANZ]         2.0    3.0     4.0     5.0   12.0       0.0   \n",
              "Australia (AUS) [AUS] [Z]      25.0  139.0   152.0   177.0  468.0      18.0   \n",
              "\n",
              "                           Gold.1  Silver.1  Bronze.1  Total.1  # Games  \\\n",
              "Algeria (ALG)                 0.0       0.0       0.0      0.0     15.0   \n",
              "Argentina (ARG)               0.0       0.0       0.0      0.0     41.0   \n",
              "Armenia (ARM)                 0.0       0.0       0.0      0.0     11.0   \n",
              "Australasia (ANZ) [ANZ]       0.0       0.0       0.0      0.0      2.0   \n",
              "Australia (AUS) [AUS] [Z]     5.0       3.0       4.0     12.0     43.0   \n",
              "\n",
              "                           Gold.2  Silver.2  Bronze.2  Combined total  \n",
              "Algeria (ALG)                 5.0       2.0       8.0            15.0  \n",
              "Argentina (ARG)              18.0      24.0      28.0            70.0  \n",
              "Armenia (ARM)                 1.0       2.0       9.0            12.0  \n",
              "Australasia (ANZ) [ANZ]       3.0       4.0       5.0            12.0  \n",
              "Australia (AUS) [AUS] [Z]   144.0     155.0     181.0           480.0  "
            ]
          },
          "metadata": {
            "tags": []
          },
          "execution_count": 103
        }
      ]
    },
    {
      "cell_type": "markdown",
      "metadata": {
        "collapsed": false,
        "id": "yhw0b_CFKSd4",
        "colab_type": "text"
      },
      "source": [
        "## Indexing Operator with Boolean Mask"
      ]
    },
    {
      "cell_type": "markdown",
      "metadata": {
        "collapsed": false,
        "id": "VVwq6m4KKSd5",
        "colab_type": "text"
      },
      "source": [
        "We do not actually have to use the where function explicitly. The pandas developers allow the indexing operator to take a Boolean mask as a value instead of just a list of column names."
      ]
    },
    {
      "cell_type": "markdown",
      "metadata": {
        "collapsed": false,
        "id": "67dQFYWlKSd5",
        "colab_type": "text"
      },
      "source": [
        "Here's a more concise example of how we could query this data frame. You'll notice that there are no NaNs when you query the data frame in this manner. pandas automatically filters out the rows with now values."
      ]
    },
    {
      "cell_type": "code",
      "metadata": {
        "id": "WOYkpmygKSd5",
        "colab_type": "code",
        "colab": {},
        "outputId": "6354f976-efc1-4193-8ef3-78c94cb0ee4e"
      },
      "source": [
        "only_gold = df.loc[df['Gold'] > 0]\n",
        "only_gold.head()"
      ],
      "execution_count": null,
      "outputs": [
        {
          "output_type": "execute_result",
          "data": {
            "text/html": [
              "<div>\n",
              "<style scoped>\n",
              "    .dataframe tbody tr th:only-of-type {\n",
              "        vertical-align: middle;\n",
              "    }\n",
              "\n",
              "    .dataframe tbody tr th {\n",
              "        vertical-align: top;\n",
              "    }\n",
              "\n",
              "    .dataframe thead th {\n",
              "        text-align: right;\n",
              "    }\n",
              "</style>\n",
              "<table border=\"1\" class=\"dataframe\">\n",
              "  <thead>\n",
              "    <tr style=\"text-align: right;\">\n",
              "      <th></th>\n",
              "      <th># Summer</th>\n",
              "      <th>Gold</th>\n",
              "      <th>Silver</th>\n",
              "      <th>Bronze</th>\n",
              "      <th>Total</th>\n",
              "      <th># Winter</th>\n",
              "      <th>Gold.1</th>\n",
              "      <th>Silver.1</th>\n",
              "      <th>Bronze.1</th>\n",
              "      <th>Total.1</th>\n",
              "      <th># Games</th>\n",
              "      <th>Gold.2</th>\n",
              "      <th>Silver.2</th>\n",
              "      <th>Bronze.2</th>\n",
              "      <th>Combined total</th>\n",
              "    </tr>\n",
              "  </thead>\n",
              "  <tbody>\n",
              "    <tr>\n",
              "      <th>Algeria (ALG)</th>\n",
              "      <td>12</td>\n",
              "      <td>5</td>\n",
              "      <td>2</td>\n",
              "      <td>8</td>\n",
              "      <td>15</td>\n",
              "      <td>3</td>\n",
              "      <td>0</td>\n",
              "      <td>0</td>\n",
              "      <td>0</td>\n",
              "      <td>0</td>\n",
              "      <td>15</td>\n",
              "      <td>5</td>\n",
              "      <td>2</td>\n",
              "      <td>8</td>\n",
              "      <td>15</td>\n",
              "    </tr>\n",
              "    <tr>\n",
              "      <th>Argentina (ARG)</th>\n",
              "      <td>23</td>\n",
              "      <td>18</td>\n",
              "      <td>24</td>\n",
              "      <td>28</td>\n",
              "      <td>70</td>\n",
              "      <td>18</td>\n",
              "      <td>0</td>\n",
              "      <td>0</td>\n",
              "      <td>0</td>\n",
              "      <td>0</td>\n",
              "      <td>41</td>\n",
              "      <td>18</td>\n",
              "      <td>24</td>\n",
              "      <td>28</td>\n",
              "      <td>70</td>\n",
              "    </tr>\n",
              "    <tr>\n",
              "      <th>Armenia (ARM)</th>\n",
              "      <td>5</td>\n",
              "      <td>1</td>\n",
              "      <td>2</td>\n",
              "      <td>9</td>\n",
              "      <td>12</td>\n",
              "      <td>6</td>\n",
              "      <td>0</td>\n",
              "      <td>0</td>\n",
              "      <td>0</td>\n",
              "      <td>0</td>\n",
              "      <td>11</td>\n",
              "      <td>1</td>\n",
              "      <td>2</td>\n",
              "      <td>9</td>\n",
              "      <td>12</td>\n",
              "    </tr>\n",
              "    <tr>\n",
              "      <th>Australasia (ANZ) [ANZ]</th>\n",
              "      <td>2</td>\n",
              "      <td>3</td>\n",
              "      <td>4</td>\n",
              "      <td>5</td>\n",
              "      <td>12</td>\n",
              "      <td>0</td>\n",
              "      <td>0</td>\n",
              "      <td>0</td>\n",
              "      <td>0</td>\n",
              "      <td>0</td>\n",
              "      <td>2</td>\n",
              "      <td>3</td>\n",
              "      <td>4</td>\n",
              "      <td>5</td>\n",
              "      <td>12</td>\n",
              "    </tr>\n",
              "    <tr>\n",
              "      <th>Australia (AUS) [AUS] [Z]</th>\n",
              "      <td>25</td>\n",
              "      <td>139</td>\n",
              "      <td>152</td>\n",
              "      <td>177</td>\n",
              "      <td>468</td>\n",
              "      <td>18</td>\n",
              "      <td>5</td>\n",
              "      <td>3</td>\n",
              "      <td>4</td>\n",
              "      <td>12</td>\n",
              "      <td>43</td>\n",
              "      <td>144</td>\n",
              "      <td>155</td>\n",
              "      <td>181</td>\n",
              "      <td>480</td>\n",
              "    </tr>\n",
              "  </tbody>\n",
              "</table>\n",
              "</div>"
            ],
            "text/plain": [
              "                           # Summer  Gold  Silver  Bronze  Total  # Winter  \\\n",
              "Algeria (ALG)                    12     5       2       8     15         3   \n",
              "Argentina (ARG)                  23    18      24      28     70        18   \n",
              "Armenia (ARM)                     5     1       2       9     12         6   \n",
              "Australasia (ANZ) [ANZ]           2     3       4       5     12         0   \n",
              "Australia (AUS) [AUS] [Z]        25   139     152     177    468        18   \n",
              "\n",
              "                           Gold.1  Silver.1  Bronze.1  Total.1  # Games  \\\n",
              "Algeria (ALG)                   0         0         0        0       15   \n",
              "Argentina (ARG)                 0         0         0        0       41   \n",
              "Armenia (ARM)                   0         0         0        0       11   \n",
              "Australasia (ANZ) [ANZ]         0         0         0        0        2   \n",
              "Australia (AUS) [AUS] [Z]       5         3         4       12       43   \n",
              "\n",
              "                           Gold.2  Silver.2  Bronze.2  Combined total  \n",
              "Algeria (ALG)                   5         2         8              15  \n",
              "Argentina (ARG)                18        24        28              70  \n",
              "Armenia (ARM)                   1         2         9              12  \n",
              "Australasia (ANZ) [ANZ]         3         4         5              12  \n",
              "Australia (AUS) [AUS] [Z]     144       155       181             480  "
            ]
          },
          "metadata": {
            "tags": []
          },
          "execution_count": 133
        }
      ]
    },
    {
      "cell_type": "markdown",
      "metadata": {
        "collapsed": false,
        "id": "WclGUcZwKSd6",
        "colab_type": "text"
      },
      "source": [
        "The syntax might look a little messy, especially if you're not used to programming languages with overloaded operators, but the result is that you're able to filter and reduce data frames relatively quickly."
      ]
    },
    {
      "cell_type": "markdown",
      "metadata": {
        "collapsed": false,
        "id": "m-7xGXVvKSd6",
        "colab_type": "text"
      },
      "source": [
        "## Chain Statements"
      ]
    },
    {
      "cell_type": "markdown",
      "metadata": {
        "collapsed": false,
        "id": "j98fSqHsKSd6",
        "colab_type": "text"
      },
      "source": [
        "One more thing to keep in mind if you're not used to Boolean or bit masking for data reduction. The output of two Boolean masks being compared with logical operators is another Boolean mask. This means that you can chain together a bunch of and/or statements in order to create more complex queries, and the result is a single Boolean mask."
      ]
    },
    {
      "cell_type": "markdown",
      "metadata": {
        "collapsed": false,
        "id": "vk8FdkQhKSd7",
        "colab_type": "text"
      },
      "source": [
        "For instance, we could create a mask for all of those countries who have received a gold in the summer Olympics and logically order that with all of those countries who have received a gold in the winter Olympics. If we apply this to the data frame and use the length function to see how many rows there are, we see that there are 101 countries which have won a gold metal at some time."
      ]
    },
    {
      "cell_type": "code",
      "metadata": {
        "id": "T-iRVUr6KSd7",
        "colab_type": "code",
        "colab": {},
        "outputId": "89431b74-cde4-48cb-d002-d70e022273e1"
      },
      "source": [
        "len(df[(df['Gold'] > 0) | (df['Gold.1'] > 0)])"
      ],
      "execution_count": null,
      "outputs": [
        {
          "output_type": "execute_result",
          "data": {
            "text/plain": [
              "101"
            ]
          },
          "metadata": {
            "tags": []
          },
          "execution_count": 134
        }
      ]
    },
    {
      "cell_type": "markdown",
      "metadata": {
        "collapsed": false,
        "id": "uN6zrv7dKSd8",
        "colab_type": "text"
      },
      "source": [
        "Another example. Have there been any countries who have only won a gold in the winter Olympics and never in the summer Olympics? "
      ]
    },
    {
      "cell_type": "markdown",
      "metadata": {
        "collapsed": false,
        "id": "xATzbYN9KSd8",
        "colab_type": "text"
      },
      "source": [
        "Here's one way to answer that."
      ]
    },
    {
      "cell_type": "code",
      "metadata": {
        "id": "ws7pCoisKSd8",
        "colab_type": "code",
        "colab": {},
        "outputId": "6a592f8e-fca2-4a6f-db56-4ed412c31f3b"
      },
      "source": [
        "df[(df['Gold.1'] > 0) & (df['Gold'] == 0)]"
      ],
      "execution_count": null,
      "outputs": [
        {
          "output_type": "execute_result",
          "data": {
            "text/html": [
              "<div>\n",
              "<style scoped>\n",
              "    .dataframe tbody tr th:only-of-type {\n",
              "        vertical-align: middle;\n",
              "    }\n",
              "\n",
              "    .dataframe tbody tr th {\n",
              "        vertical-align: top;\n",
              "    }\n",
              "\n",
              "    .dataframe thead th {\n",
              "        text-align: right;\n",
              "    }\n",
              "</style>\n",
              "<table border=\"1\" class=\"dataframe\">\n",
              "  <thead>\n",
              "    <tr style=\"text-align: right;\">\n",
              "      <th></th>\n",
              "      <th># Summer</th>\n",
              "      <th>Gold</th>\n",
              "      <th>Silver</th>\n",
              "      <th>Bronze</th>\n",
              "      <th>Total</th>\n",
              "      <th># Winter</th>\n",
              "      <th>Gold.1</th>\n",
              "      <th>Silver.1</th>\n",
              "      <th>Bronze.1</th>\n",
              "      <th>Total.1</th>\n",
              "      <th># Games</th>\n",
              "      <th>Gold.2</th>\n",
              "      <th>Silver.2</th>\n",
              "      <th>Bronze.2</th>\n",
              "      <th>Combined total</th>\n",
              "    </tr>\n",
              "  </thead>\n",
              "  <tbody>\n",
              "    <tr>\n",
              "      <th>Liechtenstein (LIE)</th>\n",
              "      <td>16</td>\n",
              "      <td>0</td>\n",
              "      <td>0</td>\n",
              "      <td>0</td>\n",
              "      <td>0</td>\n",
              "      <td>18</td>\n",
              "      <td>2</td>\n",
              "      <td>2</td>\n",
              "      <td>5</td>\n",
              "      <td>9</td>\n",
              "      <td>34</td>\n",
              "      <td>2</td>\n",
              "      <td>2</td>\n",
              "      <td>5</td>\n",
              "      <td>9</td>\n",
              "    </tr>\n",
              "  </tbody>\n",
              "</table>\n",
              "</div>"
            ],
            "text/plain": [
              "                     # Summer  Gold  Silver  Bronze  Total  # Winter  Gold.1  \\\n",
              "Liechtenstein (LIE)        16     0       0       0      0        18       2   \n",
              "\n",
              "                     Silver.1  Bronze.1  Total.1  # Games  Gold.2  Silver.2  \\\n",
              "Liechtenstein (LIE)         2         5        9       34       2         2   \n",
              "\n",
              "                     Bronze.2  Combined total  \n",
              "Liechtenstein (LIE)         5               9  "
            ]
          },
          "metadata": {
            "tags": []
          },
          "execution_count": 135
        }
      ]
    },
    {
      "cell_type": "markdown",
      "metadata": {
        "collapsed": false,
        "id": "mFZNq9z_KSd_",
        "colab_type": "text"
      },
      "source": [
        "Our neighbouring country Liechtenstein"
      ]
    },
    {
      "cell_type": "markdown",
      "metadata": {
        "collapsed": false,
        "id": "5c9F781XKSeB",
        "colab_type": "text"
      },
      "source": [
        "Extremely important, and often an issue for new users, is to remember that each Boolean mask needs to be encased in parenthesis because of the order of operations. This can cause no end of frustration if you're not used to it, so be careful.\n"
      ]
    },
    {
      "cell_type": "markdown",
      "metadata": {
        "collapsed": false,
        "id": "u2HM2gTJKSeB",
        "colab_type": "text"
      },
      "source": [
        "## Conclusion"
      ]
    },
    {
      "cell_type": "markdown",
      "metadata": {
        "collapsed": false,
        "id": "bLY3wvdzKSeC",
        "colab_type": "text"
      },
      "source": [
        "In this lecture, we took a look at boolean masking. In particular, we learned about the where function, count function, droping rows and indexing operator with boolean masking."
      ]
    },
    {
      "cell_type": "markdown",
      "metadata": {
        "collapsed": false,
        "id": "g7thqId3KSeC",
        "colab_type": "text"
      },
      "source": [
        "# Indexing DataFrames"
      ]
    },
    {
      "cell_type": "markdown",
      "metadata": {
        "collapsed": false,
        "id": "ZQPMbmPjKSeC",
        "colab_type": "text"
      },
      "source": [
        "As we have  seen, both Series and DataFrames can have indices applied to them. The index is essentially a row level label, and we know that rows correspond to axis zero. In our Olympics data, we indexed the data frame by the name of the country. Indices can either be inferred, such as when we create a new series without an index, in which case we get numeric values, or they can be set explicitly, like when we use the dictionary object to create the series, or when we loaded data from the CSV file and specified the header. "
      ]
    },
    {
      "cell_type": "code",
      "metadata": {
        "id": "0t1hTgKCKSeD",
        "colab_type": "code",
        "colab": {},
        "outputId": "ff0cb3ac-c8c6-455d-9728-954907d62335"
      },
      "source": [
        "df.head()"
      ],
      "execution_count": null,
      "outputs": [
        {
          "output_type": "execute_result",
          "data": {
            "text/html": [
              "<div>\n",
              "<style scoped>\n",
              "    .dataframe tbody tr th:only-of-type {\n",
              "        vertical-align: middle;\n",
              "    }\n",
              "\n",
              "    .dataframe tbody tr th {\n",
              "        vertical-align: top;\n",
              "    }\n",
              "\n",
              "    .dataframe thead th {\n",
              "        text-align: right;\n",
              "    }\n",
              "</style>\n",
              "<table border=\"1\" class=\"dataframe\">\n",
              "  <thead>\n",
              "    <tr style=\"text-align: right;\">\n",
              "      <th></th>\n",
              "      <th># Summer</th>\n",
              "      <th>Gold</th>\n",
              "      <th>Silver</th>\n",
              "      <th>Bronze</th>\n",
              "      <th>Total</th>\n",
              "      <th># Winter</th>\n",
              "      <th>Gold.1</th>\n",
              "      <th>Silver.1</th>\n",
              "      <th>Bronze.1</th>\n",
              "      <th>Total.1</th>\n",
              "      <th># Games</th>\n",
              "      <th>Gold.2</th>\n",
              "      <th>Silver.2</th>\n",
              "      <th>Bronze.2</th>\n",
              "      <th>Combined total</th>\n",
              "    </tr>\n",
              "  </thead>\n",
              "  <tbody>\n",
              "    <tr>\n",
              "      <th>Afghanistan (AFG)</th>\n",
              "      <td>13</td>\n",
              "      <td>0</td>\n",
              "      <td>0</td>\n",
              "      <td>2</td>\n",
              "      <td>2</td>\n",
              "      <td>0</td>\n",
              "      <td>0</td>\n",
              "      <td>0</td>\n",
              "      <td>0</td>\n",
              "      <td>0</td>\n",
              "      <td>13</td>\n",
              "      <td>0</td>\n",
              "      <td>0</td>\n",
              "      <td>2</td>\n",
              "      <td>2</td>\n",
              "    </tr>\n",
              "    <tr>\n",
              "      <th>Algeria (ALG)</th>\n",
              "      <td>12</td>\n",
              "      <td>5</td>\n",
              "      <td>2</td>\n",
              "      <td>8</td>\n",
              "      <td>15</td>\n",
              "      <td>3</td>\n",
              "      <td>0</td>\n",
              "      <td>0</td>\n",
              "      <td>0</td>\n",
              "      <td>0</td>\n",
              "      <td>15</td>\n",
              "      <td>5</td>\n",
              "      <td>2</td>\n",
              "      <td>8</td>\n",
              "      <td>15</td>\n",
              "    </tr>\n",
              "    <tr>\n",
              "      <th>Argentina (ARG)</th>\n",
              "      <td>23</td>\n",
              "      <td>18</td>\n",
              "      <td>24</td>\n",
              "      <td>28</td>\n",
              "      <td>70</td>\n",
              "      <td>18</td>\n",
              "      <td>0</td>\n",
              "      <td>0</td>\n",
              "      <td>0</td>\n",
              "      <td>0</td>\n",
              "      <td>41</td>\n",
              "      <td>18</td>\n",
              "      <td>24</td>\n",
              "      <td>28</td>\n",
              "      <td>70</td>\n",
              "    </tr>\n",
              "    <tr>\n",
              "      <th>Armenia (ARM)</th>\n",
              "      <td>5</td>\n",
              "      <td>1</td>\n",
              "      <td>2</td>\n",
              "      <td>9</td>\n",
              "      <td>12</td>\n",
              "      <td>6</td>\n",
              "      <td>0</td>\n",
              "      <td>0</td>\n",
              "      <td>0</td>\n",
              "      <td>0</td>\n",
              "      <td>11</td>\n",
              "      <td>1</td>\n",
              "      <td>2</td>\n",
              "      <td>9</td>\n",
              "      <td>12</td>\n",
              "    </tr>\n",
              "    <tr>\n",
              "      <th>Australasia (ANZ) [ANZ]</th>\n",
              "      <td>2</td>\n",
              "      <td>3</td>\n",
              "      <td>4</td>\n",
              "      <td>5</td>\n",
              "      <td>12</td>\n",
              "      <td>0</td>\n",
              "      <td>0</td>\n",
              "      <td>0</td>\n",
              "      <td>0</td>\n",
              "      <td>0</td>\n",
              "      <td>2</td>\n",
              "      <td>3</td>\n",
              "      <td>4</td>\n",
              "      <td>5</td>\n",
              "      <td>12</td>\n",
              "    </tr>\n",
              "  </tbody>\n",
              "</table>\n",
              "</div>"
            ],
            "text/plain": [
              "                         # Summer  Gold  Silver  Bronze  Total  # Winter  \\\n",
              "Afghanistan (AFG)              13     0       0       2      2         0   \n",
              "Algeria (ALG)                  12     5       2       8     15         3   \n",
              "Argentina (ARG)                23    18      24      28     70        18   \n",
              "Armenia (ARM)                   5     1       2       9     12         6   \n",
              "Australasia (ANZ) [ANZ]         2     3       4       5     12         0   \n",
              "\n",
              "                         Gold.1  Silver.1  Bronze.1  Total.1  # Games  Gold.2  \\\n",
              "Afghanistan (AFG)             0         0         0        0       13       0   \n",
              "Algeria (ALG)                 0         0         0        0       15       5   \n",
              "Argentina (ARG)               0         0         0        0       41      18   \n",
              "Armenia (ARM)                 0         0         0        0       11       1   \n",
              "Australasia (ANZ) [ANZ]       0         0         0        0        2       3   \n",
              "\n",
              "                         Silver.2  Bronze.2  Combined total  \n",
              "Afghanistan (AFG)               0         2               2  \n",
              "Algeria (ALG)                   2         8              15  \n",
              "Argentina (ARG)                24        28              70  \n",
              "Armenia (ARM)                   2         9              12  \n",
              "Australasia (ANZ) [ANZ]         4         5              12  "
            ]
          },
          "metadata": {
            "tags": []
          },
          "execution_count": 136
        }
      ]
    },
    {
      "cell_type": "markdown",
      "metadata": {
        "collapsed": false,
        "id": "EMzuNWPqKSeE",
        "colab_type": "text"
      },
      "source": [
        "## Set an Index"
      ]
    },
    {
      "cell_type": "markdown",
      "metadata": {
        "collapsed": false,
        "id": "hDW_jUQoKSeE",
        "colab_type": "text"
      },
      "source": [
        "Another option for setting an index is to use the `set_index()` function. This function takes a list of columns and promotes those columns to an index. `set_index()` is a **destructive process**, it doesn't keep the current index. If you want to keep the current index, you need to manually create a new column and copy into it values from the index attribute. "
      ]
    },
    {
      "cell_type": "markdown",
      "metadata": {
        "collapsed": false,
        "id": "WNlNPIxlKSeE",
        "colab_type": "text"
      },
      "source": [
        "Let's go back to our Olympics DataFrame. Let's say that we don't want to index the DataFrame by countries, but instead want to index by the number of gold medals that were won at summer games. First we need to preserve the country information into a new column. We can do this using the indexing operator or the string that has the column label. Then we can use  `set_index()` to set the index of the column to summer gold medal wins."
      ]
    },
    {
      "cell_type": "code",
      "metadata": {
        "id": "ozih9ZVqKSeE",
        "colab_type": "code",
        "colab": {}
      },
      "source": [
        ""
      ],
      "execution_count": null,
      "outputs": []
    },
    {
      "cell_type": "code",
      "metadata": {
        "id": "ZzaHeTeCKSeF",
        "colab_type": "code",
        "colab": {},
        "outputId": "bb285eda-613b-45a4-cf54-79b0571a60b2"
      },
      "source": [
        "df['country'] = df.index\n",
        "df = df.set_index('Gold')\n",
        "df.head()"
      ],
      "execution_count": null,
      "outputs": [
        {
          "output_type": "execute_result",
          "data": {
            "text/html": [
              "<div>\n",
              "<style scoped>\n",
              "    .dataframe tbody tr th:only-of-type {\n",
              "        vertical-align: middle;\n",
              "    }\n",
              "\n",
              "    .dataframe tbody tr th {\n",
              "        vertical-align: top;\n",
              "    }\n",
              "\n",
              "    .dataframe thead th {\n",
              "        text-align: right;\n",
              "    }\n",
              "</style>\n",
              "<table border=\"1\" class=\"dataframe\">\n",
              "  <thead>\n",
              "    <tr style=\"text-align: right;\">\n",
              "      <th></th>\n",
              "      <th># Summer</th>\n",
              "      <th>Silver</th>\n",
              "      <th>Bronze</th>\n",
              "      <th>Total</th>\n",
              "      <th># Winter</th>\n",
              "      <th>Gold.1</th>\n",
              "      <th>Silver.1</th>\n",
              "      <th>Bronze.1</th>\n",
              "      <th>Total.1</th>\n",
              "      <th># Games</th>\n",
              "      <th>Gold.2</th>\n",
              "      <th>Silver.2</th>\n",
              "      <th>Bronze.2</th>\n",
              "      <th>Combined total</th>\n",
              "      <th>country</th>\n",
              "    </tr>\n",
              "    <tr>\n",
              "      <th>Gold</th>\n",
              "      <th></th>\n",
              "      <th></th>\n",
              "      <th></th>\n",
              "      <th></th>\n",
              "      <th></th>\n",
              "      <th></th>\n",
              "      <th></th>\n",
              "      <th></th>\n",
              "      <th></th>\n",
              "      <th></th>\n",
              "      <th></th>\n",
              "      <th></th>\n",
              "      <th></th>\n",
              "      <th></th>\n",
              "      <th></th>\n",
              "    </tr>\n",
              "  </thead>\n",
              "  <tbody>\n",
              "    <tr>\n",
              "      <th>0</th>\n",
              "      <td>13</td>\n",
              "      <td>0</td>\n",
              "      <td>2</td>\n",
              "      <td>2</td>\n",
              "      <td>0</td>\n",
              "      <td>0</td>\n",
              "      <td>0</td>\n",
              "      <td>0</td>\n",
              "      <td>0</td>\n",
              "      <td>13</td>\n",
              "      <td>0</td>\n",
              "      <td>0</td>\n",
              "      <td>2</td>\n",
              "      <td>2</td>\n",
              "      <td>Afghanistan (AFG)</td>\n",
              "    </tr>\n",
              "    <tr>\n",
              "      <th>5</th>\n",
              "      <td>12</td>\n",
              "      <td>2</td>\n",
              "      <td>8</td>\n",
              "      <td>15</td>\n",
              "      <td>3</td>\n",
              "      <td>0</td>\n",
              "      <td>0</td>\n",
              "      <td>0</td>\n",
              "      <td>0</td>\n",
              "      <td>15</td>\n",
              "      <td>5</td>\n",
              "      <td>2</td>\n",
              "      <td>8</td>\n",
              "      <td>15</td>\n",
              "      <td>Algeria (ALG)</td>\n",
              "    </tr>\n",
              "    <tr>\n",
              "      <th>18</th>\n",
              "      <td>23</td>\n",
              "      <td>24</td>\n",
              "      <td>28</td>\n",
              "      <td>70</td>\n",
              "      <td>18</td>\n",
              "      <td>0</td>\n",
              "      <td>0</td>\n",
              "      <td>0</td>\n",
              "      <td>0</td>\n",
              "      <td>41</td>\n",
              "      <td>18</td>\n",
              "      <td>24</td>\n",
              "      <td>28</td>\n",
              "      <td>70</td>\n",
              "      <td>Argentina (ARG)</td>\n",
              "    </tr>\n",
              "    <tr>\n",
              "      <th>1</th>\n",
              "      <td>5</td>\n",
              "      <td>2</td>\n",
              "      <td>9</td>\n",
              "      <td>12</td>\n",
              "      <td>6</td>\n",
              "      <td>0</td>\n",
              "      <td>0</td>\n",
              "      <td>0</td>\n",
              "      <td>0</td>\n",
              "      <td>11</td>\n",
              "      <td>1</td>\n",
              "      <td>2</td>\n",
              "      <td>9</td>\n",
              "      <td>12</td>\n",
              "      <td>Armenia (ARM)</td>\n",
              "    </tr>\n",
              "    <tr>\n",
              "      <th>3</th>\n",
              "      <td>2</td>\n",
              "      <td>4</td>\n",
              "      <td>5</td>\n",
              "      <td>12</td>\n",
              "      <td>0</td>\n",
              "      <td>0</td>\n",
              "      <td>0</td>\n",
              "      <td>0</td>\n",
              "      <td>0</td>\n",
              "      <td>2</td>\n",
              "      <td>3</td>\n",
              "      <td>4</td>\n",
              "      <td>5</td>\n",
              "      <td>12</td>\n",
              "      <td>Australasia (ANZ) [ANZ]</td>\n",
              "    </tr>\n",
              "  </tbody>\n",
              "</table>\n",
              "</div>"
            ],
            "text/plain": [
              "      # Summer  Silver  Bronze  Total  # Winter  Gold.1  Silver.1  Bronze.1  \\\n",
              "Gold                                                                          \n",
              "0           13       0       2      2         0       0         0         0   \n",
              "5           12       2       8     15         3       0         0         0   \n",
              "18          23      24      28     70        18       0         0         0   \n",
              "1            5       2       9     12         6       0         0         0   \n",
              "3            2       4       5     12         0       0         0         0   \n",
              "\n",
              "      Total.1  # Games  Gold.2  Silver.2  Bronze.2  Combined total  \\\n",
              "Gold                                                                 \n",
              "0           0       13       0         0         2               2   \n",
              "5           0       15       5         2         8              15   \n",
              "18          0       41      18        24        28              70   \n",
              "1           0       11       1         2         9              12   \n",
              "3           0        2       3         4         5              12   \n",
              "\n",
              "                      country  \n",
              "Gold                           \n",
              "0           Afghanistan (AFG)  \n",
              "5               Algeria (ALG)  \n",
              "18            Argentina (ARG)  \n",
              "1               Armenia (ARM)  \n",
              "3     Australasia (ANZ) [ANZ]  "
            ]
          },
          "metadata": {
            "tags": []
          },
          "execution_count": 137
        }
      ]
    },
    {
      "cell_type": "markdown",
      "metadata": {
        "collapsed": false,
        "id": "OayQQecOKSeG",
        "colab_type": "text"
      },
      "source": [
        "You'll see that when we create a new index from an existing column it appears that a new first row has been added with empty values. This isn't quite what's happening. And we know this in part because an empty value is actually rendered either as a none or an `NaN` if the data type of the column is numeric. What's actually happened is that the index has a name. Whatever the column name was in the Jupiter notebook has just provided this in the output."
      ]
    },
    {
      "cell_type": "markdown",
      "metadata": {
        "collapsed": false,
        "id": "l8PP8sEdKSeH",
        "colab_type": "text"
      },
      "source": [
        "## Reset Index"
      ]
    },
    {
      "cell_type": "markdown",
      "metadata": {
        "collapsed": false,
        "id": "pOUd1tlAKSeH",
        "colab_type": "text"
      },
      "source": [
        "We can get rid of the index completely by calling the function `reset_index()`. This promotes the index into a column and creates a default numbered index."
      ]
    },
    {
      "cell_type": "code",
      "metadata": {
        "id": "bL6QMBWiKSeH",
        "colab_type": "code",
        "colab": {},
        "outputId": "b8c34555-20e9-47b2-8b29-4fe5336bbbb6"
      },
      "source": [
        "df = df.reset_index()\n",
        "df.head()"
      ],
      "execution_count": null,
      "outputs": [
        {
          "output_type": "execute_result",
          "data": {
            "text/html": [
              "<div>\n",
              "<style scoped>\n",
              "    .dataframe tbody tr th:only-of-type {\n",
              "        vertical-align: middle;\n",
              "    }\n",
              "\n",
              "    .dataframe tbody tr th {\n",
              "        vertical-align: top;\n",
              "    }\n",
              "\n",
              "    .dataframe thead th {\n",
              "        text-align: right;\n",
              "    }\n",
              "</style>\n",
              "<table border=\"1\" class=\"dataframe\">\n",
              "  <thead>\n",
              "    <tr style=\"text-align: right;\">\n",
              "      <th></th>\n",
              "      <th>Gold</th>\n",
              "      <th># Summer</th>\n",
              "      <th>Silver</th>\n",
              "      <th>Bronze</th>\n",
              "      <th>Total</th>\n",
              "      <th># Winter</th>\n",
              "      <th>Gold.1</th>\n",
              "      <th>Silver.1</th>\n",
              "      <th>Bronze.1</th>\n",
              "      <th>Total.1</th>\n",
              "      <th># Games</th>\n",
              "      <th>Gold.2</th>\n",
              "      <th>Silver.2</th>\n",
              "      <th>Bronze.2</th>\n",
              "      <th>Combined total</th>\n",
              "      <th>country</th>\n",
              "    </tr>\n",
              "  </thead>\n",
              "  <tbody>\n",
              "    <tr>\n",
              "      <th>0</th>\n",
              "      <td>0</td>\n",
              "      <td>13</td>\n",
              "      <td>0</td>\n",
              "      <td>2</td>\n",
              "      <td>2</td>\n",
              "      <td>0</td>\n",
              "      <td>0</td>\n",
              "      <td>0</td>\n",
              "      <td>0</td>\n",
              "      <td>0</td>\n",
              "      <td>13</td>\n",
              "      <td>0</td>\n",
              "      <td>0</td>\n",
              "      <td>2</td>\n",
              "      <td>2</td>\n",
              "      <td>Afghanistan (AFG)</td>\n",
              "    </tr>\n",
              "    <tr>\n",
              "      <th>1</th>\n",
              "      <td>5</td>\n",
              "      <td>12</td>\n",
              "      <td>2</td>\n",
              "      <td>8</td>\n",
              "      <td>15</td>\n",
              "      <td>3</td>\n",
              "      <td>0</td>\n",
              "      <td>0</td>\n",
              "      <td>0</td>\n",
              "      <td>0</td>\n",
              "      <td>15</td>\n",
              "      <td>5</td>\n",
              "      <td>2</td>\n",
              "      <td>8</td>\n",
              "      <td>15</td>\n",
              "      <td>Algeria (ALG)</td>\n",
              "    </tr>\n",
              "    <tr>\n",
              "      <th>2</th>\n",
              "      <td>18</td>\n",
              "      <td>23</td>\n",
              "      <td>24</td>\n",
              "      <td>28</td>\n",
              "      <td>70</td>\n",
              "      <td>18</td>\n",
              "      <td>0</td>\n",
              "      <td>0</td>\n",
              "      <td>0</td>\n",
              "      <td>0</td>\n",
              "      <td>41</td>\n",
              "      <td>18</td>\n",
              "      <td>24</td>\n",
              "      <td>28</td>\n",
              "      <td>70</td>\n",
              "      <td>Argentina (ARG)</td>\n",
              "    </tr>\n",
              "    <tr>\n",
              "      <th>3</th>\n",
              "      <td>1</td>\n",
              "      <td>5</td>\n",
              "      <td>2</td>\n",
              "      <td>9</td>\n",
              "      <td>12</td>\n",
              "      <td>6</td>\n",
              "      <td>0</td>\n",
              "      <td>0</td>\n",
              "      <td>0</td>\n",
              "      <td>0</td>\n",
              "      <td>11</td>\n",
              "      <td>1</td>\n",
              "      <td>2</td>\n",
              "      <td>9</td>\n",
              "      <td>12</td>\n",
              "      <td>Armenia (ARM)</td>\n",
              "    </tr>\n",
              "    <tr>\n",
              "      <th>4</th>\n",
              "      <td>3</td>\n",
              "      <td>2</td>\n",
              "      <td>4</td>\n",
              "      <td>5</td>\n",
              "      <td>12</td>\n",
              "      <td>0</td>\n",
              "      <td>0</td>\n",
              "      <td>0</td>\n",
              "      <td>0</td>\n",
              "      <td>0</td>\n",
              "      <td>2</td>\n",
              "      <td>3</td>\n",
              "      <td>4</td>\n",
              "      <td>5</td>\n",
              "      <td>12</td>\n",
              "      <td>Australasia (ANZ) [ANZ]</td>\n",
              "    </tr>\n",
              "  </tbody>\n",
              "</table>\n",
              "</div>"
            ],
            "text/plain": [
              "   Gold  # Summer  Silver  Bronze  Total  # Winter  Gold.1  Silver.1  \\\n",
              "0     0        13       0       2      2         0       0         0   \n",
              "1     5        12       2       8     15         3       0         0   \n",
              "2    18        23      24      28     70        18       0         0   \n",
              "3     1         5       2       9     12         6       0         0   \n",
              "4     3         2       4       5     12         0       0         0   \n",
              "\n",
              "   Bronze.1  Total.1  # Games  Gold.2  Silver.2  Bronze.2  Combined total  \\\n",
              "0         0        0       13       0         0         2               2   \n",
              "1         0        0       15       5         2         8              15   \n",
              "2         0        0       41      18        24        28              70   \n",
              "3         0        0       11       1         2         9              12   \n",
              "4         0        0        2       3         4         5              12   \n",
              "\n",
              "                   country  \n",
              "0        Afghanistan (AFG)  \n",
              "1            Algeria (ALG)  \n",
              "2          Argentina (ARG)  \n",
              "3            Armenia (ARM)  \n",
              "4  Australasia (ANZ) [ANZ]  "
            ]
          },
          "metadata": {
            "tags": []
          },
          "execution_count": 138
        }
      ]
    },
    {
      "cell_type": "markdown",
      "metadata": {
        "collapsed": false,
        "id": "sf9PQVnUKSeU",
        "colab_type": "text"
      },
      "source": [
        "# Sorting and Min Max"
      ]
    },
    {
      "cell_type": "markdown",
      "metadata": {
        "collapsed": false,
        "id": "TGViiUA1KSeV",
        "colab_type": "text"
      },
      "source": [
        "Data exploration is an important aspect of Data Science. Before we decide do Data Analysis or Maschine Learnig, we must have an idea of what our data contains. The Pandas library is equipped with a number of useful functions for this very purpose."
      ]
    },
    {
      "cell_type": "markdown",
      "metadata": {
        "collapsed": false,
        "id": "ETgP_a77KSeV",
        "colab_type": "text"
      },
      "source": [
        "## Counting Values"
      ]
    },
    {
      "cell_type": "markdown",
      "metadata": {
        "collapsed": false,
        "id": "Y8OBYuECKSeV",
        "colab_type": "text"
      },
      "source": [
        "The `value_counts()` method returns a Series containing the counts of unique values. This means, for any column in a dataframe, this method returns the count of unique entries in that column."
      ]
    },
    {
      "cell_type": "markdown",
      "metadata": {
        "collapsed": false,
        "id": "NE6h9HmFKSeV",
        "colab_type": "text"
      },
      "source": [
        "The following example uses `value_counts()` to determine which country appears most often."
      ]
    },
    {
      "cell_type": "code",
      "metadata": {
        "id": "arLVeHDYKSeV",
        "colab_type": "code",
        "colab": {},
        "outputId": "1dafa0b2-a90a-4479-f304-2a4165984ab0"
      },
      "source": [
        "import pandas as pd\n",
        "\n",
        "# Make example dataframe\n",
        "df = pd.DataFrame([(1, 'Germany'),\n",
        "                   (2, 'France'),\n",
        "                   (3, 'Indonesia'),\n",
        "                   (4, 'France'),\n",
        "                   (5, 'France'),\n",
        "                   (6, 'Germany'),\n",
        "                   (7, 'UK'),\n",
        "                   ],\n",
        "                  columns=['groupid', 'country'],\n",
        "                  index=['a', 'b', 'c', 'd', 'e', 'f', 'g'])\n",
        "\n",
        "df"
      ],
      "execution_count": null,
      "outputs": [
        {
          "output_type": "execute_result",
          "data": {
            "text/html": [
              "<div>\n",
              "<style scoped>\n",
              "    .dataframe tbody tr th:only-of-type {\n",
              "        vertical-align: middle;\n",
              "    }\n",
              "\n",
              "    .dataframe tbody tr th {\n",
              "        vertical-align: top;\n",
              "    }\n",
              "\n",
              "    .dataframe thead th {\n",
              "        text-align: right;\n",
              "    }\n",
              "</style>\n",
              "<table border=\"1\" class=\"dataframe\">\n",
              "  <thead>\n",
              "    <tr style=\"text-align: right;\">\n",
              "      <th></th>\n",
              "      <th>groupid</th>\n",
              "      <th>country</th>\n",
              "    </tr>\n",
              "  </thead>\n",
              "  <tbody>\n",
              "    <tr>\n",
              "      <th>a</th>\n",
              "      <td>1</td>\n",
              "      <td>Germany</td>\n",
              "    </tr>\n",
              "    <tr>\n",
              "      <th>b</th>\n",
              "      <td>2</td>\n",
              "      <td>France</td>\n",
              "    </tr>\n",
              "    <tr>\n",
              "      <th>c</th>\n",
              "      <td>3</td>\n",
              "      <td>Indonesia</td>\n",
              "    </tr>\n",
              "    <tr>\n",
              "      <th>d</th>\n",
              "      <td>4</td>\n",
              "      <td>France</td>\n",
              "    </tr>\n",
              "    <tr>\n",
              "      <th>e</th>\n",
              "      <td>5</td>\n",
              "      <td>France</td>\n",
              "    </tr>\n",
              "    <tr>\n",
              "      <th>f</th>\n",
              "      <td>6</td>\n",
              "      <td>Germany</td>\n",
              "    </tr>\n",
              "    <tr>\n",
              "      <th>g</th>\n",
              "      <td>7</td>\n",
              "      <td>UK</td>\n",
              "    </tr>\n",
              "  </tbody>\n",
              "</table>\n",
              "</div>"
            ],
            "text/plain": [
              "   groupid    country\n",
              "a        1    Germany\n",
              "b        2     France\n",
              "c        3  Indonesia\n",
              "d        4     France\n",
              "e        5     France\n",
              "f        6    Germany\n",
              "g        7         UK"
            ]
          },
          "metadata": {
            "tags": []
          },
          "execution_count": 145
        }
      ]
    },
    {
      "cell_type": "code",
      "metadata": {
        "id": "CJjLmVlLKSeY",
        "colab_type": "code",
        "colab": {},
        "outputId": "d952d13b-7ad9-436c-f3a7-24d6daea804a"
      },
      "source": [
        "# What you're looking for\n",
        "values = df['country'].value_counts().keys().tolist()\n",
        "counts = df['country'].value_counts().tolist()\n",
        "print(df['country'].value_counts())\n",
        "print(\"\\n\")\n",
        "print(values)\n",
        "print(counts)"
      ],
      "execution_count": null,
      "outputs": [
        {
          "output_type": "stream",
          "text": [
            "France       3\n",
            "Germany      2\n",
            "Indonesia    1\n",
            "UK           1\n",
            "Name: country, dtype: int64\n",
            "\n",
            "\n",
            "['France', 'Germany', 'Indonesia', 'UK']\n",
            "[3, 2, 1, 1]\n"
          ],
          "name": "stdout"
        }
      ]
    },
    {
      "cell_type": "markdown",
      "metadata": {
        "collapsed": false,
        "id": "f18p_k6vKSeZ",
        "colab_type": "text"
      },
      "source": [
        "'France' is the country that appears most frequently with a frequency of 3 in the DataFrame."
      ]
    },
    {
      "cell_type": "markdown",
      "metadata": {
        "collapsed": false,
        "id": "IviwegN3KSeZ",
        "colab_type": "text"
      },
      "source": [
        "Panda's `keys()` function returns the *info axis* for the Panda object. If the Pandas object is a Series, it returns the index. In the given example, applied to value_counts(), it returns the corresponding values for the given counts."
      ]
    },
    {
      "cell_type": "markdown",
      "metadata": {
        "collapsed": false,
        "id": "aP6b-4-UKSeZ",
        "colab_type": "text"
      },
      "source": [
        "## Sorting Index"
      ]
    },
    {
      "cell_type": "markdown",
      "metadata": {
        "collapsed": false,
        "id": "2GRb6oLyKSea",
        "colab_type": "text"
      },
      "source": [
        "Sorting can be done in Pandas by using the `sort_index()` or `sort_values()` function."
      ]
    },
    {
      "cell_type": "markdown",
      "metadata": {
        "id": "LRo2NGp0M852",
        "colab_type": "text"
      },
      "source": [
        "For this exercise we will be using another csv file that contains a list of movies from the International Movie Database (IMDb). This file can, once again, be found within the Resource folder on GitHub and must be uploaded to Google Colab."
      ]
    },
    {
      "cell_type": "markdown",
      "metadata": {
        "collapsed": false,
        "id": "K5Zz98sBKSea",
        "colab_type": "text"
      },
      "source": [
        "Pandas `sort_index()` function sorts objects by labels along the given axis.\n",
        "Basically the sorting algorithm is applied on the axis labels rather than the actual data in the dataframe and based on that the data is rearranged."
      ]
    },
    {
      "cell_type": "code",
      "metadata": {
        "id": "3JGSBEwpKSea",
        "colab_type": "code",
        "colab": {
          "base_uri": "https://localhost:8080/",
          "height": 197
        },
        "outputId": "056d9159-ec5d-4218-f207-88e2ee82f717"
      },
      "source": [
        "import pandas as pd\n",
        "\n",
        "df_imdb = pd.read_csv('/content/IMDBdata_hotlist.csv')\n",
        "df_imdb.head()"
      ],
      "execution_count": null,
      "outputs": [
        {
          "output_type": "execute_result",
          "data": {
            "text/html": [
              "<div>\n",
              "<style scoped>\n",
              "    .dataframe tbody tr th:only-of-type {\n",
              "        vertical-align: middle;\n",
              "    }\n",
              "\n",
              "    .dataframe tbody tr th {\n",
              "        vertical-align: top;\n",
              "    }\n",
              "\n",
              "    .dataframe thead th {\n",
              "        text-align: right;\n",
              "    }\n",
              "</style>\n",
              "<table border=\"1\" class=\"dataframe\">\n",
              "  <thead>\n",
              "    <tr style=\"text-align: right;\">\n",
              "      <th></th>\n",
              "      <th>Movie_Title</th>\n",
              "      <th>YR_Released</th>\n",
              "      <th>Rating</th>\n",
              "      <th>Num_Reviews</th>\n",
              "      <th>Movie_ID</th>\n",
              "      <th>Record</th>\n",
              "      <th>Runtime</th>\n",
              "    </tr>\n",
              "  </thead>\n",
              "  <tbody>\n",
              "    <tr>\n",
              "      <th>0</th>\n",
              "      <td>The Shawshank Redemption</td>\n",
              "      <td>1994</td>\n",
              "      <td>9.2</td>\n",
              "      <td>1829037</td>\n",
              "      <td>tt0111161</td>\n",
              "      <td>Top 250 Eng Movies</td>\n",
              "      <td>142.0</td>\n",
              "    </tr>\n",
              "    <tr>\n",
              "      <th>1</th>\n",
              "      <td>The Godfather</td>\n",
              "      <td>1972</td>\n",
              "      <td>9.2</td>\n",
              "      <td>1249333</td>\n",
              "      <td>tt0068646</td>\n",
              "      <td>Top 250 Eng Movies</td>\n",
              "      <td>175.0</td>\n",
              "    </tr>\n",
              "    <tr>\n",
              "      <th>2</th>\n",
              "      <td>The Godfather: Part II</td>\n",
              "      <td>1974</td>\n",
              "      <td>9.0</td>\n",
              "      <td>860228</td>\n",
              "      <td>tt0071562</td>\n",
              "      <td>Top 250 Eng Movies</td>\n",
              "      <td>202.0</td>\n",
              "    </tr>\n",
              "    <tr>\n",
              "      <th>3</th>\n",
              "      <td>The Dark Knight</td>\n",
              "      <td>2008</td>\n",
              "      <td>9.0</td>\n",
              "      <td>1808543</td>\n",
              "      <td>tt0468569</td>\n",
              "      <td>Top 250 Eng Movies</td>\n",
              "      <td>152.0</td>\n",
              "    </tr>\n",
              "    <tr>\n",
              "      <th>4</th>\n",
              "      <td>12 Angry Men</td>\n",
              "      <td>1957</td>\n",
              "      <td>8.9</td>\n",
              "      <td>497242</td>\n",
              "      <td>tt0050083</td>\n",
              "      <td>Top 250 Eng Movies</td>\n",
              "      <td>96.0</td>\n",
              "    </tr>\n",
              "  </tbody>\n",
              "</table>\n",
              "</div>"
            ],
            "text/plain": [
              "                Movie_Title  YR_Released  ...              Record  Runtime\n",
              "0  The Shawshank Redemption         1994  ...  Top 250 Eng Movies    142.0\n",
              "1             The Godfather         1972  ...  Top 250 Eng Movies    175.0\n",
              "2    The Godfather: Part II         1974  ...  Top 250 Eng Movies    202.0\n",
              "3           The Dark Knight         2008  ...  Top 250 Eng Movies    152.0\n",
              "4              12 Angry Men         1957  ...  Top 250 Eng Movies     96.0\n",
              "\n",
              "[5 rows x 7 columns]"
            ]
          },
          "metadata": {
            "tags": []
          },
          "execution_count": 11
        }
      ]
    },
    {
      "cell_type": "markdown",
      "metadata": {
        "collapsed": false,
        "id": "nwtretGdKSed",
        "colab_type": "text"
      },
      "source": [
        "What are the three best reviewed movies in the database? To obtain a ranking of the best, you must be able to sort. Here we sort on the dataframe directly (`inplace=True`), and we want to see the highest ranked films first, so we proceed in descending order, i.e. `ascending=False`."
      ]
    },
    {
      "cell_type": "code",
      "metadata": {
        "id": "skhpntYbKSee",
        "colab_type": "code",
        "colab": {
          "base_uri": "https://localhost:8080/",
          "height": 227
        },
        "outputId": "fd6319ad-6c69-460b-c1b4-f6a5bd1e7ce2"
      },
      "source": [
        "cdf_imdb = df_imdb.copy()\n",
        "cdf_imdb = cdf_imdb.set_index('Rating')\n",
        "cdf_imdb.sort_index(inplace=True, ascending=False)\n",
        "cdf_imdb.head()"
      ],
      "execution_count": null,
      "outputs": [
        {
          "output_type": "execute_result",
          "data": {
            "text/html": [
              "<div>\n",
              "<style scoped>\n",
              "    .dataframe tbody tr th:only-of-type {\n",
              "        vertical-align: middle;\n",
              "    }\n",
              "\n",
              "    .dataframe tbody tr th {\n",
              "        vertical-align: top;\n",
              "    }\n",
              "\n",
              "    .dataframe thead th {\n",
              "        text-align: right;\n",
              "    }\n",
              "</style>\n",
              "<table border=\"1\" class=\"dataframe\">\n",
              "  <thead>\n",
              "    <tr style=\"text-align: right;\">\n",
              "      <th></th>\n",
              "      <th>Movie_Title</th>\n",
              "      <th>YR_Released</th>\n",
              "      <th>Num_Reviews</th>\n",
              "      <th>Movie_ID</th>\n",
              "      <th>Record</th>\n",
              "      <th>Runtime</th>\n",
              "    </tr>\n",
              "    <tr>\n",
              "      <th>Rating</th>\n",
              "      <th></th>\n",
              "      <th></th>\n",
              "      <th></th>\n",
              "      <th></th>\n",
              "      <th></th>\n",
              "      <th></th>\n",
              "    </tr>\n",
              "  </thead>\n",
              "  <tbody>\n",
              "    <tr>\n",
              "      <th>9.2</th>\n",
              "      <td>The Shawshank Redemption</td>\n",
              "      <td>1994</td>\n",
              "      <td>1829037</td>\n",
              "      <td>tt0111161</td>\n",
              "      <td>Top 250 Eng Movies</td>\n",
              "      <td>142.0</td>\n",
              "    </tr>\n",
              "    <tr>\n",
              "      <th>9.2</th>\n",
              "      <td>The Godfather</td>\n",
              "      <td>1972</td>\n",
              "      <td>1249333</td>\n",
              "      <td>tt0068646</td>\n",
              "      <td>Top 250 Eng Movies</td>\n",
              "      <td>175.0</td>\n",
              "    </tr>\n",
              "    <tr>\n",
              "      <th>9.0</th>\n",
              "      <td>The Godfather: Part II</td>\n",
              "      <td>1974</td>\n",
              "      <td>860228</td>\n",
              "      <td>tt0071562</td>\n",
              "      <td>Top 250 Eng Movies</td>\n",
              "      <td>202.0</td>\n",
              "    </tr>\n",
              "    <tr>\n",
              "      <th>9.0</th>\n",
              "      <td>The Dark Knight</td>\n",
              "      <td>2008</td>\n",
              "      <td>1808543</td>\n",
              "      <td>tt0468569</td>\n",
              "      <td>Top 250 Eng Movies</td>\n",
              "      <td>152.0</td>\n",
              "    </tr>\n",
              "    <tr>\n",
              "      <th>8.9</th>\n",
              "      <td>12 Angry Men</td>\n",
              "      <td>1957</td>\n",
              "      <td>497242</td>\n",
              "      <td>tt0050083</td>\n",
              "      <td>Top 250 Eng Movies</td>\n",
              "      <td>96.0</td>\n",
              "    </tr>\n",
              "  </tbody>\n",
              "</table>\n",
              "</div>"
            ],
            "text/plain": [
              "                     Movie_Title  YR_Released  ...              Record Runtime\n",
              "Rating                                         ...                            \n",
              "9.2     The Shawshank Redemption         1994  ...  Top 250 Eng Movies   142.0\n",
              "9.2                The Godfather         1972  ...  Top 250 Eng Movies   175.0\n",
              "9.0       The Godfather: Part II         1974  ...  Top 250 Eng Movies   202.0\n",
              "9.0              The Dark Knight         2008  ...  Top 250 Eng Movies   152.0\n",
              "8.9                 12 Angry Men         1957  ...  Top 250 Eng Movies    96.0\n",
              "\n",
              "[5 rows x 6 columns]"
            ]
          },
          "metadata": {
            "tags": []
          },
          "execution_count": 12
        }
      ]
    },
    {
      "cell_type": "markdown",
      "metadata": {
        "collapsed": false,
        "id": "j4swdJwyKSei",
        "colab_type": "text"
      },
      "source": [
        "Here we show two possibilities how the first three entries can be presented. Either with the `head()` method or with the `iloc` operator that uses slicing."
      ]
    },
    {
      "cell_type": "code",
      "metadata": {
        "id": "sU06-ZJZKSei",
        "colab_type": "code",
        "colab": {
          "base_uri": "https://localhost:8080/",
          "height": 167
        },
        "outputId": "3120ec6c-3ec5-4896-c806-e48ec2350d74"
      },
      "source": [
        "# Show the three best movies\n",
        "cdf_imdb.head(3)"
      ],
      "execution_count": null,
      "outputs": [
        {
          "output_type": "execute_result",
          "data": {
            "text/html": [
              "<div>\n",
              "<style scoped>\n",
              "    .dataframe tbody tr th:only-of-type {\n",
              "        vertical-align: middle;\n",
              "    }\n",
              "\n",
              "    .dataframe tbody tr th {\n",
              "        vertical-align: top;\n",
              "    }\n",
              "\n",
              "    .dataframe thead th {\n",
              "        text-align: right;\n",
              "    }\n",
              "</style>\n",
              "<table border=\"1\" class=\"dataframe\">\n",
              "  <thead>\n",
              "    <tr style=\"text-align: right;\">\n",
              "      <th></th>\n",
              "      <th>Movie_Title</th>\n",
              "      <th>YR_Released</th>\n",
              "      <th>Num_Reviews</th>\n",
              "      <th>Movie_ID</th>\n",
              "      <th>Record</th>\n",
              "      <th>Runtime</th>\n",
              "    </tr>\n",
              "    <tr>\n",
              "      <th>Rating</th>\n",
              "      <th></th>\n",
              "      <th></th>\n",
              "      <th></th>\n",
              "      <th></th>\n",
              "      <th></th>\n",
              "      <th></th>\n",
              "    </tr>\n",
              "  </thead>\n",
              "  <tbody>\n",
              "    <tr>\n",
              "      <th>9.2</th>\n",
              "      <td>The Shawshank Redemption</td>\n",
              "      <td>1994</td>\n",
              "      <td>1829037</td>\n",
              "      <td>tt0111161</td>\n",
              "      <td>Top 250 Eng Movies</td>\n",
              "      <td>142.0</td>\n",
              "    </tr>\n",
              "    <tr>\n",
              "      <th>9.2</th>\n",
              "      <td>The Godfather</td>\n",
              "      <td>1972</td>\n",
              "      <td>1249333</td>\n",
              "      <td>tt0068646</td>\n",
              "      <td>Top 250 Eng Movies</td>\n",
              "      <td>175.0</td>\n",
              "    </tr>\n",
              "    <tr>\n",
              "      <th>9.0</th>\n",
              "      <td>The Godfather: Part II</td>\n",
              "      <td>1974</td>\n",
              "      <td>860228</td>\n",
              "      <td>tt0071562</td>\n",
              "      <td>Top 250 Eng Movies</td>\n",
              "      <td>202.0</td>\n",
              "    </tr>\n",
              "  </tbody>\n",
              "</table>\n",
              "</div>"
            ],
            "text/plain": [
              "                     Movie_Title  YR_Released  ...              Record Runtime\n",
              "Rating                                         ...                            \n",
              "9.2     The Shawshank Redemption         1994  ...  Top 250 Eng Movies   142.0\n",
              "9.2                The Godfather         1972  ...  Top 250 Eng Movies   175.0\n",
              "9.0       The Godfather: Part II         1974  ...  Top 250 Eng Movies   202.0\n",
              "\n",
              "[3 rows x 6 columns]"
            ]
          },
          "metadata": {
            "tags": []
          },
          "execution_count": 13
        }
      ]
    },
    {
      "cell_type": "code",
      "metadata": {
        "id": "ap28XTKIKSel",
        "colab_type": "code",
        "colab": {
          "base_uri": "https://localhost:8080/",
          "height": 167
        },
        "outputId": "7e9ad982-2f70-4b9b-cae8-727b70c8bd0b"
      },
      "source": [
        "# Show the three best movies\n",
        "cdf_imdb.iloc[:3]"
      ],
      "execution_count": null,
      "outputs": [
        {
          "output_type": "execute_result",
          "data": {
            "text/html": [
              "<div>\n",
              "<style scoped>\n",
              "    .dataframe tbody tr th:only-of-type {\n",
              "        vertical-align: middle;\n",
              "    }\n",
              "\n",
              "    .dataframe tbody tr th {\n",
              "        vertical-align: top;\n",
              "    }\n",
              "\n",
              "    .dataframe thead th {\n",
              "        text-align: right;\n",
              "    }\n",
              "</style>\n",
              "<table border=\"1\" class=\"dataframe\">\n",
              "  <thead>\n",
              "    <tr style=\"text-align: right;\">\n",
              "      <th></th>\n",
              "      <th>Movie_Title</th>\n",
              "      <th>YR_Released</th>\n",
              "      <th>Num_Reviews</th>\n",
              "      <th>Movie_ID</th>\n",
              "      <th>Record</th>\n",
              "      <th>Runtime</th>\n",
              "    </tr>\n",
              "    <tr>\n",
              "      <th>Rating</th>\n",
              "      <th></th>\n",
              "      <th></th>\n",
              "      <th></th>\n",
              "      <th></th>\n",
              "      <th></th>\n",
              "      <th></th>\n",
              "    </tr>\n",
              "  </thead>\n",
              "  <tbody>\n",
              "    <tr>\n",
              "      <th>9.2</th>\n",
              "      <td>The Shawshank Redemption</td>\n",
              "      <td>1994</td>\n",
              "      <td>1829037</td>\n",
              "      <td>tt0111161</td>\n",
              "      <td>Top 250 Eng Movies</td>\n",
              "      <td>142.0</td>\n",
              "    </tr>\n",
              "    <tr>\n",
              "      <th>9.2</th>\n",
              "      <td>The Godfather</td>\n",
              "      <td>1972</td>\n",
              "      <td>1249333</td>\n",
              "      <td>tt0068646</td>\n",
              "      <td>Top 250 Eng Movies</td>\n",
              "      <td>175.0</td>\n",
              "    </tr>\n",
              "    <tr>\n",
              "      <th>9.0</th>\n",
              "      <td>The Godfather: Part II</td>\n",
              "      <td>1974</td>\n",
              "      <td>860228</td>\n",
              "      <td>tt0071562</td>\n",
              "      <td>Top 250 Eng Movies</td>\n",
              "      <td>202.0</td>\n",
              "    </tr>\n",
              "  </tbody>\n",
              "</table>\n",
              "</div>"
            ],
            "text/plain": [
              "                     Movie_Title  YR_Released  ...              Record Runtime\n",
              "Rating                                         ...                            \n",
              "9.2     The Shawshank Redemption         1994  ...  Top 250 Eng Movies   142.0\n",
              "9.2                The Godfather         1972  ...  Top 250 Eng Movies   175.0\n",
              "9.0       The Godfather: Part II         1974  ...  Top 250 Eng Movies   202.0\n",
              "\n",
              "[3 rows x 6 columns]"
            ]
          },
          "metadata": {
            "tags": []
          },
          "execution_count": 14
        }
      ]
    },
    {
      "cell_type": "markdown",
      "metadata": {
        "collapsed": false,
        "id": "2oDVjUbSKSeo",
        "colab_type": "text"
      },
      "source": [
        "The best three movies in the database are `The Shawshank Redemption` and `The Godfather` I \\& II"
      ]
    },
    {
      "cell_type": "markdown",
      "metadata": {
        "collapsed": false,
        "id": "jf6y2uv8KSeo",
        "colab_type": "text"
      },
      "source": [
        "## Sorting"
      ]
    },
    {
      "cell_type": "markdown",
      "metadata": {
        "collapsed": false,
        "id": "dxmhE1aHKSeo",
        "colab_type": "text"
      },
      "source": [
        "In the previous section we indexed the film list according to the ranking and sorted the ranking list correspondingly.\n",
        "\n",
        "Here we use a very similar function `sort_values()` that lets you sort a table by any column. The `by` parameter is the name or list of names to sort by. If no parameter is given (i.e. axis is 0) then by contain column labels.\n"
      ]
    },
    {
      "cell_type": "code",
      "metadata": {
        "id": "M1V_FQYjKSeo",
        "colab_type": "code",
        "colab": {
          "base_uri": "https://localhost:8080/",
          "height": 405
        },
        "outputId": "cc0ac6e9-6c79-41d0-88f9-1ceaffa81500"
      },
      "source": [
        "cdf_imdb = df_imdb.copy()\n",
        "cdf_imdb = cdf_imdb.sort_values(by='Rating', ascending=False)\n",
        "cdf_imdb"
      ],
      "execution_count": null,
      "outputs": [
        {
          "output_type": "execute_result",
          "data": {
            "text/html": [
              "<div>\n",
              "<style scoped>\n",
              "    .dataframe tbody tr th:only-of-type {\n",
              "        vertical-align: middle;\n",
              "    }\n",
              "\n",
              "    .dataframe tbody tr th {\n",
              "        vertical-align: top;\n",
              "    }\n",
              "\n",
              "    .dataframe thead th {\n",
              "        text-align: right;\n",
              "    }\n",
              "</style>\n",
              "<table border=\"1\" class=\"dataframe\">\n",
              "  <thead>\n",
              "    <tr style=\"text-align: right;\">\n",
              "      <th></th>\n",
              "      <th>Movie_Title</th>\n",
              "      <th>YR_Released</th>\n",
              "      <th>Rating</th>\n",
              "      <th>Num_Reviews</th>\n",
              "      <th>Movie_ID</th>\n",
              "      <th>Record</th>\n",
              "      <th>Runtime</th>\n",
              "    </tr>\n",
              "  </thead>\n",
              "  <tbody>\n",
              "    <tr>\n",
              "      <th>0</th>\n",
              "      <td>The Shawshank Redemption</td>\n",
              "      <td>1994</td>\n",
              "      <td>9.2</td>\n",
              "      <td>1829037</td>\n",
              "      <td>tt0111161</td>\n",
              "      <td>Top 250 Eng Movies</td>\n",
              "      <td>142.0</td>\n",
              "    </tr>\n",
              "    <tr>\n",
              "      <th>1</th>\n",
              "      <td>The Godfather</td>\n",
              "      <td>1972</td>\n",
              "      <td>9.2</td>\n",
              "      <td>1249333</td>\n",
              "      <td>tt0068646</td>\n",
              "      <td>Top 250 Eng Movies</td>\n",
              "      <td>175.0</td>\n",
              "    </tr>\n",
              "    <tr>\n",
              "      <th>2</th>\n",
              "      <td>The Godfather: Part II</td>\n",
              "      <td>1974</td>\n",
              "      <td>9.0</td>\n",
              "      <td>860228</td>\n",
              "      <td>tt0071562</td>\n",
              "      <td>Top 250 Eng Movies</td>\n",
              "      <td>202.0</td>\n",
              "    </tr>\n",
              "    <tr>\n",
              "      <th>3</th>\n",
              "      <td>The Dark Knight</td>\n",
              "      <td>2008</td>\n",
              "      <td>9.0</td>\n",
              "      <td>1808543</td>\n",
              "      <td>tt0468569</td>\n",
              "      <td>Top 250 Eng Movies</td>\n",
              "      <td>152.0</td>\n",
              "    </tr>\n",
              "    <tr>\n",
              "      <th>4</th>\n",
              "      <td>12 Angry Men</td>\n",
              "      <td>1957</td>\n",
              "      <td>8.9</td>\n",
              "      <td>497242</td>\n",
              "      <td>tt0050083</td>\n",
              "      <td>Top 250 Eng Movies</td>\n",
              "      <td>96.0</td>\n",
              "    </tr>\n",
              "    <tr>\n",
              "      <th>...</th>\n",
              "      <td>...</td>\n",
              "      <td>...</td>\n",
              "      <td>...</td>\n",
              "      <td>...</td>\n",
              "      <td>...</td>\n",
              "      <td>...</td>\n",
              "      <td>...</td>\n",
              "    </tr>\n",
              "    <tr>\n",
              "      <th>832</th>\n",
              "      <td>Pledge This!</td>\n",
              "      <td>2006</td>\n",
              "      <td>1.7</td>\n",
              "      <td>15836</td>\n",
              "      <td>tt0417056</td>\n",
              "      <td>Bottom 250 Movies</td>\n",
              "      <td>91.0</td>\n",
              "    </tr>\n",
              "    <tr>\n",
              "      <th>833</th>\n",
              "      <td>Superbabies: Baby Geniuses 2</td>\n",
              "      <td>2004</td>\n",
              "      <td>1.6</td>\n",
              "      <td>26505</td>\n",
              "      <td>tt0270846</td>\n",
              "      <td>Bottom 250 Movies</td>\n",
              "      <td>88.0</td>\n",
              "    </tr>\n",
              "    <tr>\n",
              "      <th>834</th>\n",
              "      <td>Daniel the Wizard</td>\n",
              "      <td>2004</td>\n",
              "      <td>1.6</td>\n",
              "      <td>13295</td>\n",
              "      <td>tt0421051</td>\n",
              "      <td>Bottom 250 Movies</td>\n",
              "      <td>81.0</td>\n",
              "    </tr>\n",
              "    <tr>\n",
              "      <th>835</th>\n",
              "      <td>Saving Christmas</td>\n",
              "      <td>2014</td>\n",
              "      <td>1.5</td>\n",
              "      <td>12765</td>\n",
              "      <td>tt4009460</td>\n",
              "      <td>Bottom 250 Movies</td>\n",
              "      <td>80.0</td>\n",
              "    </tr>\n",
              "    <tr>\n",
              "      <th>836</th>\n",
              "      <td>Code Name: K.O.Z.</td>\n",
              "      <td>2015</td>\n",
              "      <td>1.4</td>\n",
              "      <td>24623</td>\n",
              "      <td>tt4458206</td>\n",
              "      <td>Bottom 250 Movies</td>\n",
              "      <td>114.0</td>\n",
              "    </tr>\n",
              "  </tbody>\n",
              "</table>\n",
              "<p>837 rows × 7 columns</p>\n",
              "</div>"
            ],
            "text/plain": [
              "                      Movie_Title  YR_Released  ...              Record  Runtime\n",
              "0        The Shawshank Redemption         1994  ...  Top 250 Eng Movies    142.0\n",
              "1                   The Godfather         1972  ...  Top 250 Eng Movies    175.0\n",
              "2          The Godfather: Part II         1974  ...  Top 250 Eng Movies    202.0\n",
              "3                 The Dark Knight         2008  ...  Top 250 Eng Movies    152.0\n",
              "4                    12 Angry Men         1957  ...  Top 250 Eng Movies     96.0\n",
              "..                            ...          ...  ...                 ...      ...\n",
              "832                  Pledge This!         2006  ...   Bottom 250 Movies     91.0\n",
              "833  Superbabies: Baby Geniuses 2         2004  ...   Bottom 250 Movies     88.0\n",
              "834             Daniel the Wizard         2004  ...   Bottom 250 Movies     81.0\n",
              "835              Saving Christmas         2014  ...   Bottom 250 Movies     80.0\n",
              "836             Code Name: K.O.Z.         2015  ...   Bottom 250 Movies    114.0\n",
              "\n",
              "[837 rows x 7 columns]"
            ]
          },
          "metadata": {
            "tags": []
          },
          "execution_count": 15
        }
      ]
    },
    {
      "cell_type": "markdown",
      "metadata": {
        "collapsed": false,
        "id": "VgM8oHGsKSeq",
        "colab_type": "text"
      },
      "source": [
        "## Min Max"
      ]
    },
    {
      "cell_type": "markdown",
      "metadata": {
        "collapsed": false,
        "id": "rkFRMikhKSeq",
        "colab_type": "text"
      },
      "source": [
        "Pandas has  min and max functions, used to find the minimum value and maximum value of any given DataFrame."
      ]
    },
    {
      "cell_type": "code",
      "metadata": {
        "id": "igeAmgeyKSeq",
        "colab_type": "code",
        "colab": {}
      },
      "source": [
        "df = pd.read_csv(\"~/data/ds4/subject_grades.csv\")"
      ],
      "execution_count": null,
      "outputs": []
    },
    {
      "cell_type": "code",
      "metadata": {
        "id": "Wkkv7roxKSer",
        "colab_type": "code",
        "colab": {},
        "outputId": "9ac39744-12ed-4ed3-9f97-e20a70e53410"
      },
      "source": [
        "df.head(4)"
      ],
      "execution_count": null,
      "outputs": [
        {
          "output_type": "execute_result",
          "data": {
            "text/html": [
              "<div>\n",
              "<style scoped>\n",
              "    .dataframe tbody tr th:only-of-type {\n",
              "        vertical-align: middle;\n",
              "    }\n",
              "\n",
              "    .dataframe tbody tr th {\n",
              "        vertical-align: top;\n",
              "    }\n",
              "\n",
              "    .dataframe thead th {\n",
              "        text-align: right;\n",
              "    }\n",
              "</style>\n",
              "<table border=\"1\" class=\"dataframe\">\n",
              "  <thead>\n",
              "    <tr style=\"text-align: right;\">\n",
              "      <th></th>\n",
              "      <th>Physics</th>\n",
              "      <th>Biology</th>\n",
              "      <th>Maths</th>\n",
              "    </tr>\n",
              "  </thead>\n",
              "  <tbody>\n",
              "    <tr>\n",
              "      <th>0</th>\n",
              "      <td>80</td>\n",
              "      <td>78</td>\n",
              "      <td>70</td>\n",
              "    </tr>\n",
              "    <tr>\n",
              "      <th>1</th>\n",
              "      <td>60</td>\n",
              "      <td>98</td>\n",
              "      <td>45</td>\n",
              "    </tr>\n",
              "    <tr>\n",
              "      <th>2</th>\n",
              "      <td>34</td>\n",
              "      <td>56</td>\n",
              "      <td>65</td>\n",
              "    </tr>\n",
              "    <tr>\n",
              "      <th>3</th>\n",
              "      <td>56</td>\n",
              "      <td>65</td>\n",
              "      <td>32</td>\n",
              "    </tr>\n",
              "  </tbody>\n",
              "</table>\n",
              "</div>"
            ],
            "text/plain": [
              "   Physics  Biology  Maths\n",
              "0       80       78     70\n",
              "1       60       98     45\n",
              "2       34       56     65\n",
              "3       56       65     32"
            ]
          },
          "metadata": {
            "tags": []
          },
          "execution_count": 157
        }
      ]
    },
    {
      "cell_type": "markdown",
      "metadata": {
        "collapsed": false,
        "id": "XUBNAQS9KSes",
        "colab_type": "text"
      },
      "source": [
        "Show descriptive statistics of all columns"
      ]
    },
    {
      "cell_type": "code",
      "metadata": {
        "id": "B7HhWPSKKSes",
        "colab_type": "code",
        "colab": {},
        "outputId": "e30a3df3-35b6-40ec-a91c-8397712b7fe8"
      },
      "source": [
        "df.describe()"
      ],
      "execution_count": null,
      "outputs": [
        {
          "output_type": "execute_result",
          "data": {
            "text/html": [
              "<div>\n",
              "<style scoped>\n",
              "    .dataframe tbody tr th:only-of-type {\n",
              "        vertical-align: middle;\n",
              "    }\n",
              "\n",
              "    .dataframe tbody tr th {\n",
              "        vertical-align: top;\n",
              "    }\n",
              "\n",
              "    .dataframe thead th {\n",
              "        text-align: right;\n",
              "    }\n",
              "</style>\n",
              "<table border=\"1\" class=\"dataframe\">\n",
              "  <thead>\n",
              "    <tr style=\"text-align: right;\">\n",
              "      <th></th>\n",
              "      <th>Physics</th>\n",
              "      <th>Biology</th>\n",
              "      <th>Maths</th>\n",
              "    </tr>\n",
              "  </thead>\n",
              "  <tbody>\n",
              "    <tr>\n",
              "      <th>count</th>\n",
              "      <td>20.000000</td>\n",
              "      <td>20.000000</td>\n",
              "      <td>20.000000</td>\n",
              "    </tr>\n",
              "    <tr>\n",
              "      <th>mean</th>\n",
              "      <td>66.450000</td>\n",
              "      <td>71.200000</td>\n",
              "      <td>69.500000</td>\n",
              "    </tr>\n",
              "    <tr>\n",
              "      <th>std</th>\n",
              "      <td>22.705147</td>\n",
              "      <td>19.813871</td>\n",
              "      <td>17.276391</td>\n",
              "    </tr>\n",
              "    <tr>\n",
              "      <th>min</th>\n",
              "      <td>12.000000</td>\n",
              "      <td>23.000000</td>\n",
              "      <td>32.000000</td>\n",
              "    </tr>\n",
              "    <tr>\n",
              "      <th>25%</th>\n",
              "      <td>53.250000</td>\n",
              "      <td>56.000000</td>\n",
              "      <td>60.000000</td>\n",
              "    </tr>\n",
              "    <tr>\n",
              "      <th>50%</th>\n",
              "      <td>72.000000</td>\n",
              "      <td>71.500000</td>\n",
              "      <td>68.000000</td>\n",
              "    </tr>\n",
              "    <tr>\n",
              "      <th>75%</th>\n",
              "      <td>80.000000</td>\n",
              "      <td>82.000000</td>\n",
              "      <td>81.000000</td>\n",
              "    </tr>\n",
              "    <tr>\n",
              "      <th>max</th>\n",
              "      <td>98.000000</td>\n",
              "      <td>98.000000</td>\n",
              "      <td>99.000000</td>\n",
              "    </tr>\n",
              "  </tbody>\n",
              "</table>\n",
              "</div>"
            ],
            "text/plain": [
              "         Physics    Biology      Maths\n",
              "count  20.000000  20.000000  20.000000\n",
              "mean   66.450000  71.200000  69.500000\n",
              "std    22.705147  19.813871  17.276391\n",
              "min    12.000000  23.000000  32.000000\n",
              "25%    53.250000  56.000000  60.000000\n",
              "50%    72.000000  71.500000  68.000000\n",
              "75%    80.000000  82.000000  81.000000\n",
              "max    98.000000  98.000000  99.000000"
            ]
          },
          "metadata": {
            "tags": []
          },
          "execution_count": 158
        }
      ]
    },
    {
      "cell_type": "markdown",
      "metadata": {
        "collapsed": false,
        "id": "-A-cc13yKSet",
        "colab_type": "text"
      },
      "source": [
        "Show descriptive statistics only for the column of “Maths”"
      ]
    },
    {
      "cell_type": "markdown",
      "metadata": {
        "collapsed": false,
        "id": "nLfGvIWJKSet",
        "colab_type": "text"
      },
      "source": [
        "df['Maths'].describe()"
      ]
    },
    {
      "cell_type": "code",
      "metadata": {
        "id": "MFWG07acKSeu",
        "colab_type": "code",
        "colab": {},
        "outputId": "d347e273-525f-442e-8cef-7f27a4b072e5"
      },
      "source": [
        "maths_mean = df['Maths'].mean()\n",
        "physics_max = df['Physics'].max()\n",
        "biology_min = df['Biology'].min()\n",
        "print(maths_mean)\n",
        "print(physics_max)\n",
        "print(biology_min)"
      ],
      "execution_count": null,
      "outputs": [
        {
          "output_type": "stream",
          "text": [
            "69.5\n",
            "98\n",
            "23\n"
          ],
          "name": "stdout"
        }
      ]
    },
    {
      "cell_type": "markdown",
      "metadata": {
        "collapsed": false,
        "id": "Qdx9jn8OKSeu",
        "colab_type": "text"
      },
      "source": [
        "Calculate Min und Max per Row"
      ]
    },
    {
      "cell_type": "code",
      "metadata": {
        "id": "TYV4SvTZKSeu",
        "colab_type": "code",
        "colab": {}
      },
      "source": [
        "df['Min'] = df.min(axis=1)\n",
        "df['Max'] = df.max(axis=1)"
      ],
      "execution_count": null,
      "outputs": []
    },
    {
      "cell_type": "code",
      "metadata": {
        "id": "NPh7KONmKSev",
        "colab_type": "code",
        "colab": {},
        "outputId": "b1c990d8-bd8a-4585-a9c2-805b9852e145"
      },
      "source": [
        "df.head(5)"
      ],
      "execution_count": null,
      "outputs": [
        {
          "output_type": "execute_result",
          "data": {
            "text/html": [
              "<div>\n",
              "<style scoped>\n",
              "    .dataframe tbody tr th:only-of-type {\n",
              "        vertical-align: middle;\n",
              "    }\n",
              "\n",
              "    .dataframe tbody tr th {\n",
              "        vertical-align: top;\n",
              "    }\n",
              "\n",
              "    .dataframe thead th {\n",
              "        text-align: right;\n",
              "    }\n",
              "</style>\n",
              "<table border=\"1\" class=\"dataframe\">\n",
              "  <thead>\n",
              "    <tr style=\"text-align: right;\">\n",
              "      <th></th>\n",
              "      <th>Physics</th>\n",
              "      <th>Biology</th>\n",
              "      <th>Maths</th>\n",
              "      <th>Min</th>\n",
              "      <th>Max</th>\n",
              "    </tr>\n",
              "  </thead>\n",
              "  <tbody>\n",
              "    <tr>\n",
              "      <th>0</th>\n",
              "      <td>80</td>\n",
              "      <td>78</td>\n",
              "      <td>70</td>\n",
              "      <td>70</td>\n",
              "      <td>80</td>\n",
              "    </tr>\n",
              "    <tr>\n",
              "      <th>1</th>\n",
              "      <td>60</td>\n",
              "      <td>98</td>\n",
              "      <td>45</td>\n",
              "      <td>45</td>\n",
              "      <td>98</td>\n",
              "    </tr>\n",
              "    <tr>\n",
              "      <th>2</th>\n",
              "      <td>34</td>\n",
              "      <td>56</td>\n",
              "      <td>65</td>\n",
              "      <td>34</td>\n",
              "      <td>65</td>\n",
              "    </tr>\n",
              "    <tr>\n",
              "      <th>3</th>\n",
              "      <td>56</td>\n",
              "      <td>65</td>\n",
              "      <td>32</td>\n",
              "      <td>32</td>\n",
              "      <td>65</td>\n",
              "    </tr>\n",
              "    <tr>\n",
              "      <th>4</th>\n",
              "      <td>98</td>\n",
              "      <td>23</td>\n",
              "      <td>55</td>\n",
              "      <td>23</td>\n",
              "      <td>98</td>\n",
              "    </tr>\n",
              "  </tbody>\n",
              "</table>\n",
              "</div>"
            ],
            "text/plain": [
              "   Physics  Biology  Maths  Min  Max\n",
              "0       80       78     70   70   80\n",
              "1       60       98     45   45   98\n",
              "2       34       56     65   34   65\n",
              "3       56       65     32   32   65\n",
              "4       98       23     55   23   98"
            ]
          },
          "metadata": {
            "tags": []
          },
          "execution_count": 161
        }
      ]
    },
    {
      "cell_type": "markdown",
      "metadata": {
        "collapsed": false,
        "id": "9oVW_LJ9KSex",
        "colab_type": "text"
      },
      "source": [
        "Calculate Min und Max only for Physics and Maths Row"
      ]
    },
    {
      "cell_type": "code",
      "metadata": {
        "id": "3BqRatCfKSex",
        "colab_type": "code",
        "colab": {}
      },
      "source": [
        "df['PMMin'] = df.loc[:, ['Physics','Maths']].min(axis=1)\n",
        "df['PMMax'] = df.loc[:, ['Physics','Maths']].max(axis=1)"
      ],
      "execution_count": null,
      "outputs": []
    },
    {
      "cell_type": "code",
      "metadata": {
        "id": "N1HMRfo3KSey",
        "colab_type": "code",
        "colab": {},
        "outputId": "9fca73cd-6231-4585-f8de-95f634bd97be"
      },
      "source": [
        "df.head(5)"
      ],
      "execution_count": null,
      "outputs": [
        {
          "output_type": "execute_result",
          "data": {
            "text/html": [
              "<div>\n",
              "<style scoped>\n",
              "    .dataframe tbody tr th:only-of-type {\n",
              "        vertical-align: middle;\n",
              "    }\n",
              "\n",
              "    .dataframe tbody tr th {\n",
              "        vertical-align: top;\n",
              "    }\n",
              "\n",
              "    .dataframe thead th {\n",
              "        text-align: right;\n",
              "    }\n",
              "</style>\n",
              "<table border=\"1\" class=\"dataframe\">\n",
              "  <thead>\n",
              "    <tr style=\"text-align: right;\">\n",
              "      <th></th>\n",
              "      <th>Physics</th>\n",
              "      <th>Biology</th>\n",
              "      <th>Maths</th>\n",
              "      <th>Min</th>\n",
              "      <th>Max</th>\n",
              "      <th>PMMin</th>\n",
              "      <th>PMMax</th>\n",
              "    </tr>\n",
              "  </thead>\n",
              "  <tbody>\n",
              "    <tr>\n",
              "      <th>0</th>\n",
              "      <td>80</td>\n",
              "      <td>78</td>\n",
              "      <td>70</td>\n",
              "      <td>70</td>\n",
              "      <td>80</td>\n",
              "      <td>70</td>\n",
              "      <td>80</td>\n",
              "    </tr>\n",
              "    <tr>\n",
              "      <th>1</th>\n",
              "      <td>60</td>\n",
              "      <td>98</td>\n",
              "      <td>45</td>\n",
              "      <td>45</td>\n",
              "      <td>98</td>\n",
              "      <td>45</td>\n",
              "      <td>60</td>\n",
              "    </tr>\n",
              "    <tr>\n",
              "      <th>2</th>\n",
              "      <td>34</td>\n",
              "      <td>56</td>\n",
              "      <td>65</td>\n",
              "      <td>34</td>\n",
              "      <td>65</td>\n",
              "      <td>34</td>\n",
              "      <td>65</td>\n",
              "    </tr>\n",
              "    <tr>\n",
              "      <th>3</th>\n",
              "      <td>56</td>\n",
              "      <td>65</td>\n",
              "      <td>32</td>\n",
              "      <td>32</td>\n",
              "      <td>65</td>\n",
              "      <td>32</td>\n",
              "      <td>56</td>\n",
              "    </tr>\n",
              "    <tr>\n",
              "      <th>4</th>\n",
              "      <td>98</td>\n",
              "      <td>23</td>\n",
              "      <td>55</td>\n",
              "      <td>23</td>\n",
              "      <td>98</td>\n",
              "      <td>55</td>\n",
              "      <td>98</td>\n",
              "    </tr>\n",
              "  </tbody>\n",
              "</table>\n",
              "</div>"
            ],
            "text/plain": [
              "   Physics  Biology  Maths  Min  Max  PMMin  PMMax\n",
              "0       80       78     70   70   80     70     80\n",
              "1       60       98     45   45   98     45     60\n",
              "2       34       56     65   34   65     34     65\n",
              "3       56       65     32   32   65     32     56\n",
              "4       98       23     55   23   98     55     98"
            ]
          },
          "metadata": {
            "tags": []
          },
          "execution_count": 101
        }
      ]
    },
    {
      "cell_type": "markdown",
      "metadata": {
        "collapsed": false,
        "id": "NC8qvZGaKSey",
        "colab_type": "text"
      },
      "source": [
        "## idxmin() and idxmax()"
      ]
    },
    {
      "cell_type": "markdown",
      "metadata": {
        "collapsed": false,
        "id": "KeaCh53SKSez",
        "colab_type": "text"
      },
      "source": [
        "In a nutshell, those functions will return the ID (the index position) of the smallest `idxmin()` and largest `idxmax()` item. "
      ]
    },
    {
      "cell_type": "markdown",
      "metadata": {
        "collapsed": false,
        "id": "vEQkKhnNKSez",
        "colab_type": "text"
      },
      "source": [
        "For example, to return to the already mentioned reviewed movie database. Let's assume that we only want to find one of the best and one of the worst rated movies, then we can do the following:"
      ]
    },
    {
      "cell_type": "code",
      "metadata": {
        "id": "eWwqlYaWKSez",
        "colab_type": "code",
        "colab": {}
      },
      "source": [
        "import pandas as pd\n",
        "cdf_imdb = pd.read_csv('/content/IMDBdata_hotlist.csv')"
      ],
      "execution_count": null,
      "outputs": []
    },
    {
      "cell_type": "code",
      "metadata": {
        "id": "aOSXtEtjKSe0",
        "colab_type": "code",
        "colab": {
          "base_uri": "https://localhost:8080/",
          "height": 34
        },
        "outputId": "d0b4960d-2005-4872-8100-015fe578c6fe"
      },
      "source": [
        "bestindex = cdf_imdb['Rating'].idxmax()\n",
        "\n",
        "# One of the best movies, i.e. highest rating\n",
        "bestmovie = cdf_imdb.iloc[bestindex]['Movie_Title']\n",
        "\n",
        "print(\"One of the best movies is «{}»\".format(bestmovie))"
      ],
      "execution_count": null,
      "outputs": [
        {
          "output_type": "stream",
          "text": [
            "One of the best movies is «The Shawshank Redemption»\n"
          ],
          "name": "stdout"
        }
      ]
    },
    {
      "cell_type": "markdown",
      "metadata": {
        "collapsed": false,
        "id": "R-MN7iFlKSe1",
        "colab_type": "text"
      },
      "source": [
        "Here we apply the function `idxmax()` to the `Rating` column and get the corresponding index of one of the movies with the maximum rating. This index can be used with the `iloc` operator to get the data frame row of the movie. Using a operation chaining, we select the movie title column to get the movie name as a string."
      ]
    },
    {
      "cell_type": "code",
      "metadata": {
        "id": "T1cs_fpNKSe1",
        "colab_type": "code",
        "colab": {
          "base_uri": "https://localhost:8080/",
          "height": 34
        },
        "outputId": "1e48c09c-3445-48a3-acf0-a73fafca3529"
      },
      "source": [
        "print(\"One of the worst movies is «{}»\".format(cdf_imdb.iloc[cdf_imdb['Rating'].idxmin()]['Movie_Title']))"
      ],
      "execution_count": null,
      "outputs": [
        {
          "output_type": "stream",
          "text": [
            "One of the worst movies is «Code Name: K.O.Z.»\n"
          ],
          "name": "stdout"
        }
      ]
    },
    {
      "cell_type": "markdown",
      "metadata": {
        "collapsed": false,
        "id": "J9EV4o6EKSe2",
        "colab_type": "text"
      },
      "source": [
        "Here we use a comprehensive code, essentially using `idxmin` in the style of the previous `idxmax` example. This means that we use `idxmin()`` to get the index of one of the movies with the lowest rating."
      ]
    },
    {
      "cell_type": "markdown",
      "metadata": {
        "collapsed": false,
        "id": "OJGfG5gRKSe2",
        "colab_type": "text"
      },
      "source": [
        "You can also find the function `argmax()` in source code on the Web or elsewhere. But there is not much difference between `idxmax()` and `argmax()`. idxmax returns the index name of the maximum value. argmax does the same. However idxmax is a Pandas function, so it can take Series and DataFrame. argmax is a Numpy function.\n",
        "\n"
      ]
    }
  ]
}
