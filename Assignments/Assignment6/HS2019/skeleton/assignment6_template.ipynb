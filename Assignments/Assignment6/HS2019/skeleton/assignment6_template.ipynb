{
 "cells": [
  {
   "cell_type": "code",
   "execution_count": null,
   "metadata": {},
   "outputs": [],
   "source": [
    "grading = False"
   ]
  },
  {
   "cell_type": "code",
   "execution_count": null,
   "metadata": {},
   "outputs": [],
   "source": [
    "\"\"\"\n",
    "assignment6_template.ipynb\n",
    "XX-YYY-ZZZ\n",
    "<Your name>\n",
    "\"\"\""
   ]
  },
  {
   "cell_type": "code",
   "execution_count": null,
   "metadata": {
    "deletable": false,
    "editable": false
   },
   "outputs": [],
   "source": [
    "from IPython import get_ipython\n",
    "!jupyter nbconvert --to script assignment6_template.ipynb"
   ]
  },
  {
   "cell_type": "code",
   "execution_count": null,
   "metadata": {
    "deletable": false,
    "editable": false
   },
   "outputs": [],
   "source": [
    "import os\n",
    "from functools import reduce\n",
    "\n",
    "import numpy as np\n",
    "import pandas as pd\n",
    "\n",
    "import matplotlib.pyplot as plt\n",
    "from pandas.util.testing import assert_frame_equal"
   ]
  },
  {
   "cell_type": "code",
   "execution_count": null,
   "metadata": {
    "pycharm": {
     "is_executing": false
    }
   },
   "outputs": [],
   "source": [
    "class Villain(object):\n",
    "    def __init__(self, name, captured, rank):\n",
    "        \"\"\"\n",
    "        :param name: The name, a string.\n",
    "        :param captured: The captivity status, a boolean.\n",
    "        :param rank: The rank, an integer.\n",
    "        \"\"\"\n",
    "        self.name = name\n",
    "        self.captured = captured\n",
    "        self.rank = rank\n",
    "        \n",
    "    def __str__(self):\n",
    "        return f\"Villain: {self.name}, Captured: {self.captured}, Rank: {self.rank}\"\n",
    "\n",
    "    #########################################\n",
    "    # IMPLEMENT THE COMPARISON METHODS HERE #\n",
    "    #########################################"
   ]
  },
  {
   "cell_type": "code",
   "execution_count": null,
   "metadata": {
    "deletable": false,
    "editable": false
   },
   "outputs": [],
   "source": [
    "villains = [\n",
    "    Villain(\"Riddler\", True, 3),\n",
    "    Villain(\"Scarecrow\", True, 10),\n",
    "    Villain(\"Penguin\", True, 6),\n",
    "    Villain(\"Joker\", False, 1),\n",
    "    Villain(\"Calendar Man\", False, 8),\n",
    "    Villain(\"Bane\", False, 5)\n",
    "]"
   ]
  },
  {
   "cell_type": "code",
   "execution_count": null,
   "metadata": {
    "deletable": false,
    "editable": false
   },
   "outputs": [],
   "source": [
    "def captured_villains(villains):\n",
    "    \"\"\"\n",
    "    Task 1a)\n",
    "\n",
    "    !!! DO NOT CHANGE THIS METHOD. !!!\n",
    "\n",
    "    You need to write code in the Villain class to solve this.\n",
    "    You can find the method you need here: https://docs.python.org/3/reference/datamodel.html#special-method-names\n",
    "    :return: A list of captured villains.\n",
    "    \"\"\"\n",
    "    return [str(x) for x in villains if x]"
   ]
  },
  {
   "cell_type": "code",
   "execution_count": null,
   "metadata": {},
   "outputs": [],
   "source": [
    "# Correct output:\n",
    "# Villain: Riddler, Captured: True, Rank: 3\n",
    "# Villain: Scarecrow, Captured: True, Rank: 10\n",
    "# Villain: Penguin, Captured: True, Rank: 6\n",
    "if not grading:\n",
    "    print(\"\\n\".join(captured_villains(villains)))"
   ]
  },
  {
   "cell_type": "code",
   "execution_count": null,
   "metadata": {
    "deletable": false,
    "editable": false
   },
   "outputs": [],
   "source": [
    "def villains_by_rank(villains):\n",
    "    \"\"\"\n",
    "    Task 1b)\n",
    "\n",
    "    !!! DO NOT CHANGE THIS METHOD. !!!\n",
    "\n",
    "    You need to write code in the Villain class to solve this.\n",
    "    You need to implement ALL SIX of the rich comparison methods.\n",
    "    You can find them here: https://docs.python.org/3/reference/datamodel.html#special-method-names\n",
    "\n",
    "    The villains must be ordered by their rank.\n",
    "\n",
    "    HINT: If you have implemented the methods correctly, the following should be possible:\n",
    "    villain1 < villain2\n",
    "    villain1 <= villain2\n",
    "    villain1 == villain2\n",
    "    villain1 != villain2\n",
    "    villain1 > villain2\n",
    "    villain1 >= villain2\n",
    "    where each comparison uses the rank of the villains for the comparison.\n",
    "\n",
    "    :return: A list of the string representation of Villains, sorted by their rank (ascending).\n",
    "    \"\"\"\n",
    "    return [str(x) for x in sorted(villains)]"
   ]
  },
  {
   "cell_type": "code",
   "execution_count": null,
   "metadata": {},
   "outputs": [],
   "source": [
    "# Correct output:\n",
    "# Villain: Joker, Captured: False, Rank: 1\n",
    "# Villain: Riddler, Captured: True, Rank: 3\n",
    "# Villain: Bane, Captured: False, Rank: 5\n",
    "# Villain: Penguin, Captured: True, Rank: 6\n",
    "# Villain: Calendar Man, Captured: False, Rank: 8\n",
    "# Villain: Scarecrow, Captured: True, Rank: 10\n",
    "if not grading:\n",
    "    print(\"\\n\".join(villains_by_rank(villains)))"
   ]
  },
  {
   "cell_type": "code",
   "execution_count": null,
   "metadata": {},
   "outputs": [],
   "source": [
    "def clean(unclean):\n",
    "    \"\"\"\n",
    "    Task 2a)\n",
    "\n",
    "    \"Cleans\" the self.unclean list.\n",
    "    You need to return a list containing all the numbers in self.unclean by using a list comprehension.\n",
    "\n",
    "    --> Implement this method in ONE line. <--\n",
    "\n",
    "    Use list comprehensions for this task: https://docs.python.org/3/tutorial/datastructures.html#list-comprehensions\n",
    "\n",
    "    HINT: Use type() as an \"if\" condition in the list comprehension to create a new list containing only the\n",
    "    integers.\n",
    "\n",
    "    :return: A new (!) list containing only the integers in self.unclean .\n",
    "    \"\"\"\n",
    "    return []  # either delete or replace this line with your solution"
   ]
  },
  {
   "cell_type": "code",
   "execution_count": null,
   "metadata": {},
   "outputs": [],
   "source": [
    "unclean = [1, 2, 3, \"Dust\", 4, \"Grime\", 5, \"Cobwebs\"]\n",
    "# Correct output:\n",
    "# [1, 2, 3, 4, 5]\n",
    "if not grading:\n",
    "    print(clean(unclean))"
   ]
  },
  {
   "cell_type": "code",
   "execution_count": null,
   "metadata": {},
   "outputs": [],
   "source": [
    "def check_todo(cleaning_status):\n",
    "    \"\"\"\n",
    "    Task 2b)\n",
    "\n",
    "    Checks which items still have to be cleaned and returns a list containing those items.\n",
    "\n",
    "    The structure is as follows:\n",
    "        [\n",
    "            (item1, status),\n",
    "            (item2, status),\n",
    "            ...\n",
    "        ]\n",
    "    The \"status\" describes whether or not the item is cleaned.\n",
    "    You have to return a list containing all the items that are not cleaned, and ONLY those items, NOT their status!\n",
    "\n",
    "    --> Implement this method in ONE line. <--\n",
    "\n",
    "    Use a list comprehension for this task: https://docs.python.org/3/tutorial/datastructures.html#list-comprehensions\n",
    "\n",
    "    HINT: You can unpack tuples in for loops (use Google to find out how, maybe you already know how to do it) or\n",
    "    you can iterate over the list of tuples and access the tuple elements by their index.\n",
    "\n",
    "    :return: A list containing the unfinished items from the todo list.\n",
    "    \"\"\"\n",
    "    return []  # either delete or replace this line with your solution"
   ]
  },
  {
   "cell_type": "code",
   "execution_count": null,
   "metadata": {},
   "outputs": [],
   "source": [
    "cleaning_status = [(\"Cups\", True), (\"Windows\", False), (\"Shoes\", True)]\n",
    "# Correct output:\n",
    "# ['Windows']\n",
    "if not grading:\n",
    "    print(check_todo(cleaning_status))"
   ]
  },
  {
   "cell_type": "code",
   "execution_count": null,
   "metadata": {},
   "outputs": [],
   "source": [
    "def check_bills(bills):\n",
    "    \"\"\"\n",
    "    Task 2c)\n",
    "\n",
    "    Calculates how much the total cost of the bills are.\n",
    "\n",
    "    You can find the list of bills in self.bills .\n",
    "\n",
    "    --> Implement this method in ONE line. <--\n",
    "\n",
    "    !!! Use reduce() to solve this task! https://docs.python.org/3/library/functools.html#functools.reduce !!!\n",
    "    Do NOT use sum() or anything like that. You MUST use reduce() !\n",
    "\n",
    "    :return: The total amount of bills to be paid.\n",
    "    \"\"\"\n",
    "    return -1  # either delete or replace this line with your solution"
   ]
  },
  {
   "cell_type": "code",
   "execution_count": null,
   "metadata": {},
   "outputs": [],
   "source": [
    "bills = [100, 300, 125.30, 10000]\n",
    "# Correct output:\n",
    "# 10525.3\n",
    "if not grading:\n",
    "    print(check_bills(bills))"
   ]
  },
  {
   "cell_type": "code",
   "execution_count": null,
   "metadata": {},
   "outputs": [],
   "source": [
    "def convert2float(t):\n",
    "    \"\"\"\n",
    "    Task 3a)\n",
    "\n",
    "    Converts an iterable (tuples, lists, ...) to a tuple of floats.\n",
    "    You may assume that the conversion to float never fails, you don't need to check the input for validity\n",
    "    or implement exception handling.\n",
    "    NOTE: This does not mean you can ignore exceptions! It means the input will never be structured in such a way\n",
    "    that an exception can occur - if you get an exception then your code is incorrect.\n",
    "\n",
    "    --> Implement this method in ONE line. <--\n",
    "\n",
    "    HINT: Use map(): https://docs.python.org/3/library/functions.html#map\n",
    "\n",
    "    :param t: An iterable.\n",
    "    :return: A tuple containing the values of \"t\", converted to float.\n",
    "    \"\"\"\n",
    "    return tuple()  # either delete or replace this line with your solution"
   ]
  },
  {
   "cell_type": "code",
   "execution_count": null,
   "metadata": {},
   "outputs": [],
   "source": [
    "t = [\"1\", \"2\", \"3\"]\n",
    "t = convert2float(t)\n",
    "# Correct output:\n",
    "# (1.0, 2.0, 3.0)\n",
    "if not grading:\n",
    "    print(t)"
   ]
  },
  {
   "cell_type": "code",
   "execution_count": null,
   "metadata": {},
   "outputs": [],
   "source": [
    "def load_coordinates():\n",
    "    \"\"\"\n",
    "    Task 3b)\n",
    "\n",
    "    Loads the scrambled coordinates.\n",
    "\n",
    "    Store the coordinates in a pandas DataFrame: https://pandas.pydata.org/pandas-docs/stable/reference/api/pandas.DataFrame.html\n",
    "    The DataFrame must have two columns: \"x\" and \"y\".\n",
    "\n",
    "    Each line contains one set of coordinates. The first value is the x-coordinate, the second value is\n",
    "    the y-coordinate.\n",
    "    You first need to split each line into two strings, where each of the strings represents either the x-coordinate\n",
    "    or the y-coordinate.\n",
    "\n",
    "    Use convert2float() from above to convert the coordinates to floats.\n",
    "    NOTE: convert2float() takes an iterable as input. Strings are iterable!\n",
    "\n",
    "    --> Make sure to convert the ENTIRE coordinate, NOT just the individual digits! <--\n",
    "\n",
    "    Then create a DataFrame containing two columns: \"x\" and \"y\", containing the x-coordinates in the \"x\" column\n",
    "    and the y-coordinates in the \"y\" column.\n",
    "    \n",
    "    :return: A DataFrame containing the coordinates.\n",
    "    \"\"\"\n",
    "    df = None  # either delete this line or save your dataframe in this variable\n",
    "    coordinates = []\n",
    "    with open(os.path.join(\"scrambled_coordinates.txt\"), \"r\") as f:\n",
    "        lines = f.readlines()\n",
    "    ##################\n",
    "    # YOUR CODE HERE #\n",
    "    ##################\n",
    "    return df"
   ]
  },
  {
   "cell_type": "code",
   "execution_count": null,
   "metadata": {},
   "outputs": [],
   "source": [
    "df = load_coordinates()\n",
    "correct_3b = pd.read_csv(\"3b_data.csv\")\n",
    "# If you see no error message everything is correct.\n",
    "if not grading:\n",
    "    pd.util.testing.assert_frame_equal(df, correct_3b)"
   ]
  },
  {
   "cell_type": "code",
   "execution_count": null,
   "metadata": {},
   "outputs": [],
   "source": [
    "def fix_symbol(df):\n",
    "    \"\"\"\n",
    "    Task 4)\n",
    "\n",
    "    You need to fix the corrupted coordinates data in this method.\n",
    "    To fix the data you need to iterate over the rows in the DataFrame and perform the following operations:\n",
    "        - if the x-coordinate value is >= 0, multiply it by itself\n",
    "        - if the row index is an even number, multiply both the x-coordinate and the y-coordinate by -1\n",
    "            (multiply it with the number \"minus one\")\n",
    "        - divide the y-coordinate by the x-coordinate\n",
    "        - divide the x-coordinate by the y-coordinate\n",
    "            NOTE: Do this AFTER you divide the y-coordinate by the x-coordinate, don't use the old y-coordinate\n",
    "            value for this. Use the value you get after you divide the y-coordinate by the x-coordinate.\n",
    "        - swap the x and y-coordinates\n",
    "    !!! You must perform these steps in the exact order outlined above! !!!\n",
    "    For example, the swapping must always be the FINAL step for each row.\n",
    "\n",
    "    :param df: The DataFrame containing the coordinates.\n",
    "    :return: A DataFrame with the fixed coordinates.\n",
    "    \"\"\"\n",
    "    ##################\n",
    "    # YOUR CODE HERE #\n",
    "    ##################\n",
    "    return df"
   ]
  },
  {
   "cell_type": "code",
   "execution_count": null,
   "metadata": {
    "deletable": false,
    "editable": false
   },
   "outputs": [],
   "source": [
    "def plot_df(df):\n",
    "    \"\"\"\n",
    "    !!! DO NOT CHANGE THIS METHOD. !!!\n",
    "\n",
    "    Plots the coordinates contained in the DataFrame.\n",
    "\n",
    "    :param df: The DataFrame containing the coordinates.\n",
    "    \"\"\"\n",
    "    ax1 = df.plot.scatter(x=\"x\", y=\"y\", color=\"yellow\")\n",
    "    ax1.set_facecolor(\"black\")\n",
    "    plt.show()"
   ]
  },
  {
   "cell_type": "code",
   "execution_count": null,
   "metadata": {
    "deletable": false,
    "editable": false
   },
   "outputs": [],
   "source": [
    "# Output of the corrupted data\n",
    "correct_3b = pd.read_csv(\"3b_data.csv\")\n",
    "if not grading:\n",
    "    plot_df(correct_3b)"
   ]
  },
  {
   "cell_type": "code",
   "execution_count": null,
   "metadata": {},
   "outputs": [],
   "source": [
    "correct_3b = pd.read_csv(\"3b_data.csv\")\n",
    "# you need to implement this before running this cell\n",
    "# if implemented correctly, you will see a symbol\n",
    "if not grading:\n",
    "    df = fix_symbol(correct_3b)\n",
    "    plot_df(df)"
   ]
  },
  {
   "cell_type": "code",
   "execution_count": null,
   "metadata": {},
   "outputs": [],
   "source": [
    "def superhero_data(percentile, df=None):\n",
    "    \"\"\"\n",
    "    Task 5)\n",
    "\n",
    "    Plots the data of the superheroes whose strength is in the lower percentile, for a given percentile.\n",
    "\n",
    "    You must load the file \"SuperheroDataset.csv\" into a DataFrame.\n",
    "    Then calculate the specified quantile for the \"Strength\" column.\n",
    "    HINT: There is a function in pandas you can use for this.\n",
    "    Example: 0.1 would indicate the 10% percentile. This is the value for \"Strength\" for which 10% of the\n",
    "    superheroes are below the rest, i.e. the 10% weakest superheroes.\n",
    "\n",
    "    !!! Do not forget to calculate the superheroes whose Strength level is are BELOW the percentile value. !!!\n",
    "\n",
    "    Then, for those superheroes, plot their Intelligence, Speed and Power as a bar chart.\n",
    "    Additionally:\n",
    "        - use the Name for the x-axis\n",
    "        - rotate the Name so it is readable from left to right (the default will be from bottom to top)\n",
    "        - set the figure size to be 1000x700 pixels\n",
    "        - change the colormap of the graph. You can find valid colormaps here: https://matplotlib.org/3.1.0/tutorials/colors/colormaps.html\n",
    "\n",
    "    :param percentile: The percentile.\n",
    "    :param df: Optional. If passed, this DataFrame will be used instead. Intended to be used if the percentile\n",
    "        calculation can't be solved.\n",
    "    \"\"\"\n",
    "    ##################\n",
    "    # YOUR CODE HERE #\n",
    "    ##################\n",
    "    plt.show()"
   ]
  },
  {
   "cell_type": "code",
   "execution_count": null,
   "metadata": {},
   "outputs": [],
   "source": [
    "df = None\n",
    "# df = pd.read_pickle(\"task5.pkl\")  # uncomment this if you cant solve the percentile calculation\n",
    "superhero_data(0.1, df=df)\n",
    "if not grading:\n",
    "    superhero_data(0.1)"
   ]
  }
 ],
 "metadata": {
  "celltoolbar": "Edit Metadata",
  "kernelspec": {
   "display_name": "Python 3",
   "language": "python",
   "name": "python3"
  },
  "language_info": {
   "codemirror_mode": {
    "name": "ipython",
    "version": 3
   },
   "file_extension": ".py",
   "mimetype": "text/x-python",
   "name": "python",
   "nbconvert_exporter": "python",
   "pygments_lexer": "ipython3",
   "version": "3.7.4"
  }
 },
 "nbformat": 4,
 "nbformat_minor": 4
}
