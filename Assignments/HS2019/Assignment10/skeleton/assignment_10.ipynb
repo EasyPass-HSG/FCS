{
 "cells": [
  {
   "cell_type": "code",
   "execution_count": null,
   "metadata": {},
   "outputs": [],
   "source": [
    "#-*- coding: utf-8 -*-"
   ]
  },
  {
   "cell_type": "markdown",
   "metadata": {},
   "source": [
    "<img align=\"right\" style=\"max-width: 200px; height: auto\" src=\"https://i.imgur.com/iNjt9Ic.png\">\n",
    "\n",
    "# Exercise 10 - \"Machine Learning II: <br /> Supervised Learning\"\n",
    "\n",
    "Fundamentals and Methods of Computer Science, University of St. Gallen, Autumn Term 2019"
   ]
  },
  {
   "cell_type": "markdown",
   "metadata": {},
   "source": [
    "## Introduction\n",
    "In this assignment we will continue where we left off with the previous one. Last week, you have learned to evaluate performance of Machine Learning models, now we will actually train such models. In this exercise we will cover training and evaluation of two common **classifiers**: Naive Bayes and k-Nearest Neighbors (kNN). Next week in our last exercise, we will train **Neural Networks** to classify images.\n",
    "\n",
    "<img align=\"center\" style=\"max-width: 800px; height: auto\" src=\"https://i.imgur.com/iv6NSf0.png\">"
   ]
  },
  {
   "cell_type": "markdown",
   "metadata": {},
   "source": [
    "Before we start let's watch another motivational video:"
   ]
  },
  {
   "cell_type": "code",
   "execution_count": null,
   "metadata": {},
   "outputs": [],
   "source": [
    "from IPython.display import YouTubeVideo\n",
    "# Google AI: \"Detecting cancer in real-time with machine learning\"\n",
    "YouTubeVideo('9Mz84cwVmS0', width=1024, height=576)"
   ]
  },
  {
   "cell_type": "markdown",
   "metadata": {},
   "source": [
    "## What classifiers are we going to use?\n",
    "\n",
    "The **Naive Bayes (NB)** classifier belongs to the family of simple \"probabilistic classifiers\" based on applying Bayes' theorem with a strong (naive) independence assumptions between the features. Naive Bayes has been studied extensively since the 1950s and remains an accessible (baseline) method for text categorization as well as other domains.\n",
    "\n",
    "\n",
    "The **k-Nearest Neighbors (kNN)** is a simple, easy to understand, versatile, but powerful machine learning algorithm. Until recently (prior to the advent of deep learning approaches) it was used in a variety of applications such as finance, healthcare, political science, handwriting detection, image recognition and video recognition. In Credit ratings, financial institutes will predict the credit rating of customers. "
   ]
  },
  {
   "cell_type": "markdown",
   "metadata": {},
   "source": [
    "## Exercise structure\n",
    "The following exercise is structured according to the following tasks:\n",
    "\n",
    "**Task 1:** Gaussian Naive Bayes Classification - 4 points\n",
    "> 1.1  Calculation of the Prior Probabilities $P(y)$ of each Class  \n",
    "> 1.2  Calculation of the Evidence $P(x)$ of each Feature  \n",
    "> 1.3  Calculation of the likelihood $P(x|y)$ of each Feature  \n",
    "> 1.4  Calculation of the Posterior Probabilities $P(y|x)$ of sample $x$ belonging to the given classes  \n",
    "\n",
    "**Task 2:** k-Nearest-Neighbors Classification - 4 points\n",
    "> 2.1 Dataset Pre-Processing    \n",
    "> 2.2 Distance Between (potential) Neighbors    \n",
    "> 2.3 Choosing the Class from the Neighbors   \n",
    "> 2.4 k-Nearest-Neighbor (kNN) Classification  \n",
    "> 2.5 kNN Performance over Different `k` Values\n",
    "\n",
    "**Task 3:** Supervised Learning - Understanding (Multiple Choice) - 2 points"
   ]
  },
  {
   "cell_type": "markdown",
   "metadata": {},
   "source": [
    "## Setup of the Assignment Environment"
   ]
  },
  {
   "cell_type": "markdown",
   "metadata": {},
   "source": [
    "Similar to the previous labs, we need to import a couple of Python libraries that allow for data analysis and data visualization. In this assignment will use [pandas](https://pandas.pydata.org/), [numpy](https://numpy.org/), [sklearn](https://scikit-learn.org/), [matplotlib](https://matplotlib.org/) and [seaborn](https://seaborn.pydata.org/) libraries. Let's import the libraries by the execution of the statements below:"
   ]
  },
  {
   "cell_type": "code",
   "execution_count": null,
   "metadata": {},
   "outputs": [],
   "source": [
    "# import the numpy, scipy and pandas data science library\n",
    "import pandas as pd\n",
    "import numpy as np\n",
    "from scipy.stats import norm as nm\n",
    "\n",
    "# import sklearn data and data pre-processing libraries\n",
    "#import sklearn\n",
    "from sklearn import datasets\n",
    "\n",
    "# import sklearn naive.bayes and k-nearest neighbor classifier library\n",
    "from sklearn.naive_bayes import GaussianNB\n",
    "from sklearn.neighbors import KNeighborsClassifier\n",
    "\n",
    "# import sklearn classification evaluation library\n",
    "from sklearn import metrics\n",
    "from sklearn.metrics import classification_report, confusion_matrix\n",
    "from sklearn.model_selection import train_test_split\n",
    "\n",
    "# import matplotlib data visualization library\n",
    "import matplotlib.pyplot as plt\n",
    "import seaborn as sns\n",
    "\n",
    "from IPython.display import display # displays data nicely in Notebook environment\n",
    "\n",
    "#Enable inline Jupyter notebook plotting:\n",
    "plt.ion()\n",
    "\n",
    "# set grading variable to False to test your code it will be set to True during grading\n",
    "if __name__ == '__main__':\n",
    "    grading = False\n",
    "else:\n",
    "    grading = True"
   ]
  },
  {
   "cell_type": "markdown",
   "metadata": {},
   "source": [
    "## Task 1: Gaussian \"Naive Bayes\" (NB) Classification"
   ]
  },
  {
   "cell_type": "markdown",
   "metadata": {},
   "source": [
    "One popular (and remarkably simple) algorithm is the **Naive Bayes Classifier**. Note that one natural way to address a given classification task is via the probabilistic question: **What is the most likely class $\\hat{y}$ given a set of observations $x$?** Formally, we wish to output a prediction for $y$ by calculating its posterior probabilities $P(y|x)$ given the expression:"
   ]
  },
  {
   "cell_type": "markdown",
   "metadata": {},
   "source": [
    "$$\\hat{y} = \\arg \\max_{y} P(y|x)$$"
   ]
  },
  {
   "cell_type": "markdown",
   "metadata": {},
   "source": [
    "In probability theory, the posterior probability refers to the probability of observing a particular class $y$ after taking into consideration all the available information $x$. \n",
    "\n",
    "If features could only take on small number of values (e.g. yes/no, low/medium/high) you could just count classes for each set of feature values and compute the probability belonging to certain class from that. \n",
    "\n",
    "In our case however, features are real-valued and are all different between observations. Computing probabilities directly would unfortunately require that we estimate $P(y | \\mathbf{x})$ for every value of $\\mathbf{x} = x_1, x_2, ..., x_n$. Even if we approximate, that is computationally infeasible in most cases. Moreover, this would lead to model working on the data in sample and not working for new \"unseen\" observations."
   ]
  },
  {
   "cell_type": "markdown",
   "metadata": {},
   "source": [
    "One solution to this challenge is the so-called **Bayes' theorem** (alternatively Bayes' rule) that you learned about in the lecture. It provides an elegant way of calculating class posterior probabilities $P(y|x)$ without the need of seeing every single possible example. Let's briefly revisit the formula of the Bayes' theorem below:"
   ]
  },
  {
   "cell_type": "markdown",
   "metadata": {},
   "source": [
    "<img align=\"center\" style=\"max-width: 400px; height: auto\" src=\"https://i.imgur.com/ToFW8Sy.png\">"
   ]
  },
  {
   "cell_type": "markdown",
   "metadata": {},
   "source": [
    "In the formula of the **Bayes' theorem** above,\n",
    "\n",
    ">- $P(y|x)$ denotes the **posterior** probability of class $y$ given a set of features $x$ denoted by $x_1, x_2, ..., x_n$.\n",
    ">- $P(y)$ denotes the **prior** probability of observing class $y$.\n",
    ">- $P(x|y)$ denotes the **likelihood** which is the probability of a feature $x$ given class $y$.\n",
    ">- $P(x)$ denotes the **evidence** which is the general probability of observing feature $x$."
   ]
  },
  {
   "cell_type": "markdown",
   "metadata": {},
   "source": [
    "Now, using the **chain rule** of probability, we can express the likelihood term $P( \\mathbf{x} | y)$ as:"
   ]
  },
  {
   "cell_type": "markdown",
   "metadata": {},
   "source": [
    "$$P( \\mathbf{x} | y) = P(x_1 | y) \\cdot P(x_2 | x_1, y) \\cdot ... \\cdot P( x_n | x_1, ..., x_{n-1}, y)$$"
   ]
  },
  {
   "cell_type": "markdown",
   "metadata": {},
   "source": [
    "By itself, this expression doesn't get us any further. We still need (in a worst case) estimate roughly $2^d$ parameters. The trick of the (naive) Bayes' theorem however is to assume that the distinct features $x_1, x_2, ..., x_n$ are conditionally independent from each other given a particular class $y$. \n",
    "\n",
    "Using this assumption we're in much better shape, as the likelihood term $p( \\mathbf{x} | y)$ term simplifies to: "
   ]
  },
  {
   "cell_type": "markdown",
   "metadata": {},
   "source": [
    "$$P( \\mathbf{x} | y) = P(x_1 | y) \\cdot P(x_2 | y) \\cdot ... \\cdot P( x_n | y) = \\prod^n_i P(x_i | y)$$"
   ]
  },
  {
   "cell_type": "markdown",
   "metadata": {},
   "source": [
    "Estimating each term in $\\prod^n_i p(x_i | y)$ amounts to estimating just one feature distribution. So our assumption of conditional independence has taken the complexity of our model (in terms of the number of parameters) from an exponential dependence on the number of features to a linear dependence. Hence, we call it the **\"naive\"** Bayes' theorem, since it makes the naive assumption about feature independence, so we don't have to care about dependencies among them."
   ]
  },
  {
   "cell_type": "markdown",
   "metadata": {},
   "source": [
    "## Dataset Download and Data Assessment (not graded)"
   ]
  },
  {
   "cell_type": "markdown",
   "metadata": {},
   "source": [
    "The **Iris Dataset** is a classic and straightforward dataset often used as a \"Hello World\" example in multi-class classification. This data set consists of measurements taken from three different types of iris flowers (referred to as **classes**),  namely the Iris Setosa, the Iris Versicolour, and, the Iris Virginica) and their respective measured petal and sepal length (referred to as **features**)."
   ]
  },
  {
   "cell_type": "markdown",
   "metadata": {},
   "source": [
    "<img align=\"center\" style=\"max-width: 700px; height: auto\" src=\"https://i.imgur.com/hWq26HC.png\">\n",
    "\n",
    "(Source: http://www.lac.inpe.br/~rafael.santos/Docs/R/CAP394/WholeStory-Iris.html)"
   ]
  },
  {
   "cell_type": "markdown",
   "metadata": {},
   "source": [
    "In total, the dataset consists of **150 samples** (50 samples taken per class) as well as their corresponding **4 different measurements** taken for each sample. Please, find below the list of the individual measurements:\n",
    "\n",
    ">- `Sepal length (cm)`\n",
    ">- `Sepal width (cm)`\n",
    ">- `Petal length (cm)`\n",
    ">- `Petal width (cm)`\n",
    "\n",
    "Let's briefly envision how the feature information of the dataset is collected and presented in the data:\n",
    "\n",
    "<img align=\"center\" style=\"max-width: 700px; height: auto\" src=\"https://i.imgur.com/l3O5crc.png\">\n",
    "\n",
    "Further details of the dataset can be obtained from the following publication: *Fisher, R.A. \"The use of multiple measurements in taxonomic problems\" Annual Eugenics, 7, Part II, 179-188 (1936); also in \"Contributions to Mathematical Statistics\" (John Wiley, NY, 1950).\"*"
   ]
  },
  {
   "cell_type": "markdown",
   "metadata": {},
   "source": [
    "Let's load the dataset and conduct a preliminary data assessment: "
   ]
  },
  {
   "cell_type": "code",
   "execution_count": null,
   "metadata": {},
   "outputs": [],
   "source": [
    "## do not change this cell ##\n",
    "if not grading:\n",
    "    # load data set\n",
    "    iris = datasets.load_iris()\n",
    "    # Print and inspect the names of the four features contained in the dataset:\n",
    "    print ('Feature names:', iris.feature_names)\n",
    "    # Determine dimensionality of the feature dataset & target variable:\n",
    "    print('Feature dimension:', iris.data.shape)\n",
    "    print('Target dimension:', iris.target.shape)\n",
    "    # Print and inspect the names of the three classes contained in the dataset:\n",
    "    print('Classes:', iris.target_names)   "
   ]
  },
  {
   "cell_type": "markdown",
   "metadata": {},
   "source": [
    "Let's save it as DataFrame and inspect the top five feature rows of the Iris Dataset:"
   ]
  },
  {
   "cell_type": "code",
   "execution_count": null,
   "metadata": {
    "scrolled": true
   },
   "outputs": [],
   "source": [
    "## do not change this cell ##\n",
    "if not grading:\n",
    "    #convert dataset to pandas dataframe\n",
    "    df = pd.concat([pd.DataFrame(iris.data, columns=iris.feature_names),\n",
    "                    pd.Series(iris.target,name='target',dtype='category').cat.rename_categories(iris.target_names)],axis=1)\n",
    "    #print top 5 results\n",
    "    display(df.head(5))"
   ]
  },
  {
   "cell_type": "markdown",
   "metadata": {},
   "source": [
    "Let's now conduct a more in-depth data assessment. Therefore, we plot the feature distributions of the Iris dataset according to their respective class memberships as well as the features pairwise relationships."
   ]
  },
  {
   "cell_type": "markdown",
   "metadata": {},
   "source": [
    "Please note that we use Python's **Seaborn** library to create such a plot referred to as **Pairplot**. The Seaborn library is a powerful data visualization library based on the Matplotlib. It provides a great interface for drawing informative statistical graphics (https://seaborn.pydata.org). "
   ]
  },
  {
   "cell_type": "code",
   "execution_count": null,
   "metadata": {
    "scrolled": true
   },
   "outputs": [],
   "source": [
    "## do not change this cell ##\n",
    "if not grading:\n",
    "    # plot a pairplot of the distinct feature distributions\n",
    "    sns.pairplot(df, diag_kind='hist', hue='target');"
   ]
  },
  {
   "cell_type": "markdown",
   "metadata": {},
   "source": [
    "It can be observed from the created Pairplot, that most of the feature measurements that correspond to flower class \"setosa\" exhibit a nice **linear seperability** from the feature measurements of the remaining flower classes. In addition, the flower classes \"versicolor\" and \"virginica\" exhibit a commingled and **non-linear separability** across all the measured feature distributions of the Iris Dataset."
   ]
  },
  {
   "cell_type": "markdown",
   "metadata": {},
   "source": [
    "As discussed in the last lab we need to separate dataset into a **training set** (the fraction of data records solely used for training purposes) and a **test set** (the fraction of data records solely used for testing purposes). We set the fraction of testing records to **30%** of the original dataset:\n",
    "\n",
    "<img align=\"center\" style=\"max-width: 500px; height: auto\" src=\"https://i.imgur.com/RPhWoQA.png\">"
   ]
  },
  {
   "cell_type": "code",
   "execution_count": null,
   "metadata": {},
   "outputs": [],
   "source": [
    "## do not change this cell ##\n",
    "if not grading:\n",
    "    test_fraction = 0.3 \n",
    "    # make results reproducable\n",
    "    random_seed = 42 \n",
    "    # 70% training and 30% evaluation\n",
    "    x_train, x_test, y_train, y_test = train_test_split(iris.data, iris.target, test_size=test_fraction, random_state=random_seed, stratify=None)"
   ]
  },
  {
   "cell_type": "markdown",
   "metadata": {},
   "source": [
    "## Task 1.1: Calculation of the prior probabilities $P(y)$ of each Class"
   ]
  },
  {
   "cell_type": "markdown",
   "metadata": {},
   "source": [
    "First, we need to calculating the prior probability $P(y)$ of each class iris flower contained in the dataset. Therefore, we first obtain the number of occurrences of each class in the extracted training data and we divide the class counts by the overall number of observations contained in the extracted training data:"
   ]
  },
  {
   "cell_type": "code",
   "execution_count": null,
   "metadata": {},
   "outputs": [],
   "source": [
    "#Task 1.1\n",
    "def calculate_prior(x_data):\n",
    "    '''\n",
    "    Function to compute prior probability per class\n",
    "    \n",
    "    Implement the function using only numpy and pandas\n",
    "    return 1-d array of probabilities (length = number of classes)\n",
    "    Hint: use numpy.unique to get unique classes\n",
    "    \n",
    "    :param x_data: input data as numpy ndarray. Rows correspond to objects/samples, columns to the features.\n",
    "\n",
    "    :return:prior: numpy ndarray containing priors per class.\n",
    "    '''\n",
    "    \n",
    "    ### your code here ###\n",
    "    \n",
    "    \n",
    "    ### all done ###\n",
    "    \n",
    "    return prior "
   ]
  },
  {
   "cell_type": "code",
   "execution_count": null,
   "metadata": {},
   "outputs": [],
   "source": [
    "## do not change this cell ##\n",
    "if not grading:\n",
    "    pr = calculate_prior(y_train)\n",
    "    display(pd.DataFrame(pr[None,:], columns=iris.target_names, index=['prior']))"
   ]
  },
  {
   "cell_type": "markdown",
   "metadata": {},
   "source": [
    "Your output should look something like:\n",
    "```\n",
    "            setosa\tversicolor\tvirginica\n",
    "prior\t0.295238\t0.352381\t0.352381\n",
    "```"
   ]
  },
  {
   "cell_type": "markdown",
   "metadata": {},
   "source": [
    "## Task 1.2: Calculation of the Evidence $P(x)$ of each Feature"
   ]
  },
  {
   "cell_type": "markdown",
   "metadata": {},
   "source": [
    "Let's now calculate the general probability of observing feature $𝑥$ which denotes the evidence $P(x)$ of a feature.\n",
    "\n",
    "During the lecture you learned that evidence distribution can be approximated by a Gaussian (Normal) probability distribution $\\mathcal{N}(\\mu, \\sigma)$. This simplification is justified by the application of the \"law of large numbers\" or \"Central Limit Theorem\" (you may want to have a look at further details of the theorem under: https://en.wikipedia.org/wiki/Central_limit_theorem). In general, the probability density of a Gaussian \"Normal\" distribution, as defined by the formula below. It is parametrized its mean $\\mu$ and corresponding standard deviation $\\sigma$:"
   ]
  },
  {
   "cell_type": "markdown",
   "metadata": {},
   "source": [
    "<img align=\"center\" style=\"max-width: 500px; height: auto\" src=\"https://i.imgur.com/77B66ni.png\">"
   ]
  },
  {
   "cell_type": "markdown",
   "metadata": {},
   "source": [
    "Using the \"law of large numbers\" we will approximate the probability density $P(x) \\approx \\mathcal{N}(x | \\mu, \\sigma)$ of each feature by a Gaussian. So as a first step we need to estimate $\\mu$ and $\\sigma$ for each feature."
   ]
  },
  {
   "cell_type": "code",
   "execution_count": null,
   "metadata": {},
   "outputs": [],
   "source": [
    "#Task 1.2.1\n",
    "def calculate_evidence_mu_sigma(x_data):\n",
    "    '''\n",
    "    Function to compute mean and standard deviation of features in the dataset\n",
    "    Implement the function using only numpy and pandas\n",
    "    \n",
    "    Return 2 arrays, first containing means of features and second their standard deviation\n",
    "      \n",
    "    :param x_data: input data as numpy ndarray. Rows correspond to objects/samples, columns to the features.\n",
    "\n",
    "    :return:\n",
    "        - mu - numpy ndarray containing means per feature\n",
    "        - sigma - numpy ndarray containing standard deviation per feature\n",
    "    '''\n",
    "    \n",
    "    ### your code here ###\n",
    "\n",
    "    \n",
    "    \n",
    "    ### all done ###\n",
    "    \n",
    "    return [mu, sigma]"
   ]
  },
  {
   "cell_type": "code",
   "execution_count": null,
   "metadata": {},
   "outputs": [],
   "source": [
    "## do not change this cell ##\n",
    "if not grading:\n",
    "    mu_evid, sigma_evid = calculate_evidence_mu_sigma(x_train)\n",
    "    #show results\n",
    "    display(pd.DataFrame(np.concatenate([mu_evid[None,:], sigma_evid[None,:]]),\n",
    "                         columns=iris.feature_names, index=['mu','sigma']))"
   ]
  },
  {
   "cell_type": "markdown",
   "metadata": {},
   "source": [
    "Let's now plot the approximate Gaussian (Normal) probability density distribution $P(x) \\approx \\mathcal{N}(\\mu, \\sigma)$:"
   ]
  },
  {
   "cell_type": "code",
   "execution_count": null,
   "metadata": {},
   "outputs": [],
   "source": [
    "## do not change this cell ##\n",
    "if not grading:\n",
    "    # prepare plot\n",
    "    fig = plt.figure()\n",
    "    ax = fig.add_subplot(111)\n",
    "\n",
    "    # calculate the probability density function of the Gaussian distribution\n",
    "    hist_gauss_sepal_length = nm.pdf(np.arange(0, 10, 0.1), mu_evid[0], sigma_evid[0])\n",
    "\n",
    "    # plot fitted \"gaussian\" or normal distribution\n",
    "    ax.plot(np.arange(0, 10, 0.1), hist_gauss_sepal_length, color='orange', linestyle='--', linewidth=2)\n",
    "\n",
    "    # plot histogram of \"sepal length\" observations\n",
    "    ax.hist(x_train[:, 0], bins=20, range=(0, 10), density=True, color='green')\n",
    "\n",
    "    # add grid\n",
    "    ax.grid(linestyle='dotted')\n",
    "\n",
    "    # add axis range and legends\n",
    "    ax.set_xlabel(\"$x$\", fontsize=10)\n",
    "    ax.set_ylabel(\"$P(x)$\", fontsize=10)\n",
    "\n",
    "    # add plot title\n",
    "    ax.set_title('Gaussian Approximation of the \"Sepal Length\" feature', fontsize=10);"
   ]
  },
  {
   "cell_type": "markdown",
   "metadata": {},
   "source": [
    "Now we can aggregate the evidence for a single observation based on its features"
   ]
  },
  {
   "cell_type": "code",
   "execution_count": null,
   "metadata": {},
   "outputs": [],
   "source": [
    "#Task 1.2.2\n",
    "def calculate_evidence(obs, mu, sigma):\n",
    "    '''\n",
    "    Function to compute evidence for observation based on its features \n",
    "    and estimated mu and sigma\n",
    "    \n",
    "    Implement the function using only numpy and pandas\n",
    "    \n",
    "    Return single evidence value for observation (all features combined)\n",
    "    \n",
    "    Hint: evidence for observation is product of evidences for each feature\n",
    "      \n",
    "    :param obs: numpy ndarray or list of features\n",
    "    :param mu: numpy ndarray or list of feature means\n",
    "    :param sigma: numpy ndarray or list of feature means\n",
    "\n",
    "    :return: evidence: numpy ndarray containing priors per class.\n",
    "    '''\n",
    "    \n",
    "    ### your code here ###\n",
    "    \n",
    "    \n",
    "    ### all done ###\n",
    "    \n",
    "    return evidence"
   ]
  },
  {
   "cell_type": "code",
   "execution_count": null,
   "metadata": {},
   "outputs": [],
   "source": [
    "## do not change this cell ##\n",
    "if not grading:\n",
    "    sepal_length = 5.8 \n",
    "    sepal_width  = 3.5\n",
    "    petal_length = 1.5\n",
    "    petal_width  = 0.25\n",
    "    obs = [sepal_length, sepal_width, petal_length, petal_width]\n",
    "    ev = calculate_evidence(obs, mu_evid, sigma_evid)\n",
    "    print('Evidence for random example:', ev)\n",
    "    \n",
    "    # if we were to make some unrealistic example we would get very low evidence:\n",
    "    sepal_length = 15\n",
    "    obs = [sepal_length, sepal_width, petal_length, petal_width]\n",
    "    ev = calculate_evidence(obs, mu_evid, sigma_evid)\n",
    "    print('Evidence for unrealistic example approaches zero:', ev)"
   ]
  },
  {
   "cell_type": "markdown",
   "metadata": {},
   "source": [
    "Your output should look something like:\n",
    "```\n",
    "Evidence for random example: 0.00453608748310886  \n",
    "Evidence for unrealistic example approaches zero: 1.5241725386096942e-29\n",
    "```"
   ]
  },
  {
   "cell_type": "markdown",
   "metadata": {},
   "source": [
    "## Task 1.3: Calculation of the likelihood $P(x|y)$ of each Feature"
   ]
  },
  {
   "cell_type": "markdown",
   "metadata": {},
   "source": [
    "Let's now see how we can calculate the **likelihood** $P(x|y)$ which is the probability density of a feature given a certain class $y$. We will again can estimate $P(x|y)$ by a Gaussian (Normal) probability distribution $\\mathcal{N}(\\mu, \\sigma)$ applying the \"law of large numbers\".\n",
    "\n",
    "The **likelihood** probability density of a Gaussian \"Normal\" distribution, as defined by the formula below, is determined by its mean $\\mu$, standard deviation $\\sigma$ and its corresponding class condition $y$:"
   ]
  },
  {
   "cell_type": "markdown",
   "metadata": {},
   "source": [
    "<img align=\"center\" style=\"max-width: 500px; height: auto\" src=\"https://i.imgur.com/77B66ni.png\">"
   ]
  },
  {
   "cell_type": "markdown",
   "metadata": {},
   "source": [
    "We are again able to determine the approximate Gaussian (Normal) probability density distribution $\\mathcal{N}(\\mu, \\sigma, y)$ of each feature given the class using the $\\mu$ and $\\sigma$:"
   ]
  },
  {
   "cell_type": "code",
   "execution_count": null,
   "metadata": {},
   "outputs": [],
   "source": [
    "#Task 1.3.1\n",
    "def calculate_likelihood_mu_sigma(x_data, y_data):\n",
    "    '''    \n",
    "    Function to compute mean and standard deviation of each feature conditioned on the class\n",
    "    return two 2-d arrays, first containing means of features per class and second their standard deviations per class\n",
    "    Example: \n",
    "    m, s = calculate_likelihood_mu_sigma(data_x, data_y)\n",
    "    m[i][j] then should contain mean in class \"i\" for feature \"j\"\n",
    "    and analagous s should contain standard deviations\n",
    "    Hint: extract list of classes by using .unique() function from numpy\n",
    "    Hint2: when calculating standard deviation please use unbiased estimator (with n-1 degrees of freedom)\n",
    "           this corresponds to \"ddof=1\" parameter in numpy (in pandas it is default)\n",
    "    \n",
    "    Implement the function using only numpy and pandas\n",
    "      \n",
    "    :param x_data: input data as numpy ndarray. Rows correspond to objects/samples, columns to the features.\n",
    "    :param y_data: numpy ndarray containing labels for observations. Rows correspond to objects/samples\n",
    "\n",
    "    :return:\n",
    "        - mu_list - list of numpy ndarray containing means per feature conditioned on class\n",
    "        - sigma_list - list of numpy ndarray containing standard deviation per feature conditioned on class\n",
    "    '''\n",
    "    \n",
    "    ### your code here ###\n",
    "\n",
    "\n",
    "    \n",
    "    ### all done ###\n",
    "        \n",
    "    return [mu_list, sigma_list]"
   ]
  },
  {
   "cell_type": "code",
   "execution_count": null,
   "metadata": {},
   "outputs": [],
   "source": [
    "## do not change this cell ##\n",
    "if not grading:\n",
    "    mu_lik, sigma_lik = calculate_likelihood_mu_sigma(x_train, y_train) #store output in temp variables\n",
    "    #show results\n",
    "    print('Conditioned on class \"' + iris.target_names[0] + '\":')\n",
    "    display(pd.DataFrame(np.concatenate([mu_lik[0][None,:], sigma_lik[0][None,:]]),columns=iris.feature_names, index=['mu','sigma']))\n",
    "    print('\\n\\nConditioned on class \"' + iris.target_names[1] + '\":')\n",
    "    display(pd.DataFrame(np.concatenate([mu_lik[1][None,:], sigma_lik[1][None,:]]),columns=iris.feature_names, index=['mu','sigma']))\n",
    "    print('\\n\\nConditioned on class \"' + iris.target_names[2] + '\":')\n",
    "    display(pd.DataFrame(np.concatenate([mu_lik[2][None,:], sigma_lik[2][None,:]]),columns=iris.feature_names, index=['mu','sigma']))"
   ]
  },
  {
   "cell_type": "markdown",
   "metadata": {},
   "source": [
    "Let's now plot the approximate Gaussian (Normal) probability density distribution $P(x | y) \\approx \\mathcal{N}(\\mu, \\sigma, y)$ for selap length in different classes:"
   ]
  },
  {
   "cell_type": "code",
   "execution_count": null,
   "metadata": {},
   "outputs": [],
   "source": [
    "## do not change this cell ##\n",
    "if not grading:\n",
    "    # prepare plot\n",
    "    fig, ax = plt.subplots(3, figsize=(6,12))\n",
    "    \n",
    "    for i in range(3): # do for 3 classes\n",
    "        # calculate the probability density function of the Gaussian distribution for each class\n",
    "        hist_gauss_sepal_length = nm.pdf(np.arange(0, 10, 0.1), mu_lik[i][0], sigma_lik[i][0])\n",
    "\n",
    "        # plot fitted \"gaussian\" or normal distribution\n",
    "        ax[i].plot(np.arange(0, 10, 0.1), hist_gauss_sepal_length, color='orange', linestyle='--', linewidth=2)\n",
    "\n",
    "        # plot histogram of \"sepal length\" observations given the class \"setosa\"\n",
    "        ax[i].hist(x_train[y_train==i, 0], bins=20, range=(0, 10), density=True, color='green')\n",
    "\n",
    "        # add grid\n",
    "        ax[i].grid(linestyle='dotted')\n",
    "\n",
    "        # add axis range and legends\n",
    "        ax[i].set_ylabel(\"$P(x)$\", fontsize=10)\n",
    "\n",
    "        # add plot title\n",
    "        ax[i].set_title('Gaussian Approximation of \"Sepal Length\" feature given class \"' + iris.target_names[i] + '\"', fontsize=10);\n",
    "    \n",
    "    # add lable to x axis in the final chart\n",
    "    ax[2].set_xlabel(\"$x$\", fontsize=10)\n"
   ]
  },
  {
   "cell_type": "markdown",
   "metadata": {},
   "source": [
    "Now we can aggregate likelihood for one single observation based on its corresponding features"
   ]
  },
  {
   "cell_type": "code",
   "execution_count": null,
   "metadata": {},
   "outputs": [],
   "source": [
    "#Task 1.3.2\n",
    "def calculate_likelihood(obs, mu_list, sigma_list):  \n",
    "    '''\n",
    "    Function to compute likelihood for observation per class based on its class conditional mu and sigmas\n",
    "    Return array of likelihood values for each class\n",
    "    Hint: class likelihood for observation is product of likelihoods for each feature\n",
    "    \n",
    "    Implement the function using only numpy and pandas\n",
    "      \n",
    "    :param obs: numpy ndarray or list of features\n",
    "    :param mu_list: list of numpy ndarrays of feature means conditioned on class \n",
    "    :param sigma_list: list of numpy ndarrays of feature means conditioned on class\n",
    "\n",
    "    :return: likelihood: numpy array containing likelihoods for each class.\n",
    "    '''\n",
    "    \n",
    "    ### your code here ###\n",
    "    \n",
    "\n",
    "    \n",
    "    ### all done ###\n",
    "    \n",
    "    return likelihood"
   ]
  },
  {
   "cell_type": "code",
   "execution_count": null,
   "metadata": {},
   "outputs": [],
   "source": [
    "## do not change this cell ##\n",
    "if not grading:\n",
    "    sepal_length = 5.8 \n",
    "    sepal_width  = 3.5\n",
    "    petal_length = 1.5\n",
    "    petal_width  = 0.25\n",
    "    obs = [sepal_length, sepal_width, petal_length, petal_width]\n",
    "    lk = calculate_likelihood(obs, mu_lik, sigma_lik)\n",
    "    display(pd.DataFrame(lk[None,:], columns=iris.target_names, index=['likelihood']))"
   ]
  },
  {
   "cell_type": "markdown",
   "metadata": {},
   "source": [
    "Your result should look something like this:\n",
    "```\n",
    "                setosa\tversicolor\tvirginica\n",
    "likelihood\t0.446529\t3.818522e-14\t2.769972e-21\n",
    "```"
   ]
  },
  {
   "cell_type": "markdown",
   "metadata": {},
   "source": [
    "## Task 1.4: Calculation of the Posterior Probabilities $P(y|x)$ of sample $x$ belonging to the given classes"
   ]
  },
  {
   "cell_type": "markdown",
   "metadata": {},
   "source": [
    "Now we have can implement a function to train all parameters at the same time: "
   ]
  },
  {
   "cell_type": "code",
   "execution_count": null,
   "metadata": {},
   "outputs": [],
   "source": [
    "#Task 1.4.1\n",
    "def train_nb_parameters(x_data, y_data):\n",
    "    '''\n",
    "    Function to train parameters of Gaussian Naive Bayes model\n",
    "    Return prior, evidence mu, evidence sigma, likelihood mu and likelihood sigma\n",
    "\n",
    "    Implement the function using only numpy and pandas\n",
    "      \n",
    "    :param x_data: input data as numpy ndarray. Rows correspond to objects/samples, columns to the features.\n",
    "    :param y_data: numpy ndarray containing labels for observations. Rows correspond to objects/samples\n",
    "\n",
    "    :return:\n",
    "        - prior - numpy ndarray containing priors per class\n",
    "        - mu_evid - numpy ndarray containing means per feature\n",
    "        - sigma_evid - numpy ndarray containing standard deviation per feature\n",
    "        - mu_lik - list of numpy ndarray containing means per feature conditioned on class\n",
    "        - sigma_lik - list of numpy ndarray containing standard deviation per feature conditioned on class\n",
    "    '''\n",
    "    \n",
    "    ### your code here ### \n",
    "    \n",
    "\n",
    "        \n",
    "    ### all done ###\n",
    "    \n",
    "    return [prior, mu_evid, sigma_evid, mu_lik, sigma_lik]"
   ]
  },
  {
   "cell_type": "code",
   "execution_count": null,
   "metadata": {},
   "outputs": [],
   "source": [
    "## do not change this cell ##\n",
    "if not grading:\n",
    "    prior, mu_evid, sigma_evid, mu_lik, sigma_lik = train_nb_parameters(x_train, y_train)\n",
    "    print(\"prior:\", prior, \"\\n\")\n",
    "    print(\"evidence mu: \", mu_evid, \"\\n\") \n",
    "    print(\"evidence sigma: \", sigma_evid, \"\\n\") \n",
    "    print(\"likelihood mu:\")\n",
    "    display(mu_lik) \n",
    "    print(\"likelihood sigma:\")\n",
    "    display(sigma_lik) "
   ]
  },
  {
   "cell_type": "markdown",
   "metadata": {},
   "source": [
    "Now we have determined all the necessary probabilities and probability distributions $P(y)$, $P(x)$ and $P(x|y)$ to determine if an unseen **iris flower** observation corresponds to a certain class. Let's implement the corresponding function:"
   ]
  },
  {
   "cell_type": "code",
   "execution_count": null,
   "metadata": {},
   "outputs": [],
   "source": [
    "#Task 1.4.2\n",
    "def predict_probability_and_class(obs, prior, mu_evid, sigma_evid, mu_lik, sigma_lik):\n",
    "    '''\n",
    "    Function to predict probability for observation to belong to certain class and class with highest probability\n",
    "    Return probabilities per class and class number\n",
    "    \n",
    "    Hint: here you have to apply Bayes formula, but the result will not be porbability, but a \"score\"\n",
    "    Hint2: You have to normalize the score to obtain probability (divide all elements of the score by their sum)\n",
    "    \n",
    "    Implement the function using only numpy and pandas\n",
    "      \n",
    "    :param obs: numpy ndarray or list of features\n",
    "    :param prior: numpy ndarray containing priors per class\n",
    "    :param mu_evid: numpy ndarray or list of feature means\n",
    "    :param sigma_evid: numpy ndarray or list of feature means\n",
    "    :param mu_lik: list of numpy ndarrays of feature means conditioned on class \n",
    "    :param sigma_lik: list of numpy ndarrays of feature means conditioned on class\n",
    "\n",
    "    :return:\n",
    "        - prob - numpy ndarray containing probabilities to belong each class\n",
    "        - clas - value indicatig predicted class\n",
    "    '''\n",
    "    \n",
    "    ### your code here ###\n",
    "\n",
    "\n",
    "    \n",
    "    ### all done ###\n",
    "    \n",
    "    return  prob, clas"
   ]
  },
  {
   "cell_type": "markdown",
   "metadata": {},
   "source": [
    "Now let us test how the function works:"
   ]
  },
  {
   "cell_type": "code",
   "execution_count": null,
   "metadata": {},
   "outputs": [],
   "source": [
    "## do not change this cell ##\n",
    "if not grading:\n",
    "    # check some feature \n",
    "    obs = x_test[0]\n",
    "    prob, clas = predict_probability_and_class(obs, prior, mu_evid, sigma_evid, mu_lik, sigma_lik)\n",
    "    display(pd.DataFrame(prob[None,:],columns=iris.target_names, index = [\"Probability\"]))\n",
    "    print(\"Predicted Class: \" + iris.target_names[clas])\n",
    "    print(\"True Class: \" + iris.target_names[y_test[0]])"
   ]
  },
  {
   "cell_type": "markdown",
   "metadata": {},
   "source": [
    "Now we can make prediction for the whole training and testing data sets and check accuracy. You could also apply techniques learned in the previous lab to compute other performance measures such as precision, recall, etc. (Not graded)"
   ]
  },
  {
   "cell_type": "code",
   "execution_count": null,
   "metadata": {},
   "outputs": [],
   "source": [
    "## do not change this cell ##\n",
    "if not grading:\n",
    "    #create array of the same dimension for training labels\n",
    "    pred_train = y_train.copy() \n",
    "    for i in range(len(pred_train)): \n",
    "        _, pred_train[i] = predict_probability_and_class(x_train[i], prior, mu_evid, sigma_evid, mu_lik, sigma_lik)\n",
    "    print(\"Training accuracy:\",sum(pred_train == y_train)/len(pred_train))\n",
    "\n",
    "    #create array of the same dimension for testing labels\n",
    "    pred_test = y_test.copy() \n",
    "    for i in range(len(pred_test)): \n",
    "        _, pred_test[i] = predict_probability_and_class(x_test[i], prior, mu_evid, sigma_evid, mu_lik, sigma_lik)\n",
    "    print(\"Testing accuracy:\",sum(pred_test == y_test)/len(pred_test))"
   ]
  },
  {
   "cell_type": "markdown",
   "metadata": {},
   "source": [
    "Phew... this was complicated :) Luckily, there is a Python library named `sklearn` (https://scikit-learn.org) that provides a variety of machine learning algorithms that can be easily interfaced using the Python programming language. It also contains supervised classification algorithms such as the **Gaussian Naive-Bayes** classifier which we can use of the shelf. "
   ]
  },
  {
   "cell_type": "code",
   "execution_count": null,
   "metadata": {},
   "outputs": [],
   "source": [
    "## do not change this cell ##\n",
    "if not grading:\n",
    "    # initialize classifier\n",
    "    gnb = GaussianNB(priors=None, var_smoothing=1e-09)\n",
    "    # train model\n",
    "    gnb.fit(x_train, y_train)\n",
    "    # make prediction \n",
    "    pred_train = gnb.predict(x_train)\n",
    "    pred_test = gnb.predict(x_test)\n",
    "    print(\"Training accuracy:\",sum(pred_train == y_train)/len(pred_train))\n",
    "    print(\"Training accuracy:\",sum(pred_test == y_test)/len(pred_test))\n",
    "    "
   ]
  },
  {
   "cell_type": "markdown",
   "metadata": {},
   "source": [
    "You can compare your results with these, you should hopefully get the same."
   ]
  },
  {
   "cell_type": "markdown",
   "metadata": {},
   "source": [
    "# Task 2: k-Nearest-Neighbors (kNN) Classification"
   ]
  },
  {
   "cell_type": "markdown",
   "metadata": {},
   "source": [
    "Now, let's have a closer look into a non-parametric method used for classification, the **k-Nearest-Neighbors (kNN)** method.\n",
    "\n",
    "A kNN classifier predicts class labels based on known samples with similar properties. To set you up for why the neighborhood of a unknown sample might be a good indicator for its class, let's take a look at the following figure.\n",
    "\n",
    "<img align=\"center\" style=\"max-width: 600px; height: auto\" src=\"https://i.imgur.com/81Rp4nV.png\">\n",
    "\n",
    "[source](https://towardsdatascience.com/machine-learning-basics-with-the-k-nearest-neighbors-algorithm-6a6e71d01761)\n",
    "\n",
    "The markers symbolize samples, the colors different classes. In many cases, the landscape looks like in the figure above: samples of the same class *populate* similar regions, while other classes generally *live* somewhere else. If we get the *location* of a new sample of which we don't know the class yet, it therefore makes sense to take a look at the neighborhood: what are the dominant classes there? The new sample probably belongs to the same class as the samples around it. \n"
   ]
  },
  {
   "cell_type": "markdown",
   "metadata": {},
   "source": [
    "**k-Nearest-Neighbor (kNN)** classification is the systematic use of that observation. It predicts class labels of unknown samples based on it's `k` known neighbors. Let's briefly revisit the distinct steps of the algorithm as discussed in the lecture:  \n",
    "\n",
    "<img align=\"center\" style=\"max-width: 600px; height: auto\" src=\"https://i.imgur.com/l45GtsW.png\">"
   ]
  },
  {
   "cell_type": "markdown",
   "metadata": {},
   "source": [
    "For each new sample, the neighborhood is identified (step 2). In step 3, a sample is classified by a majority vote of its neighborhood, with the sample being assigned to the class most common among its k nearest neighbors (k is a positive integer). If k = 1, then the sample is simply assigned to the class of that single nearest neighbor."
   ]
  },
  {
   "cell_type": "markdown",
   "metadata": {},
   "source": [
    "Because new samples are classified by neighbors, for which the classes are known, k Nearest-Neighbor generally requires no training. Instead, when we classify a new sample, we look for the 'k' nearest neighbors and choose the class label of the dominant class. We can organize the method by the following steps:\n",
    "> 1. **distance** of the new sample to all training samples -> we'll implement the **get_distance** function to compute the distance between two samples.\n",
    "> 2. **sort** the objects by distance and get the `k` closest samples or neighbors. We'll do that in the kNN main function **make_knn_prediction**.\n",
    "> 3. **class label prediction** of the new sample from the neighbors -> we'll implement the majority vote in the **select_class_label_from_neighbors** function.\n",
    "\n",
    "In the following, you will implement these steps and put it all together. First, we'll load and preprocess the dataset."
   ]
  },
  {
   "cell_type": "markdown",
   "metadata": {},
   "source": [
    "## Dataset Download and Data Assessment"
   ]
  },
  {
   "cell_type": "markdown",
   "metadata": {},
   "source": [
    "The **\"Wine\"** dataset is a classic dataset for multi-class classification. We'll use it for this task. \n",
    "\n",
    "The data is the results of a chemical analysis of wines grown in the same region in Italy by three different cultivators (types). The dataset consists of in total **178 wines** as well as their corresponding **13 different measurements** taken for different constituents found in the three types of wine. Please, find below the list of the individual measurements (features):\n",
    "\n",
    ">- `Alcohol`\n",
    ">- `Malic acid`\n",
    ">- `Ash`\n",
    ">- `Alcalinity of ash`\n",
    ">- `Magnesium`\n",
    ">- `Total phenols`\n",
    ">- `Flavanoids`\n",
    ">- `Nonflavanoid phenols`\n",
    ">- `Proanthocyanins`\n",
    ">- `Color intensity`\n",
    ">- `Hue`\n",
    ">- `OD280/OD315 of diluted wines`\n",
    ">- `CProline`\n",
    "\n",
    "Further details on the dataset can be obtained from the following publication: *Forina, M. et al, PARVUS - \"An Extendible Package for Data Exploration, Classification and Correlation.\", Institute of Pharmaceutical and Food Analysis and Technologies, Via Brigata Salerno, 16147 Genoa, Italy.*\n",
    "\n",
    "Let's load the dataset and conduct a preliminary data assessment. To load and inspect the dataset, run the code in the cell below. It gives you information in input data, output data, also called *target* or *ground truth* and the dimensions of the dataset.\n",
    "The pairplot visualizes the interdependency of the different dimensions of the input data. "
   ]
  },
  {
   "cell_type": "code",
   "execution_count": null,
   "metadata": {},
   "outputs": [],
   "source": [
    "if not grading:\n",
    "    wine = datasets.load_wine()"
   ]
  },
  {
   "cell_type": "markdown",
   "metadata": {},
   "source": [
    "To inspect the dataset, run the code in the cell below. It gives you information in input data, output data, also called *target* or *ground truth* and the dimensions of the dataset.\n",
    "The pairplot visualizes the interdependency of the different dimensions of the input data."
   ]
  },
  {
   "cell_type": "code",
   "execution_count": null,
   "metadata": {},
   "outputs": [],
   "source": [
    "if not grading:\n",
    "    # evaluate dataset\n",
    "    print(\"### features ###\")\n",
    "    print(wine.feature_names)\n",
    "    print(\"\")\n",
    "    print(\"### class names / targets / ground truth ###\")\n",
    "    print(wine.target_names)\n",
    "    print(\"\")\n",
    "    print(\"### peek into raw input data ###\")\n",
    "    df_w = pd.concat([pd.DataFrame(wine.data, columns=wine.feature_names),pd.Series(wine.target,name='target',dtype='category').cat.rename_categories(wine.target_names)],axis=1)\n",
    "    display(df_w.head(10))\n",
    "    print(\"\")\n",
    "    print(\" input data shape: \", wine.data.shape ,\"; target shape: \",wine.target.shape)\n",
    "\n"
   ]
  },
  {
   "cell_type": "code",
   "execution_count": null,
   "metadata": {},
   "outputs": [],
   "source": [
    "if not grading:    \n",
    "    # init the plot\n",
    "    plt.figure(figsize=(10, 10))\n",
    "    # plot a pairplot of the distinct feature distributions\n",
    "    sns.pairplot(df_w, diag_kind='hist', hue='target')\n",
    "    plt.show()"
   ]
  },
  {
   "cell_type": "markdown",
   "metadata": {},
   "source": [
    "## Task 2.1. Dataset Pre-Processing\n",
    "You've learned in the last assignment, that we should split our data in two parts: one set on which we  *train* a classifier, one set with which we *test* the classifier. In our case, we will use the *training set* as the neighbors to base the predictions on. We then use the neighbors to predict the classes of the *test* set and see how well we've done. You've already seen the the figure below, but repetition makes the master, right?\n",
    "\n",
    "<img align=\"center\" style=\"max-width: 600px; height: auto\" src=\"https://i.imgur.com/RPhWoQA.png\">\n",
    "\n",
    "\n",
    "Another aspect you have touched upon before is **data normalization**. Nearest neighbors is the perfect method to explain and experience it, though. You'll know exactly why it's almost always a good idea when you're done with this exercise.  \n",
    "If you take a look at the data or pairplot above, you will notice that the general scale of the different *features* is very different. Some are between `1` and `9`, others are smaller than `1`, again others have values larger than `1000`. If you were to compute the euclidean distance between two data points, that translates to the straight line between these points in the 13-dimensional space. It's hard to visualize more than three, but you get the idea. Now, if data in one of the dimensions is by orders of magnitude larger than the others, it dominates the length of that line. That one value determines whether or not two data points are neighbors, although that one dimension might be a really poor indicator for the *similarity* or *closeness* of the objects we compare. Because we usually do not assume to know which features are important, it is generally desirable to treat them all the same. And so, we normalize the data, so that the values of each feature is on the range `[0,1]`. For this case we consider all features are equally important. For our assignment, we'll use `min-max normalization`. \n",
    "\n",
    "Thankfully, it's quite straight forward. We take the features separately, so one column with the same type of data for different `samples` at a time. The feature column $\\mathbf{X}$ has the entries $x_i$. We return normalized entries $z_i$ of the normalized feature column $\\mathbf{Z}$:\n",
    "\n",
    "\\begin{align}\n",
    "& z_{i} = \\frac{x_{i} - \\min(\\mathbf{X})}{\\max(\\mathbf{X}) - \\min(\\mathbf{X})}\n",
    "\\end{align}\n",
    "\n",
    "In plain text, we take an entire input column $\\mathbf{X}$, compute minimum and maximum of that column, subtract the minimum from the column and divide by the difference between min and max. Naturally, we should be careful to compute min and max before we overwrite the values of the feature column, otherwise min and max would change. \n",
    "In the end, we have a normalized input data set with all the normalized feature columns $\\mathbf{Z}$.\n",
    "\n",
    "Let's try this below. Complete the function that preprocesses the `wine` data."
   ]
  },
  {
   "cell_type": "code",
   "execution_count": null,
   "metadata": {},
   "outputs": [],
   "source": [
    "# Task 2.1\n",
    "def preprocess_data(input_data,target_data,test_share,normalization):\n",
    "    \"\"\"\n",
    "    :param input_data: input data as numpy ndarray. Rows correspond to objects/samples, columns to the features.\n",
    "    :param target_data: output or target data as numpy ndarray. Rows correspond to objects/samples.\n",
    "    :param test_share: float on range ]0.0, 1.0[ (excluding 0 and 1), determining the share of test data of the entire dataset.  \n",
    "    :param normalization: str, either \"none\" or \"max\". Deterimines, wether the data is normalized.\n",
    "\n",
    "    :return: X_train, X_test, Y_train, Y_test: the (normalized) training and test data.\n",
    "    \n",
    "    # normalization: \n",
    "    if normalization == \"max\", your function should apply min-max normalization. Otherwise, don't normalize the data\n",
    "    !NOTE! normalize the input_data only!\n",
    "    \n",
    "    # use the train_test_split() from the sklearn.model_selection module to split the data with test_share as an argument. Use random_state = 42\n",
    "       \n",
    "    \"\"\"\n",
    "\n",
    "    ### your code here ###\n",
    "\n",
    "    \n",
    "    \n",
    "    ### all done ###\n",
    "    \n",
    "    return X_train, X_test, Y_train, Y_test"
   ]
  },
  {
   "cell_type": "markdown",
   "metadata": {},
   "source": [
    "Let's print and inspect the normalized dataset. The output should have the same number of feature dimensions, but each feature value is between zero and one. Inspect the output and revise your normalization method if necessary."
   ]
  },
  {
   "cell_type": "code",
   "execution_count": null,
   "metadata": {
    "scrolled": true
   },
   "outputs": [],
   "source": [
    "# do not change this cell #\n",
    "if not grading:\n",
    "    # create datsets\n",
    "    test_share = 0.3\n",
    "    norm = None\n",
    "    X_train, X_test, Y_train, Y_test = preprocess_data(wine.data.copy(),wine.target.copy(),test_share,norm)\n",
    "    norm = \"max\"\n",
    "    X_train_norm, X_test_norm, Y_train, Y_test = preprocess_data(wine.data.copy(),wine.target.copy(),test_share,norm)\n",
    "\n",
    "    # evaluate sets\n",
    "    print(\"### Let's check the shapes first: ###\")\n",
    "    print(\"X_train: \",X_train.shape,\", X_test:\",X_test.shape,\", Y_train: \",Y_train.shape,\", Y_test:\",Y_test.shape)\n",
    "    print(\"\")\n",
    "    print(\"### Then, let's check max and min of X_train: ###\")\n",
    "    display(pd.DataFrame(np.concatenate([X_train.max(axis=0)[None,:],X_train.min(axis=0)[None,:]],axis=0), index=[\"max\", \"min\"]))\n",
    "    print(\"\")\n",
    "    print(\"### Let's also check max and min of X_test: ###\")\n",
    "    display(pd.DataFrame(np.concatenate([X_test.max(axis=0)[None,:],X_test.min(axis=0)[None,:]],axis=0), index=[\"max\", \"min\"]))\n",
    "    print(\"\")\n",
    "    print(\"### Now, let's check the **normalized** max and min of X_train_norm: ###\")\n",
    "    display(pd.DataFrame(np.concatenate([X_train_norm.max(axis=0)[None,:],X_train_norm.min(axis=0)[None,:]],axis=0), index=[\"max\", \"min\"]))\n",
    "    print(\"\")\n",
    "    print(\"### Let's also check max and min of X_test_norm: ###\")\n",
    "    display(pd.DataFrame(np.concatenate([X_test_norm.max(axis=0)[None,:],X_test_norm.min(axis=0)[None,:]],axis=0), index=[\"max\", \"min\"]))\n",
    "    print(\"\")\n",
    "    print(\"### Lastly, let's peek into the normalized input data ###\")\n",
    "    display(pd.DataFrame(X_train_norm).head(10))\n",
    "    print(\"\")\n"
   ]
  },
  {
   "cell_type": "markdown",
   "metadata": {},
   "source": [
    "## Task 2.2: Distance Between (potential) Neighbors\n",
    "We now have our dataset prepared, so we can prepare the  parts for kNN. We'll start with the function that computes the distance between two samples. We'll use euclidean distance for the assignment. If you imagine each sample as a point in the 13-dimensional feature space (really, try to do this ;-) ), the eucledian distance between the points is the length of the straight line connecting the two points.\n",
    "You can compute the euclidean distance between the points $\\mathbf{a}$ and $\\mathbf{b}$ as follows:  \n",
    "\n",
    "\\begin{equation}\n",
    "dist = \\sqrt{ ( (\\mathbf{a} -  \\mathbf{b} ) \\cdot (\\mathbf{a} -  \\mathbf{b} ) } = \\sqrt{ \\sum^n_{i=1} (a_i - b_i)^2 },\n",
    "\\end{equation}\n",
    "where $\\cdot$ indicates the *scalar product* and $a_i, b_i$ are components of $\\mathbf{a}$ and $\\mathbf{b}$.\n",
    "\n",
    "Complete the function below."
   ]
  },
  {
   "cell_type": "code",
   "execution_count": null,
   "metadata": {},
   "outputs": [],
   "source": [
    "# Task 2.2\n",
    "def compute_euclidean_distance(x_i,x_j):\n",
    "    \"\"\"\n",
    "    computes the euclidean distance between x_i and x_j\n",
    "    :param x_i: np.ndarray with input feature values for sample i\n",
    "    :param x_j: np.ndarray with input feature values for sample j\n",
    "    :return: dist: float with the euclidean distance\n",
    "    \n",
    "    use standard python or numpy functions to compute the distance. \n",
    "    You can use a sum, loops or a dot product.\n",
    "        \n",
    "    \"\"\"\n",
    "    \n",
    "    ### your code here ###\n",
    "    \n",
    "    \n",
    "    \n",
    "    ### all done ###\n",
    "    \n",
    "    return dist"
   ]
  },
  {
   "cell_type": "markdown",
   "metadata": {},
   "source": [
    "Let's test your function with two samples. The sample-tombola picked 67 and 23 :)  \n",
    "If you run the code below, the distance should be close to `0.971845958912949`"
   ]
  },
  {
   "cell_type": "code",
   "execution_count": null,
   "metadata": {},
   "outputs": [],
   "source": [
    "# do not change this cell\n",
    "if not grading:\n",
    "    test1 = X_train_norm[67,:]\n",
    "    test2 = X_train_norm[23,:]\n",
    "    print(compute_euclidean_distance(test1,test2))"
   ]
  },
  {
   "cell_type": "markdown",
   "metadata": {},
   "source": [
    "## Task 2.3: Choosing the Class from the Neighbors\n",
    "Imagine you have already identified the closest neighbors to your sample. You know their class and their distance to the sample for which you want to predict the class. If you remember the figure from above, we're now at step 3:\n",
    "\n",
    "<img align=\"center\" style=\"max-width: 600px; height: auto\" src=\"https://i.imgur.com/l45GtsW.png\">\n",
    "\n",
    "How do you choose the class label for a new sample? There are several ways to go about it. You could take the `mean class` of the neighboring classes, so an average. You could also consider the actual distance value and put more weight on those classes that are closer to your test sample. Another common method is the `class majority vote`. Here, we take the `k` neighbors and count how many times each class is represented. We predict the label of the new sample by *majority vote*, so the class which has the most samples among the neighbors. In case there is a tie between classes, we'll introduce a ranking by class index: `2>1>0`. So, if class `2` and class `0` have each 3 samples among the neighbors, we predict class `2`.\n",
    "\n",
    "We'll use exactly that and you'll implement it in the cell below. "
   ]
  },
  {
   "cell_type": "code",
   "execution_count": null,
   "metadata": {},
   "outputs": [],
   "source": [
    "# Task 2.3\n",
    "def select_class_label_from_neighbors(neighbors):\n",
    "    \"\"\"\n",
    "    computes the mean class of the neighbors\n",
    "    :param neighbors: list of lists. The outer list contains the neighbors. \n",
    "    The inner list has two entries: 1) the class of the neighbor, 2) the distance\n",
    "    :return: integer selection\n",
    "    \n",
    "    # use class majority vote: the class with the most occurrence is the selection.\n",
    "    count how many times a class exists among the neighbors. Pick the class with the highest count.\n",
    "    If two classes have the same count, select the class with the higher index: \n",
    "    if all classes have equal counts: 2>1>0\n",
    "    \n",
    "    \"\"\"\n",
    "    \n",
    "    ### your code here ###\n",
    "    \n",
    "\n",
    "\n",
    "    ### all done ###\n",
    "    \n",
    "    return selection\n",
    "    "
   ]
  },
  {
   "cell_type": "markdown",
   "metadata": {},
   "source": [
    "Let's test that with a list of test-neighbors. As you can easily test, both there are two neighbors with labels `1` and `2`, so `2` should be the selection."
   ]
  },
  {
   "cell_type": "code",
   "execution_count": null,
   "metadata": {},
   "outputs": [],
   "source": [
    "# do not change this cell\n",
    "if not grading:\n",
    "    test_neighbors = [[2, 0.011],[1, 0.4568412],[1, 0.5589],[0, 1.7854],[2, 2.83345]]\n",
    "    test_selection = select_class_label_from_neighbors(test_neighbors)\n",
    "    print(test_selection)"
   ]
  },
  {
   "cell_type": "markdown",
   "metadata": {},
   "source": [
    "## Task 2.4: k-Nearest-Neighbor (kNN) Classification\n",
    "Time to put it together! \n",
    "Let's revisit the kNN classification workflow:\n",
    "\n",
    "> 1. **distance** of the new sample to all training samples -> we'll implement the **get_distance** function to compute the distance between two samples.\n",
    "> 2. **sort** the objects by distance and get the `k` closest samples or neighbors. We'll do that in the kNN main function **make_knn_prediction**.\n",
    "> 3. **class label prediction** of the new sample from the neighbors -> we'll implement the majority vote in the **select_class_label_from_neighbors** function.\n",
    "\n",
    "We already have part 1 and 3. So all we need to do is figure out a way to sort a list. Good thing that you've already done that ;).\n",
    "Remember that we need two loops: \n",
    "> 1. one over all unknow samples (rows in X_pred)  \n",
    "> 2. for each unknown sample, we need to loop over all known samples (rows in X_train) to compute the distance.   \n",
    "\n",
    "Use your `compute_euclidean_distance` function to compute the distances. Once you have all distances, sort the list of potential neighbors and eventually make a prediction with your `choose_class_from_neighbors` function."
   ]
  },
  {
   "cell_type": "code",
   "execution_count": null,
   "metadata": {},
   "outputs": [],
   "source": [
    "# Task 2.4\n",
    "def make_knn_prediction(X_train,Y_train,X_pred,k):\n",
    "        \n",
    "    \"\"\"\n",
    "    :param X_train: np.ndarray with input data of the training set\n",
    "    :param Y_train: np.ndarray with target data of the training set\n",
    "    :param X_pred: np.ndarray with input data of the prediction set <- we want to find labels for this set\n",
    "    :param k: number of neighbors we want to consider for the classification\n",
    "    \n",
    "    :return: Y_pred np.ndarray with predicted class labels\n",
    "    \n",
    "    1) loop over all input samples\n",
    "        2) loop over all training samples\n",
    "            3) compute distance to all training samples in X_train \n",
    "            -> store results in a list sample_1 = [\"class_label\", distance]\n",
    "            -> store all distances in another list neighbor_list = [sample_1, sample_2, sample_3]\n",
    "               e.g. neighbor_list could look like so [[1,0.42123], [0,1.252], [2,2.3847]] (values are fictional)\n",
    "               \n",
    "        4) sort neighbor_list from low to high distance: use e.g. the neighbor_list.sort() or sorted() functions\n",
    "        5) compute the prediction from the k neighbors: \n",
    "           make sure to pass only the k nearest neighbors to the choose_class_from_neigbors function!\n",
    "\n",
    "    \"\"\"\n",
    "    \n",
    "    ### your code here ###\n",
    "    \n",
    "\n",
    "    \n",
    "    ### all done ###\n",
    "    \n",
    "    return Y_pred"
   ]
  },
  {
   "cell_type": "markdown",
   "metadata": {},
   "source": [
    "Let's test your kNN method to predict labels for the test data!"
   ]
  },
  {
   "cell_type": "code",
   "execution_count": null,
   "metadata": {},
   "outputs": [],
   "source": [
    "# don't change this cell\n",
    "if not grading:\n",
    "    Y_pred = make_knn_prediction(X_train_norm,Y_train,X_pred=X_test_norm,k=5)"
   ]
  },
  {
   "cell_type": "markdown",
   "metadata": {},
   "source": [
    "#### kNN Performance (not graded)\n",
    "\n",
    "Of course, smart people have already implemented kNN in the scikit-learn library. By implementing it yourself, you've learned how it works. However, we can use scikit-learn to compare your prediction to the sklearn prediction. You don't need to code here, but it may give you indication to revise your solution. Feel free, though, to add code here to investigate further!"
   ]
  },
  {
   "cell_type": "code",
   "execution_count": null,
   "metadata": {},
   "outputs": [],
   "source": [
    "### change this cell to your own needs :) \n",
    "if not grading:\n",
    "    # instaciate the knn classifier\n",
    "    knn = KNeighborsClassifier(n_neighbors=5, metric='euclidean')\n",
    "    # fit it to the data\n",
    "    knn.fit(X_train_norm, Y_train)\n",
    "    # make a prediction with the test data\n",
    "    Y_pred_2 = knn.predict(X_test_norm)\n",
    "\n",
    "    # compute accuracy of both predictions \n",
    "    accuracy = metrics.accuracy_score(Y_test,Y_pred)\n",
    "    accuracy_2 = metrics.accuracy_score(Y_test,Y_pred_2)\n",
    "\n",
    "    # let's compare the shapes and values of the two predictions\n",
    "    print(\"shape of your Y_pred:\",Y_pred.shape,\"; shape of sklearn Y_pred:\",Y_pred_2.shape)\n",
    "    print(\"euclidean distance between the two predictions: \", np.linalg.norm(Y_pred - Y_pred_2,2))\n",
    "    print(\"accuracy of your Y_pred:\",accuracy,\"; accuracy of sklearn Y_pred:\",accuracy_2)\n",
    "\n",
    "    # let's see what happens, if we don't normalize the data!\n",
    "    Y_pred = make_knn_prediction(X_train,Y_train,X_pred=X_test,k=5)\n",
    "    accuracy_n = metrics.accuracy_score(Y_test,Y_pred)\n",
    "    print(\"accuracy of your regular Y_pred:\",accuracy_n, \"; accuracy of the normalized Y_pred:\", accuracy)"
   ]
  },
  {
   "cell_type": "markdown",
   "metadata": {},
   "source": [
    "Your output could look something like this:\n",
    "```\n",
    "shape of your Y_pred: (54,) ; shape of sklearn Y_pred: (54,)\n",
    "euclidean distance between the two predictions:  0.0\n",
    "accuracy of your Y_pred: 0.9444444444444444 ; accuracy of sklearn y_pred: 0.9444444444444444\n",
    "accuracy of your regular Y_pred: 0.7222222222222222 ; accuracy of the normalized Y_pred: 0.9444444444444444\n",
    "```\n",
    "\n",
    "So, we gain more than 20% accuracy just by normalizing! Impressive, isn't it? Of course, this is just one example. In other cases, things might be very different. It's always good to compare different normalization methods and evaluate the performance."
   ]
  },
  {
   "cell_type": "markdown",
   "metadata": {},
   "source": [
    "## Task 2.5: kNN Performance over different `k` Values\n",
    "In this last coding task, you will use kNN with different values for `k` and plot the *accuracy* over `k`. You are free to use either your own method or sklearn as demonstrated in the cell above. This task sets you up ideally to answer Question 2.\n",
    "Complete the code in the cell below."
   ]
  },
  {
   "cell_type": "code",
   "execution_count": null,
   "metadata": {},
   "outputs": [],
   "source": [
    "# Task 2.5\n",
    "def plot_accuracy_over_k():\n",
    "    \"\"\"\n",
    "    computes the accuracy of kNN predictions on the (X_test_norm,Y_test) data for different values of `k`.\n",
    "    Use (X_train_norm,Y_train) as the \"neighbors\", just as we've done above.\n",
    "    You are free to use either your own function, or to use the sklearn library \n",
    "    for both the kNN prediction as well as the precision computation \n",
    "    \"\"\"\n",
    "    k_list = [1,2,3,4,5,6,7,8,9,10,11,12,13,14,15,16,17,18,19,20,22,24,26,28,30,35,40,45,50,55,60,65,70,75,80,85,90,95,100]\n",
    "    accuracy_list = []\n",
    "\n",
    "    ### your code here\n",
    "\n",
    "\n",
    "    \n",
    "    ### all done\n",
    "\n",
    "    # plot the results\n",
    "    fig = plt.figure(figsize=(10,10))\n",
    "    plt.plot(k_list,accuracy_list)\n",
    "    plt.xlabel(\"k\")\n",
    "    plt.ylabel(\"accuracy\")\n",
    "    plt.title(\"accuracy over k\")\n",
    "    plt.show()\n",
    "\n"
   ]
  },
  {
   "cell_type": "markdown",
   "metadata": {},
   "source": [
    "Let visualize the results in the cell below. Think about what could explain the trend of the prediction quality with growing k. How would you go about choosing `k`?   \n",
    "\n",
    "*No answer required, this is just encouraging brain yoga* "
   ]
  },
  {
   "cell_type": "code",
   "execution_count": null,
   "metadata": {},
   "outputs": [],
   "source": [
    "# do not change this cell\n",
    "if not grading:\n",
    "    plot_accuracy_over_k()"
   ]
  },
  {
   "cell_type": "markdown",
   "metadata": {},
   "source": [
    "## Task 3: Supervised Learning - Understanding (Multiple Choice) - 2 points"
   ]
  },
  {
   "cell_type": "markdown",
   "metadata": {},
   "source": [
    "**Question 1:**  \n",
    "As we explained above, we used a Normal Distribution for Naive Bayes. Why?\n",
    "> 1. Because we like it  -> answer_1 = 1  \n",
    "> 2. `Central Limit Theory` tells us it's generally a good place to start  -> answer_1 = 2  \n",
    "> 3. It's the only distribution applicable for Naive Bayes  -> answer_1 = 3  \n",
    "> 4. Because Normal Distribution is not Gaussian -> answer_1 = 4  "
   ]
  },
  {
   "cell_type": "code",
   "execution_count": null,
   "metadata": {},
   "outputs": [],
   "source": [
    "# leave your answer to question 1 here\n",
    "# answer_1 = [1,2,3,4]\n",
    "answer_1 = 0"
   ]
  },
  {
   "cell_type": "markdown",
   "metadata": {},
   "source": [
    "**Question 2:**  \n",
    "`k` is the *hyperparameter* of the kNN approach. Which statement is true? (more than 1 statement can be true)\n",
    "> 1. A low `k` focusses on few local neighbors  -> answer_2 = 1  \n",
    "> 2. `k` should always be an even number  -> answer_2 = 2  \n",
    "> 3. High values of `k` lead to oversmoothing of the predicted label  -> answer_2 = 3    \n",
    "> 4. `k` must be normalized between `0.0` and `1.0`   -> answer_2 = 4"
   ]
  },
  {
   "cell_type": "code",
   "execution_count": null,
   "metadata": {},
   "outputs": [],
   "source": [
    "# leave your answer to question 1 here as a list of correct statements\n",
    "# answer_1 = [1,2,3,4]\n",
    "answer_1 = [0,0,0,0]"
   ]
  }
 ],
 "metadata": {
  "kernelspec": {
   "display_name": "Python 3",
   "language": "python",
   "name": "python3"
  },
  "language_info": {
   "codemirror_mode": {
    "name": "ipython",
    "version": 3
   },
   "file_extension": ".py",
   "mimetype": "text/x-python",
   "name": "python",
   "nbconvert_exporter": "python",
   "pygments_lexer": "ipython3",
   "version": "3.7.3"
  }
 },
 "nbformat": 4,
 "nbformat_minor": 4
}
