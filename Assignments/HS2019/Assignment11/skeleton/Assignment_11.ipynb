{
 "cells": [
  {
   "cell_type": "code",
   "execution_count": null,
   "metadata": {
    "colab": {},
    "colab_type": "code",
    "id": "9vf1QYTNPBgd"
   },
   "outputs": [],
   "source": [
    "#-*- coding: utf-8 -*-"
   ]
  },
  {
   "cell_type": "markdown",
   "metadata": {
    "colab_type": "text",
    "id": "MGIME_z7PESB"
   },
   "source": [
    "<img align=\"right\" style=\"max-width: 200px; height: auto\" src=\"https://imgur.com/ehpuUZW.png\">\n",
    "\n",
    "#  Exercise 11 - \"Machine Learning III: <br /> Artificial Neural Networks\"\n",
    "\n",
    "Fundamentals and Methods of Computer Science, University of St. Gallen, Autumn Term 2019"
   ]
  },
  {
   "cell_type": "markdown",
   "metadata": {
    "colab_type": "text",
    "id": "zmp-FSFJPIEa"
   },
   "source": [
    "## Introduction\n",
    "In this assignment we have the grand finale of our short part on Machine Learning. In the last week, you have build your own Gaussian Naive Bayes and k-Nearest-Neighbors classifiers. In this week, we will also build classifiers, only way more powerful. Will train **Neural Networks** to classify images.\n",
    "\n",
    "<!-- <img align=\"center\" style=\"max-width: 800px; height: auto\" src=\"https://i.imgur.com/iv6NSf0.png\"> -->\n",
    "<!-- <img align=\"center\" style=\"max-width: 800px; height: auto\" src=\"https://i.imgur.com/iv6NSf0.png\"> -->\n",
    "<img align=\"center\" style=\"max-width: 800px; height: auto\" src=\"https://i.imgur.com/gKsZsJL.png\">\n",
    "\n",
    "Before we start, we'll bring ourselves to the right level of \"stoke\" with another great video."
   ]
  },
  {
   "cell_type": "code",
   "execution_count": null,
   "metadata": {
    "colab": {
     "base_uri": "https://localhost:8080/",
     "height": 618
    },
    "colab_type": "code",
    "id": "I8Qbky62SYTv",
    "outputId": "a9d0eaa4-13a7-4877-9cc5-d3f0d094710f"
   },
   "outputs": [],
   "source": [
    "from IPython.display import YouTubeVideo\n",
    "# Google AI: \"Detecting cancer in real-time with machine learning\"\n",
    "YouTubeVideo('aircAruvnKk', width=1024, height=576)"
   ]
  },
  {
   "cell_type": "markdown",
   "metadata": {
    "colab_type": "text",
    "id": "xreiYybDHtOs"
   },
   "source": [
    "## What are we going to do this exercise?\n",
    "In this third machine learning exercise we will learn how to implement, train and apply our first **Neural Network** using a Python library named **\"PyTorch\"**. PyTorch is an open-source machine learning library for Python, used for a variety of applications such as image classification and natural language processing. Don't be afraid, we will show you first a full example how to use it in the first half of this notebook.\n",
    "\n",
    "We will use the implemented neural network to classify images of handwrittend digits (i.e., data without defined categories or groups)."
   ]
  },
  {
   "cell_type": "markdown",
   "metadata": {
    "colab_type": "text",
    "id": "EJybbdaFQ9xF"
   },
   "source": [
    "<img align=\"center\" style=\"max-width: 700px\" src=\"https://i.imgur.com/3qanTVL.png\">"
   ]
  },
  {
   "cell_type": "markdown",
   "metadata": {
    "colab_type": "text",
    "id": "I3U6uD_q4xVH"
   },
   "source": [
    "## Exercise structure\n",
    "Following our example the workflow of the neural network training exercise is structured in to the following tasks:\n",
    "\n",
    "**Task 1:** Neural Network Training - 8 points\n",
    "> 1.1  implement the load_data method.<br>\n",
    "> 1.2  complete the __init__ and forward methods of the Model class.<br>\n",
    "> 1.3  complete the train and test part of the train_and_test method.<br>\n",
    "> 1.4  implement the plot_loss_accuracy method<br>\n",
    "\n",
    "**Task 2:** Neural Networks - Understanding - 2 points\n",
    "> 2.1  read and understand the content we provide throughout the notebook.<br>\n",
    "> 2.2  answer the multiple choice questions in the jupyter notebook.<br>"
   ]
  },
  {
   "cell_type": "markdown",
   "metadata": {
    "colab_type": "text",
    "id": "cnKR2oUfR86u"
   },
   "source": [
    "## Setup of the Assignment Environment\n",
    "You can run this notebook either on your computer or on the Google Colab. We recommend you to use Google Colab for faster computation and its ease of use. In case you've decided to go with your own machine, make sure to first install PyTorch thorugh the through the instructions <a href=\"https://pytorch.org/\">here</a>. By choosing your operating system and python version, it will show you the command that you need to run to install PyTorch. For the CUDA option, please choose None if you are not sure that your computer has a GPU that supports CUDA. All Macbook users must choose None for the CUDA option. \n",
    "\n",
    "<img align=\"center\" style=\"max-width: 500px\" src=\"https://i.imgur.com/YYk31aN.png\">\n",
    "\n",
    "\n",
    "Similar to the previous labs, we need to import a couple of Python libraries that allow for data analysis and data visualization as well as **pytorch** library that handels the **Neural Network** part. In this assignment will use, [numpy](https://numpy.org/), [matplotlib](https://matplotlib.org/) [Pillow](https://python-pillow.org/) and finally [pytorch](https://pytorch.org/) libraries. Let's import the libraries by the execution of the statements below:\n"
   ]
  },
  {
   "cell_type": "code",
   "execution_count": null,
   "metadata": {
    "colab": {},
    "colab_type": "code",
    "id": "95ZfbnKjqhPi"
   },
   "outputs": [],
   "source": [
    "import torch\n",
    "import torch.nn as nn\n",
    "import torch.optim as optim\n",
    "from torch.utils.data import DataLoader\n",
    "import torchvision.datasets\n",
    "import torchvision.transforms as transforms\n",
    "import matplotlib.pyplot as plt\n",
    "from PIL import Image\n",
    "import matplotlib.pyplot as plt\n",
    "import numpy as np\n",
    "import IPython.display\n",
    "\n",
    "# set grading variable to False to test your code it will be set to True during grading\n",
    "if __name__ == '__main__':\n",
    "    grading = False\n",
    "else:\n",
    "    grading = True"
   ]
  },
  {
   "cell_type": "markdown",
   "metadata": {
    "colab_type": "text",
    "id": "Zq1Cs37M6ZeJ"
   },
   "source": [
    "## Part 1: Classifying Images with Pytorch - Example\n",
    "In this section, we'll go through the concepts of defining and training neural networks. We'll guide you through the process and explain the steps as we go. We start off with the **data loading** and continue with the neural network **model defintion**. Eventually, we get to the **training** of the neural network, which includes the definition of the **loss** and choice of **optimizer**. To know more details, we highly recommend visiting this Friday's lecture: it'll offer explanation on all these topics. At the end of the lecture, there will be a coding lab to give you hands on examples on defining and training neural networks."
   ]
  },
  {
   "cell_type": "markdown",
   "metadata": {},
   "source": [
    "### Data loading\n",
    "\n",
    "Before starting with neural networks, let's see how we can download and prepare a dataset called MNIST consisting of 60,000 training samples and 10,000 test samples of handwritten digits (as seen below). Fortunately, PyTorch comes with a rich set of datasets and dataloaders, so we can use it right away in this notebook.<br>\n",
    "\n",
    "<img align=\"center\" style=\"max-width: 500px\" src=\"https://i.imgur.com/SWIfv8b.png\">\n",
    "\n",
    "<br>\n"
   ]
  },
  {
   "cell_type": "markdown",
   "metadata": {},
   "source": [
    "\n",
    "#### Downloading and exploring MNIST\n",
    "To download a datasets, we use the *dataset* class from *torchvision* by simply calling ```torchvision.datasets.MNIST()```. Inside MNIST function there are different parameters which are explained below:<br>\n",
    "<br>\n",
    "**root**: path to dataset files.<br>\n",
    "**train**: whether to load train data or test.<br>\n",
    "**download**: setting this option to true makes it download the dataset files automatically.<br>\n",
    "**transforms**: preprocessing method of the data for PyTorch.<br>\n",
    "<br>\n",
    "\n",
    "In the code below, we load data for training and testing using torchvision's datasets class."
   ]
  },
  {
   "cell_type": "code",
   "execution_count": null,
   "metadata": {
    "colab": {},
    "colab_type": "code",
    "id": "qKA6tgAx96Vg"
   },
   "outputs": [],
   "source": [
    "mnist_train_set = torchvision.datasets.MNIST(\n",
    "    root = './data/MNIST',\n",
    "    train = True,\n",
    "    download = True,\n",
    "    transform = transforms.ToTensor())\n",
    "\n",
    "mnist_test_set = torchvision.datasets.MNIST(\n",
    "    root = './data/MNIST',\n",
    "    train = False,\n",
    "    download = True,\n",
    "    transform = transforms.ToTensor())\n",
    "\n",
    "mnist_train_loader = DataLoader(mnist_train_set, batch_size=64, shuffle=True)\n",
    "mnist_test_loader = DataLoader(mnist_test_set, batch_size=64)"
   ]
  },
  {
   "cell_type": "markdown",
   "metadata": {},
   "source": [
    "That easy! We already have train and test sets separated. There is only one part left to understand before moving to the next step, which is the transforms. Transforms are handy functions that one can use to pre-process the data before feeding it to the model.<br>\n",
    "In the example above, we use a standard procedure to prepare the data for PyTorch by converting the images to PyTorch tensors.\n",
    "\n",
    "After downloading the dataset, let's visualize the first two images in the dataset. Can you tell, which numbers these are?"
   ]
  },
  {
   "cell_type": "code",
   "execution_count": null,
   "metadata": {
    "colab": {
     "base_uri": "https://localhost:8080/",
     "height": 610
    },
    "colab_type": "code",
    "id": "J-epz9HBNFnN",
    "outputId": "58afcdfa-9a1e-4501-c7d5-359e37f7ead3"
   },
   "outputs": [],
   "source": [
    "def show(item):\n",
    "    \"\"\"Plots an item from dataset and print its label.\n",
    "       Input format: (Image, Label)\n",
    "    \"\"\"\n",
    "    fig = plt.figure(figsize=(2, 2))\n",
    "    label = item[1] \n",
    "    print(f\"Image label: {label}\")\n",
    "    image = np.array(item[0])\n",
    "    image = np.transpose(image, (1, 2, 0))\n",
    "    image = np.repeat(image, 3, 2)\n",
    "    plt.imshow(image, cmap='gray',interpolation='none')\n",
    "    \n",
    "trainset_iter = iter(mnist_train_set)\n",
    "item_0 = next(trainset_iter)\n",
    "item_1 = next(trainset_iter)\n",
    "show(item_0)\n",
    "show(item_1)\n"
   ]
  },
  {
   "cell_type": "markdown",
   "metadata": {
    "colab_type": "text",
    "id": "pArUGzztAfmZ"
   },
   "source": [
    "#### Data batch\n",
    "After loading train and test sets, we need to wrap them with DataLoaders. Since in the training of neural networks we need to train the model iteratively with small chunks of data,  we'll need to split the trainset into batches and go through each batch sequentially as it is not possible to fit the whole dataset into the memory. DataLoaders do that for us. When defining a dataloader, we need to choose the value of batch_size and set shuffle option to either True or False. By setting shuffle=True, the dataloader will first shuffle the data and then split it into batches. \n",
    "<br>\n",
    "<br>\n",
    "\n",
    "<img align=\"center\" style=\"max-width: 500px\" src=\"https://i.imgur.com/DN90pQY.png\">\n"
   ]
  },
  {
   "cell_type": "markdown",
   "metadata": {
    "colab_type": "text",
    "id": "Yyakgt5VNF7U"
   },
   "source": [
    "### Model definition\n",
    "\n",
    "After loading and visualizing data, we need to define the model. A neural network model is composed of multiple layers allowing the data to be processed in a feedforward way. Defining the data processing between layers is complex, but PyTorch thankfully does it for us. Model definition in PyTorch has two components, the constructor and the forward function. Inside the constructor, we define the parts of the model. In the forward function, we implement the forward pass through the network. \n",
    "Below you can see the standard code snippet for PyTorch model:<br>\n",
    "```python\n",
    "class Model(nn.Module):\n",
    "    def __init__(self):\n",
    "       \"\"\"Model layers are defined here.\"\"\"\n",
    "\n",
    "    def forward(self, x):\n",
    "       \"\"\"Execution steps are implemented here.\"\"\"\n",
    "```\n",
    "In the following, we provide you with three different descriptions of the **same** neural network: figure, table and code all represent the **same** architecture. Try and find the connections between code and table. Given the table of layers/operations below, we want to create the model and its forward function.\n",
    "\n",
    "<br>\n",
    "<img align=\"center\" style=\"max-width: 800px\" src=\"https://i.imgur.com/2CJailf.png\">\n",
    "\n",
    "<br>\n",
    "<img align=\"center\" style=\"max-width: 600px\" src=\"https://i.imgur.com/jvvi8bK.png\">\n",
    "\n",
    "<br><br>\n",
    "\n",
    "Short description of each layer/operation:\n",
    "<br>\n",
    "**nn.Conv2D**: Convolves input with kernels of size kernel_size x kernel_size. It is used for feature extraction and finding repeating patterns in an image.<br> \n",
    "**nn.Dropout / nn.Dropout2d**: Randomly turns off neurns in a layer with probability p. It's good for generalization.<br>\n",
    "**nn.MaxPool2d**: Decreases the input size by first splitting input into tiles of size kernel_size x kernel_size and then taking the maximum of each time.<br>\n",
    "**nn.flatten**: Takes a 2D input (for example an Image) to a vector by flattening the input.<br>\n",
    "**nn.Linear**: Applies linear transformation to a vector and converts it into a new vector.<br>\n",
    "**nn.Softmax**: Turns a vector into a probability vector such that the sum of its elements will be equal to 1.0.<br>\n",
    "**nn.ReLU**: An activation function that is used after layers like Conv2D and Linear.\n",
    "\n",
    "\n",
    "\n"
   ]
  },
  {
   "cell_type": "code",
   "execution_count": null,
   "metadata": {
    "colab": {},
    "colab_type": "code",
    "id": "cOUrPgEcAfQI"
   },
   "outputs": [],
   "source": [
    "class MNIST_Model(nn.Module):\n",
    "    def __init__(self):\n",
    "        super(MNIST_Model, self).__init__()\n",
    "        self.conv1 = nn.Conv2d(in_channels=1, out_channels=32, kernel_size=3, stride=1)\n",
    "        self.conv2 = nn.Conv2d(in_channels=32, out_channels=64, kernel_size=3, stride=1)\n",
    "        self.dropout1 = nn.Dropout2d(p=0.25)\n",
    "        self.dropout2 = nn.Dropout(p=0.5)\n",
    "        self.fc1 = nn.Linear(in_features=9216, out_features=128)\n",
    "        self.fc2 = nn.Linear(in_features=128, out_features=10)\n",
    "        self.relu = nn.ReLU()\n",
    "        self.max_pool2d = nn.MaxPool2d(kernel_size=2)\n",
    "        self.softmax = nn.Softmax(dim=1)\n",
    "\n",
    "    def forward(self, x):\n",
    "        out1 = self.conv1(x)\n",
    "        out2 = self.relu(out1)\n",
    "        out3 = self.conv2(out2)\n",
    "        out4 = self.max_pool2d(out3)\n",
    "        out5 = self.dropout1(out4)\n",
    "        out6 = torch.flatten(out5, 1)\n",
    "        out7 = self.fc1(out6)\n",
    "        out8 = self.relu(out7)\n",
    "        out9 = self.dropout2(out8)\n",
    "        out10 = self.fc2(out9)\n",
    "        y_hat = self.softmax(out10)\n",
    "        return y_hat"
   ]
  },
  {
   "cell_type": "markdown",
   "metadata": {},
   "source": [
    "Inside ```__init__()``` we first call ```super(Model, self).__init__()``` since it inherits from nn.Module. All layers are then defined according to the paremeters given in the model table.<br>\n",
    "In function ```forward(x)```, x is the input to the neural network. The input should be passed from one layer to another correctly until it gets to the end of the network. **The order of operations in the forward function must be exactly the same as the order of layers defined in the model table**.<br>"
   ]
  },
  {
   "cell_type": "markdown",
   "metadata": {},
   "source": [
    "### Neural Network Training\n",
    "Now that we have the data and model ready, we're almost ready to train the model with the trainset and evaluate it using the testset. We still need two more components before we can get to that: the **loss** and **optimizer**. The last lecture provides extensive information on neural network training, we'll stick to the basics here. \n",
    "\n",
    "The loss is similar to the performance measures you've already computed over the last weeks. For our purposes, the loss $\\mathcal{L}$ is a function of the difference between the network prediction $\\mathbf{\\hat{y}}$ and the ground truth $\\mathbf{y}$, eg. : $\\mathcal{L} = MSE(\\mathbf{\\hat{y}}, \\mathbf{y})$. Depending on the use-case, different loss functions exist. In the lecture, you learned about the least-square error. For this example, we use the `CrossEntropyLoss` function (multi-class classification).\n",
    "\n",
    "<br>\n",
    "<img align=\"center\" style=\"max-width: 700px\" src=\"https://i.imgur.com/Ka5Qdtx.png\">\n",
    "\n",
    "Now that we have a loss function which expresses the error between prediction $\\mathbf{\\hat{y}}$ and ground truth $\\mathbf{y}$, we want to minimize the loss; more precisely, we look for those network parameters, which minimize the loss. Again PyTorch is helping us, we can pick a predefined optimizer. In the lecture, we saw Stochastic Gradient Descent (SGD), in this case we pick the `Adadelta` optimizer.\n",
    "\n",
    "For our example, we provide the entire code to train the model, **you don't need to change anything here**. The training workflow is as follows.\n",
    "**Training workflow in each epoch:**\n",
    "> 1. model.train() - *set model to training mode.*  \n",
    "    > 2. loop over batches  - *get all data in small bites*  \n",
    "        >> 3. optimizer.zero_grad() - *zero the gradients for a fresh start of the optimizer*  \n",
    "        >> 4. output = mode(data) - *compute model prediction*  \n",
    "        >> 5. loss = criterion(output,target) - *compute loss*  \n",
    "        >> 6. loss.backward() - *compute contribution of each parameter to the loss with backpropagation method*  \n",
    "        >> 7. optimizer.step() - *update all network parameters*\n"
   ]
  },
  {
   "cell_type": "code",
   "execution_count": null,
   "metadata": {
    "colab": {
     "base_uri": "https://localhost:8080/",
     "height": 1000
    },
    "colab_type": "code",
    "id": "z42vPiFx4w8q",
    "outputId": "20dc4323-c2ef-4b1d-ebb0-301c71f67f14"
   },
   "outputs": [],
   "source": [
    "def train_and_evaluate():\n",
    "    num_epochs = 5 \n",
    "    print_every = 100 \n",
    "    \n",
    "    # if GPU is available, we do the computation on the GPU: it's much faster. Otherwise, we fall back to the CPU\n",
    "    device = torch.device(\"cuda\" if torch.cuda.is_available() else \"cpu\") \n",
    "\n",
    "    model = MNIST_Model()\n",
    "    model.to(device)\n",
    "    \n",
    "    # define optimizer\n",
    "    optimizer = optim.Adadelta(model.parameters(), lr=0.01)\n",
    "    \n",
    "    # define criterion\n",
    "    criterion = nn.CrossEntropyLoss()\n",
    "    \n",
    "    for epoch in range(0, num_epochs):\n",
    "        # ---------------------------- train the model with trainset\n",
    "        model.train()\n",
    "\n",
    "        for batch_idx, (data, target) in enumerate(mnist_train_loader):\n",
    "            data, target = data.to(device), target.to(device) # transfer data and target to the selected device\n",
    "            optimizer.zero_grad() # zeros the gradients of network parameters\n",
    "            output = model(data) # get output of the neural network (forward pass)\n",
    "            loss = criterion(output, target) # compute the loss between output and target\n",
    "            loss.backward() # apply backpropagation (backward pass)\n",
    "            optimizer.step() # apply changes (with respect to the gradients) to the network parameters\n",
    "            \n",
    "           \n",
    "            if batch_idx % print_every == 0:\n",
    "                loss_iter = 100. * batch_idx / len(mnist_train_loader)\n",
    "                print('Train Epoch: {} [{}/{} ({:.0f}%)]\\tLoss: {:.6f}'.format(\n",
    "                    epoch, batch_idx * len(data), len(mnist_train_loader.dataset), loss_iter, loss.item()))\n",
    "\n",
    "        # ---------------------------- evaluate/test model with testset\n",
    "        model.eval()\n",
    "        test_loss = 0\n",
    "        correct = 0\n",
    "        for data, target in mnist_test_loader:\n",
    "            data, target = data.to(device), target.to(device)\n",
    "            output = model(data)\n",
    "            test_loss += criterion(output, target).item()  # sum up batch loss\n",
    "            _, pred = torch.max(output.data, 1)  # get the index of the max probability\n",
    "            correct += (pred == target).sum().item()\n",
    "\n",
    "        test_loss /= len(mnist_test_loader.dataset)\n",
    "        num_items = len(mnist_test_loader.dataset)\n",
    "        \n",
    "        \n",
    "        correct_perc = 100. * correct / len(mnist_test_loader.dataset)\n",
    "        print('\\nTest set: Average loss: {:.4f}, Accuracy: {}/{} ({:.0f}%)\\n'.format(\n",
    "            test_loss, correct, num_items, correct_perc))\n",
    "    \n",
    "    torch.save(model.state_dict(), \"mnist_checkpoint.pt\") # saves the model weights"
   ]
  },
  {
   "cell_type": "markdown",
   "metadata": {},
   "source": [
    "Alright, let's see if we can train using your function. It may take a moment, be patient!"
   ]
  },
  {
   "cell_type": "code",
   "execution_count": null,
   "metadata": {},
   "outputs": [],
   "source": [
    "# do not change this cell\n",
    "if not grading:\n",
    "    train_and_evaluate()"
   ]
  },
  {
   "cell_type": "markdown",
   "metadata": {},
   "source": [
    "## Part 2: Classifying Images with Pytorch - Exercise\n",
    "In this section, you'll implement the four parts of neural network training yourself: **data loading**, **model defintion**, **training** and **performance evaluation**. If the concepts or implementation are still unclear, be advised to take another look at our example above! Although we ask you to change some parameters and wrap code in functions, the workflow remains the same. "
   ]
  },
  {
   "cell_type": "markdown",
   "metadata": {},
   "source": [
    "### Task 1.1: Data loader\n",
    "We start off with the **datasets** and **dataloaders**. The [**FashionMNIST**](https://github.com/zalandoresearch/fashion-mnist) dataset is a simple example from the online fashion retailer **Zalando**. It contains 28x28 pixel grayscale images of clothes belonging to 10 classes. The training dataset contains 60,000 samples, the testset 10,000 samples. \n",
    "Complete the function in the cell below!\n"
   ]
  },
  {
   "cell_type": "code",
   "execution_count": null,
   "metadata": {
    "colab": {
     "base_uri": "https://localhost:8080/",
     "height": 275
    },
    "colab_type": "code",
    "id": "jl-3Z4T-qWVy",
    "outputId": "f8503f86-58e6-4227-d30e-13cacbd6646b"
   },
   "outputs": [],
   "source": [
    "# Task 1.1\n",
    "def load_data(batch_size):\n",
    "    \"\"\"\n",
    "    This function uses torchvision.datasets and DataLoader to define the datasets and \n",
    "    make the accessible to pytorch in the DataLoader format. \n",
    "    \n",
    "    :param batch_size: integer with size of training and test batches\n",
    "    \n",
    "    :return: train_loader - pytorch DataLoader object containing the training samples with batches of *batch_size*\n",
    "    :return: test_loader - pytorch DataLoader object containing the test samples with batches of *batch_size*\n",
    "\n",
    "    first, define (and download) the train_set and test_set using torchvision.datasets as above\n",
    "    \n",
    "    second, create DataLoader objects from the train_set and test_set. Use the batch_size passed to the function. \n",
    "    Also, set shuffle=true for the train_loader and shuffle=False for the test_loader \n",
    "\n",
    "    \"\"\"\n",
    "    torch.manual_seed(12345)\n",
    "  \n",
    "    ### your code here ###\n",
    "    \n",
    "    \n",
    "    \n",
    "    ### all done ###\n",
    "    \n",
    "    return train_loader, test_loader"
   ]
  },
  {
   "cell_type": "markdown",
   "metadata": {},
   "source": [
    "Ok, let's use your function to create the dataloaders. If you don't get any errors, it probably worked ;)"
   ]
  },
  {
   "cell_type": "code",
   "execution_count": null,
   "metadata": {},
   "outputs": [],
   "source": [
    "# Do not change this cell\n",
    "if not grading:\n",
    "    batch_size = 64\n",
    "    train_loader, test_loader = load_data(batch_size) "
   ]
  },
  {
   "cell_type": "markdown",
   "metadata": {},
   "source": [
    "### Task 1.2: Model definition\n",
    "The next step is to define the model. Implement the constructor and forward function according to the table below. The table contains all information necessary. If you're not sure about what you need to do here, scroll up and take another good look at the example.\n",
    "\n",
    "<img align=\"center\" style=\"max-width: 700px\" src=\"https://i.imgur.com/VrsugUu.png\">\n",
    "<br>\n",
    "\n",
    "Complete the class definition below!"
   ]
  },
  {
   "cell_type": "code",
   "execution_count": null,
   "metadata": {
    "colab": {},
    "colab_type": "code",
    "id": "P5AkxhpdqYHH"
   },
   "outputs": [],
   "source": [
    "class Model(nn.Module):\n",
    "    \"\"\"\n",
    "    this class contains the neural network architecture we want to use. \n",
    "    \n",
    "    NOTE! Strictly stick to the names we provide in the table. Different names may not be reckognized by the autograder!\n",
    "    \n",
    "    \"\"\"\n",
    "    def __init__(self):\n",
    "        super().__init__()\n",
    "\n",
    "        \"\"\"\n",
    "        TASK 1.2.1\n",
    "        Model constructor:\n",
    "        \n",
    "        :param self: neural network model object\n",
    "        \n",
    "        :return: None\n",
    "        \n",
    "        Define the components indicated in the table.\n",
    "\n",
    "        Orientation provided in the sample above.\n",
    "        \n",
    "        \"\"\"\n",
    "        \n",
    "        ### your code here ###\n",
    "        \n",
    "\n",
    "        \n",
    "        ### all done ###\n",
    "\n",
    "    # define forward function\n",
    "    def forward(self, x):\n",
    "        \n",
    "        \"\"\"\n",
    "        # TASK 1.2.2.\n",
    "        \n",
    "        This function determines the data flow through the network layers from input to output.\n",
    "\n",
    "        :param self: neural network model object\n",
    "        :param x: input data (batch)\n",
    "        \n",
    "        :return x: output data\n",
    "    \n",
    "        Define the forward pass of data through the network. Begin with the first layer \n",
    "        and continue to work your way through layer by layer. \n",
    "\n",
    "        Orientation provided in the sample above.\n",
    "        \n",
    "        \"\"\"\n",
    "        ### your code here\n",
    "        \n",
    "\n",
    "        \n",
    "        ### all done ###\n",
    "\n",
    "        return x\n"
   ]
  },
  {
   "cell_type": "markdown",
   "metadata": {},
   "source": [
    "Great! Let's see if we can create a test_model with your model definition. If there are no errors here, you've passed the first hurdle:"
   ]
  },
  {
   "cell_type": "code",
   "execution_count": null,
   "metadata": {},
   "outputs": [],
   "source": [
    "# do not change this cell\n",
    "if not grading:\n",
    "    model = Model()\n",
    "    # let's print what the model is like\n",
    "    print(model)"
   ]
  },
  {
   "cell_type": "markdown",
   "metadata": {},
   "source": [
    "### Task 1.3: Train and test function\n",
    "Now we can define the loop that trains and evaluates the network. Fill in the skelleton code below!"
   ]
  },
  {
   "cell_type": "code",
   "execution_count": null,
   "metadata": {
    "colab": {
     "base_uri": "https://localhost:8080/",
     "height": 1000
    },
    "colab_type": "code",
    "id": "eho0FO-AqeWG",
    "outputId": "dd1009dd-b25c-451d-ec36-8793e60fe9a2"
   },
   "outputs": [],
   "source": [
    "def train_and_test(num_epochs):\n",
    "    \"\"\"\n",
    "    This function loops over the epochs. It trains on the trainset and evaluates on the testset\n",
    "    At each epoch it loops over all batches. For each batch, it computes the loss and updates the paramters.\n",
    "    \n",
    "    For orientation, refer to the example above.\n",
    "    \n",
    "    \"\"\"\n",
    "    # let's instaciate the network:\n",
    "    model = Model();\n",
    "    \n",
    "    \"\"\"\n",
    "    TASK 1.3.1: define loss criterion and optimizer\n",
    "    define \"criterion\" as the CrossEntropyLoss, as above\n",
    "    define \"optimizer\" as the Adam optimizer with lr=0.001.\n",
    "    \"\"\"\n",
    "    ### your code here ###\n",
    "    \n",
    "\n",
    "    \n",
    "    ### all done ###\n",
    "    \n",
    "    # let's initialize the output lists and training hyperparamters (epochs, batchsize)\n",
    "    train_losses = [];\n",
    "    test_accuracies = []\n",
    "    batch_size = 32\n",
    "    \n",
    "    for epoch in range(num_epochs):\n",
    "        model.train()\n",
    "        for i, (images, labels) in enumerate(train_loader):\n",
    "            images = images.float()\n",
    "            labels = labels\n",
    "            \n",
    "            \"\"\"\n",
    "            TASK 1.3.2: training \n",
    "            implement the following steps\n",
    "                1. zero_grad()\n",
    "                2. compute the model output predictions\n",
    "                3. compute the loss\n",
    "                4. backpropagate the loss with .backward()\n",
    "                5. take an optimizer step\n",
    "            \"\"\"\n",
    "            ### your code here ###########################\n",
    "            \n",
    "\n",
    "            \n",
    "            ### all done #################################\n",
    "            \n",
    "            train_losses.append(loss.item());\n",
    "\n",
    "            if (i+1) % 100 == 0:\n",
    "                print ('Epoch : %d/%d, Iter : %d/%d,  Loss: %.4f' \n",
    "                       %(epoch+1, num_epochs, i+1, len(train_loader), loss.item()))\n",
    "\n",
    "        model.eval()\n",
    "        correct = 0\n",
    "        total = 0\n",
    "        for images, labels in test_loader:\n",
    "            images = images.float()\n",
    "            \n",
    "            \"\"\"\n",
    "            TASK 1.3.3: test accuracy\n",
    "            compute the total and correct predictions on the test set.\n",
    "            Perform the following steps:\n",
    "            1) compute the model predictions on the test set.\n",
    "            2) identify the class-label prediction with the max() function, as above\n",
    "            3) count \"total\" and \"correct\" predictions\n",
    "            \"\"\"\n",
    "            ### your code here ###########################\n",
    "            \n",
    "\n",
    "            \n",
    "            ### all done #################################\n",
    "            \n",
    "        accuracy = 100 * correct / total\n",
    "        test_accuracies.append(accuracy)\n",
    "        print(f'Test Accuracy of the model on the 10000 test images: {accuracy}%')\n",
    "    \n",
    "    torch.save(model.state_dict(), \"model_checkpoint.pt\")    \n",
    "    return train_losses, test_accuracies"
   ]
  },
  {
   "cell_type": "markdown",
   "metadata": {},
   "source": [
    "Great job, that's the hardest part out of the way. Now we can go ahead and train our neural network! Run the code in the cell below and see the magic happening.\n",
    "Change the number of epochs until you get test accuracy higher that 80%. Keep the `model_checkpoint.pt` with a test accuracy higher than 80% and include it in your `assignment11.zip`"
   ]
  },
  {
   "cell_type": "code",
   "execution_count": null,
   "metadata": {},
   "outputs": [],
   "source": [
    "# do not change this cell\n",
    "if not grading:\n",
    "    train_losses, test_accuracies = train_and_test(num_epochs = 2)"
   ]
  },
  {
   "cell_type": "markdown",
   "metadata": {},
   "source": [
    "### Task 1.4: Plot loss and accuracy graphs\n",
    "Lastly, let's plot the training loss and accuracy over training epochs. This way, we can keep track of the training and see if it was successful."
   ]
  },
  {
   "cell_type": "code",
   "execution_count": null,
   "metadata": {
    "colab": {
     "base_uri": "https://localhost:8080/",
     "height": 309
    },
    "colab_type": "code",
    "id": "LONoPLOgrcHU",
    "outputId": "793472e0-afd5-45fe-e5aa-0680721b61ed"
   },
   "outputs": [],
   "source": [
    "# Task 1.4\n",
    "def plot_performance(perf_list, name):\n",
    "    \"\"\"\n",
    "    This function plots the losses and accuarcies we've recorded during the training.\n",
    "    \n",
    "    :param perf_list: list with performance values for each epoch.\n",
    "    :param name: output image name.\n",
    "    \n",
    "    Use your plotting skills which you've aquired in the previous weeks. \n",
    "    Plot the losses and accuracies over epochs in one plot. \n",
    "    \"\"\"\n",
    "\n",
    "    ### your code here ###\n",
    "\n",
    "    \n",
    "    \n",
    "    ### all done ###\n",
    "    \n",
    "    plt.savefig(f\"./{name}.png\")    \n",
    "    plt.show();\n"
   ]
  },
  {
   "cell_type": "markdown",
   "metadata": {},
   "source": [
    "Finally, let's visualize your results! Can you see a difference between training and test performance?"
   ]
  },
  {
   "cell_type": "code",
   "execution_count": null,
   "metadata": {},
   "outputs": [],
   "source": [
    "# do not change this cell\n",
    "if not grading:\n",
    "  plot_performance(train_losses, \"loss\")\n",
    "  plot_performance(test_accuracies, \"accuracy\")"
   ]
  },
  {
   "cell_type": "markdown",
   "metadata": {},
   "source": [
    "### Task 2: Neural Networks - Understanding (multiple choice)"
   ]
  },
  {
   "cell_type": "markdown",
   "metadata": {},
   "source": [
    "**Question 1**: In pytorch, dataloaders are common to handle dataset preparation. What do we use them for? (1 correct answer)\n",
    "> 1. dataloaders are a convenient way to download datasets. => answer_1 = 1\n",
    "> 2. in dataloaders, we can download and transform data to improve generalization. => answer_1 = 2\n",
    "> 3. we shouldn't use dataloaders, because someone else has written it. we should only use our own code. => answer_1 = 3\n",
    "> 4. dataloaders are a convenient wrapper to provide the data in (shuffled) batches to the training loop. => answer_1 = 4"
   ]
  },
  {
   "cell_type": "code",
   "execution_count": null,
   "metadata": {},
   "outputs": [],
   "source": [
    "## set your answer_1 in this cell\n",
    "# set answer as one of [1,2,3,4]\n",
    "answer_1 = 0"
   ]
  },
  {
   "cell_type": "markdown",
   "metadata": {},
   "source": [
    "**Question 2**: For the training of neural networks, we use something called *loss*. Which of the statements is correct?  (1 correct answer)\n",
    "> 1. The loss is a variation of the error between prediction $\\mathbf{\\hat{y}}$ and ground truth $\\mathbf{y}$. We try to minimize it to get better predictions. => answer_2 = 1\n",
    "> 2. The loss is another performance metric, just like precision and recall. It's not necessary, but it offers additional information on specific datasets. => answer_2 = 2\n",
    "> 3. The loss of a neural network is a synonym for lost computation time. The term is still in use for historic reasons. => answer_2 = 3\n",
    "> 4. The loss is a list of samples, where network predicted the wrong class labels during training. They were *lost* in the learning phase, thus the name. => answer_2 = 4"
   ]
  },
  {
   "cell_type": "code",
   "execution_count": null,
   "metadata": {},
   "outputs": [],
   "source": [
    "## set your answer_2 in this cell\n",
    "# set answer as one of [1,2,3,4]\n",
    "answer_2 = 0"
   ]
  },
  {
   "cell_type": "markdown",
   "metadata": {},
   "source": [
    "**Question 3**: We have now successfully trained two neural networks. But what does training actually mean?  (1 correct answer)\n",
    "> 1. In the training of a neural network, we identify the nearest neighbors for the entire input space. Therefore, when we use the net, we can identify the neighbors immediately, which makes them more efficient => answer_3 = 1\n",
    "> 2. During the training, we iterate over the entire dataset only once because it otherwise overfits. => answer_3 = 2\n",
    "> 3. In the training phase, we change the signal flow through the network: it always is the logarithmic cosine Kulbach-Leibler distance of the ideal solution. => answer_3 = 3\n",
    "> 4. During training, we update the network's parameters so that the loss is minimzed. => answer_3 = 4"
   ]
  },
  {
   "cell_type": "code",
   "execution_count": null,
   "metadata": {},
   "outputs": [],
   "source": [
    "## set your answer_3 in this cell\n",
    "# set answer as one of [1,2,3,4]\n",
    "answer_3 = 0"
   ]
  },
  {
   "cell_type": "markdown",
   "metadata": {},
   "source": [
    "**Question 4**: Depending on the data type, we use different neural network architectures. What can you say about convolution layers? (1 correct answer)\n",
    "> 1. Convolutional layers are quite simple and therefore still in use for sample problems, but are actually not ideal on spatial data like images. => answer_4 = 1\n",
    "> 2. Convolutional layers are particularly good at recognizing patterns in spatial data, which is why we use them on images. => answer_4 = 2\n",
    "> 3. Convolutional layers are way too complex for the regular neural network user, therefore we shouldn't use them. => answer_4 = 3\n",
    "> 4. *Convolution* actually is an arbitrary name Y.LeCun introduced to the broader public but J.Schmidhuber invented in the 1990s. => answer_4 = 4"
   ]
  },
  {
   "cell_type": "code",
   "execution_count": null,
   "metadata": {},
   "outputs": [],
   "source": [
    "## set your answer_4 in this cell\n",
    "# set answer as one of [1,2,3,4]\n",
    "answer_4 = 0"
   ]
  }
 ],
 "metadata": {
  "accelerator": "GPU",
  "colab": {
   "collapsed_sections": [],
   "name": "Assignment 11.ipynb",
   "provenance": []
  },
  "kernelspec": {
   "display_name": "Python 3",
   "language": "python",
   "name": "python3"
  },
  "language_info": {
   "codemirror_mode": {
    "name": "ipython",
    "version": 3
   },
   "file_extension": ".py",
   "mimetype": "text/x-python",
   "name": "python",
   "nbconvert_exporter": "python",
   "pygments_lexer": "ipython3",
   "version": "3.7.4"
  }
 },
 "nbformat": 4,
 "nbformat_minor": 4
}
