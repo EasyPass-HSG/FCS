{
  "nbformat": 4,
  "nbformat_minor": 0,
  "metadata": {
    "celltoolbar": "Edit Metadata",
    "kernelspec": {
      "display_name": "Python 3",
      "language": "python",
      "name": "python3"
    },
    "language_info": {
      "codemirror_mode": {
        "name": "ipython",
        "version": 3
      },
      "file_extension": ".py",
      "mimetype": "text/x-python",
      "name": "python",
      "nbconvert_exporter": "python",
      "pygments_lexer": "ipython3",
      "version": "3.7.4"
    },
    "colab": {
      "name": "assignment6_template.ipynb",
      "provenance": [],
      "collapsed_sections": []
    }
  },
  "cells": [
    {
      "cell_type": "code",
      "metadata": {
        "id": "0fkTSTEPMtmm",
        "colab_type": "code",
        "colab": {}
      },
      "source": [
        "grading = False"
      ],
      "execution_count": null,
      "outputs": []
    },
    {
      "cell_type": "code",
      "metadata": {
        "id": "SOsl4kGkMtmt",
        "colab_type": "code",
        "colab": {
          "base_uri": "https://localhost:8080/",
          "height": 34
        },
        "outputId": "865db528-aa77-4e55-a4f6-93abfde018cc"
      },
      "source": [
        "\"\"\"\n",
        "assignment6_template.ipynb\n",
        "\n",
        "\"\"\""
      ],
      "execution_count": null,
      "outputs": [
        {
          "output_type": "execute_result",
          "data": {
            "text/plain": [
              "'\\nassignment6_template.ipynb\\n18-620-856\\n<Dominik Voser>\\n'"
            ]
          },
          "metadata": {
            "tags": []
          },
          "execution_count": 190
        }
      ]
    },
    {
      "cell_type": "code",
      "metadata": {
        "deletable": false,
        "editable": false,
        "id": "B89ut3r4Mtmy",
        "colab_type": "code",
        "colab": {
          "base_uri": "https://localhost:8080/",
          "height": 1000
        },
        "outputId": "cd9e444c-89ea-4b66-ea4d-3692f8ab4860"
      },
      "source": [
        "from IPython import get_ipython\n",
        "!jupyter nbconvert --to script assignment6_template.ipynb"
      ],
      "execution_count": null,
      "outputs": [
        {
          "output_type": "stream",
          "text": [
            "[NbConvertApp] WARNING | pattern u'assignment6_template.ipynb' matched no files\n",
            "This application is used to convert notebook files (*.ipynb) to various other\n",
            "formats.\n",
            "\n",
            "WARNING: THE COMMANDLINE INTERFACE MAY CHANGE IN FUTURE RELEASES.\n",
            "\n",
            "Options\n",
            "-------\n",
            "\n",
            "Arguments that take values are actually convenience aliases to full\n",
            "Configurables, whose aliases are listed on the help line. For more information\n",
            "on full configurables, see '--help-all'.\n",
            "\n",
            "--execute\n",
            "    Execute the notebook prior to export.\n",
            "--allow-errors\n",
            "    Continue notebook execution even if one of the cells throws an error and include the error message in the cell output (the default behaviour is to abort conversion). This flag is only relevant if '--execute' was specified, too.\n",
            "--no-input\n",
            "    Exclude input cells and output prompts from converted document. \n",
            "    This mode is ideal for generating code-free reports.\n",
            "--stdout\n",
            "    Write notebook output to stdout instead of files.\n",
            "--stdin\n",
            "    read a single notebook file from stdin. Write the resulting notebook with default basename 'notebook.*'\n",
            "--inplace\n",
            "    Run nbconvert in place, overwriting the existing notebook (only \n",
            "    relevant when converting to notebook format)\n",
            "-y\n",
            "    Answer yes to any questions instead of prompting.\n",
            "--clear-output\n",
            "    Clear output of current file and save in place, \n",
            "    overwriting the existing notebook.\n",
            "--debug\n",
            "    set log level to logging.DEBUG (maximize logging output)\n",
            "--no-prompt\n",
            "    Exclude input and output prompts from converted document.\n",
            "--generate-config\n",
            "    generate default config file\n",
            "--nbformat=<Enum> (NotebookExporter.nbformat_version)\n",
            "    Default: 4\n",
            "    Choices: [1, 2, 3, 4]\n",
            "    The nbformat version to write. Use this to downgrade notebooks.\n",
            "--output-dir=<Unicode> (FilesWriter.build_directory)\n",
            "    Default: ''\n",
            "    Directory to write output(s) to. Defaults to output to the directory of each\n",
            "    notebook. To recover previous default behaviour (outputting to the current\n",
            "    working directory) use . as the flag value.\n",
            "--writer=<DottedObjectName> (NbConvertApp.writer_class)\n",
            "    Default: 'FilesWriter'\n",
            "    Writer class used to write the  results of the conversion\n",
            "--log-level=<Enum> (Application.log_level)\n",
            "    Default: 30\n",
            "    Choices: (0, 10, 20, 30, 40, 50, 'DEBUG', 'INFO', 'WARN', 'ERROR', 'CRITICAL')\n",
            "    Set the log level by value or name.\n",
            "--reveal-prefix=<Unicode> (SlidesExporter.reveal_url_prefix)\n",
            "    Default: u''\n",
            "    The URL prefix for reveal.js (version 3.x). This defaults to the reveal CDN,\n",
            "    but can be any url pointing to a copy  of reveal.js.\n",
            "    For speaker notes to work, this must be a relative path to a local  copy of\n",
            "    reveal.js: e.g., \"reveal.js\".\n",
            "    If a relative path is given, it must be a subdirectory of the current\n",
            "    directory (from which the server is run).\n",
            "    See the usage documentation\n",
            "    (https://nbconvert.readthedocs.io/en/latest/usage.html#reveal-js-html-\n",
            "    slideshow) for more details.\n",
            "--to=<Unicode> (NbConvertApp.export_format)\n",
            "    Default: 'html'\n",
            "    The export format to be used, either one of the built-in formats\n",
            "    ['asciidoc', 'custom', 'html', 'latex', 'markdown', 'notebook', 'pdf',\n",
            "    'python', 'rst', 'script', 'slides'] or a dotted object name that represents\n",
            "    the import path for an `Exporter` class\n",
            "--template=<Unicode> (TemplateExporter.template_file)\n",
            "    Default: u''\n",
            "    Name of the template file to use\n",
            "--output=<Unicode> (NbConvertApp.output_base)\n",
            "    Default: ''\n",
            "    overwrite base name use for output files. can only be used when converting\n",
            "    one notebook at a time.\n",
            "--post=<DottedOrNone> (NbConvertApp.postprocessor_class)\n",
            "    Default: u''\n",
            "    PostProcessor class used to write the results of the conversion\n",
            "--config=<Unicode> (JupyterApp.config_file)\n",
            "    Default: u''\n",
            "    Full path of a config file.\n",
            "\n",
            "To see all available configurables, use `--help-all`\n",
            "\n",
            "Examples\n",
            "--------\n",
            "\n",
            "    The simplest way to use nbconvert is\n",
            "    \n",
            "    > jupyter nbconvert mynotebook.ipynb\n",
            "    \n",
            "    which will convert mynotebook.ipynb to the default format (probably HTML).\n",
            "    \n",
            "    You can specify the export format with `--to`.\n",
            "    Options include ['asciidoc', 'custom', 'html', 'latex', 'markdown', 'notebook', 'pdf', 'python', 'rst', 'script', 'slides'].\n",
            "    \n",
            "    > jupyter nbconvert --to latex mynotebook.ipynb\n",
            "    \n",
            "    Both HTML and LaTeX support multiple output templates. LaTeX includes\n",
            "    'base', 'article' and 'report'.  HTML includes 'basic' and 'full'. You\n",
            "    can specify the flavor of the format used.\n",
            "    \n",
            "    > jupyter nbconvert --to html --template basic mynotebook.ipynb\n",
            "    \n",
            "    You can also pipe the output to stdout, rather than a file\n",
            "    \n",
            "    > jupyter nbconvert mynotebook.ipynb --stdout\n",
            "    \n",
            "    PDF is generated via latex\n",
            "    \n",
            "    > jupyter nbconvert mynotebook.ipynb --to pdf\n",
            "    \n",
            "    You can get (and serve) a Reveal.js-powered slideshow\n",
            "    \n",
            "    > jupyter nbconvert myslides.ipynb --to slides --post serve\n",
            "    \n",
            "    Multiple notebooks can be given at the command line in a couple of \n",
            "    different ways:\n",
            "    \n",
            "    > jupyter nbconvert notebook*.ipynb\n",
            "    > jupyter nbconvert notebook1.ipynb notebook2.ipynb\n",
            "    \n",
            "    or you can specify the notebooks list in a config file, containing::\n",
            "    \n",
            "        c.NbConvertApp.notebooks = [\"my_notebook.ipynb\"]\n",
            "    \n",
            "    > jupyter nbconvert --config mycfg.py\n",
            "\n"
          ],
          "name": "stdout"
        }
      ]
    },
    {
      "cell_type": "code",
      "metadata": {
        "deletable": false,
        "editable": false,
        "id": "IlE7za51Mtm1",
        "colab_type": "code",
        "colab": {}
      },
      "source": [
        "import os\n",
        "from functools import reduce\n",
        "\n",
        "import numpy as np\n",
        "import pandas as pd\n",
        "\n",
        "import matplotlib.pyplot as plt\n",
        "from pandas.util.testing import assert_frame_equal"
      ],
      "execution_count": null,
      "outputs": []
    },
    {
      "cell_type": "code",
      "metadata": {
        "pycharm": {
          "is_executing": false
        },
        "id": "qxi32jHaMtm4",
        "colab_type": "code",
        "colab": {}
      },
      "source": [
        "class Villain(object):\n",
        "    def __init__(self, name, captured, rank):\n",
        "        \"\"\"\n",
        "        :param name: The name, a string.\n",
        "        :param captured: The captivity status, a boolean.\n",
        "        :param rank: The rank, an integer.\n",
        "        \"\"\"\n",
        "        self.name = name\n",
        "        self.captured = captured\n",
        "        self.rank = rank\n",
        "        \n",
        "    def __str__(self):\n",
        "        return f\"Villain: {self.name}, Captured: {self.captured}, Rank: {self.rank}\"\n",
        "\n",
        "    #########################################\n",
        "    # IMPLEMENT THE COMPARISON METHODS HERE #\n",
        "    #########################################\n",
        "\n",
        "    def __bool__(self):\n",
        "      return self.captured\n",
        "\n",
        "    def __eq__(self, other):\n",
        "      return self.rank == other.rank\n",
        "    def __ne__(self, other):\n",
        "      return self.rank != other.rank\n",
        "    def __lt__(self, other):\n",
        "      return self.rank < other.rank\n",
        "    def __gt__(self, other):\n",
        "      return self.rank > other.rank\n",
        "    def __le__(self, other):\n",
        "      return self.rank <= other.rank\n",
        "    def __ge__(self, other):\n",
        "      return self.rank >= other.rank"
      ],
      "execution_count": null,
      "outputs": []
    },
    {
      "cell_type": "code",
      "metadata": {
        "deletable": false,
        "editable": false,
        "id": "JIdSUSYuMtm8",
        "colab_type": "code",
        "colab": {}
      },
      "source": [
        "villains = [\n",
        "    Villain(\"Riddler\", True, 3),\n",
        "    Villain(\"Scarecrow\", True, 10),\n",
        "    Villain(\"Penguin\", True, 6),\n",
        "    Villain(\"Joker\", False, 1),\n",
        "    Villain(\"Calendar Man\", False, 8),\n",
        "    Villain(\"Bane\", False, 5)\n",
        "]"
      ],
      "execution_count": null,
      "outputs": []
    },
    {
      "cell_type": "code",
      "metadata": {
        "deletable": false,
        "editable": false,
        "id": "EVUvMyVmMtnB",
        "colab_type": "code",
        "colab": {}
      },
      "source": [
        "def captured_villains(villains):\n",
        "    \"\"\"\n",
        "    Task 1a)\n",
        "\n",
        "    !!! DO NOT CHANGE THIS METHOD. !!!\n",
        "\n",
        "    You need to write code in the Villain class to solve this.\n",
        "    You can find the method you need here: https://docs.python.org/3/reference/datamodel.html#special-method-names\n",
        "    :return: A list of captured villains.\n",
        "    \"\"\"\n",
        "    return [str(x) for x in villains if x]"
      ],
      "execution_count": null,
      "outputs": []
    },
    {
      "cell_type": "code",
      "metadata": {
        "id": "Y-bYv4HaMtnE",
        "colab_type": "code",
        "colab": {
          "base_uri": "https://localhost:8080/",
          "height": 68
        },
        "outputId": "81dc94c9-44c7-4ee9-84a0-55c33f5dfdcd"
      },
      "source": [
        "# Correct output:\n",
        "# Villain: Riddler, Captured: True, Rank: 3\n",
        "# Villain: Scarecrow, Captured: True, Rank: 10\n",
        "# Villain: Penguin, Captured: True, Rank: 6\n",
        "if not grading:\n",
        "    print(\"\\n\".join(captured_villains(villains)))"
      ],
      "execution_count": null,
      "outputs": [
        {
          "output_type": "stream",
          "text": [
            "Villain: Riddler, Captured: True, Rank: 3\n",
            "Villain: Scarecrow, Captured: True, Rank: 10\n",
            "Villain: Penguin, Captured: True, Rank: 6\n"
          ],
          "name": "stdout"
        }
      ]
    },
    {
      "cell_type": "code",
      "metadata": {
        "deletable": false,
        "editable": false,
        "id": "emmtGbTfMtnI",
        "colab_type": "code",
        "colab": {}
      },
      "source": [
        "def villains_by_rank(villains):\n",
        "    \"\"\"\n",
        "    Task 1b)\n",
        "\n",
        "    !!! DO NOT CHANGE THIS METHOD. !!!\n",
        "\n",
        "    You need to write code in the Villain class to solve this.\n",
        "    You need to implement ALL SIX of the rich comparison methods.\n",
        "    You can find them here: https://docs.python.org/3/reference/datamodel.html#special-method-names\n",
        "\n",
        "    The villains must be ordered by their rank.\n",
        "\n",
        "    HINT: If you have implemented the methods correctly, the following should be possible:\n",
        "    villain1 < villain2\n",
        "    villain1 <= villain2\n",
        "    villain1 == villain2\n",
        "    villain1 != villain2\n",
        "    villain1 > villain2\n",
        "    villain1 >= villain2\n",
        "    where each comparison uses the rank of the villains for the comparison.\n",
        "\n",
        "    :return: A list of the string representation of Villains, sorted by their rank (ascending).\n",
        "    \"\"\"\n",
        "    return [str(x) for x in sorted(villains)]"
      ],
      "execution_count": null,
      "outputs": []
    },
    {
      "cell_type": "code",
      "metadata": {
        "id": "EM7kFEktMtnK",
        "colab_type": "code",
        "colab": {
          "base_uri": "https://localhost:8080/",
          "height": 119
        },
        "outputId": "27ffb6d1-ee91-4ca7-abe5-d48bcb41e9cd"
      },
      "source": [
        "# Correct output:\n",
        "# Villain: Joker, Captured: False, Rank: 1\n",
        "# Villain: Riddler, Captured: True, Rank: 3\n",
        "# Villain: Bane, Captured: False, Rank: 5\n",
        "# Villain: Penguin, Captured: True, Rank: 6\n",
        "# Villain: Calendar Man, Captured: False, Rank: 8\n",
        "# Villain: Scarecrow, Captured: True, Rank: 10\n",
        "\n",
        "\n",
        "\n",
        "if not grading:\n",
        "    print(\"\\n\".join(villains_by_rank(villains)))"
      ],
      "execution_count": null,
      "outputs": [
        {
          "output_type": "stream",
          "text": [
            "Villain: Joker, Captured: False, Rank: 1\n",
            "Villain: Riddler, Captured: True, Rank: 3\n",
            "Villain: Bane, Captured: False, Rank: 5\n",
            "Villain: Penguin, Captured: True, Rank: 6\n",
            "Villain: Calendar Man, Captured: False, Rank: 8\n",
            "Villain: Scarecrow, Captured: True, Rank: 10\n"
          ],
          "name": "stdout"
        }
      ]
    },
    {
      "cell_type": "code",
      "metadata": {
        "id": "2hhg83PHMtnP",
        "colab_type": "code",
        "colab": {}
      },
      "source": [
        "def clean(unclean):\n",
        "    \"\"\"\n",
        "    Task 2a)\n",
        "\n",
        "    \"Cleans\" the self.unclean list.\n",
        "    You need to return a list containing all the numbers in self.unclean by using a list comprehension.\n",
        "\n",
        "    --> Implement this method in ONE line. <--\n",
        "\n",
        "    Use list comprehensions for this task: https://docs.python.org/3/tutorial/datastructures.html#list-comprehensions\n",
        "\n",
        "    HINT: Use type() as an \"if\" condition in the list comprehension to create a new list containing only the\n",
        "    integers.\n",
        "\n",
        "    :return: A new (!) list containing only the integers in self.unclean .\n",
        "    \"\"\"\n",
        "    return [x for x in unclean if isinstance(x,int) ]  # either delete or replace this line with your solution"
      ],
      "execution_count": null,
      "outputs": []
    },
    {
      "cell_type": "code",
      "metadata": {
        "id": "SS_c188iMtnS",
        "colab_type": "code",
        "colab": {
          "base_uri": "https://localhost:8080/",
          "height": 34
        },
        "outputId": "fc67cf27-a9b9-4f3f-c665-44c8d9e67b9e"
      },
      "source": [
        "unclean = [1, 2, 3, \"Dust\", 4, \"Grime\", 5, \"Cobwebs\"]\n",
        "# Correct output:\n",
        "# [1, 2, 3, 4, 5]\n",
        "if not grading:\n",
        "    print(clean(unclean))"
      ],
      "execution_count": null,
      "outputs": [
        {
          "output_type": "stream",
          "text": [
            "[1, 2, 3, 4, 5]\n"
          ],
          "name": "stdout"
        }
      ]
    },
    {
      "cell_type": "code",
      "metadata": {
        "id": "TLYe9ON2MtnW",
        "colab_type": "code",
        "colab": {}
      },
      "source": [
        "def check_todo(cleaning_status):\n",
        "    \"\"\"\n",
        "    Task 2b)\n",
        "\n",
        "    Checks which items still have to be cleaned and returns a list containing those items.\n",
        "\n",
        "    The structure is as follows:\n",
        "        [\n",
        "            (item1, status),\n",
        "            (item2, status),\n",
        "            ...\n",
        "        ]\n",
        "    The \"status\" describes whether or not the item is cleaned.\n",
        "    You have to return a list containing all the items that are not cleaned, and ONLY those items, NOT their status!\n",
        "\n",
        "    --> Implement this method in ONE line. <--\n",
        "\n",
        "    Use a list comprehension for this task: https://docs.python.org/3/tutorial/datastructures.html#list-comprehensions\n",
        "\n",
        "    HINT: You can unpack tuples in for loops (use Google to find out how, maybe you already know how to do it) or\n",
        "    you can iterate over the list of tuples and access the tuple elements by their index.\n",
        "\n",
        "    :return: A list containing the unfinished items from the todo list.\n",
        "    \"\"\"\n",
        "    return [x[0] for x in cleaning_status if not x[1] ]  # either delete or replace this line with your solution"
      ],
      "execution_count": null,
      "outputs": []
    },
    {
      "cell_type": "code",
      "metadata": {
        "id": "OU87UtVzMtnX",
        "colab_type": "code",
        "colab": {
          "base_uri": "https://localhost:8080/",
          "height": 34
        },
        "outputId": "9cd8420f-17de-41a4-8389-a07a517bb076"
      },
      "source": [
        "cleaning_status = [(\"Cups\", True), (\"Windows\", False), (\"Shoes\", True)]\n",
        "# Correct output:\n",
        "# ['Windows']\n",
        "if not grading:\n",
        "    print(check_todo(cleaning_status))"
      ],
      "execution_count": null,
      "outputs": [
        {
          "output_type": "stream",
          "text": [
            "['Windows']\n"
          ],
          "name": "stdout"
        }
      ]
    },
    {
      "cell_type": "code",
      "metadata": {
        "id": "Ow-nUFMEMtnZ",
        "colab_type": "code",
        "colab": {}
      },
      "source": [
        "def check_bills(bills):\n",
        "    \"\"\"\n",
        "    Task 2c)\n",
        "\n",
        "    Calculates how much the total cost of the bills are.\n",
        "\n",
        "    You can find the list of bills in self.bills .\n",
        "\n",
        "    --> Implement this method in ONE line. <--\n",
        "\n",
        "    !!! Use reduce() to solve this task! https://docs.python.org/3/library/functools.html#functools.reduce !!!\n",
        "    Do NOT use sum() or anything like that. You MUST use reduce() !\n",
        "\n",
        "    :return: The total amount of bills to be paid.\n",
        "    \"\"\"\n",
        "    # Set initializer (optional) to 0 in case an empty list is passed into function!\n",
        "    return reduce(lambda x, y: x + y, bills, 0)  # either delete or replace this line with your solution"
      ],
      "execution_count": null,
      "outputs": []
    },
    {
      "cell_type": "code",
      "metadata": {
        "id": "SexpE6ILMtna",
        "colab_type": "code",
        "colab": {
          "base_uri": "https://localhost:8080/",
          "height": 34
        },
        "outputId": "c885187f-609a-441d-f7ca-a0e4ce692100"
      },
      "source": [
        "bills = [100, 300, 125.30, 10000]\n",
        "# Correct output:\n",
        "# 10525.3\n",
        "\n",
        "\n",
        "if not grading:\n",
        "    print(check_bills(bills))"
      ],
      "execution_count": null,
      "outputs": [
        {
          "output_type": "stream",
          "text": [
            "10525.3\n"
          ],
          "name": "stdout"
        }
      ]
    },
    {
      "cell_type": "code",
      "metadata": {
        "id": "qM5OYxJUMtnc",
        "colab_type": "code",
        "colab": {}
      },
      "source": [
        "def convert2float(t):\n",
        "    \"\"\"\n",
        "    Task 3a)\n",
        "\n",
        "    Converts an iterable (tuples, lists, ...) to a tuple of floats.\n",
        "    You may assume that the conversion to float never fails, you don't need to check the input for validity\n",
        "    or implement exception handling.\n",
        "    NOTE: This does not mean you can ignore exceptions! It means the input will never be structured in such a way\n",
        "    that an exception can occur - if you get an exception then your code is incorrect.\n",
        "\n",
        "    --> Implement this method in ONE line. <--\n",
        "\n",
        "    HINT: Use map(): https://docs.python.org/3/library/functions.html#map\n",
        "\n",
        "    :param t: An iterable.\n",
        "    :return: A tuple containing the values of \"t\", converted to float.\n",
        "    \"\"\"\n",
        "    return tuple(map(lambda x: float(x), t))  # either delete or replace this line with your solution"
      ],
      "execution_count": null,
      "outputs": []
    },
    {
      "cell_type": "code",
      "metadata": {
        "id": "_6jc340gMtng",
        "colab_type": "code",
        "colab": {
          "base_uri": "https://localhost:8080/",
          "height": 34
        },
        "outputId": "289474c1-2f42-4a55-b86d-eee6c30948f6"
      },
      "source": [
        "t = [\"1\", \"2\", \"3\"]\n",
        "t = convert2float(t)\n",
        "# Correct output:\n",
        "# (1.0, 2.0, 3.0)\n",
        "if not grading:\n",
        "    print(t)"
      ],
      "execution_count": null,
      "outputs": [
        {
          "output_type": "stream",
          "text": [
            "(1.0, 2.0, 3.0)\n"
          ],
          "name": "stdout"
        }
      ]
    },
    {
      "cell_type": "code",
      "metadata": {
        "id": "zrt4si-5Mtnh",
        "colab_type": "code",
        "colab": {}
      },
      "source": [
        "def load_coordinates():\n",
        "    \"\"\"\n",
        "    Task 3b)\n",
        "\n",
        "    Loads the scrambled coordinates.\n",
        "\n",
        "    Store the coordinates in a pandas DataFrame: https://pandas.pydata.org/pandas-docs/stable/reference/api/pandas.DataFrame.html\n",
        "    The DataFrame must have two columns: \"x\" and \"y\".\n",
        "\n",
        "    Each line contains one set of coordinates. The first value is the x-coordinate, the second value is\n",
        "    the y-coordinate.\n",
        "    You first need to split each line into two strings, where each of the strings represents either the x-coordinate\n",
        "    or the y-coordinate.\n",
        "\n",
        "    Use convert2float() from above to convert the coordinates to floats.\n",
        "    NOTE: convert2float() takes an iterable as input. Strings are iterable!\n",
        "\n",
        "    --> Make sure to convert the ENTIRE coordinate, NOT just the individual digits! <--\n",
        "\n",
        "    Then create a DataFrame containing two columns: \"x\" and \"y\", containing the x-coordinates in the \"x\" column\n",
        "    and the y-coordinates in the \"y\" column.\n",
        "    \n",
        "    :return: A DataFrame containing the coordinates.\n",
        "    \"\"\"\n",
        "\n",
        "    \n",
        "    with open(os.path.join(\"scrambled_coordinates.txt\"), \"r\") as f:\n",
        "        lines = f.readlines()\n",
        "        \n",
        "    ##################\n",
        "    # YOUR CODE HERE #\n",
        "    ##################\n",
        "    \n",
        "    #convert the two coordinates in each line to a float\n",
        "    coordinates = [convert2float(line.split()) for line in lines]\n",
        "    \n",
        "    \n",
        "    #coordinatesX = [coordinate[0] for coordinate in coordinates] #take the first (x-coordinate) element of each element in coordinates\n",
        "    #coordinatesY = [coordinate[1] for coordinate in coordinates] #take the second (y-coordinate) element of each element in coordinates\n",
        "    #d = {'x': coordinatesX, 'y': coordinatesY}\n",
        "\n",
        "    df = pd.DataFrame(coordinates, columns = ['x','y'])\n",
        "    \n",
        "    return df"
      ],
      "execution_count": null,
      "outputs": []
    },
    {
      "cell_type": "code",
      "metadata": {
        "id": "Bw9JsJC7Mtnj",
        "colab_type": "code",
        "colab": {}
      },
      "source": [
        "df = load_coordinates()\n",
        "correct_3b = pd.read_csv(\"3b_data.csv\")\n",
        "# If you see no error message everything is correct.\n",
        "if not grading:\n",
        "    pd.util.testing.assert_frame_equal(df, correct_3b)"
      ],
      "execution_count": null,
      "outputs": []
    },
    {
      "cell_type": "code",
      "metadata": {
        "id": "wnV5FEA4Mtnk",
        "colab_type": "code",
        "colab": {}
      },
      "source": [
        "def fix_symbol(df):\n",
        "    \"\"\"\n",
        "    Task 4)\n",
        "\n",
        "    You need to fix the corrupted coordinates data in this method.\n",
        "    To fix the data you need to iterate over the rows in the DataFrame and perform the following operations:\n",
        "        - if the x-coordinate value is >= 0, multiply it by itself\n",
        "        - if the row index is an even number, multiply both the x-coordinate and the y-coordinate by -1\n",
        "            (multiply it with the number \"minus one\")\n",
        "        - divide the y-coordinate by the x-coordinate\n",
        "        - divide the x-coordinate by the y-coordinate\n",
        "            NOTE: Do this AFTER you divide the y-coordinate by the x-coordinate, don't use the old y-coordinate\n",
        "            value for this. Use the value you get after you divide the y-coordinate by the x-coordinate.\n",
        "        - swap the x and y-coordinates\n",
        "    !!! You must perform these steps in the exact order outlined above! !!!\n",
        "    For example, the swapping must always be the FINAL step for each row.\n",
        "\n",
        "    :param df: The DataFrame containing the coordinates.\n",
        "    :return: A DataFrame with the fixed coordinates.\n",
        "    \"\"\"\n",
        "    ##################\n",
        "    # YOUR CODE HERE #\n",
        "    ##################\n",
        "    \n",
        "    #Do every operation in a seperate iteration with df.apply()\n",
        "    \"\"\"\n",
        "    df['x'] = df['x'].apply(lambda x: x*x if x>=0 else x) #multiply x with x if x>=0\n",
        "    df[df.index % 2 == 0] = df[df.index % 2 == 0].apply(lambda x: x * -1) #multiply by -1 if index % 2 == 0\n",
        "    df['y'] = df['y']/df['x'] #divide y by x\n",
        "    df['x'] = df['x']/df['y'] #divide x by y\n",
        "\n",
        "\n",
        "    # exchange x-column with y-column\n",
        "    temp = df['x'].copy()\n",
        "    df['x'] = df['y']\n",
        "    df['y'] = temp\n",
        "    \"\"\"\n",
        "    \n",
        "    for index, row in df.iterrows():\n",
        "      \n",
        "      #first operation\n",
        "      row.x = row.x**2 if row.x >= 0 else row.x\n",
        "      \n",
        "      #second operation\n",
        "      row.x = row.x*-1 if ((index % 2) == 0) else row.x\n",
        "      row.y = row.y*-1 if ((index % 2) == 0) else row.y\n",
        "\n",
        "      #third operation\n",
        "      \n",
        "      row.y = row.y/row.x\n",
        "\n",
        "      #forth operation\n",
        "      \n",
        "      row.x = row.x/row.y\n",
        "\n",
        "      #fifth operation\n",
        "      temp = row.x\n",
        "      row.x = row.y\n",
        "      row.y = temp\n",
        "\n",
        "\n",
        "    return df"
      ],
      "execution_count": null,
      "outputs": []
    },
    {
      "cell_type": "code",
      "metadata": {
        "deletable": false,
        "editable": false,
        "id": "FJDCuaOgMtnl",
        "colab_type": "code",
        "colab": {}
      },
      "source": [
        "def plot_df(df):\n",
        "    \"\"\"\n",
        "    !!! DO NOT CHANGE THIS METHOD. !!!\n",
        "\n",
        "    Plots the coordinates contained in the DataFrame.\n",
        "\n",
        "    :param df: The DataFrame containing the coordinates.\n",
        "    \"\"\"\n",
        "    ax1 = df.plot.scatter(x=\"x\", y=\"y\", color=\"yellow\")\n",
        "    ax1.set_facecolor(\"black\")\n",
        "    plt.show()"
      ],
      "execution_count": null,
      "outputs": []
    },
    {
      "cell_type": "code",
      "metadata": {
        "deletable": false,
        "editable": false,
        "id": "TpXYgSBhMtnn",
        "colab_type": "code",
        "colab": {
          "base_uri": "https://localhost:8080/",
          "height": 382
        },
        "outputId": "d62db171-5f86-48a0-812f-8eec6db732ea"
      },
      "source": [
        "# Output of the corrupted data\n",
        "correct_3b = pd.read_csv(\"3b_data.csv\")\n",
        "if not grading:\n",
        "    plot_df(correct_3b)"
      ],
      "execution_count": null,
      "outputs": [
        {
          "output_type": "display_data",
          "data": {
            "image/png": "[encoded data removed]",
            "text/plain": [
              "<Figure size 600x400 with 1 Axes>"
            ]
          },
          "metadata": {
            "tags": []
          }
        }
      ]
    },
    {
      "cell_type": "code",
      "metadata": {
        "id": "wZvIh1u1Mtno",
        "colab_type": "code",
        "colab": {
          "base_uri": "https://localhost:8080/",
          "height": 419
        },
        "outputId": "c1fc5390-5768-49b9-bd9f-1a247f846216"
      },
      "source": [
        "correct_3b = pd.read_csv(\"3b_data.csv\")\n",
        "# you need to implement this before running this cell\n",
        "# if implemented correctly, you will see a symbol\n",
        "if not grading:\n",
        "    df = fix_symbol(correct_3b)\n",
        "    plot_df(df)"
      ],
      "execution_count": null,
      "outputs": [
        {
          "output_type": "stream",
          "text": [
            "/usr/local/lib/python3.6/dist-packages/ipykernel_launcher.py:50: RuntimeWarning: invalid value encountered in double_scalars\n"
          ],
          "name": "stderr"
        },
        {
          "output_type": "display_data",
          "data": {
            "image/png": "[encoded data removed]",
            "text/plain": [
              "<Figure size 600x400 with 1 Axes>"
            ]
          },
          "metadata": {
            "tags": []
          }
        }
      ]
    },
    {
      "cell_type": "code",
      "metadata": {
        "id": "mUNO78ikMtnp",
        "colab_type": "code",
        "colab": {}
      },
      "source": [
        "def superhero_data(percentile, df=None):\n",
        "    \"\"\"\n",
        "    Task 5)\n",
        "\n",
        "    Plots the data of the superheroes whose strength is in the lower percentile, for a given percentile.\n",
        "\n",
        "    You must load the file \"SuperheroDataset.csv\" into a DataFrame.\n",
        "    Then calculate the specified quantile for the \"Strength\" column.\n",
        "    HINT: There is a function in pandas you can use for this.\n",
        "    Example: 0.1 would indicate the 10% percentile. This is the value for \"Strength\" for which 10% of the\n",
        "    superheroes are below the rest, i.e. the 10% weakest superheroes.\n",
        "\n",
        "    !!! Do not forget to calculate the superheroes whose Strength level is are BELOW the percentile value. !!!\n",
        "\n",
        "    Then, for those superheroes, plot their Intelligence, Speed and Power as a bar chart.\n",
        "    Additionally:\n",
        "        - use the Name for the x-axis\n",
        "        - rotate the Name so it is readable from left to right (the default will be from bottom to top)\n",
        "        - set the figure size to be 1000x700 pixels\n",
        "        - change the colormap of the graph. You can find valid colormaps here: https://matplotlib.org/3.1.0/tutorials/colors/colormaps.html\n",
        "\n",
        "    :param percentile: The percentile.\n",
        "    :param df: Optional. If passed, this DataFrame will be used instead. Intended to be used if the percentile\n",
        "        calculation can't be solved.\n",
        "    \"\"\"\n",
        "    ##################\n",
        "    # YOUR CODE HERE #\n",
        "    ##################\n",
        "\n",
        "    \n",
        "    data = pd.read_csv(\"SuperheroDataset.csv\")\n",
        "    quant = data.Strength.quantile(percentile)\n",
        "\n",
        "    \n",
        "\n",
        "\n",
        "\n",
        "    #find every element that has strength < than quant\n",
        "    weakSuperHeros = data[ data.Strength < quant ]\n",
        "    \n",
        "    \n",
        "    my_dpi=100\n",
        "    plt.rcParams[\"figure.dpi\"] = my_dpi\n",
        "    \n",
        "    #We could even preset the figure size for all matplot figures\n",
        "    #plt.rcParams[\"figure.figsize\"] = 1000/my_dpi, 700/my_dpi\n",
        "\n",
        "\n",
        "    plot = weakSuperHeros.plot.bar(y=['Intelligence','Speed','Power'], x='Name', colormap = 'coolwarm', rot=0, figsize=(1000/my_dpi, 700/my_dpi))\n",
        "    \n",
        "    #in case we want to save the file -> uncomment\n",
        "    #plt.savefig('/plot.png')\n",
        "    \n",
        "\n",
        "\n",
        "\n",
        "\n",
        "    # Has not necessarily to be called since we plot using pandas\n",
        "    plt.show()\n",
        "\n",
        "\n",
        "\n"
      ],
      "execution_count": null,
      "outputs": []
    },
    {
      "cell_type": "code",
      "metadata": {
        "id": "9SsjfNlfMtnq",
        "colab_type": "code",
        "colab": {
          "base_uri": "https://localhost:8080/",
          "height": 1000
        },
        "outputId": "2f50c2b1-d96f-4c69-f1d5-ed24d27ad192"
      },
      "source": [
        "df = None\n",
        "# df = pd.read_pickle(\"task5.pkl\")  # uncomment this if you cant solve the percentile calculation\n",
        "superhero_data(0.1, df=df)\n",
        "if not grading:\n",
        "    superhero_data(0.1)"
      ],
      "execution_count": null,
      "outputs": [
        {
          "output_type": "display_data",
          "data": {
            "image/png": "[encoded data removed]",
            "text/plain": [
              "<Figure size 1000x700 with 1 Axes>"
            ]
          },
          "metadata": {
            "tags": []
          }
        },
        {
          "output_type": "display_data",
          "data": {
            "image/png": "[encoded data removed]",
            "text/plain": [
              "<Figure size 1000x700 with 1 Axes>"
            ]
          },
          "metadata": {
            "tags": []
          }
        }
      ]
    }
  ]
}