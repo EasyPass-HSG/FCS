{
  "nbformat": 4,
  "nbformat_minor": 0,
  "metadata": {
    "colab": {
      "name": "Data Science",
      "provenance": [],
      "authorship_tag": "ABX9TyMD0O/B19KyR4Cq+ONNC6u4",
      "include_colab_link": true
    },
    "kernelspec": {
      "name": "python3",
      "display_name": "Python 3"
    }
  },
  "cells": [
    {
      "cell_type": "markdown",
      "metadata": {
        "id": "view-in-github",
        "colab_type": "text"
      },
      "source": [
        "<a href=\"https://colab.research.google.com/github/WahlerP/csfundamentals-hsg/blob/master/Data_Science.ipynb\" target=\"_parent\"><img src=\"https://colab.research.google.com/assets/colab-badge.svg\" alt=\"Open In Colab\"/></a>"
      ]
    },
    {
      "cell_type": "markdown",
      "metadata": {
        "id": "1iJpsAm2k5g3",
        "colab_type": "text"
      },
      "source": [
        "# **DS - Basics**\n",
        "\n",
        "In this notebook we will explore and elaborate on the contents of the Data Science part of Fundamentals of Data Science Course @ HSG. We will look at the following:\n",
        "\n",
        "\n",
        "\n",
        "> Recap on important data types\n",
        "\n",
        "\n",
        "> Correct use of functions\n",
        "\n",
        "\n",
        "> Numerical Python\n",
        "\n",
        "\n",
        "> Functional Programming\n",
        "\n",
        "\n",
        "\n",
        "\n",
        "\n",
        "\n",
        "\n"
      ]
    },
    {
      "cell_type": "markdown",
      "metadata": {
        "id": "H82tNlROlHkF",
        "colab_type": "text"
      },
      "source": [
        "# Data Science Basics"
      ]
    },
    {
      "cell_type": "markdown",
      "metadata": {
        "id": "qm3jFW4HnWoX",
        "colab_type": "text"
      },
      "source": [
        "Let's start our introduction to Data Science by taking a look at the most useful methods and data types for Data Science. After that we will introduce the NumPy library as well as the basics of functional programming.\n",
        "<br><br>\n",
        "Note: this is not an introduction to Python programming. If you are not yet familiar with the fundamentals, refer to the Coding Crashcourse on our [GitHub page](https://https://github.com/WahlerP/csfundamentals-hsg)."
      ]
    },
    {
      "cell_type": "markdown",
      "metadata": {
        "collapsed": false,
        "id": "CJIhQb3xJp2e",
        "colab_type": "text"
      },
      "source": [
        "## **Data types in Python**"
      ]
    },
    {
      "cell_type": "markdown",
      "metadata": {
        "collapsed": false,
        "id": "OZioN3LNJp2e",
        "colab_type": "text"
      },
      "source": [
        "Every value in Python has a datatype. Since everything is an object in Python programming, data types are actually classes and variables are instance (object) of these classes.\n",
        "\n",
        "There are various data types in Python. Some of the important types are listed below.\n",
        "\n"
      ]
    },
    {
      "cell_type": "markdown",
      "metadata": {
        "collapsed": false,
        "id": "BYqksMuFJp2e",
        "colab_type": "text"
      },
      "source": [
        "### Python Numbers"
      ]
    },
    {
      "cell_type": "markdown",
      "metadata": {
        "collapsed": false,
        "id": "NPPyBW7XJp2f",
        "colab_type": "text"
      },
      "source": [
        "Integers and floating point numbers falls under *Python numbers* category. They are defined as `int`, `float` in Python.\n",
        "\n",
        "We can use the **`type()`** function to know which class a variable or a value belongs to and the **`isinstance()`** function to check if an object belongs to a particular class."
      ]
    },
    {
      "cell_type": "code",
      "metadata": {
        "id": "umIdRF4MJp2g",
        "colab_type": "code",
        "outputId": "b48d324b-33ff-4481-c68d-6b2b3c172a51",
        "colab": {
          "base_uri": "https://localhost:8080/"
        }
      },
      "source": [
        "a = 5\n",
        "print(a, \"is of type\", type(a))\n",
        "\n",
        "a = 2.0\n",
        "print(a, \"is of type\", type(a))\n"
      ],
      "execution_count": 0,
      "outputs": [
        {
          "output_type": "stream",
          "text": [
            "5 is of type <class 'int'>\n",
            "2.0 is of type <class 'float'>\n"
          ],
          "name": "stdout"
        }
      ]
    },
    {
      "cell_type": "markdown",
      "metadata": {
        "collapsed": false,
        "id": "JrkjmyTNJp2i",
        "colab_type": "text"
      },
      "source": [
        "Integers can be of any length, it is only limited by the memory available.\n",
        "\n",
        "A floating point number is accurate up to 15 decimal places. Integer and floating points are separated by decimal points. `1` is integer, `1.0` is floating point number."
      ]
    },
    {
      "cell_type": "code",
      "metadata": {
        "id": "_0LWweq7Jp2i",
        "colab_type": "code",
        "outputId": "0d3b69c2-12a2-430f-a466-927c6e69a9b7",
        "colab": {
          "base_uri": "https://localhost:8080/"
        }
      },
      "source": [
        "a = 1234567890123456789\n",
        "print(a)"
      ],
      "execution_count": 0,
      "outputs": [
        {
          "output_type": "stream",
          "text": [
            "1234567890123456789\n"
          ],
          "name": "stdout"
        }
      ]
    },
    {
      "cell_type": "code",
      "metadata": {
        "id": "rFt2cF4BJp2k",
        "colab_type": "code",
        "outputId": "e3c6d092-dad2-4783-915f-de41c159b0fb",
        "colab": {
          "base_uri": "https://localhost:8080/"
        }
      },
      "source": [
        "b = 0.1234567890123456789\n",
        "print(b)"
      ],
      "execution_count": 0,
      "outputs": [
        {
          "output_type": "stream",
          "text": [
            "0.12345678901234568\n"
          ],
          "name": "stdout"
        }
      ]
    },
    {
      "cell_type": "markdown",
      "metadata": {
        "collapsed": false,
        "id": "ylKybG5gJp2q",
        "colab_type": "text"
      },
      "source": [
        "Notice that the `float` variable `b` got truncated."
      ]
    },
    {
      "cell_type": "markdown",
      "metadata": {
        "collapsed": false,
        "id": "GL3J7jw2Jp3A",
        "colab_type": "text"
      },
      "source": [
        "### Python Strings"
      ]
    },
    {
      "cell_type": "markdown",
      "metadata": {
        "collapsed": false,
        "id": "eoyiC5_bJp3B",
        "colab_type": "text"
      },
      "source": [
        "String is sequence of text characters. We can use single quotes or double quotes to represent strings. Multi-line strings can be denoted using triple quotes, \\' \\' \\' or \\\" \\\" \\\"."
      ]
    },
    {
      "cell_type": "code",
      "metadata": {
        "id": "L0AGZ_YzJp3B",
        "colab_type": "code",
        "colab": {}
      },
      "source": [
        "s = \"This is a string\"\n",
        "s = '''a multiline\n",
        "dumdiedum lalala '''"
      ],
      "execution_count": 0,
      "outputs": []
    },
    {
      "cell_type": "markdown",
      "metadata": {
        "collapsed": false,
        "id": "JLyFbw-DJp3E",
        "colab_type": "text"
      },
      "source": [
        "Like list and tuple, slicing operator `[` `]` can be used to access specific elements within a string. Strings are immutable."
      ]
    },
    {
      "cell_type": "code",
      "metadata": {
        "id": "tWmwW4ZJJp3E",
        "colab_type": "code",
        "outputId": "2b84c55f-d438-4b5b-c4e1-7a2c4bc68aba",
        "colab": {
          "base_uri": "https://localhost:8080/",
          "height": 52
        }
      },
      "source": [
        "s = 'Hello world!'\n",
        "\n",
        "# s[4] = 'o'\n",
        "print(\"s[4] = \", s[4])\n",
        "\n",
        "# s[6:11] = 'world'\n",
        "print(\"s[6:11] = \", s[6:11])"
      ],
      "execution_count": 0,
      "outputs": [
        {
          "output_type": "stream",
          "text": [
            "s[4] =  o\n",
            "s[6:11] =  world\n"
          ],
          "name": "stdout"
        }
      ]
    },
    {
      "cell_type": "code",
      "metadata": {
        "id": "W2Nc9w0NJp3H",
        "colab_type": "code",
        "outputId": "effedbb7-afe7-4fd1-da56-5fc31ae6fe36",
        "colab": {
          "base_uri": "https://localhost:8080/",
          "height": 168
        }
      },
      "source": [
        "# Generates error\n",
        "# Strings are immutable in Python\n",
        "s[5] ='d'"
      ],
      "execution_count": 0,
      "outputs": [
        {
          "output_type": "error",
          "ename": "TypeError",
          "evalue": "ignored",
          "traceback": [
            "\u001b[0;31m---------------------------------------------------------------------------\u001b[0m",
            "\u001b[0;31mTypeError\u001b[0m                                 Traceback (most recent call last)",
            "\u001b[0;32m<ipython-input-39-22a8bbeeb322>\u001b[0m in \u001b[0;36m<module>\u001b[0;34m()\u001b[0m\n\u001b[0;32m----> 1\u001b[0;31m \u001b[0ms\u001b[0m\u001b[0;34m[\u001b[0m\u001b[0;36m5\u001b[0m\u001b[0;34m]\u001b[0m \u001b[0;34m=\u001b[0m\u001b[0;34m'd'\u001b[0m\u001b[0;34m\u001b[0m\u001b[0;34m\u001b[0m\u001b[0m\n\u001b[0m",
            "\u001b[0;31mTypeError\u001b[0m: 'str' object does not support item assignment"
          ]
        }
      ]
    },
    {
      "cell_type": "markdown",
      "metadata": {
        "id": "SDOQa1YLtorc",
        "colab_type": "text"
      },
      "source": [
        "### None type\n",
        "\n"
      ]
    },
    {
      "cell_type": "markdown",
      "metadata": {
        "id": "DvHXTaRl0FnX",
        "colab_type": "text"
      },
      "source": [
        "None is a very special data type. It stands for an empty object and is used to indicate that something (e.g. a variable, a parameter) does not exist."
      ]
    },
    {
      "cell_type": "code",
      "metadata": {
        "id": "qrKtM99cuCj-",
        "colab_type": "code",
        "colab": {}
      },
      "source": [
        "Nothing = None\n",
        "print(type(None))"
      ],
      "execution_count": 0,
      "outputs": []
    },
    {
      "cell_type": "markdown",
      "metadata": {
        "id": "yHFmOKAeuNuZ",
        "colab_type": "text"
      },
      "source": [
        "It is important to realize that a `None` object is, counterintuitively,  not the same as actual \"nothingness\". Let's look at an example:\n",
        "\n"
      ]
    },
    {
      "cell_type": "code",
      "metadata": {
        "id": "LizRmHSvusXq",
        "colab_type": "code",
        "colab": {}
      },
      "source": [
        "none_list = [None]\n",
        "empty_list = []\n",
        "\n",
        "print(none_list == empty_list) # check whether the two lists are equal"
      ],
      "execution_count": 0,
      "outputs": []
    },
    {
      "cell_type": "markdown",
      "metadata": {
        "id": "SK3zDWt2u9Re",
        "colab_type": "text"
      },
      "source": [
        "In our example we can see that both lists are  not identical. This is due to the fact that `None` serves as a sort of placeholder and as such, is still considered an element. Our `empty_list` is a list with no elements, whereas our `none_list` encompasses one element, which happens to be `None`."
      ]
    },
    {
      "cell_type": "code",
      "metadata": {
        "id": "q3xnLrUWvdZB",
        "colab_type": "code",
        "colab": {}
      },
      "source": [
        "# let's find out the number of elements within both lists\n",
        "print(len(none_list))\n",
        "print(len(empty_list))"
      ],
      "execution_count": 0,
      "outputs": []
    },
    {
      "cell_type": "markdown",
      "metadata": {
        "id": "hVXKY-k3zNm1",
        "colab_type": "text"
      },
      "source": [
        "### Iterables"
      ]
    },
    {
      "cell_type": "markdown",
      "metadata": {
        "id": "GgCjVV3X0g3u",
        "colab_type": "text"
      },
      "source": [
        "An iterable is any Python object capable of returning its members one at a time, permitting it to be iterated over. Familiar examples of iterables include lists, tuples, sets and dictionaries.\n",
        "\n",
        "In Data Science, where we often have to access elements individually, iterables are highly useful."
      ]
    },
    {
      "cell_type": "markdown",
      "metadata": {
        "collapsed": false,
        "id": "GfXSeHQyJp2r",
        "colab_type": "text"
      },
      "source": [
        "**Python List**\n",
        "\n",
        "`List` is an ordered sequence of items. It is one of the most used datatype in Python and is very flexible. All the items in a list do not need to be of the same type."
      ]
    },
    {
      "cell_type": "markdown",
      "metadata": {
        "collapsed": false,
        "id": "ozjyIdRdJp2r",
        "colab_type": "text"
      },
      "source": [
        "Declaring a list is pretty straight forward. Items separated by commas are enclosed within brackets `[` `]`. We can also use `list()` to create a list. "
      ]
    },
    {
      "cell_type": "code",
      "metadata": {
        "id": "BpY-KWXeJp2s",
        "colab_type": "code",
        "colab": {}
      },
      "source": [
        "a = [1, 2.2, 'python'] # or a = list(1,2.2,'python')"
      ],
      "execution_count": 0,
      "outputs": []
    },
    {
      "cell_type": "markdown",
      "metadata": {
        "collapsed": false,
        "id": "L4zFG605Jp2v",
        "colab_type": "text"
      },
      "source": [
        "We can use the slicing operator ``[` `]`` to extract an item or a range of items from a list. Index starts from 0 in Python."
      ]
    },
    {
      "cell_type": "code",
      "metadata": {
        "id": "083xbtjYJp2v",
        "colab_type": "code",
        "colab": {}
      },
      "source": [
        "lst = [5,10,15,20,25,30,35,40]\n",
        "\n",
        "# lst[2] = 15\n",
        "print(\"lst[2] = \", lst[2])\n",
        "\n",
        "# lst[0:3] = [5, 10, 15]\n",
        "print(\"lst[0:3] = \", lst[0:3])\n",
        "\n",
        "# lst[5:] = [30, 35, 40]\n",
        "print(\"lst[5:] = \", lst[5:])"
      ],
      "execution_count": 0,
      "outputs": []
    },
    {
      "cell_type": "markdown",
      "metadata": {
        "collapsed": false,
        "id": "-gxe2yAQJp2z",
        "colab_type": "text"
      },
      "source": [
        "Lists are mutable, meaning, value of elements of a list can be altered."
      ]
    },
    {
      "cell_type": "code",
      "metadata": {
        "id": "AyxYWeYAJp20",
        "colab_type": "code",
        "colab": {}
      },
      "source": [
        "lst = [1,2,3]\n",
        "lst[2]=4\n",
        "print(lst)"
      ],
      "execution_count": 0,
      "outputs": []
    },
    {
      "cell_type": "markdown",
      "metadata": {
        "id": "Ct-KgfqF2Fyb",
        "colab_type": "text"
      },
      "source": [
        "The .append() operator is used to add a single element or a list to the end of an existing list."
      ]
    },
    {
      "cell_type": "code",
      "metadata": {
        "id": "y38ouOoV2Rq2",
        "colab_type": "code",
        "colab": {}
      },
      "source": [
        "lst = [1,2,3]\n",
        "lst.append(\"test\")\n",
        "print(lst)\n"
      ],
      "execution_count": 0,
      "outputs": []
    },
    {
      "cell_type": "markdown",
      "metadata": {
        "collapsed": false,
        "id": "-D65LhIzJp23",
        "colab_type": "text"
      },
      "source": [
        "**Python Tuple**\n",
        "\n",
        "Tuple is an ordered sequence of items same as list.The only difference is that tuples are immutable. Tuples once created cannot be modified.\n",
        "\n",
        "Tuples are used to write-protect data and are usually faster than list as it cannot change dynamically.\n",
        "\n",
        "It is defined within parentheses `()` where items are separated by commas."
      ]
    },
    {
      "cell_type": "code",
      "metadata": {
        "id": "vKs7kFBLJp24",
        "colab_type": "code",
        "colab": {}
      },
      "source": [
        "t = (5,'program', 1+3j) \n",
        "print(t)"
      ],
      "execution_count": 0,
      "outputs": []
    },
    {
      "cell_type": "markdown",
      "metadata": {
        "collapsed": false,
        "id": "syeAU-UvJp26",
        "colab_type": "text"
      },
      "source": [
        "We can use the slicing operator `[` `]` to extract items but we cannot change its value."
      ]
    },
    {
      "cell_type": "code",
      "metadata": {
        "id": "UhNZ0AwyJp27",
        "colab_type": "code",
        "colab": {}
      },
      "source": [
        "t = (5,'program', 1+3j)\n",
        "\n",
        "# t[1] = 'program'\n",
        "print(\"t[1] = \", t[1])\n",
        "\n",
        "# t[0:3] = (5, 'program', (1+3j))\n",
        "print(\"t[0:3] = \", t[0:3])"
      ],
      "execution_count": 0,
      "outputs": []
    },
    {
      "cell_type": "code",
      "metadata": {
        "id": "ud8_Hd4rJp29",
        "colab_type": "code",
        "colab": {}
      },
      "source": [
        "# Generates error\n",
        "# Tuples are immutable\n",
        "t[0] = 10"
      ],
      "execution_count": 0,
      "outputs": []
    },
    {
      "cell_type": "markdown",
      "metadata": {
        "collapsed": false,
        "id": "p4MWDoebJp3L",
        "colab_type": "text"
      },
      "source": [
        "**Python Set**\n",
        "\n",
        "Set is defined by values separated by comma inside braces `{` `}`. Items in a set are **not ordered** and **unique**."
      ]
    },
    {
      "cell_type": "code",
      "metadata": {
        "id": "LOrV-FK4Jp3L",
        "colab_type": "code",
        "colab": {}
      },
      "source": [
        "a = {5,2,3,1,4}\n",
        "\n",
        "# printing set variable\n",
        "print(\"a = \", a)\n",
        "\n",
        "# data type of variable a\n",
        "print(type(a))"
      ],
      "execution_count": 0,
      "outputs": []
    },
    {
      "cell_type": "markdown",
      "metadata": {
        "collapsed": false,
        "id": "1kSrJ9X2Jp3P",
        "colab_type": "text"
      },
      "source": [
        "We can perform set operations like union, intersection on two sets. Set have unique values. They eliminate duplicates."
      ]
    },
    {
      "cell_type": "code",
      "metadata": {
        "id": "Qzaor8QRJp3Q",
        "colab_type": "code",
        "colab": {}
      },
      "source": [
        "a = {1,2,2,3,3,3}\n",
        "print(a)"
      ],
      "execution_count": 0,
      "outputs": []
    },
    {
      "cell_type": "markdown",
      "metadata": {
        "collapsed": false,
        "id": "YpY8EclzJp3T",
        "colab_type": "text"
      },
      "source": [
        "Since, set are unordered collection, indexing has no meaning. Hence the slicing operator `[` `]` does not work."
      ]
    },
    {
      "cell_type": "code",
      "metadata": {
        "id": "bjA_0YNhJp3T",
        "colab_type": "code",
        "colab": {}
      },
      "source": [
        "a = {1,2,3}\n",
        "print(a[1])"
      ],
      "execution_count": 0,
      "outputs": []
    },
    {
      "cell_type": "markdown",
      "metadata": {
        "collapsed": false,
        "id": "XtbhnQyXJp3X",
        "colab_type": "text"
      },
      "source": [
        "**Python Dictionary**\n",
        "\n",
        "`Dictionary` is an unordered collection of key-value pairs.\n",
        "\n",
        "It is generally used when we have a huge amount of data. Dictionaries are optimized for retrieving data. We must know the key to retrieve the value.\n",
        "\n",
        "In Python, dictionaries are defined within braces `{` `}` with each item being a pair in the form `key:value`. Key and value can be of any type."
      ]
    },
    {
      "cell_type": "code",
      "metadata": {
        "id": "XIyKvg5gJp3Y",
        "colab_type": "code",
        "colab": {}
      },
      "source": [
        "d = {1:'value','key':2}\n",
        "type(d)"
      ],
      "execution_count": 0,
      "outputs": []
    },
    {
      "cell_type": "markdown",
      "metadata": {
        "collapsed": false,
        "id": "huoDVI-1Jp3a",
        "colab_type": "text"
      },
      "source": [
        "We use key to retrieve the respective value. But not the other way around."
      ]
    },
    {
      "cell_type": "code",
      "metadata": {
        "id": "RIfRifoZJp3a",
        "colab_type": "code",
        "colab": {}
      },
      "source": [
        "d = {1:'value','key':2}\n",
        "print(type(d))\n",
        "\n",
        "print(\"d[1] = \", d[1]);\n",
        "\n",
        "print(\"d['key'] = \", d['key']);"
      ],
      "execution_count": 0,
      "outputs": []
    },
    {
      "cell_type": "code",
      "metadata": {
        "id": "B9r_dzEBJp3c",
        "colab_type": "code",
        "colab": {}
      },
      "source": [
        "# Generates error\n",
        "print(\"d[2] = \", d[2]);"
      ],
      "execution_count": 0,
      "outputs": []
    },
    {
      "cell_type": "markdown",
      "metadata": {
        "collapsed": false,
        "id": "YTaGfe9NJp3h",
        "colab_type": "text"
      },
      "source": [
        "### Casting"
      ]
    },
    {
      "cell_type": "markdown",
      "metadata": {
        "collapsed": false,
        "id": "0yHNo3G4Jp3i",
        "colab_type": "text"
      },
      "source": [
        "We can convert between different data types by using different type conversion functions like `int()`, `float()`, `str()` etc."
      ]
    },
    {
      "cell_type": "code",
      "metadata": {
        "id": "QbT3Zz4XJp3i",
        "colab_type": "code",
        "outputId": "4869df49-dff2-4dff-dab2-12273c4ccfd3",
        "colab": {
          "base_uri": "https://localhost:8080/",
          "height": 35
        }
      },
      "source": [
        "float(5)"
      ],
      "execution_count": 0,
      "outputs": [
        {
          "output_type": "execute_result",
          "data": {
            "text/plain": [
              "5.0"
            ]
          },
          "metadata": {
            "tags": []
          },
          "execution_count": 40
        }
      ]
    },
    {
      "cell_type": "markdown",
      "metadata": {
        "collapsed": false,
        "id": "adHANshlJp3m",
        "colab_type": "text"
      },
      "source": [
        "Conversion from float to int will truncate the value (make it closer to zero)."
      ]
    },
    {
      "cell_type": "code",
      "metadata": {
        "id": "Kzdulnv8Jp3m",
        "colab_type": "code",
        "outputId": "47d59e5c-e27a-4747-efb4-cec26a26643c",
        "colab": {
          "base_uri": "https://localhost:8080/",
          "height": 35
        }
      },
      "source": [
        "int(10.6)"
      ],
      "execution_count": 0,
      "outputs": [
        {
          "output_type": "execute_result",
          "data": {
            "text/plain": [
              "10"
            ]
          },
          "metadata": {
            "tags": []
          },
          "execution_count": 41
        }
      ]
    },
    {
      "cell_type": "code",
      "metadata": {
        "id": "NCXfbNyCJp3p",
        "colab_type": "code",
        "outputId": "93888527-4dd3-461e-f167-72d6d82a66b8",
        "colab": {
          "base_uri": "https://localhost:8080/",
          "height": 35
        }
      },
      "source": [
        "int(-10.6)"
      ],
      "execution_count": 0,
      "outputs": [
        {
          "output_type": "execute_result",
          "data": {
            "text/plain": [
              "-10"
            ]
          },
          "metadata": {
            "tags": []
          },
          "execution_count": 42
        }
      ]
    },
    {
      "cell_type": "markdown",
      "metadata": {
        "collapsed": false,
        "id": "xd16Nkz0Jp3s",
        "colab_type": "text"
      },
      "source": [
        "Conversion to and from string must contain compatible values."
      ]
    },
    {
      "cell_type": "code",
      "metadata": {
        "id": "v5eA0AuUJp3s",
        "colab_type": "code",
        "colab": {}
      },
      "source": [
        "float('2.5')"
      ],
      "execution_count": 0,
      "outputs": []
    },
    {
      "cell_type": "code",
      "metadata": {
        "id": "c_XftX_UJp3v",
        "colab_type": "code",
        "colab": {}
      },
      "source": [
        "str(25)"
      ],
      "execution_count": 0,
      "outputs": []
    },
    {
      "cell_type": "code",
      "metadata": {
        "id": "F4ctaK9bJp3y",
        "colab_type": "code",
        "colab": {}
      },
      "source": [
        "int('1p')"
      ],
      "execution_count": 0,
      "outputs": []
    },
    {
      "cell_type": "markdown",
      "metadata": {
        "collapsed": false,
        "id": "tHG69aYSJp30",
        "colab_type": "text"
      },
      "source": [
        "We can even convert one sequence to another."
      ]
    },
    {
      "cell_type": "code",
      "metadata": {
        "id": "mm4i_K7OJp30",
        "colab_type": "code",
        "colab": {}
      },
      "source": [
        "set([1,2,3])"
      ],
      "execution_count": 0,
      "outputs": []
    },
    {
      "cell_type": "code",
      "metadata": {
        "id": "qKotgZGhJp32",
        "colab_type": "code",
        "colab": {}
      },
      "source": [
        "tuple({5,6,7})"
      ],
      "execution_count": 0,
      "outputs": []
    },
    {
      "cell_type": "code",
      "metadata": {
        "id": "3qZ3eHVZJp34",
        "colab_type": "code",
        "colab": {}
      },
      "source": [
        "list('hello')"
      ],
      "execution_count": 0,
      "outputs": []
    },
    {
      "cell_type": "markdown",
      "metadata": {
        "collapsed": false,
        "id": "CcNZ1zJXJp35",
        "colab_type": "text"
      },
      "source": [
        "To convert to dictionary, each element must be a pair"
      ]
    },
    {
      "cell_type": "code",
      "metadata": {
        "id": "hpSPt-r9Jp36",
        "colab_type": "code",
        "colab": {}
      },
      "source": [
        "dict([[1,2],[3,4]])"
      ],
      "execution_count": 0,
      "outputs": []
    },
    {
      "cell_type": "code",
      "metadata": {
        "id": "6FmQ1XzTJp37",
        "colab_type": "code",
        "colab": {}
      },
      "source": [
        "dict([(3,26),(4,44)])"
      ],
      "execution_count": 0,
      "outputs": []
    },
    {
      "cell_type": "markdown",
      "metadata": {
        "id": "lBpKfe2wytdi",
        "colab_type": "text"
      },
      "source": [
        "### Slicing Data Types"
      ]
    },
    {
      "cell_type": "markdown",
      "metadata": {
        "id": "POIHLsJ33xTM",
        "colab_type": "text"
      },
      "source": [
        "When working with sequences or iterables we often want to access certain elements without having to iterate over the list. Using the slicing operator `[:]`  we are able to extract the indicated parts of sequences.\n",
        "\n",
        "Slicing can be used on `lists`, `sets`, `tuples` or `strings`."
      ]
    },
    {
      "cell_type": "markdown",
      "metadata": {
        "id": "Hhb--uJb4VrE",
        "colab_type": "text"
      },
      "source": [
        "**Syntax**:\n",
        "\n",
        "**`sequence[start:end:step]`**\n",
        "\n",
        "\n",
        "\n",
        "*   The `start` parameter indicates the index of the first element that should be accessed. If the column `:` is not provided, only the start element will be accessed .\n",
        "*   The `end` parameter indicates the index of the element **after** the last element that is accessed. If it is not given, it defaults to the last element of the sequence.\n",
        "*   The `step` parameter can be used to specify that only every n-element should be accessed between the `start` and the `end`.\n",
        "\n",
        "Keep in mind that python uses **zero-based indexing**, i.e. an index of 0 stands for the first element of a sequence.\n",
        "\n",
        "\n",
        "\n"
      ]
    },
    {
      "cell_type": "code",
      "metadata": {
        "id": "UYUS5WDS4KSJ",
        "colab_type": "code",
        "outputId": "265b7c2b-17d9-4995-94b2-c4506f65eef2",
        "colab": {
          "base_uri": "https://localhost:8080/",
          "height": 35
        }
      },
      "source": [
        "seq = [0,1,2,3,4,5]\n",
        "\n",
        "# access the first element of the sequence\n",
        "seq[0]"
      ],
      "execution_count": 0,
      "outputs": [
        {
          "output_type": "execute_result",
          "data": {
            "text/plain": [
              "0"
            ]
          },
          "metadata": {
            "tags": []
          },
          "execution_count": 52
        }
      ]
    },
    {
      "cell_type": "code",
      "metadata": {
        "id": "Oqsqy-vI6izg",
        "colab_type": "code",
        "outputId": "b571233b-9942-42e9-df5e-e5935874c175",
        "colab": {
          "base_uri": "https://localhost:8080/",
          "height": 35
        }
      },
      "source": [
        "# access the the three first elements of the sequence\n",
        "seq[0:3]"
      ],
      "execution_count": 0,
      "outputs": [
        {
          "output_type": "execute_result",
          "data": {
            "text/plain": [
              "[0, 1, 2]"
            ]
          },
          "metadata": {
            "tags": []
          },
          "execution_count": 48
        }
      ]
    },
    {
      "cell_type": "code",
      "metadata": {
        "id": "Cubb95L46_lV",
        "colab_type": "code",
        "outputId": "01d0a35e-2d4c-463a-f29f-3a73e8a17d48",
        "colab": {
          "base_uri": "https://localhost:8080/",
          "height": 35
        }
      },
      "source": [
        "# access all elements except the first\n",
        "seq[1:]"
      ],
      "execution_count": 0,
      "outputs": [
        {
          "output_type": "execute_result",
          "data": {
            "text/plain": [
              "[1, 2, 3, 4, 5]"
            ]
          },
          "metadata": {
            "tags": []
          },
          "execution_count": 49
        }
      ]
    },
    {
      "cell_type": "code",
      "metadata": {
        "id": "VOZi6neR7FhC",
        "colab_type": "code",
        "outputId": "60af7d4e-82c5-4c57-f93f-09e9b52092c1",
        "colab": {
          "base_uri": "https://localhost:8080/",
          "height": 35
        }
      },
      "source": [
        "# only access every second element (via step)\n",
        "seq[::2]"
      ],
      "execution_count": 0,
      "outputs": [
        {
          "output_type": "execute_result",
          "data": {
            "text/plain": [
              "[0, 2, 4]"
            ]
          },
          "metadata": {
            "tags": []
          },
          "execution_count": 53
        }
      ]
    },
    {
      "cell_type": "markdown",
      "metadata": {
        "id": "e1SnSiJD7WE8",
        "colab_type": "text"
      },
      "source": [
        "**Negative Slicing**\n",
        "\n",
        "In case we want to access the elements in our sequence from the end, we use negaitve indexing.\n",
        "\n",
        "*   A negative `start` and `end` parameter is counted from the end of the sequence.\n",
        "*   A negative `step` parameter indicates that the step goes backwards.\n",
        "\n"
      ]
    },
    {
      "cell_type": "code",
      "metadata": {
        "id": "HfwISJeu80WV",
        "colab_type": "code",
        "outputId": "91c6278e-5bb7-49b4-d3fc-9eee48ff17a8",
        "colab": {
          "base_uri": "https://localhost:8080/",
          "height": 35
        }
      },
      "source": [
        "# access last element of our sequence\n",
        "seq = [0,1,2,3,4,5]\n",
        "\n",
        "seq[-1]"
      ],
      "execution_count": 0,
      "outputs": [
        {
          "output_type": "execute_result",
          "data": {
            "text/plain": [
              "5"
            ]
          },
          "metadata": {
            "tags": []
          },
          "execution_count": 55
        }
      ]
    },
    {
      "cell_type": "code",
      "metadata": {
        "id": "FcMf6FhK9K-1",
        "colab_type": "code",
        "outputId": "536ff331-58e1-44f9-f512-882e0761c1b6",
        "colab": {
          "base_uri": "https://localhost:8080/",
          "height": 35
        }
      },
      "source": [
        "# access our sequence except for the least element\n",
        "seq[0:-1]"
      ],
      "execution_count": 0,
      "outputs": [
        {
          "output_type": "execute_result",
          "data": {
            "text/plain": [
              "[0, 1, 2, 3, 4]"
            ]
          },
          "metadata": {
            "tags": []
          },
          "execution_count": 59
        }
      ]
    },
    {
      "cell_type": "code",
      "metadata": {
        "id": "cBRwRZFH8-jq",
        "colab_type": "code",
        "outputId": "35faf4aa-6467-4604-ca87-d48aa7f423ac",
        "colab": {
          "base_uri": "https://localhost:8080/",
          "height": 35
        }
      },
      "source": [
        "# reverse our sequence\n",
        "seq[-1::-1]"
      ],
      "execution_count": 0,
      "outputs": [
        {
          "output_type": "execute_result",
          "data": {
            "text/plain": [
              "[5, 4, 3, 2, 1, 0]"
            ]
          },
          "metadata": {
            "tags": []
          },
          "execution_count": 58
        }
      ]
    },
    {
      "cell_type": "markdown",
      "metadata": {
        "id": "nVPKEqpc9fTH",
        "colab_type": "text"
      },
      "source": [
        "## **Functions**"
      ]
    },
    {
      "cell_type": "markdown",
      "metadata": {
        "id": "fY8sf4_J9jdd",
        "colab_type": "text"
      },
      "source": [
        "We have previously explored that functions can be created as follows:"
      ]
    },
    {
      "cell_type": "code",
      "metadata": {
        "id": "YCstmOzM9vDv",
        "colab_type": "code",
        "colab": {}
      },
      "source": [
        "def function(a,b):\n",
        "  return a+b"
      ],
      "execution_count": 0,
      "outputs": []
    },
    {
      "cell_type": "markdown",
      "metadata": {
        "id": "XveRRh42-Gfs",
        "colab_type": "text"
      },
      "source": [
        "Calling the function is also rather easy"
      ]
    },
    {
      "cell_type": "code",
      "metadata": {
        "id": "AWU709MF9-q5",
        "colab_type": "code",
        "outputId": "317f44b7-6c68-4271-9509-1a4460134c3a",
        "colab": {
          "base_uri": "https://localhost:8080/",
          "height": 35
        }
      },
      "source": [
        "function(1,2)"
      ],
      "execution_count": 0,
      "outputs": [
        {
          "output_type": "execute_result",
          "data": {
            "text/plain": [
              "3"
            ]
          },
          "metadata": {
            "tags": []
          },
          "execution_count": 62
        }
      ]
    },
    {
      "cell_type": "markdown",
      "metadata": {
        "id": "7tBha9j7-Z8Y",
        "colab_type": "text"
      },
      "source": [
        "It is also possible to add an optional parameter to our functions. "
      ]
    },
    {
      "cell_type": "code",
      "metadata": {
        "id": "HhCuDZDF-YcV",
        "colab_type": "code",
        "colab": {}
      },
      "source": [
        "def add(a,b,c=None):\n",
        "  if c is None:\n",
        "    return (a + b)\n",
        "  else:\n",
        "    return (a + b+ c)"
      ],
      "execution_count": 0,
      "outputs": []
    },
    {
      "cell_type": "code",
      "metadata": {
        "id": "G2ERliPZ-3rR",
        "colab_type": "code",
        "outputId": "472d21ac-48cf-46d1-811f-06d677086400",
        "colab": {
          "base_uri": "https://localhost:8080/",
          "height": 35
        }
      },
      "source": [
        "# not including a parameter c will default to None\n",
        "add(1,2)"
      ],
      "execution_count": 0,
      "outputs": [
        {
          "output_type": "execute_result",
          "data": {
            "text/plain": [
              "3"
            ]
          },
          "metadata": {
            "tags": []
          },
          "execution_count": 70
        }
      ]
    },
    {
      "cell_type": "code",
      "metadata": {
        "id": "OglVyFak_XFe",
        "colab_type": "code",
        "outputId": "026433c0-deab-44e3-9f58-bb3e0ec2e8d8",
        "colab": {
          "base_uri": "https://localhost:8080/",
          "height": 35
        }
      },
      "source": [
        "add(1,2,3)"
      ],
      "execution_count": 0,
      "outputs": [
        {
          "output_type": "execute_result",
          "data": {
            "text/plain": [
              "6"
            ]
          },
          "metadata": {
            "tags": []
          },
          "execution_count": 71
        }
      ]
    },
    {
      "cell_type": "markdown",
      "metadata": {
        "id": "EKXBFfdt_lJQ",
        "colab_type": "text"
      },
      "source": [
        "We can also store functions in variables to re-use them later on."
      ]
    },
    {
      "cell_type": "code",
      "metadata": {
        "id": "zVksRy-G_rWW",
        "colab_type": "code",
        "colab": {}
      },
      "source": [
        "def test_function(parameter):\n",
        "  return \"The parameter is \" + str(parameter) "
      ],
      "execution_count": 0,
      "outputs": []
    },
    {
      "cell_type": "code",
      "metadata": {
        "id": "CHMAKieeACRB",
        "colab_type": "code",
        "outputId": "88b0dd4d-a34d-48a6-818e-e6b1cca1181a",
        "colab": {
          "base_uri": "https://localhost:8080/",
          "height": 35
        }
      },
      "source": [
        "#store function in variable and call it\n",
        "\n",
        "para = test_function\n",
        "\n",
        "para(123)"
      ],
      "execution_count": 0,
      "outputs": [
        {
          "output_type": "execute_result",
          "data": {
            "text/plain": [
              "'The parameter is 123'"
            ]
          },
          "metadata": {
            "tags": []
          },
          "execution_count": 80
        }
      ]
    },
    {
      "cell_type": "markdown",
      "metadata": {
        "id": "_K5dBf2HAn80",
        "colab_type": "text"
      },
      "source": [
        "## **NumPy (Numerical Python)**"
      ]
    },
    {
      "cell_type": "markdown",
      "metadata": {
        "id": "6kcDKdm7AtLh",
        "colab_type": "text"
      },
      "source": [
        "Numpy is an important libary which encompasses very fundamental mathematical features such as arrays or matrices. Many other libraries (pandas, scikit learn, keras, torchvision) build on top of NumPy."
      ]
    },
    {
      "cell_type": "markdown",
      "metadata": {
        "id": "vwCcovq_BVa_",
        "colab_type": "text"
      },
      "source": [
        "Let's start by importing numpy. Conventionally we abbreviate Numpy with `np`."
      ]
    },
    {
      "cell_type": "code",
      "metadata": {
        "id": "NpjFOpfaBpI4",
        "colab_type": "code",
        "colab": {}
      },
      "source": [
        "import numpy as np"
      ],
      "execution_count": 0,
      "outputs": []
    },
    {
      "cell_type": "markdown",
      "metadata": {
        "collapsed": false,
        "id": "7YmkHZybJ-RN",
        "colab_type": "text"
      },
      "source": [
        "### Creating Arrays"
      ]
    },
    {
      "cell_type": "markdown",
      "metadata": {
        "collapsed": false,
        "id": "uXGT6KheJ-RN",
        "colab_type": "text"
      },
      "source": [
        "A Numpy Array is an iterable data type which is in essence very similar to a list. However, elements within an array must be of the same type!\n",
        "\n",
        "Du to the many possible applications of arrays, they are one of the most used objects in the numpy library."
      ]
    },
    {
      "cell_type": "markdown",
      "metadata": {
        "id": "6g8YQfyvE1yD",
        "colab_type": "text"
      },
      "source": [
        "We can create an array by defining a list and passing this list into numpy's `array` function."
      ]
    },
    {
      "cell_type": "code",
      "metadata": {
        "id": "je7cR1OrJ-RN",
        "colab_type": "code",
        "outputId": "0c5bd190-9c1f-4c11-d9cd-ac66cbb06633",
        "colab": {
          "base_uri": "https://localhost:8080/",
          "height": 35
        }
      },
      "source": [
        "mylist = [1, 2, 3]\n",
        "x = np.array(mylist)\n",
        "x"
      ],
      "execution_count": 0,
      "outputs": [
        {
          "output_type": "execute_result",
          "data": {
            "text/plain": [
              "array([1, 2, 3])"
            ]
          },
          "metadata": {
            "tags": []
          },
          "execution_count": 90
        }
      ]
    },
    {
      "cell_type": "markdown",
      "metadata": {
        "collapsed": false,
        "id": "qGA1VRYPJ-RO",
        "colab_type": "text"
      },
      "source": [
        "We can also directly pass a list into the array function"
      ]
    },
    {
      "cell_type": "code",
      "metadata": {
        "id": "uUnDrg6jJ-RO",
        "colab_type": "code",
        "outputId": "7afc9df2-b775-44cd-cab1-c79f7f38a4e8",
        "colab": {
          "base_uri": "https://localhost:8080/",
          "height": 35
        }
      },
      "source": [
        "y = np.array([4, 5, 6])\n",
        "y"
      ],
      "execution_count": 0,
      "outputs": [
        {
          "output_type": "execute_result",
          "data": {
            "text/plain": [
              "array([4, 5, 6])"
            ]
          },
          "metadata": {
            "tags": []
          },
          "execution_count": 91
        }
      ]
    },
    {
      "cell_type": "markdown",
      "metadata": {
        "collapsed": false,
        "id": "V2hWZ_3-J-RQ",
        "colab_type": "text"
      },
      "source": [
        "Numpy can also create multidimensional arrays. They correspond to nested lists and are often used to represent rows and columns in a table."
      ]
    },
    {
      "cell_type": "code",
      "metadata": {
        "id": "9gS_7Se9J-RQ",
        "colab_type": "code",
        "outputId": "cc8740c0-7e6d-42c3-e339-d29d76013f87",
        "colab": {
          "base_uri": "https://localhost:8080/",
          "height": 52
        }
      },
      "source": [
        "multi_a = np.array([[7, 8, 9], [10, 11, 12]])\n",
        "multi_a"
      ],
      "execution_count": 0,
      "outputs": [
        {
          "output_type": "execute_result",
          "data": {
            "text/plain": [
              "array([[ 7,  8,  9],\n",
              "       [10, 11, 12]])"
            ]
          },
          "metadata": {
            "tags": []
          },
          "execution_count": 83
        }
      ]
    },
    {
      "cell_type": "markdown",
      "metadata": {
        "collapsed": false,
        "id": "rBxS-F8MJ-RR",
        "colab_type": "text"
      },
      "source": [
        "We can find the number of rows and columns of a (multidimensional) array using the `shape` operator. The return will be (# rows, # columns)"
      ]
    },
    {
      "cell_type": "code",
      "metadata": {
        "id": "OtkkdNgTJ-RR",
        "colab_type": "code",
        "outputId": "5cfda537-08fe-4e1f-db79-b57d1d0748fc",
        "colab": {
          "base_uri": "https://localhost:8080/",
          "height": 35
        }
      },
      "source": [
        "multi_a.shape\n",
        "# our array has two rows and three columns"
      ],
      "execution_count": 0,
      "outputs": [
        {
          "output_type": "execute_result",
          "data": {
            "text/plain": [
              "(2, 3)"
            ]
          },
          "metadata": {
            "tags": []
          },
          "execution_count": 84
        }
      ]
    },
    {
      "cell_type": "markdown",
      "metadata": {
        "collapsed": false,
        "id": "DBTLyolpJ-RS",
        "colab_type": "text"
      },
      "source": [
        "In case we do not want to type in every single value of our array, we can use the arrange method to create an array with specific attributes.\n",
        "\n",
        "**`np.arrange(start:end:step)`**\n",
        "\n",
        "*   The **start** parameter indicates the starting value of our array. This defaults to 0.\n",
        "*   The **end** parameter tells us before which value the array should stop\n",
        "*   The **step** parameter defines an intervall within the individual elements.\n",
        "\n",
        "\n",
        "\n"
      ]
    },
    {
      "cell_type": "code",
      "metadata": {
        "id": "W7SKs_7hJ-RS",
        "colab_type": "code",
        "outputId": "562399a6-3147-4787-d2a6-a90623b202fc",
        "colab": {
          "base_uri": "https://localhost:8080/",
          "height": 35
        }
      },
      "source": [
        "n = np.arange(0, 30, 2) # start at 0 count up by 2, stop before 30\n",
        "n"
      ],
      "execution_count": 0,
      "outputs": [
        {
          "output_type": "execute_result",
          "data": {
            "text/plain": [
              "array([ 0,  2,  4,  6,  8, 10, 12, 14, 16, 18, 20, 22, 24, 26, 28])"
            ]
          },
          "metadata": {
            "tags": []
          },
          "execution_count": 87
        }
      ]
    },
    {
      "cell_type": "markdown",
      "metadata": {
        "collapsed": false,
        "id": "d0fDwmfVJ-RV",
        "colab_type": "text"
      },
      "source": [
        "One further option to arrange the content of our array is `linspace`\n",
        "Simply said, `linspace` returns evenly spaced numbers over a specified interval.\n",
        "\n",
        "While this sounds a lot like `np.arrange`, it's syntax is quite different:\n",
        "\n",
        "**`np.linspace(start:end:num)`**\n",
        "\n",
        "\n",
        "*   `start` indicates the starting value.\n",
        "*   `End` indicates the end value.\n",
        "*   The `num` parameter indicates the amount of evenly spaced values you want between start and end. It defaults to `50`. \n",
        "\n",
        "\n"
      ]
    },
    {
      "cell_type": "code",
      "metadata": {
        "id": "IT3wNCNgJ-RV",
        "colab_type": "code",
        "outputId": "07be4936-328b-4481-95e2-3524d7bc1bc4",
        "colab": {
          "base_uri": "https://localhost:8080/",
          "height": 35
        }
      },
      "source": [
        "o = np.linspace(0, 4, 9) # return 9 evenly spaced values from 0 to 4\n",
        "o"
      ],
      "execution_count": 0,
      "outputs": [
        {
          "output_type": "execute_result",
          "data": {
            "text/plain": [
              "array([0. , 0.5, 1. , 1.5, 2. , 2.5, 3. , 3.5, 4. ])"
            ]
          },
          "metadata": {
            "tags": []
          },
          "execution_count": 93
        }
      ]
    },
    {
      "cell_type": "code",
      "metadata": {
        "id": "-hopXFj9VhNz",
        "colab_type": "code",
        "colab": {}
      },
      "source": [
        "o = np.linspace(0, 4) # return 50 evenly spaced values from 0 to 4\n",
        "o"
      ],
      "execution_count": 0,
      "outputs": []
    },
    {
      "cell_type": "markdown",
      "metadata": {
        "collapsed": false,
        "id": "usZ8HClFJ-RU",
        "colab_type": "text"
      },
      "source": [
        "If we want to work with several arrays, we must ensure that they have the same amount of rows and columns.\n",
        "\n",
        "Let's change the shape of our array using the reshape method. Again you can specify the intended number of rows and columns of the desired multidimensional array. Be aware, however, that the shape of the multidimensional array must match the number of elements within the array. "
      ]
    },
    {
      "cell_type": "code",
      "metadata": {
        "id": "VKxU5R7gJ-RU",
        "colab_type": "code",
        "outputId": "616465e9-d6ed-4100-932e-f9020afccee8",
        "colab": {
          "base_uri": "https://localhost:8080/",
          "height": 70
        }
      },
      "source": [
        "n = n.reshape(3, 5) # reshape array to be 3x5\n",
        "n"
      ],
      "execution_count": 0,
      "outputs": [
        {
          "output_type": "execute_result",
          "data": {
            "text/plain": [
              "array([[ 0,  2,  4,  6,  8],\n",
              "       [10, 12, 14, 16, 18],\n",
              "       [20, 22, 24, 26, 28]])"
            ]
          },
          "metadata": {
            "tags": []
          },
          "execution_count": 95
        }
      ]
    },
    {
      "cell_type": "markdown",
      "metadata": {
        "collapsed": false,
        "id": "ixSipbcPJ-RW",
        "colab_type": "text"
      },
      "source": [
        "If we want to reshape our array \"in-place\", i.e. **without assigning it to a variable first**, we can use `resize` instead of `reshape`. Resize thus does not return a value, but exercises the changes directly."
      ]
    },
    {
      "cell_type": "code",
      "metadata": {
        "id": "0bK4mGe2J-RX",
        "colab_type": "code",
        "outputId": "8884eb50-5797-47b8-b7cf-2ea06de9a4bc",
        "colab": {
          "base_uri": "https://localhost:8080/",
          "height": 106
        }
      },
      "source": [
        "n.resize(5,3 )\n",
        "n"
      ],
      "execution_count": 0,
      "outputs": [
        {
          "output_type": "execute_result",
          "data": {
            "text/plain": [
              "array([[ 0,  2,  4],\n",
              "       [ 6,  8, 10],\n",
              "       [12, 14, 16],\n",
              "       [18, 20, 22],\n",
              "       [24, 26, 28]])"
            ]
          },
          "metadata": {
            "tags": []
          },
          "execution_count": 97
        }
      ]
    },
    {
      "cell_type": "markdown",
      "metadata": {
        "collapsed": false,
        "id": "ZrrssKeRJ-RY",
        "colab_type": "text"
      },
      "source": [
        "Numpy also includes the option to create an array with a specific shape and fill this array with either ones (`np.ones`) or zeros (`np.zeros`)."
      ]
    },
    {
      "cell_type": "code",
      "metadata": {
        "id": "iFoX3NSvJ-RZ",
        "colab_type": "code",
        "outputId": "df4849f6-b790-46b3-e9cb-d15566691b87",
        "colab": {
          "base_uri": "https://localhost:8080/",
          "height": 70
        }
      },
      "source": [
        "np.ones((3, 2)) #returns a new arre with given shape, filled with ones"
      ],
      "execution_count": 0,
      "outputs": [
        {
          "output_type": "execute_result",
          "data": {
            "text/plain": [
              "array([[1., 1.],\n",
              "       [1., 1.],\n",
              "       [1., 1.]])"
            ]
          },
          "metadata": {
            "tags": []
          },
          "execution_count": 98
        }
      ]
    },
    {
      "cell_type": "code",
      "metadata": {
        "id": "IlChog5HJ-Rc",
        "colab_type": "code",
        "outputId": "f736bfe3-f9b3-4c2c-9285-2dff73ea93d1",
        "colab": {
          "base_uri": "https://localhost:8080/",
          "height": 52
        }
      },
      "source": [
        "np.zeros((2, 3)) # returns a new array of given shape and type, filled with zeros."
      ],
      "execution_count": 0,
      "outputs": [
        {
          "output_type": "execute_result",
          "data": {
            "text/plain": [
              "array([[0., 0., 0.],\n",
              "       [0., 0., 0.]])"
            ]
          },
          "metadata": {
            "tags": []
          },
          "execution_count": 99
        }
      ]
    },
    {
      "cell_type": "markdown",
      "metadata": {
        "collapsed": false,
        "id": "yoku1rJJJ-Rd",
        "colab_type": "text"
      },
      "source": [
        "`eye` returns a 2-D array with ones on the diagonal and zeros elsewhere."
      ]
    },
    {
      "cell_type": "code",
      "metadata": {
        "id": "-gd1K0bUJ-Rd",
        "colab_type": "code",
        "outputId": "2c18fd72-c336-4a49-b6fb-5c65933746fb",
        "colab": {}
      },
      "source": [
        "np.eye(3)"
      ],
      "execution_count": 0,
      "outputs": [
        {
          "output_type": "execute_result",
          "data": {
            "text/plain": [
              "array([[1., 0., 0.],\n",
              "       [0., 1., 0.],\n",
              "       [0., 0., 1.]])"
            ]
          },
          "metadata": {
            "tags": []
          },
          "execution_count": 76
        }
      ]
    },
    {
      "cell_type": "markdown",
      "metadata": {
        "collapsed": false,
        "id": "xWPEnuugJ-Re",
        "colab_type": "text"
      },
      "source": [
        "`diag` extracts a diagonal or constructs a diagonal array."
      ]
    },
    {
      "cell_type": "code",
      "metadata": {
        "id": "F2beR9DxJ-Re",
        "colab_type": "code",
        "outputId": "4008c386-0f10-41b5-aa8f-2e81f9d34890",
        "colab": {
          "base_uri": "https://localhost:8080/",
          "height": 88
        }
      },
      "source": [
        "diag_ = np.array([4, 5, 6])\n",
        "print(diag_)\n",
        "np.diag(diag_)"
      ],
      "execution_count": 0,
      "outputs": [
        {
          "output_type": "stream",
          "text": [
            "[4 5 6]\n"
          ],
          "name": "stdout"
        },
        {
          "output_type": "execute_result",
          "data": {
            "text/plain": [
              "array([[4, 0, 0],\n",
              "       [0, 5, 0],\n",
              "       [0, 0, 6]])"
            ]
          },
          "metadata": {
            "tags": []
          },
          "execution_count": 100
        }
      ]
    },
    {
      "cell_type": "markdown",
      "metadata": {
        "collapsed": false,
        "id": "Q8Ih1Z7qJ-Rm",
        "colab_type": "text"
      },
      "source": [
        "### Mathematical Operations with Arrays"
      ]
    },
    {
      "cell_type": "markdown",
      "metadata": {
        "collapsed": false,
        "id": "OPeRaanNJ-Rm",
        "colab_type": "text"
      },
      "source": [
        "As with vanilla python we have several possibilities to apply mathematical operations to our arrays.  `+`, `-`, `*`, `/` and `**` can be used to perform element wise addition, subtraction, multiplication, division and power.\n",
        "\n",
        "To be able to do so, several conditions must hold:\n",
        "\n",
        "\n",
        "*   Array shapes must be identical (generally speaking)\n",
        "*   Arrays must encompass the same data type\n",
        "\n"
      ]
    },
    {
      "cell_type": "code",
      "metadata": {
        "id": "XFbvYWLyJ-Rm",
        "colab_type": "code",
        "outputId": "8d116fab-569b-4afd-aa8f-302cf4a3c124",
        "colab": {
          "base_uri": "https://localhost:8080/",
          "height": 52
        }
      },
      "source": [
        "x = np.array([1,2,3])\n",
        "y = np.array([4,5,6])\n",
        "\n",
        "print(x + y) # elementwise addition     [1 2 3] + [4 5 6] = [5  7  9]\n",
        "print(x - y) # elementwise subtraction  [1 2 3] - [4 5 6] = [-3 -3 -3]"
      ],
      "execution_count": 0,
      "outputs": [
        {
          "output_type": "stream",
          "text": [
            "[5 7 9]\n",
            "[-3 -3 -3]\n"
          ],
          "name": "stdout"
        }
      ]
    },
    {
      "cell_type": "code",
      "metadata": {
        "id": "fZfUawprJ-Rn",
        "colab_type": "code",
        "outputId": "ad2480d6-3e24-4323-d898-491c027ac95d",
        "colab": {
          "base_uri": "https://localhost:8080/",
          "height": 52
        }
      },
      "source": [
        "print(x * y) # elementwise multiplication  [1 2 3] * [4 5 6] = [4  10  18]\n",
        "print(x / y) # elementwise divison         [1 2 3] / [4 5 6] = [0.25  0.4  0.5]"
      ],
      "execution_count": 0,
      "outputs": [
        {
          "output_type": "stream",
          "text": [
            "[ 4 10 18]\n",
            "[0.25 0.4  0.5 ]\n"
          ],
          "name": "stdout"
        }
      ]
    },
    {
      "cell_type": "code",
      "metadata": {
        "id": "jq7SeWqOJ-Ro",
        "colab_type": "code",
        "outputId": "e03c186d-384f-4769-e3d1-c351418753cf",
        "colab": {
          "base_uri": "https://localhost:8080/",
          "height": 35
        }
      },
      "source": [
        "print(x**2) # elementwise power  [1 2 3] ^2 =  [1 4 9]"
      ],
      "execution_count": 0,
      "outputs": [
        {
          "output_type": "stream",
          "text": [
            "[1 4 9]\n"
          ],
          "name": "stdout"
        }
      ]
    },
    {
      "cell_type": "code",
      "metadata": {
        "id": "R2ZWh-HHa7aB",
        "colab_type": "code",
        "outputId": "db2f4225-88b5-481d-d49e-b405e108dcf3",
        "colab": {
          "base_uri": "https://localhost:8080/",
          "height": 221
        }
      },
      "source": [
        "z = np.array([\"1\", \"2\", \"3\"])\n",
        "\n",
        "print(x + z) # this will fail since array have different data type"
      ],
      "execution_count": 0,
      "outputs": [
        {
          "output_type": "stream",
          "text": [
            "<class 'numpy.ndarray'>\n"
          ],
          "name": "stdout"
        },
        {
          "output_type": "error",
          "ename": "UFuncTypeError",
          "evalue": "ignored",
          "traceback": [
            "\u001b[0;31m---------------------------------------------------------------------------\u001b[0m",
            "\u001b[0;31mUFuncTypeError\u001b[0m                            Traceback (most recent call last)",
            "\u001b[0;32m<ipython-input-109-757dc692d51a>\u001b[0m in \u001b[0;36m<module>\u001b[0;34m()\u001b[0m\n\u001b[1;32m      2\u001b[0m \u001b[0mprint\u001b[0m\u001b[0;34m(\u001b[0m\u001b[0mtype\u001b[0m\u001b[0;34m(\u001b[0m\u001b[0mx\u001b[0m\u001b[0;34m)\u001b[0m\u001b[0;34m)\u001b[0m\u001b[0;34m\u001b[0m\u001b[0;34m\u001b[0m\u001b[0m\n\u001b[1;32m      3\u001b[0m \u001b[0;34m\u001b[0m\u001b[0m\n\u001b[0;32m----> 4\u001b[0;31m \u001b[0mprint\u001b[0m\u001b[0;34m(\u001b[0m\u001b[0mx\u001b[0m \u001b[0;34m+\u001b[0m \u001b[0mz\u001b[0m\u001b[0;34m)\u001b[0m \u001b[0;31m# this will fail since array have different data type\u001b[0m\u001b[0;34m\u001b[0m\u001b[0;34m\u001b[0m\u001b[0m\n\u001b[0m",
            "\u001b[0;31mUFuncTypeError\u001b[0m: ufunc 'add' did not contain a loop with signature matching types (dtype('<U21'), dtype('<U21')) -> dtype('<U21')"
          ]
        }
      ]
    },
    {
      "cell_type": "markdown",
      "metadata": {
        "collapsed": false,
        "id": "IdcGMlu9J-Rr",
        "colab_type": "text"
      },
      "source": [
        "**Dot Product:**  \n",
        "\n",
        "As you may have guessed, arrays are often used to represent vectors in linear algebra. We can therefor also do a dot products between a scalar and a vector.\n",
        "\n",
        "$ \\begin{bmatrix}x_1 \\ x_2 \\ x_3\\end{bmatrix}\n",
        "\\cdot\n",
        "\\begin{bmatrix}y_1 \\\\ y_2 \\\\ y_3\\end{bmatrix}\n",
        "= x_1 y_1 + x_2 y_2 + x_3 y_3$"
      ]
    },
    {
      "cell_type": "code",
      "metadata": {
        "id": "0Xbp0-9mJ-Rr",
        "colab_type": "code",
        "outputId": "ed6e7fc5-9eb0-4dc0-b5dd-9730088e411c",
        "colab": {
          "base_uri": "https://localhost:8080/",
          "height": 70
        }
      },
      "source": [
        "print(x)\n",
        "print(y)\n",
        "x.dot(y) # dot product  1*4 + 2*5 + 3*6"
      ],
      "execution_count": 0,
      "outputs": [
        {
          "output_type": "stream",
          "text": [
            "[1 2 3]\n",
            "[4 5 6]\n"
          ],
          "name": "stdout"
        },
        {
          "output_type": "execute_result",
          "data": {
            "text/plain": [
              "32"
            ]
          },
          "metadata": {
            "tags": []
          },
          "execution_count": 108
        }
      ]
    },
    {
      "cell_type": "markdown",
      "metadata": {
        "id": "uS9imSZFdSab",
        "colab_type": "text"
      },
      "source": [
        "## **Functional Programming**"
      ]
    },
    {
      "cell_type": "markdown",
      "metadata": {
        "id": "efBmHyd2dV4h",
        "colab_type": "text"
      },
      "source": [
        "Functional programming decomposes a problem into a set of functions. Ideally, functions only take inputs and produce outputs, and don’t have any internal state that affects the output produced for a given input."
      ]
    },
    {
      "cell_type": "markdown",
      "metadata": {
        "id": "l9n58LK8erxS",
        "colab_type": "text"
      },
      "source": [
        "### Lambda"
      ]
    },
    {
      "cell_type": "markdown",
      "metadata": {
        "id": "6i5AcYoCeuQw",
        "colab_type": "text"
      },
      "source": [
        "Similar to `def`, the `lambda` function creates a function, which can be called later. However, instead of designing it to a name (as `def` does) `lambda` directly returns the funtion. Lambdas are thus also called **anonymous functions**.\n",
        "\n",
        "Let's see how that difference looks in practice."
      ]
    },
    {
      "cell_type": "code",
      "metadata": {
        "id": "Z8Q9kw2tfus6",
        "colab_type": "code",
        "outputId": "44159287-91a9-4a0c-ef54-812a627f398c",
        "colab": {
          "base_uri": "https://localhost:8080/",
          "height": 52
        }
      },
      "source": [
        "def func(x):    # def directly assigns the function to the name \"func\"\n",
        "  return x ** 3\n",
        "print(func(5))\n",
        "\n",
        " \n",
        "test = lambda x: x ** 3 # lambda returns the result directly, we do not have to write \"return\"\n",
        "test(5)"
      ],
      "execution_count": 0,
      "outputs": [
        {
          "output_type": "stream",
          "text": [
            "125\n"
          ],
          "name": "stdout"
        },
        {
          "output_type": "execute_result",
          "data": {
            "text/plain": [
              "125"
            ]
          },
          "metadata": {
            "tags": []
          },
          "execution_count": 113
        }
      ]
    },
    {
      "cell_type": "markdown",
      "metadata": {
        "id": "ilJuO8HkgMnC",
        "colab_type": "text"
      },
      "source": [
        "Ok, got it!\n",
        "Let's see how we can build a lambda function.\n",
        "\n",
        "**Syntax:**\n",
        "\n",
        "**`lambda [arg1, arg2, ..., argi] : [expression]`**\n",
        "\n",
        "\n",
        "*   Define the function by specifying it per `lambda`\n",
        "*   This is followed by one or several arguments, which are seperated by commas. The arguments must be passed in front of the column operator `:` \n",
        "*   After the column operator, we specify which values or operations are supposed to be returned by the function\n",
        "\n",
        "\n",
        "\n",
        "\n",
        "\n"
      ]
    },
    {
      "cell_type": "code",
      "metadata": {
        "id": "rLJAcUfuhalT",
        "colab_type": "code",
        "outputId": "979d63a1-4b51-446d-a5c7-a62194548062",
        "colab": {
          "base_uri": "https://localhost:8080/",
          "height": 35
        }
      },
      "source": [
        "add = lambda x,y:x+y # the function takes two arguments and adds them together\n",
        "add(1,2)"
      ],
      "execution_count": 0,
      "outputs": [
        {
          "output_type": "execute_result",
          "data": {
            "text/plain": [
              "3"
            ]
          },
          "metadata": {
            "tags": []
          },
          "execution_count": 118
        }
      ]
    },
    {
      "cell_type": "markdown",
      "metadata": {
        "id": "jLdVJ1Qjh9rm",
        "colab_type": "text"
      },
      "source": [
        "So far, we have always assigned our lambda function to a variable. In reality, however, this is bad practice (as you coud just create a normal `def` function inestead).\n",
        "\n",
        "Lambdas are useful when you need a throwaway function, i.e. you do not intend to re-use the respective operation. "
      ]
    },
    {
      "cell_type": "markdown",
      "metadata": {
        "id": "NF-d10gYicVH",
        "colab_type": "text"
      },
      "source": [
        "### Sorting with Lambdas"
      ]
    },
    {
      "cell_type": "markdown",
      "metadata": {
        "id": "jxFhOE7Zifi-",
        "colab_type": "text"
      },
      "source": [
        "Sorting is a common example of when lambda functions are useful.\n",
        "Generally, we can sort an iterable via the `sorted` method."
      ]
    },
    {
      "cell_type": "code",
      "metadata": {
        "id": "W1snnDARixzj",
        "colab_type": "code",
        "outputId": "b6d22874-3512-4f10-8014-70cff3cd9bcf",
        "colab": {
          "base_uri": "https://localhost:8080/",
          "height": 35
        }
      },
      "source": [
        "lst = [3,2,4,6,1]\n",
        "sorted(lst)"
      ],
      "execution_count": 0,
      "outputs": [
        {
          "output_type": "execute_result",
          "data": {
            "text/plain": [
              "[1, 2, 3, 4, 6]"
            ]
          },
          "metadata": {
            "tags": []
          },
          "execution_count": 119
        }
      ]
    },
    {
      "cell_type": "markdown",
      "metadata": {
        "id": "7gztWCW3i49I",
        "colab_type": "text"
      },
      "source": [
        "Let's say now you wanted to sort a list of tuples `lst = [(\"a\", 33),(\"b\",44),(\"c\", 12)]` according to the second element within every tuple.\n",
        "\n",
        "How do we tell our sorted method, what to sort by? Let's have a look at which parameters `sorted` takes."
      ]
    },
    {
      "cell_type": "code",
      "metadata": {
        "id": "rF02uaDvjV6o",
        "colab_type": "code",
        "colab": {}
      },
      "source": [
        "#run this to get further infos on the sorted method\n",
        "\n",
        "sorted?"
      ],
      "execution_count": 0,
      "outputs": []
    },
    {
      "cell_type": "markdown",
      "metadata": {
        "id": "6r6IDw9yj7uw",
        "colab_type": "text"
      },
      "source": [
        "We can see that sorted takes a \"custom key function to customize the sort order\". Let's use a lambda function for this key function."
      ]
    },
    {
      "cell_type": "code",
      "metadata": {
        "id": "akLzIxKokHf1",
        "colab_type": "code",
        "outputId": "cf067ce7-d31b-40a3-8072-d85fef459dd1",
        "colab": {
          "base_uri": "https://localhost:8080/",
          "height": 52
        }
      },
      "source": [
        "lst = [(\"a\", 33),(\"b\",44),(\"c\", 12)]\n",
        "print(lst)\n",
        "lst = sorted(lst, key=lambda tuple_:tuple_[1]) # we tell the function that it should sort by every second element of each tuple\n",
        "print(lst)"
      ],
      "execution_count": 0,
      "outputs": [
        {
          "output_type": "stream",
          "text": [
            "[('a', 33), ('b', 44), ('c', 12)]\n",
            "[('c', 12), ('a', 33), ('b', 44)]\n"
          ],
          "name": "stdout"
        }
      ]
    },
    {
      "cell_type": "markdown",
      "metadata": {
        "id": "73cdeSoZDmCx",
        "colab_type": "text"
      },
      "source": [
        "### List Comprehension"
      ]
    },
    {
      "cell_type": "markdown",
      "metadata": {
        "id": "UC2cQaHnDrml",
        "colab_type": "text"
      },
      "source": [
        "One further fundamental aspect of functional programming is the use of list comprehensions.\n",
        "\n",
        "In the past we had the option to create and fill lists using `for loops`:"
      ]
    },
    {
      "cell_type": "code",
      "metadata": {
        "id": "NXfeqafAEHU3",
        "colab_type": "code",
        "outputId": "d0b6e89d-af26-401a-94d5-162b42726da0",
        "colab": {
          "base_uri": "https://localhost:8080/",
          "height": 35
        }
      },
      "source": [
        "inp = \"hello\"\n",
        "outp = []\n",
        "\n",
        "for i in inp:\n",
        "  outp.append(i)\n",
        "\n",
        "print(outp)"
      ],
      "execution_count": 0,
      "outputs": [
        {
          "output_type": "stream",
          "text": [
            "['h', 'e', 'l', 'l', 'o']\n"
          ],
          "name": "stdout"
        }
      ]
    },
    {
      "cell_type": "markdown",
      "metadata": {
        "id": "jUF60DbvEeKu",
        "colab_type": "text"
      },
      "source": [
        "List comprehensions accomplish the same but in a more concise manner. \n",
        "\n",
        "**`[(expression) for (variable) in (iterable) (optional if)]`**\n",
        "\n",
        "They consist of brackets containing an expression followed by a for clause, then\n",
        "zero or more for or if clauses. The expressions can be anything, meaning you can\n",
        "put in all kinds of objects in lists.\n",
        "\n",
        "The result will be a new list resulting from evaluating the expression in the\n",
        "context of the for and if clauses which follow it. \n",
        "\n",
        "The list comprehension always returns a result list. "
      ]
    },
    {
      "cell_type": "markdown",
      "metadata": {
        "id": "S40Yv_lhT88t",
        "colab_type": "text"
      },
      "source": [
        "In case you are still uncertain on how you would go about building a list comprehension, make sure to read this helpful [article](https://treyhunner.com/2015/12/python-list-comprehensions-now-in-color/) on the topic."
      ]
    },
    {
      "cell_type": "code",
      "metadata": {
        "id": "r3gE_1JmE2Dx",
        "colab_type": "code",
        "outputId": "15313e04-96c2-4bd9-ad55-6a0e4bbc7a10",
        "colab": {
          "base_uri": "https://localhost:8080/",
          "height": 35
        }
      },
      "source": [
        "# let's re-write the example above:\n",
        "inp = \"hello\"\n",
        "\n",
        "outp = [i for i in inp]\n",
        "print(outp)"
      ],
      "execution_count": 0,
      "outputs": [
        {
          "output_type": "execute_result",
          "data": {
            "text/plain": [
              "['h', 'e', 'l', 'l', 'o']"
            ]
          },
          "metadata": {
            "tags": []
          },
          "execution_count": 136
        }
      ]
    },
    {
      "cell_type": "markdown",
      "metadata": {
        "id": "lOISwho2QdtJ",
        "colab_type": "text"
      },
      "source": [
        "As we have seen before, we can also include if-statements as well as nested for-loops in our list comprehension."
      ]
    },
    {
      "cell_type": "code",
      "metadata": {
        "id": "XCOz_rjsFRhZ",
        "colab_type": "code",
        "outputId": "dfba2c78-846a-42b1-ef19-62fe4f531205",
        "colab": {
          "base_uri": "https://localhost:8080/",
          "height": 88
        }
      },
      "source": [
        "# let's look at some examples\n",
        "\n",
        "a = [x for y in range(5) for x in range(y)]\n",
        "b = [x if x < 3 else \"NO\" for x in [1, 2, 3, 4, 5]]\n",
        "c = [x for x in [y.lower() for y in \"HELLO\"]]\n",
        "d = [number for number in range(0,100) if number % 2 == 0] # prints all even numbers from 0 to 100\n",
        "\n",
        "print(a, \"\\n\", b, \"\\n\", c, \"\\n\", d)"
      ],
      "execution_count": 0,
      "outputs": [
        {
          "output_type": "stream",
          "text": [
            "[0, 0, 1, 0, 1, 2, 0, 1, 2, 3] \n",
            " [1, 2, 'NO', 'NO', 'NO'] \n",
            " ['h', 'e', 'l', 'l', 'o'] \n",
            " [0, 2, 4, 6, 8, 10, 12, 14, 16, 18, 20, 22, 24, 26, 28, 30, 32, 34, 36, 38, 40, 42, 44, 46, 48, 50, 52, 54, 56, 58, 60, 62, 64, 66, 68, 70, 72, 74, 76, 78, 80, 82, 84, 86, 88, 90, 92, 94, 96, 98]\n"
          ],
          "name": "stdout"
        }
      ]
    },
    {
      "cell_type": "markdown",
      "metadata": {
        "id": "rCqrmCNXRspa",
        "colab_type": "text"
      },
      "source": [
        "We can also apply the intuition behind list comprehensions on tuples or dictionaries. To do so, we just swap the `[]` for `()` or `{}` respectively."
      ]
    },
    {
      "cell_type": "markdown",
      "metadata": {
        "id": "Jzp6zFp8Rn58",
        "colab_type": "text"
      },
      "source": [
        "### Dictionary Comrehensions"
      ]
    },
    {
      "cell_type": "code",
      "metadata": {
        "id": "2GjAr31NR9TT",
        "colab_type": "code",
        "outputId": "c5a8e62f-25eb-4ef7-cba0-7007a5c90e4b",
        "colab": {
          "base_uri": "https://localhost:8080/",
          "height": 35
        }
      },
      "source": [
        "# create a dictionary the standart way\n",
        "\n",
        "dct = {}\n",
        "lst = [(\"Hello\", \"World\"), (\"Goodbye\", \"Life\")]\n",
        "\n",
        "for i, z in lst:\n",
        "  dct[i] = z\n",
        "\n",
        "print(dct)"
      ],
      "execution_count": 0,
      "outputs": [
        {
          "output_type": "stream",
          "text": [
            "{'Hello': 'World', 'Goodbye': 'Life'}\n"
          ],
          "name": "stdout"
        }
      ]
    },
    {
      "cell_type": "code",
      "metadata": {
        "id": "ghTVuK0STJ-W",
        "colab_type": "code",
        "outputId": "bea24413-bb80-429c-a533-054c1644c546",
        "colab": {
          "base_uri": "https://localhost:8080/",
          "height": 35
        }
      },
      "source": [
        "# let's do the same using list comprehensions\n",
        "\n",
        "dct = {i: z for i, z in [(\"Hello\", \"World\"), (\"Goodbye\", \"Life\")]}\n",
        "print(dct)"
      ],
      "execution_count": 0,
      "outputs": [
        {
          "output_type": "stream",
          "text": [
            "{'Hello': 'World', 'Goodbye': 'Life'}\n"
          ],
          "name": "stdout"
        }
      ]
    },
    {
      "cell_type": "markdown",
      "metadata": {
        "id": "9_2tFEoIUcwt",
        "colab_type": "text"
      },
      "source": [
        "### Python map()"
      ]
    },
    {
      "cell_type": "markdown",
      "metadata": {
        "id": "kD9jlOKLUggu",
        "colab_type": "text"
      },
      "source": [
        "The python map() function  applies a given function to each item of an iterable (list, tuple etc.) and returns a list of the results. Often, map is used in combination with a lambda function.\n",
        "\n",
        "The syntax of map() is:\n",
        "\n",
        "**`map(function, iterable, ...)`**"
      ]
    },
    {
      "cell_type": "code",
      "metadata": {
        "id": "Pch_VocRU2gR",
        "colab_type": "code",
        "outputId": "b7dd724a-699e-4563-ae81-018d0e06fb50",
        "colab": {
          "base_uri": "https://localhost:8080/",
          "height": 35
        }
      },
      "source": [
        "lst = [1,2,3,4,5]\n",
        "\n",
        "# let's multiply each element of the list with itself and return a list with the outputs\n",
        "\n",
        "lst = list(map(lambda x: x*x, lst)) # lambda takes every element of the itearable \"lst\" as an input x and multiplies it with itself\n",
        "print(lst)"
      ],
      "execution_count": 0,
      "outputs": [
        {
          "output_type": "stream",
          "text": [
            "[1, 4, 9, 16, 25]\n"
          ],
          "name": "stdout"
        }
      ]
    },
    {
      "cell_type": "markdown",
      "metadata": {
        "id": "J_snb3WjWCO5",
        "colab_type": "text"
      },
      "source": [
        "Task: look at the following example and try guessing the output"
      ]
    },
    {
      "cell_type": "code",
      "metadata": {
        "id": "zJHyDEKHV7e_",
        "colab_type": "code",
        "outputId": "63086e65-72e6-4669-daaa-655e1947c975",
        "colab": {
          "base_uri": "https://localhost:8080/",
          "height": 35
        }
      },
      "source": [
        "x = [\"abc\", \"cde\", \"f\", \"gh\"]\n",
        "print(list(map(list, x)))"
      ],
      "execution_count": 0,
      "outputs": [
        {
          "output_type": "stream",
          "text": [
            "[['a', 'b', 'c'], ['c', 'd', 'e'], ['f'], ['g', 'h']]\n"
          ],
          "name": "stdout"
        }
      ]
    },
    {
      "cell_type": "markdown",
      "metadata": {
        "id": "C7jjrPzDWPV8",
        "colab_type": "text"
      },
      "source": [
        "### Python filter()"
      ]
    },
    {
      "cell_type": "markdown",
      "metadata": {
        "id": "T0t5Tm0UWUdr",
        "colab_type": "text"
      },
      "source": [
        "The `filter()` method constructs an iterator from elements of an iterable for which a function returns true.\n",
        "\n",
        "In simple words, the filter() method filters the given iterable with the help of a function that tests each element in the iterable to be true or not.\n",
        "\n",
        "The syntax of filter() method is:\n",
        "\n",
        "**`filter(function, iterable)`**"
      ]
    },
    {
      "cell_type": "markdown",
      "metadata": {
        "id": "fBsOCQvuW3Cn",
        "colab_type": "text"
      },
      "source": [
        "The following example checks whether each number in range(10) can be divided by 2 (i.e. is even) and returns the even numbers in a list."
      ]
    },
    {
      "cell_type": "code",
      "metadata": {
        "id": "Y9u7wRYRWm9P",
        "colab_type": "code",
        "outputId": "3e29a982-a8cb-4690-f4dd-d6ad8e9642ee",
        "colab": {
          "base_uri": "https://localhost:8080/",
          "height": 35
        }
      },
      "source": [
        "out = filter(lambda k: k%2 == 0, range(10))\n",
        "print(list(out))"
      ],
      "execution_count": 0,
      "outputs": [
        {
          "output_type": "stream",
          "text": [
            "[0, 2, 4, 6, 8]\n"
          ],
          "name": "stdout"
        }
      ]
    },
    {
      "cell_type": "code",
      "metadata": {
        "id": "ssi-N1IDXNHq",
        "colab_type": "code",
        "outputId": "c348651f-6612-496b-a4df-08830fc2be4b",
        "colab": {
          "base_uri": "https://localhost:8080/",
          "height": 35
        }
      },
      "source": [
        "# again try guessing what the following code snippet accomplishes\n",
        "x = [\"abc\", \"cde\", \"f\", \"gh\"]\n",
        "print(list(filter(lambda k: len(k) > 2, x)))"
      ],
      "execution_count": 0,
      "outputs": [
        {
          "output_type": "stream",
          "text": [
            "['abc', 'cde']\n"
          ],
          "name": "stdout"
        }
      ]
    },
    {
      "cell_type": "markdown",
      "metadata": {
        "id": "lCDJPCuSXTtm",
        "colab_type": "text"
      },
      "source": [
        "### Python reduce()"
      ]
    },
    {
      "cell_type": "markdown",
      "metadata": {
        "id": "VUM4ZW85XhYy",
        "colab_type": "text"
      },
      "source": [
        "The reduce() function is used to apply a particular function passed in its argument to all of the list elements mentioned in the sequence passed along.\n",
        "\n",
        "The syntax looks like this:\n",
        "\n",
        "**`reduce(function, iterable, initializer) `**\n",
        "\n",
        "The function is applied to every element of the given iterable. If an initializer is provided (optional), it is used as the first value before using the values in the iterator.\n",
        "\n",
        "Note: we need to import the module functools to be able to use reduce"
      ]
    },
    {
      "cell_type": "code",
      "metadata": {
        "id": "c_wbCtM8X4D9",
        "colab_type": "code",
        "colab": {}
      },
      "source": [
        "from functools import reduce"
      ],
      "execution_count": 0,
      "outputs": []
    },
    {
      "cell_type": "code",
      "metadata": {
        "id": "OdfwjaF8X7Qi",
        "colab_type": "code",
        "outputId": "f8d6cc51-0ad0-46e9-d0a3-da9aaf20de59",
        "colab": {
          "base_uri": "https://localhost:8080/",
          "height": 35
        }
      },
      "source": [
        "lst = [0,1,2,3,4]\n",
        "print(reduce(lambda lst,y: lst+y, lst, 10))\n",
        "\n",
        "# start with 10 then add +0+1+2+3+4"
      ],
      "execution_count": 0,
      "outputs": [
        {
          "output_type": "stream",
          "text": [
            "20\n"
          ],
          "name": "stdout"
        }
      ]
    },
    {
      "cell_type": "code",
      "metadata": {
        "id": "vTlgZlNtZIJm",
        "colab_type": "code",
        "outputId": "638bb24f-96bd-432d-d966-6a279862c9d8",
        "colab": {
          "base_uri": "https://localhost:8080/",
          "height": 35
        }
      },
      "source": [
        "#guess the output\n",
        "x = [\"abc\", \"cde\", \"f\", \"gh\"]\n",
        "print(reduce(lambda x,y: x+y, x, \"HELLO\"))"
      ],
      "execution_count": 0,
      "outputs": [
        {
          "output_type": "stream",
          "text": [
            "HELLOabccdefgh\n"
          ],
          "name": "stdout"
        }
      ]
    }
  ]
}
