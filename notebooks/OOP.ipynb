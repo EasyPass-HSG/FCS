{
  "nbformat": 4,
  "nbformat_minor": 0,
  "metadata": {
    "kernelspec": {
      "name": "python3",
      "display_name": "Python 3"
    },
    "colab": {
      "name": "OOP.ipynb",
      "provenance": [],
      "include_colab_link": true
    }
  },
  "cells": [
    {
      "cell_type": "markdown",
      "metadata": {
        "id": "view-in-github",
        "colab_type": "text"
      },
      "source": [
        "<a href=\"https://colab.research.google.com/github/WahlerP/csfundamentals-hsg/blob/master/OOP.ipynb\" target=\"_parent\"><img src=\"https://colab.research.google.com/assets/colab-badge.svg\" alt=\"Open In Colab\"/></a>"
      ]
    },
    {
      "cell_type": "markdown",
      "metadata": {
        "id": "HcvI3KHD9Hb3",
        "colab_type": "text"
      },
      "source": [
        "# The Class Structure in Python\n",
        "\n",
        "Adapted from: https://github.com/UofTCoders/studyGroup/blob/gh-pages/lessons/python/classes/lesson.md\n",
        "\n",
        "## What is OOP\n",
        "\n",
        "Object-oriented programming (OOP) is a computer programming model that organizes software design around data, or objects, rather than functions and logic. An object can be defined as a data field that has unique attributes and behavior.\n",
        "\n",
        "\n",
        "OOP focuses on the objects that developers want to manipulate rather than the logic required to manipulate them. This approach to programming is well-suited for programs that are large, complex and actively updated or maintained.\n",
        "\n",
        "\n",
        "## What is a Class?\n",
        "\n",
        "A class is a structure in Python that can be used as a blueprint to create objects that have \n",
        "1. prototyped features, \"attributes\" that are variable\n",
        "2. \"methods\" which are functions that can be applied to the object that is created, or rather, an instance of that class. \n",
        "\n"
      ]
    },
    {
      "cell_type": "markdown",
      "metadata": {
        "id": "t1EDon1f9Hb4",
        "colab_type": "text"
      },
      "source": [
        "## Defining a Class\n",
        "\n",
        "We want to define a class called *Client* in which a new instance stores a client's name, balance, and account level.\n",
        "It will take the format of:\n",
        "    \n",
        "    class Client(object):\n",
        "        def __init__(self, args[, ...])\n",
        "            #more code\n",
        "            \n",
        "\"def `__init__`\" is what we use when creating classes to define how we can create a new instance of this class. \n",
        "\n",
        "The arguments of `__init__` are required input when creating a new instance of this class, except for 'self'. "
      ]
    },
    {
      "cell_type": "code",
      "metadata": {
        "id": "XINbrvCq9Hb4",
        "colab_type": "code",
        "colab": {}
      },
      "source": [
        "# create the Client class below\n",
        "class Client(object):\n",
        "    def __init__(self, name, balance):\n",
        "        self.name = name\n",
        "        self.balance = balance + 100\n",
        "        \n",
        "        #define account level\n",
        "        if self.balance < 5000:\n",
        "            self.level = \"Basic\"\n",
        "        elif self.balance < 15000:\n",
        "            self.level = \"Intermediate\"\n",
        "        else:\n",
        "            self.level = \"Advanced\"\n",
        "            \n",
        "            "
      ],
      "execution_count": 0,
      "outputs": []
    },
    {
      "cell_type": "markdown",
      "metadata": {
        "id": "7A4LNTqz9Hb8",
        "colab_type": "text"
      },
      "source": [
        "The **attributes** in *Client* are *name, balance* and *level*. \n",
        "\n",
        "**Note**: \"self.name\" and \"name\" are different variables. Here they represent the same values, but in other cases, this may lead to problems. For example, here the bank has decided to update \"self.balance\" by giving all new members a bonus $100 on top of what they're putting in the bank. Calling \"balance\" for other calculations will not have the correct value."
      ]
    },
    {
      "cell_type": "markdown",
      "metadata": {
        "id": "UPzDUqNp9Hb9",
        "colab_type": "text"
      },
      "source": [
        "### Creating an Instance of a Class\n",
        "\n",
        "Now, lets try creating some new clients named John_Doe, and Jane_Defoe:"
      ]
    },
    {
      "cell_type": "code",
      "metadata": {
        "id": "tSqGV9mG9Hb9",
        "colab_type": "code",
        "colab": {}
      },
      "source": [
        "John_Doe = Client(\"John Doe\", 500)\n",
        "Jane_Defoe = Client(\"Jane Defoe\", 150000)"
      ],
      "execution_count": 0,
      "outputs": []
    },
    {
      "cell_type": "markdown",
      "metadata": {
        "id": "jASNDlgS9HcA",
        "colab_type": "text"
      },
      "source": [
        "We can see the attributes of John_Doe, or Jane_Defoe by calling them:"
      ]
    },
    {
      "cell_type": "code",
      "metadata": {
        "id": "ZCwHocHe9HcA",
        "colab_type": "code",
        "colab": {
          "base_uri": "https://localhost:8080/",
          "height": 35
        },
        "outputId": "3a4c10f3-b6c5-4599-fcd6-14ef702546a6"
      },
      "source": [
        "John_Doe.name\n",
        "Jane_Defoe.level\n",
        "Jane_Defoe.balance"
      ],
      "execution_count": 3,
      "outputs": [
        {
          "output_type": "execute_result",
          "data": {
            "text/plain": [
              "150100"
            ]
          },
          "metadata": {
            "tags": []
          },
          "execution_count": 3
        }
      ]
    },
    {
      "cell_type": "markdown",
      "metadata": {
        "id": "nENrzGzb9HcD",
        "colab_type": "text"
      },
      "source": [
        "We can also add, remove or modify attributes as we like:"
      ]
    },
    {
      "cell_type": "code",
      "metadata": {
        "id": "_mScsb3F9HcE",
        "colab_type": "code",
        "colab": {}
      },
      "source": [
        "John_Doe.email = \"jdoe23@gmail.com\"\n",
        "John_Doe.email = \"johndoe23@gmail.com\"\n",
        "del John_Doe.email"
      ],
      "execution_count": 0,
      "outputs": []
    },
    {
      "cell_type": "code",
      "metadata": {
        "id": "48t7gfjy9HcG",
        "colab_type": "code",
        "colab": {
          "base_uri": "https://localhost:8080/",
          "height": 35
        },
        "outputId": "ee7bbe37-35f8-4e45-9c9e-73b8775b15e6"
      },
      "source": [
        "getattr(John_Doe, 'name')\n",
        "setattr(John_Doe, 'email', 'jdoe23@gmail.com')\n",
        "John_Doe.email"
      ],
      "execution_count": 5,
      "outputs": [
        {
          "output_type": "execute_result",
          "data": {
            "text/plain": [
              "'jdoe23@gmail.com'"
            ]
          },
          "metadata": {
            "tags": []
          },
          "execution_count": 5
        }
      ]
    },
    {
      "cell_type": "markdown",
      "metadata": {
        "id": "_xZxom3R9HcK",
        "colab_type": "text"
      },
      "source": [
        "You can also use the following instead instead of the normal statements:\n",
        "\n",
        "- The `getattr(obj, name[, default])` : to access the attribute of object.\n",
        "\n",
        "- The `hasattr(obj,name)` : to check if an attribute exists or not.\n",
        "\n",
        "- The `setattr(obj,name,value)` : to set an attribute. If attribute does not exist, then it would be created.\n",
        "\n",
        "- The `delattr(obj, name)` : to delete an attribute."
      ]
    },
    {
      "cell_type": "markdown",
      "metadata": {
        "id": "97cw69hk9HcK",
        "colab_type": "text"
      },
      "source": [
        "### Class Attributes vs. Normal Attributes\n",
        "\n",
        "A class attribute is an attribute set at the class-level rather than the instance-level, such that the value of this attribute will be the same across all instances.\n",
        "\n",
        "For our *Client* class, we might want to set the name of the bank, and the location, which would not change from instance to instance."
      ]
    },
    {
      "cell_type": "code",
      "metadata": {
        "id": "WYziNF3s9HcL",
        "colab_type": "code",
        "colab": {}
      },
      "source": [
        "Client.bank = \"TD\"\n",
        "Client.location = \"Toronto, ON\""
      ],
      "execution_count": 0,
      "outputs": []
    },
    {
      "cell_type": "code",
      "metadata": {
        "id": "BC99ikDk9HcO",
        "colab_type": "code",
        "colab": {
          "base_uri": "https://localhost:8080/",
          "height": 35
        },
        "outputId": "265e5830-a275-47f6-b8d9-8f9d8b3fd847"
      },
      "source": [
        "# try calling these attributes at the class and instance level\n",
        "Client.bank\n",
        "Jane_Defoe.bank\n"
      ],
      "execution_count": 7,
      "outputs": [
        {
          "output_type": "execute_result",
          "data": {
            "text/plain": [
              "'TD'"
            ]
          },
          "metadata": {
            "tags": []
          },
          "execution_count": 7
        }
      ]
    },
    {
      "cell_type": "markdown",
      "metadata": {
        "id": "nqIj7oM69HcQ",
        "colab_type": "text"
      },
      "source": [
        "### Methods\n",
        "\n",
        "*Methods* are functions that can be applied (only) to instances of your class. \n",
        "\n",
        "For example, in the case of our 'Client' class, we may want to update a person's bank account once they withdraw or deposit money. Let's create these methods below. \n",
        "\n",
        "Note that each method takes 'self' as an argument along with the arguments required when calling this method."
      ]
    },
    {
      "cell_type": "code",
      "metadata": {
        "id": "MN0ZwOfj9HcQ",
        "colab_type": "code",
        "colab": {}
      },
      "source": [
        "# Use the Client class code above to now add methods for withdrawal and depositing of money\n",
        "\n",
        "# create the Client class below\n",
        "class Client(object):\n",
        "    def __init__(self, name, balance):\n",
        "        self.name = name\n",
        "        self.balance = balance + 100\n",
        "        \n",
        "        #define account level\n",
        "        if self.balance < 5000:\n",
        "            self.level = \"Basic\"\n",
        "        elif self.balance < 15000:\n",
        "            self.level = \"Intermediate\"\n",
        "        else:\n",
        "            self.level = \"Advanced\"\n",
        "            \n",
        "    def deposit(self, amount):\n",
        "        self.balance += amount\n",
        "        return self.balance\n",
        "    \n",
        "    def withdraw(self, amount):\n",
        "        if amount > self.balance:\n",
        "            raise RuntimeError(\"Insufficient for withdrawal\")\n",
        "        else:\n",
        "            self.balance -= amount\n",
        "        return self.balance\n",
        "    \n",
        "    \n",
        "\n",
        "\n",
        "\n",
        "\n",
        "\n",
        "\n",
        "\n",
        "\n",
        "\n"
      ],
      "execution_count": 0,
      "outputs": []
    },
    {
      "cell_type": "code",
      "metadata": {
        "id": "nzxgWJyu9HcT",
        "colab_type": "code",
        "colab": {
          "base_uri": "https://localhost:8080/",
          "height": 35
        },
        "outputId": "ade90002-affb-46c4-b0a4-a8c9577fe133"
      },
      "source": [
        "Jane_Defoe = Client(\"Jane Defoe\", 150000)\n",
        "John_Doe = Client(\"John Doe\", 500)\n",
        "\n",
        "Jane_Defoe.deposit(150000)"
      ],
      "execution_count": 15,
      "outputs": [
        {
          "output_type": "execute_result",
          "data": {
            "text/plain": [
              "300100"
            ]
          },
          "metadata": {
            "tags": []
          },
          "execution_count": 15
        }
      ]
    },
    {
      "cell_type": "markdown",
      "metadata": {
        "id": "Fgt5WNc19HcV",
        "colab_type": "text"
      },
      "source": [
        "#### What is \"self\"? \n",
        "`*`*not in the philosophical sense*`*`\n",
        "\n",
        "In the method, withdraw(self, amount), the self refers to the *instance* upon which we are applying the instructions of the method. \n",
        "\n",
        "When we call a method, `f(self, arg)`, on the object `x`, we use `x.f(arg)`.\n",
        "- `x` is passed as the first argument, *self*, by default and all that is required are the other arguments that comprise the function. \n",
        "\n",
        "It is equivalent to calling `MyClass.f(x, arg)`.\n",
        "Try it yourself with the Client class and one of the methods we've written."
      ]
    },
    {
      "cell_type": "code",
      "metadata": {
        "id": "_DrCIMYE9HcW",
        "colab_type": "code",
        "colab": {
          "base_uri": "https://localhost:8080/",
          "height": 35
        },
        "outputId": "2dcf4131-160c-4e95-f26e-b21f8f2e2cab"
      },
      "source": [
        "# Try calling a method two different ways\n",
        "John_Doe.deposit(500)\n",
        "Client.withdraw(Jane_Defoe, 50000)"
      ],
      "execution_count": 22,
      "outputs": [
        {
          "output_type": "execute_result",
          "data": {
            "text/plain": [
              "200100"
            ]
          },
          "metadata": {
            "tags": []
          },
          "execution_count": 22
        }
      ]
    },
    {
      "cell_type": "markdown",
      "metadata": {
        "id": "wb2_zZfG9HcY",
        "colab_type": "text"
      },
      "source": [
        "### Static Methods \n",
        "\n",
        "Static methods are methods that belong to a class but do not have access to *self* and hence don't require an instance to function (i.e. it will work on the class level as well as the instance level). \n",
        "\n",
        "We denote these with the line `@staticmethod` before we define our static method.\n",
        "\n",
        "Let's create a static method called make_money_sound() that will simply print \"Cha-ching!\" when called."
      ]
    },
    {
      "cell_type": "code",
      "metadata": {
        "id": "8KvWf_Sc9HcY",
        "colab_type": "code",
        "colab": {}
      },
      "source": [
        "# Add a static method called make_money_sound()\n",
        "# create the Client class below\n",
        "class Client(object):\n",
        "    def __init__(self, name, balance):\n",
        "        self.name = name\n",
        "        self.balance = balance + 100\n",
        "        \n",
        "        #define account level\n",
        "        if self.balance < 5000:\n",
        "            self.level = \"Basic\"\n",
        "        elif self.balance < 15000:\n",
        "            self.level = \"Intermediate\"\n",
        "        else:\n",
        "            self.level = \"Advanced\"\n",
        "            \n",
        "    @staticmethod\n",
        "    def make_money_sound():\n",
        "        print(\"Cha-ching!\")\n",
        "        \n",
        "    \n"
      ],
      "execution_count": 0,
      "outputs": []
    },
    {
      "cell_type": "code",
      "metadata": {
        "id": "b8nNLfN69Hca",
        "colab_type": "code",
        "colab": {
          "base_uri": "https://localhost:8080/",
          "height": 35
        },
        "outputId": "a803b605-7446-448b-b6cc-531140a20f75"
      },
      "source": [
        "Client.make_money_sound()\n"
      ],
      "execution_count": 24,
      "outputs": [
        {
          "output_type": "stream",
          "text": [
            "Cha-ching!\n"
          ],
          "name": "stdout"
        }
      ]
    },
    {
      "cell_type": "markdown",
      "metadata": {
        "id": "TYPAnTm59Hcc",
        "colab_type": "text"
      },
      "source": [
        "### Class Methods\n",
        "\n",
        "A class method is a type of method that will receive the class rather than the instance as the first parameter. It is also identified similarly to a static method, with `@classmethod`.\n",
        "\n",
        "Create a class method called bank_location() that will print both the bank name and location when called upon the class."
      ]
    },
    {
      "cell_type": "code",
      "metadata": {
        "id": "rr0rhAAs9Hcc",
        "colab_type": "code",
        "colab": {}
      },
      "source": [
        "# Add a class method called bank_location()\n",
        "# create the Client class below\n",
        "class Client(object):\n",
        "    bank = \"TD\"\n",
        "    location = \"Toronto, ON\"\n",
        "    \n",
        "    def __init__(self, name, balance):\n",
        "        self.name = name\n",
        "        self.balance = balance + 100\n",
        "        \n",
        "        #define account level\n",
        "        if self.balance < 5000:\n",
        "            self.level = \"Basic\"\n",
        "        elif self.balance < 15000:\n",
        "            self.level = \"Intermediate\"\n",
        "        else:\n",
        "            self.level = \"Advanced\"\n",
        "            \n",
        "    @classmethod\n",
        "    def bank_location(cls):\n",
        "        return str(cls.bank + \" \" + cls.location)\n",
        "\n"
      ],
      "execution_count": 0,
      "outputs": []
    },
    {
      "cell_type": "code",
      "metadata": {
        "id": "uyXT838D9Hce",
        "colab_type": "code",
        "colab": {
          "base_uri": "https://localhost:8080/",
          "height": 35
        },
        "outputId": "3e4b6378-db99-4e26-e01a-47e854c6fad3"
      },
      "source": [
        "Client.bank_location()"
      ],
      "execution_count": 26,
      "outputs": [
        {
          "output_type": "execute_result",
          "data": {
            "text/plain": [
              "'TD Toronto, ON'"
            ]
          },
          "metadata": {
            "tags": []
          },
          "execution_count": 26
        }
      ]
    },
    {
      "cell_type": "markdown",
      "metadata": {
        "id": "htlGQ6r29Hcg",
        "colab_type": "text"
      },
      "source": [
        "### Key Concept: Inheritance\n",
        "\n",
        "A 'child' class can be created from a 'parent' class, whereby the child will bring over attributes and methods that its parent has, but where new features can be created as well. \n",
        "\n",
        "This would be useful if you want to create multiple classes that would have some features that are kept the same between them. You would simply create a parent class of these children classes that have those maintained features.\n",
        "\n",
        "Imagine we want to create different types of clients but still have all the base attributes and methods found in client currently. \n",
        "\n",
        "For example, let's create a class called *Savings* that inherits from the *Client* class. In doing so, we do not need to write another `__init__` method as it will inherit this from its parent."
      ]
    },
    {
      "cell_type": "code",
      "metadata": {
        "id": "zS3L4F189Hch",
        "colab_type": "code",
        "colab": {}
      },
      "source": [
        "# create the Savings class below\n",
        "class Savings(Client):\n",
        "    interest_rate = 0.005\n",
        "    \n",
        "    def update_balance(self):\n",
        "        self.balance += self.balance*self.interest_rate\n",
        "        return self.balance\n"
      ],
      "execution_count": 0,
      "outputs": []
    },
    {
      "cell_type": "code",
      "metadata": {
        "id": "FWmTpXSw9Hcj",
        "colab_type": "code",
        "colab": {}
      },
      "source": [
        "# create an instance the same way as a Client but this time by calling Savings instead\n",
        "Lina_Tran = Savings(\"Lina Tran\", 50)"
      ],
      "execution_count": 0,
      "outputs": []
    },
    {
      "cell_type": "code",
      "metadata": {
        "id": "BSGa_Xnd9Hcm",
        "colab_type": "code",
        "colab": {
          "base_uri": "https://localhost:8080/",
          "height": 70
        },
        "outputId": "eebd0a6f-8b90-4c73-99e9-57061def3d28"
      },
      "source": [
        "# it now has access to the new attributes and methods in Savings...\n",
        "print(Lina_Tran.name)\n",
        "print(Lina_Tran.balance)\n",
        "print(Lina_Tran.interest_rate)"
      ],
      "execution_count": 30,
      "outputs": [
        {
          "output_type": "stream",
          "text": [
            "Lina Tran\n",
            "150\n",
            "0.005\n"
          ],
          "name": "stdout"
        }
      ]
    },
    {
      "cell_type": "code",
      "metadata": {
        "id": "TkZMPwBd9Hco",
        "colab_type": "code",
        "colab": {
          "base_uri": "https://localhost:8080/",
          "height": 35
        },
        "outputId": "10025dc4-c9a4-4364-a0f3-0f501cc73a3e"
      },
      "source": [
        "# ...as well as access to attributes and methods from the Client class as well\n",
        "Lina_Tran.update_balance()"
      ],
      "execution_count": 31,
      "outputs": [
        {
          "output_type": "execute_result",
          "data": {
            "text/plain": [
              "150.75"
            ]
          },
          "metadata": {
            "tags": []
          },
          "execution_count": 31
        }
      ]
    },
    {
      "cell_type": "code",
      "metadata": {
        "id": "NcR5gvy69Hcr",
        "colab_type": "code",
        "colab": {}
      },
      "source": [
        "#defining a method outside the class definition\n",
        "def check_balance(self):\n",
        "    return self.balance\n",
        "\n",
        "Client.check_balance = check_balance"
      ],
      "execution_count": 0,
      "outputs": []
    },
    {
      "cell_type": "code",
      "metadata": {
        "id": "DDDuT0jK9Hct",
        "colab_type": "code",
        "colab": {
          "base_uri": "https://localhost:8080/",
          "height": 35
        },
        "outputId": "ab92b52e-1926-4ffd-cc4f-7e8a98d3cbf3"
      },
      "source": [
        "John_Doe = Client(\"John Doe\", 500)\n",
        "John_Doe.check_balance()"
      ],
      "execution_count": 34,
      "outputs": [
        {
          "output_type": "execute_result",
          "data": {
            "text/plain": [
              "600"
            ]
          },
          "metadata": {
            "tags": []
          },
          "execution_count": 34
        }
      ]
    }
  ]
}
